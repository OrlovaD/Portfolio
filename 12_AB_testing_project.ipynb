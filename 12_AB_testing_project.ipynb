{
 "cells": [
  {
   "cell_type": "markdown",
   "metadata": {},
   "source": [
    "# Анализ А/В-теста. Проектная работа\n",
    "\n",
    "_____\n",
    "**Описание работы.**\n",
    "\n",
    "Получен список гипотез для увеличения выручки.\n",
    "\n",
    "**Задача:** приоритизировать гипотезы, запустить A/B-тест и проанализировать результаты."
   ]
  },
  {
   "cell_type": "markdown",
   "metadata": {},
   "source": [
    "1. [Знакомство с данными](#start)\n",
    "2. [Приоритизация гипотез](#hyp)\n",
    "3. [Анализ А/В-теста](#test)\n",
    "   * [Задача 1](#1)\n",
    "   * [Задача 2](#2)\n",
    "   * [Задача 3](#3)\n",
    "   * [Задача 4](#4)\n",
    "   * [Задача 5](#5)\n",
    "   * [Задача 6](#6)\n",
    "   * [Задача 7](#7)\n",
    "   * [Задача 8](#8)\n",
    "   * [Задача 9](#9)\n",
    "   * [Задача 10](#10)\n",
    "   * [Задача 11](#11)\n",
    "   * [Задача 12](#12)\n",
    "   * [Задача 13](#13)\n",
    "    \n",
    "    \n",
    "4. [Принятие решений по результатам теста. Выводы](#end)\n",
    "        "
   ]
  },
  {
   "cell_type": "markdown",
   "metadata": {},
   "source": [
    "### Знакомство с данными <a id=\"start\"></a>"
   ]
  },
  {
   "cell_type": "markdown",
   "metadata": {},
   "source": [
    "Импортируем необходимые библиотеки"
   ]
  },
  {
   "cell_type": "code",
   "execution_count": 1,
   "metadata": {},
   "outputs": [],
   "source": [
    "import pandas as pd\n",
    "import datetime as dt\n",
    "import numpy as np\n",
    "import scipy.stats as stats\n",
    "import seaborn as sns\n",
    "import matplotlib.pyplot as plt\n",
    "from pandas.plotting import register_matplotlib_converters\n",
    "import warnings"
   ]
  },
  {
   "cell_type": "markdown",
   "metadata": {},
   "source": [
    "Сохраним файлы в переменные"
   ]
  },
  {
   "cell_type": "code",
   "execution_count": 2,
   "metadata": {},
   "outputs": [],
   "source": [
    "thesis = pd.read_csv('hypothesis.csv')"
   ]
  },
  {
   "cell_type": "code",
   "execution_count": 3,
   "metadata": {},
   "outputs": [],
   "source": [
    "orders = pd.read_csv('orders.csv')"
   ]
  },
  {
   "cell_type": "code",
   "execution_count": 4,
   "metadata": {},
   "outputs": [],
   "source": [
    "visitors = pd.read_csv('visitors.csv')"
   ]
  },
  {
   "cell_type": "markdown",
   "metadata": {},
   "source": [
    "Выведем первые 5 строк и инфформацио о каждой таблице"
   ]
  },
  {
   "cell_type": "markdown",
   "metadata": {},
   "source": [
    "**Данные для первой части**\n",
    "\n",
    "В файле hypothesis.csv 9 гипотез по увеличению выручки интернет-магазина с указанными параметрами:\n",
    "\n",
    "* `Hypothesis` — краткое описание гипотезы;\n",
    "* `Reach` — охват пользователей по 10-балльной шкале;\n",
    "* `Impact` — влияние на пользователей по 10-балльной шкале;\n",
    "* `Confidence` — уверенность в гипотезе по 10-балльной шкале;\n",
    "* `Efforts` — затраты ресурсов на проверку гипотезы по 10-балльной шкале. Чем больше значение Efforts, тем дороже проверка гипотезы."
   ]
  },
  {
   "cell_type": "code",
   "execution_count": 5,
   "metadata": {
    "scrolled": true
   },
   "outputs": [
    {
     "data": {
      "text/html": [
       "<div>\n",
       "<style scoped>\n",
       "    .dataframe tbody tr th:only-of-type {\n",
       "        vertical-align: middle;\n",
       "    }\n",
       "\n",
       "    .dataframe tbody tr th {\n",
       "        vertical-align: top;\n",
       "    }\n",
       "\n",
       "    .dataframe thead th {\n",
       "        text-align: right;\n",
       "    }\n",
       "</style>\n",
       "<table border=\"1\" class=\"dataframe\">\n",
       "  <thead>\n",
       "    <tr style=\"text-align: right;\">\n",
       "      <th></th>\n",
       "      <th>Hypothesis</th>\n",
       "      <th>Reach</th>\n",
       "      <th>Impact</th>\n",
       "      <th>Confidence</th>\n",
       "      <th>Efforts</th>\n",
       "    </tr>\n",
       "  </thead>\n",
       "  <tbody>\n",
       "    <tr>\n",
       "      <th>0</th>\n",
       "      <td>Добавить два новых канала привлечения трафика,...</td>\n",
       "      <td>3</td>\n",
       "      <td>10</td>\n",
       "      <td>8</td>\n",
       "      <td>6</td>\n",
       "    </tr>\n",
       "    <tr>\n",
       "      <th>1</th>\n",
       "      <td>Запустить собственную службу доставки, что сок...</td>\n",
       "      <td>2</td>\n",
       "      <td>5</td>\n",
       "      <td>4</td>\n",
       "      <td>10</td>\n",
       "    </tr>\n",
       "    <tr>\n",
       "      <th>2</th>\n",
       "      <td>Добавить блоки рекомендаций товаров на сайт ин...</td>\n",
       "      <td>8</td>\n",
       "      <td>3</td>\n",
       "      <td>7</td>\n",
       "      <td>3</td>\n",
       "    </tr>\n",
       "    <tr>\n",
       "      <th>3</th>\n",
       "      <td>Изменить структура категорий, что увеличит кон...</td>\n",
       "      <td>8</td>\n",
       "      <td>3</td>\n",
       "      <td>3</td>\n",
       "      <td>8</td>\n",
       "    </tr>\n",
       "    <tr>\n",
       "      <th>4</th>\n",
       "      <td>Изменить цвет фона главной страницы, чтобы уве...</td>\n",
       "      <td>3</td>\n",
       "      <td>1</td>\n",
       "      <td>1</td>\n",
       "      <td>1</td>\n",
       "    </tr>\n",
       "  </tbody>\n",
       "</table>\n",
       "</div>"
      ],
      "text/plain": [
       "                                          Hypothesis  Reach  Impact  \\\n",
       "0  Добавить два новых канала привлечения трафика,...      3      10   \n",
       "1  Запустить собственную службу доставки, что сок...      2       5   \n",
       "2  Добавить блоки рекомендаций товаров на сайт ин...      8       3   \n",
       "3  Изменить структура категорий, что увеличит кон...      8       3   \n",
       "4  Изменить цвет фона главной страницы, чтобы уве...      3       1   \n",
       "\n",
       "   Confidence  Efforts  \n",
       "0           8        6  \n",
       "1           4       10  \n",
       "2           7        3  \n",
       "3           3        8  \n",
       "4           1        1  "
      ]
     },
     "execution_count": 5,
     "metadata": {},
     "output_type": "execute_result"
    }
   ],
   "source": [
    "thesis.head()"
   ]
  },
  {
   "cell_type": "code",
   "execution_count": 6,
   "metadata": {},
   "outputs": [
    {
     "name": "stdout",
     "output_type": "stream",
     "text": [
      "<class 'pandas.core.frame.DataFrame'>\n",
      "RangeIndex: 9 entries, 0 to 8\n",
      "Data columns (total 5 columns):\n",
      " #   Column      Non-Null Count  Dtype \n",
      "---  ------      --------------  ----- \n",
      " 0   Hypothesis  9 non-null      object\n",
      " 1   Reach       9 non-null      int64 \n",
      " 2   Impact      9 non-null      int64 \n",
      " 3   Confidence  9 non-null      int64 \n",
      " 4   Efforts     9 non-null      int64 \n",
      "dtypes: int64(4), object(1)\n",
      "memory usage: 488.0+ bytes\n"
     ]
    }
   ],
   "source": [
    "thesis.info()"
   ]
  },
  {
   "cell_type": "markdown",
   "metadata": {},
   "source": [
    "Напишем функцию для поиска явных дубликатов и пропусков"
   ]
  },
  {
   "cell_type": "code",
   "execution_count": 7,
   "metadata": {},
   "outputs": [],
   "source": [
    "def gen(df):\n",
    "    print('-Пропуски-')\n",
    "    count=0\n",
    "    for element in df.columns:\n",
    "        if df[element].isna().sum() > 0:\n",
    "            print(element, '-', df[element].isna().sum(), 'пропусков')\n",
    "            count=+1\n",
    "    if count ==0:\n",
    "        print('Пропусков нет')\n",
    "    print('')\n",
    "    print('-Дубликаты-')\n",
    "    if df.duplicated().sum() > 0:\n",
    "\n",
    "        print('Дубликатов', df.duplicated().sum())\n",
    "    else:\n",
    "        print('Дубликатов нет')"
   ]
  },
  {
   "cell_type": "code",
   "execution_count": 8,
   "metadata": {},
   "outputs": [
    {
     "name": "stdout",
     "output_type": "stream",
     "text": [
      "-Пропуски-\n",
      "Пропусков нет\n",
      "\n",
      "-Дубликаты-\n",
      "Дубликатов нет\n"
     ]
    }
   ],
   "source": [
    "gen(thesis)"
   ]
  },
  {
   "cell_type": "markdown",
   "metadata": {},
   "source": [
    "Д убликатов и пропусков нет. Приведем назвавния столбцов к нижнему регистру"
   ]
  },
  {
   "cell_type": "code",
   "execution_count": 9,
   "metadata": {},
   "outputs": [],
   "source": [
    "thesis.columns = thesis.columns.str.lower()"
   ]
  },
  {
   "cell_type": "markdown",
   "metadata": {},
   "source": [
    "**Данные для второй части**\n",
    " - **Файл orders.csv**\n",
    "   * `transactionId` — идентификатор заказа\n",
    "   * `visitorId` — идентификатор пользователя, совершившего заказ\n",
    "   * `date` — дата, когда был совершён заказ\n",
    "   * `revenue` — выручка заказа\n",
    "   * `group` — группа A/B-теста, в которую попал заказ.orders.head()\n",
    "\n",
    "- **Файл visitors.csv**\n",
    "   * `date` — дата\n",
    "   * `group` — группа A/B-теста\n",
    "   * `visitors` — количество пользователей в указанную дату в указанной группе A/B-теста"
   ]
  },
  {
   "cell_type": "code",
   "execution_count": 10,
   "metadata": {},
   "outputs": [
    {
     "data": {
      "text/html": [
       "<div>\n",
       "<style scoped>\n",
       "    .dataframe tbody tr th:only-of-type {\n",
       "        vertical-align: middle;\n",
       "    }\n",
       "\n",
       "    .dataframe tbody tr th {\n",
       "        vertical-align: top;\n",
       "    }\n",
       "\n",
       "    .dataframe thead th {\n",
       "        text-align: right;\n",
       "    }\n",
       "</style>\n",
       "<table border=\"1\" class=\"dataframe\">\n",
       "  <thead>\n",
       "    <tr style=\"text-align: right;\">\n",
       "      <th></th>\n",
       "      <th>transactionId</th>\n",
       "      <th>visitorId</th>\n",
       "      <th>date</th>\n",
       "      <th>revenue</th>\n",
       "      <th>group</th>\n",
       "    </tr>\n",
       "  </thead>\n",
       "  <tbody>\n",
       "    <tr>\n",
       "      <th>0</th>\n",
       "      <td>3667963787</td>\n",
       "      <td>3312258926</td>\n",
       "      <td>2019-08-15</td>\n",
       "      <td>1650</td>\n",
       "      <td>B</td>\n",
       "    </tr>\n",
       "    <tr>\n",
       "      <th>1</th>\n",
       "      <td>2804400009</td>\n",
       "      <td>3642806036</td>\n",
       "      <td>2019-08-15</td>\n",
       "      <td>730</td>\n",
       "      <td>B</td>\n",
       "    </tr>\n",
       "    <tr>\n",
       "      <th>2</th>\n",
       "      <td>2961555356</td>\n",
       "      <td>4069496402</td>\n",
       "      <td>2019-08-15</td>\n",
       "      <td>400</td>\n",
       "      <td>A</td>\n",
       "    </tr>\n",
       "    <tr>\n",
       "      <th>3</th>\n",
       "      <td>3797467345</td>\n",
       "      <td>1196621759</td>\n",
       "      <td>2019-08-15</td>\n",
       "      <td>9759</td>\n",
       "      <td>B</td>\n",
       "    </tr>\n",
       "    <tr>\n",
       "      <th>4</th>\n",
       "      <td>2282983706</td>\n",
       "      <td>2322279887</td>\n",
       "      <td>2019-08-15</td>\n",
       "      <td>2308</td>\n",
       "      <td>B</td>\n",
       "    </tr>\n",
       "  </tbody>\n",
       "</table>\n",
       "</div>"
      ],
      "text/plain": [
       "   transactionId   visitorId        date  revenue group\n",
       "0     3667963787  3312258926  2019-08-15     1650     B\n",
       "1     2804400009  3642806036  2019-08-15      730     B\n",
       "2     2961555356  4069496402  2019-08-15      400     A\n",
       "3     3797467345  1196621759  2019-08-15     9759     B\n",
       "4     2282983706  2322279887  2019-08-15     2308     B"
      ]
     },
     "execution_count": 10,
     "metadata": {},
     "output_type": "execute_result"
    }
   ],
   "source": [
    "orders.head()"
   ]
  },
  {
   "cell_type": "code",
   "execution_count": 11,
   "metadata": {},
   "outputs": [
    {
     "name": "stdout",
     "output_type": "stream",
     "text": [
      "<class 'pandas.core.frame.DataFrame'>\n",
      "RangeIndex: 1197 entries, 0 to 1196\n",
      "Data columns (total 5 columns):\n",
      " #   Column         Non-Null Count  Dtype \n",
      "---  ------         --------------  ----- \n",
      " 0   transactionId  1197 non-null   int64 \n",
      " 1   visitorId      1197 non-null   int64 \n",
      " 2   date           1197 non-null   object\n",
      " 3   revenue        1197 non-null   int64 \n",
      " 4   group          1197 non-null   object\n",
      "dtypes: int64(3), object(2)\n",
      "memory usage: 46.9+ KB\n"
     ]
    }
   ],
   "source": [
    "orders.info()"
   ]
  },
  {
   "cell_type": "code",
   "execution_count": 12,
   "metadata": {},
   "outputs": [
    {
     "name": "stdout",
     "output_type": "stream",
     "text": [
      "-Пропуски-\n",
      "Пропусков нет\n",
      "\n",
      "-Дубликаты-\n",
      "Дубликатов нет\n"
     ]
    }
   ],
   "source": [
    "gen(orders)"
   ]
  },
  {
   "cell_type": "code",
   "execution_count": 13,
   "metadata": {},
   "outputs": [
    {
     "data": {
      "text/html": [
       "<div>\n",
       "<style scoped>\n",
       "    .dataframe tbody tr th:only-of-type {\n",
       "        vertical-align: middle;\n",
       "    }\n",
       "\n",
       "    .dataframe tbody tr th {\n",
       "        vertical-align: top;\n",
       "    }\n",
       "\n",
       "    .dataframe thead th {\n",
       "        text-align: right;\n",
       "    }\n",
       "</style>\n",
       "<table border=\"1\" class=\"dataframe\">\n",
       "  <thead>\n",
       "    <tr style=\"text-align: right;\">\n",
       "      <th></th>\n",
       "      <th>date</th>\n",
       "      <th>group</th>\n",
       "      <th>visitors</th>\n",
       "    </tr>\n",
       "  </thead>\n",
       "  <tbody>\n",
       "    <tr>\n",
       "      <th>0</th>\n",
       "      <td>2019-08-01</td>\n",
       "      <td>A</td>\n",
       "      <td>719</td>\n",
       "    </tr>\n",
       "    <tr>\n",
       "      <th>1</th>\n",
       "      <td>2019-08-02</td>\n",
       "      <td>A</td>\n",
       "      <td>619</td>\n",
       "    </tr>\n",
       "    <tr>\n",
       "      <th>2</th>\n",
       "      <td>2019-08-03</td>\n",
       "      <td>A</td>\n",
       "      <td>507</td>\n",
       "    </tr>\n",
       "    <tr>\n",
       "      <th>3</th>\n",
       "      <td>2019-08-04</td>\n",
       "      <td>A</td>\n",
       "      <td>717</td>\n",
       "    </tr>\n",
       "    <tr>\n",
       "      <th>4</th>\n",
       "      <td>2019-08-05</td>\n",
       "      <td>A</td>\n",
       "      <td>756</td>\n",
       "    </tr>\n",
       "  </tbody>\n",
       "</table>\n",
       "</div>"
      ],
      "text/plain": [
       "         date group  visitors\n",
       "0  2019-08-01     A       719\n",
       "1  2019-08-02     A       619\n",
       "2  2019-08-03     A       507\n",
       "3  2019-08-04     A       717\n",
       "4  2019-08-05     A       756"
      ]
     },
     "execution_count": 13,
     "metadata": {},
     "output_type": "execute_result"
    }
   ],
   "source": [
    "visitors.head()"
   ]
  },
  {
   "cell_type": "code",
   "execution_count": 14,
   "metadata": {
    "scrolled": true
   },
   "outputs": [
    {
     "name": "stdout",
     "output_type": "stream",
     "text": [
      "<class 'pandas.core.frame.DataFrame'>\n",
      "RangeIndex: 62 entries, 0 to 61\n",
      "Data columns (total 3 columns):\n",
      " #   Column    Non-Null Count  Dtype \n",
      "---  ------    --------------  ----- \n",
      " 0   date      62 non-null     object\n",
      " 1   group     62 non-null     object\n",
      " 2   visitors  62 non-null     int64 \n",
      "dtypes: int64(1), object(2)\n",
      "memory usage: 1.6+ KB\n"
     ]
    }
   ],
   "source": [
    "visitors.info()"
   ]
  },
  {
   "cell_type": "code",
   "execution_count": 15,
   "metadata": {},
   "outputs": [
    {
     "name": "stdout",
     "output_type": "stream",
     "text": [
      "-Пропуски-\n",
      "Пропусков нет\n",
      "\n",
      "-Дубликаты-\n",
      "Дубликатов нет\n"
     ]
    }
   ],
   "source": [
    "gen(visitors)"
   ]
  },
  {
   "cell_type": "markdown",
   "metadata": {},
   "source": [
    "В остальных таблицах также нет пропусков и дубликатов."
   ]
  },
  {
   "cell_type": "markdown",
   "metadata": {},
   "source": [
    "Ознакомимся подробнее с данными таблицы orders. Посмотрим, сколько групп и участников в них, не попали ли пользователи одной группы в другую, ознакомимся с датами начала и окончания теста."
   ]
  },
  {
   "cell_type": "code",
   "execution_count": 16,
   "metadata": {},
   "outputs": [
    {
     "data": {
      "text/plain": [
       "B    640\n",
       "A    557\n",
       "Name: group, dtype: int64"
      ]
     },
     "execution_count": 16,
     "metadata": {},
     "output_type": "execute_result"
    }
   ],
   "source": [
    "orders['group'].value_counts()"
   ]
  },
  {
   "cell_type": "markdown",
   "metadata": {},
   "source": [
    "Всего 2 группы - А и В, в  группе В количество участников больше"
   ]
  },
  {
   "cell_type": "code",
   "execution_count": 17,
   "metadata": {},
   "outputs": [
    {
     "data": {
      "text/plain": [
       "group    58\n",
       "dtype: int64"
      ]
     },
     "execution_count": 17,
     "metadata": {},
     "output_type": "execute_result"
    }
   ],
   "source": [
    "orders.groupby('visitorId').agg({'group' : 'nunique'}).query('group>1').count()"
   ]
  },
  {
   "cell_type": "markdown",
   "metadata": {},
   "source": [
    "58 участников попадает в одни и те же группы."
   ]
  },
  {
   "cell_type": "markdown",
   "metadata": {},
   "source": [
    "Создадим срез таблицы с этими пользователями и их заказами, и посмотрим на ее размер."
   ]
  },
  {
   "cell_type": "code",
   "execution_count": 18,
   "metadata": {},
   "outputs": [],
   "source": [
    "bad_users = orders.groupby('visitorId').agg({'group' : 'nunique'}).reset_index().query('group>1')['visitorId'].unique()\n",
    "orders_new = orders.query('visitorId in @bad_users')"
   ]
  },
  {
   "cell_type": "code",
   "execution_count": 19,
   "metadata": {},
   "outputs": [
    {
     "data": {
      "text/plain": [
       "(181, 5)"
      ]
     },
     "execution_count": 19,
     "metadata": {},
     "output_type": "execute_result"
    }
   ],
   "source": [
    "orders_new.shape"
   ]
  },
  {
   "cell_type": "markdown",
   "metadata": {},
   "source": [
    "Если удалить срез с этими пользователями, таблица потреряет 181 строку из 1197, это довольно много, нужно сначала провести тестирование с этими пользователями, и без них, чтобы оценить их влияние на результаты."
   ]
  },
  {
   "cell_type": "markdown",
   "metadata": {},
   "source": [
    "Ознакомимся с датами проведения тестирования:"
   ]
  },
  {
   "cell_type": "code",
   "execution_count": 24,
   "metadata": {},
   "outputs": [
    {
     "data": {
      "text/plain": [
       "'2019-08-01'"
      ]
     },
     "execution_count": 24,
     "metadata": {},
     "output_type": "execute_result"
    }
   ],
   "source": [
    "orders['date'].min()"
   ]
  },
  {
   "cell_type": "code",
   "execution_count": 25,
   "metadata": {},
   "outputs": [
    {
     "data": {
      "text/plain": [
       "'2019-08-31'"
      ]
     },
     "execution_count": 25,
     "metadata": {},
     "output_type": "execute_result"
    }
   ],
   "source": [
    "orders['date'].max()"
   ]
  },
  {
   "cell_type": "markdown",
   "metadata": {},
   "source": [
    "Тест проводился в течение месяца - с 1 по 31 августа 2019 года."
   ]
  },
  {
   "cell_type": "markdown",
   "metadata": {},
   "source": [
    "### Приоритизация гипотез. <a id=\"hyp\"></a>"
   ]
  },
  {
   "cell_type": "markdown",
   "metadata": {},
   "source": [
    "#### **Задача**\n",
    "* Применить фреймворк ICE для приоритизации гипотез. Отсортировать их по убыванию приоритета.\n",
    "* Применить фреймворк RICE для приоритизации гипотез. Отсортировать их по убыванию приоритета.\n",
    "* Указать, как изменилась приоритизация гипотез при применении RICE вместо ICE."
   ]
  },
  {
   "cell_type": "code",
   "execution_count": 26,
   "metadata": {
    "scrolled": true
   },
   "outputs": [
    {
     "data": {
      "text/html": [
       "<div>\n",
       "<style scoped>\n",
       "    .dataframe tbody tr th:only-of-type {\n",
       "        vertical-align: middle;\n",
       "    }\n",
       "\n",
       "    .dataframe tbody tr th {\n",
       "        vertical-align: top;\n",
       "    }\n",
       "\n",
       "    .dataframe thead th {\n",
       "        text-align: right;\n",
       "    }\n",
       "</style>\n",
       "<table border=\"1\" class=\"dataframe\">\n",
       "  <thead>\n",
       "    <tr style=\"text-align: right;\">\n",
       "      <th></th>\n",
       "      <th>hypothesis</th>\n",
       "      <th>ICE</th>\n",
       "    </tr>\n",
       "  </thead>\n",
       "  <tbody>\n",
       "    <tr>\n",
       "      <th>8</th>\n",
       "      <td>Запустить акцию, дающую скидку на товар в день...</td>\n",
       "      <td>16.20</td>\n",
       "    </tr>\n",
       "    <tr>\n",
       "      <th>0</th>\n",
       "      <td>Добавить два новых канала привлечения трафика,...</td>\n",
       "      <td>13.33</td>\n",
       "    </tr>\n",
       "    <tr>\n",
       "      <th>7</th>\n",
       "      <td>Добавить форму подписки на все основные страни...</td>\n",
       "      <td>11.20</td>\n",
       "    </tr>\n",
       "    <tr>\n",
       "      <th>6</th>\n",
       "      <td>Показать на главной странице баннеры с актуаль...</td>\n",
       "      <td>8.00</td>\n",
       "    </tr>\n",
       "    <tr>\n",
       "      <th>2</th>\n",
       "      <td>Добавить блоки рекомендаций товаров на сайт ин...</td>\n",
       "      <td>7.00</td>\n",
       "    </tr>\n",
       "    <tr>\n",
       "      <th>1</th>\n",
       "      <td>Запустить собственную службу доставки, что сок...</td>\n",
       "      <td>2.00</td>\n",
       "    </tr>\n",
       "    <tr>\n",
       "      <th>5</th>\n",
       "      <td>Добавить страницу отзывов клиентов о магазине,...</td>\n",
       "      <td>1.33</td>\n",
       "    </tr>\n",
       "    <tr>\n",
       "      <th>3</th>\n",
       "      <td>Изменить структура категорий, что увеличит кон...</td>\n",
       "      <td>1.12</td>\n",
       "    </tr>\n",
       "    <tr>\n",
       "      <th>4</th>\n",
       "      <td>Изменить цвет фона главной страницы, чтобы уве...</td>\n",
       "      <td>1.00</td>\n",
       "    </tr>\n",
       "  </tbody>\n",
       "</table>\n",
       "</div>"
      ],
      "text/plain": [
       "                                          hypothesis    ICE\n",
       "8  Запустить акцию, дающую скидку на товар в день...  16.20\n",
       "0  Добавить два новых канала привлечения трафика,...  13.33\n",
       "7  Добавить форму подписки на все основные страни...  11.20\n",
       "6  Показать на главной странице баннеры с актуаль...   8.00\n",
       "2  Добавить блоки рекомендаций товаров на сайт ин...   7.00\n",
       "1  Запустить собственную службу доставки, что сок...   2.00\n",
       "5  Добавить страницу отзывов клиентов о магазине,...   1.33\n",
       "3  Изменить структура категорий, что увеличит кон...   1.12\n",
       "4  Изменить цвет фона главной страницы, чтобы уве...   1.00"
      ]
     },
     "execution_count": 26,
     "metadata": {},
     "output_type": "execute_result"
    }
   ],
   "source": [
    "thesis['ICE'] = (thesis['impact'] * thesis['confidence'] ) /thesis['efforts']\n",
    "thesis[['hypothesis','ICE']].sort_values(by='ICE', ascending=False).round(2)"
   ]
  },
  {
   "cell_type": "markdown",
   "metadata": {},
   "source": [
    "Наиболее перспективные гипотезы по ICE - 8, 0, 7.\n",
    "Применим фреймворк RICE:"
   ]
  },
  {
   "cell_type": "code",
   "execution_count": 27,
   "metadata": {},
   "outputs": [
    {
     "data": {
      "text/html": [
       "<div>\n",
       "<style scoped>\n",
       "    .dataframe tbody tr th:only-of-type {\n",
       "        vertical-align: middle;\n",
       "    }\n",
       "\n",
       "    .dataframe tbody tr th {\n",
       "        vertical-align: top;\n",
       "    }\n",
       "\n",
       "    .dataframe thead th {\n",
       "        text-align: right;\n",
       "    }\n",
       "</style>\n",
       "<table border=\"1\" class=\"dataframe\">\n",
       "  <thead>\n",
       "    <tr style=\"text-align: right;\">\n",
       "      <th></th>\n",
       "      <th>hypothesis</th>\n",
       "      <th>RICE</th>\n",
       "    </tr>\n",
       "  </thead>\n",
       "  <tbody>\n",
       "    <tr>\n",
       "      <th>7</th>\n",
       "      <td>Добавить форму подписки на все основные страни...</td>\n",
       "      <td>112.0</td>\n",
       "    </tr>\n",
       "    <tr>\n",
       "      <th>2</th>\n",
       "      <td>Добавить блоки рекомендаций товаров на сайт ин...</td>\n",
       "      <td>56.0</td>\n",
       "    </tr>\n",
       "    <tr>\n",
       "      <th>0</th>\n",
       "      <td>Добавить два новых канала привлечения трафика,...</td>\n",
       "      <td>40.0</td>\n",
       "    </tr>\n",
       "    <tr>\n",
       "      <th>6</th>\n",
       "      <td>Показать на главной странице баннеры с актуаль...</td>\n",
       "      <td>40.0</td>\n",
       "    </tr>\n",
       "    <tr>\n",
       "      <th>8</th>\n",
       "      <td>Запустить акцию, дающую скидку на товар в день...</td>\n",
       "      <td>16.2</td>\n",
       "    </tr>\n",
       "    <tr>\n",
       "      <th>3</th>\n",
       "      <td>Изменить структура категорий, что увеличит кон...</td>\n",
       "      <td>9.0</td>\n",
       "    </tr>\n",
       "    <tr>\n",
       "      <th>1</th>\n",
       "      <td>Запустить собственную службу доставки, что сок...</td>\n",
       "      <td>4.0</td>\n",
       "    </tr>\n",
       "    <tr>\n",
       "      <th>5</th>\n",
       "      <td>Добавить страницу отзывов клиентов о магазине,...</td>\n",
       "      <td>4.0</td>\n",
       "    </tr>\n",
       "    <tr>\n",
       "      <th>4</th>\n",
       "      <td>Изменить цвет фона главной страницы, чтобы уве...</td>\n",
       "      <td>3.0</td>\n",
       "    </tr>\n",
       "  </tbody>\n",
       "</table>\n",
       "</div>"
      ],
      "text/plain": [
       "                                          hypothesis   RICE\n",
       "7  Добавить форму подписки на все основные страни...  112.0\n",
       "2  Добавить блоки рекомендаций товаров на сайт ин...   56.0\n",
       "0  Добавить два новых канала привлечения трафика,...   40.0\n",
       "6  Показать на главной странице баннеры с актуаль...   40.0\n",
       "8  Запустить акцию, дающую скидку на товар в день...   16.2\n",
       "3  Изменить структура категорий, что увеличит кон...    9.0\n",
       "1  Запустить собственную службу доставки, что сок...    4.0\n",
       "5  Добавить страницу отзывов клиентов о магазине,...    4.0\n",
       "4  Изменить цвет фона главной страницы, чтобы уве...    3.0"
      ]
     },
     "execution_count": 27,
     "metadata": {},
     "output_type": "execute_result"
    }
   ],
   "source": [
    "thesis['RICE'] = (thesis['reach'] * thesis['impact'] * thesis['confidence'] ) /thesis['efforts']\n",
    "thesis[['hypothesis','RICE']].sort_values(by='RICE', ascending=False)"
   ]
  },
  {
   "cell_type": "markdown",
   "metadata": {},
   "source": [
    "Теперь наиболее перспективными гипотезами остались номера 7 и 2, а 0 на третьем месте. Самые неприоритетные - 4, 3, 5, 1."
   ]
  },
  {
   "cell_type": "markdown",
   "metadata": {},
   "source": [
    "Построим тепловую карту, чтобы оценить распределение компонентов `'reach'`,`'impact'`,`'confidence'` и `'efforts'`:"
   ]
  },
  {
   "cell_type": "code",
   "execution_count": 28,
   "metadata": {},
   "outputs": [
    {
     "data": {
      "text/html": [
       "<style type=\"text/css\">\n",
       "#T_a84b2_row0_col1, #T_a84b2_row2_col2, #T_a84b2_row2_col4, #T_a84b2_row3_col2, #T_a84b2_row4_col1, #T_a84b2_row5_col1, #T_a84b2_row5_col4, #T_a84b2_row6_col2, #T_a84b2_row6_col4 {\n",
       "  background-color: #6e7d9b;\n",
       "  color: #f1f1f1;\n",
       "}\n",
       "#T_a84b2_row0_col2, #T_a84b2_row1_col4, #T_a84b2_row7_col1, #T_a84b2_row8_col3 {\n",
       "  background-color: #f0f1f2;\n",
       "  color: #000000;\n",
       "}\n",
       "#T_a84b2_row0_col3, #T_a84b2_row6_col3, #T_a84b2_row7_col3 {\n",
       "  background-color: #dcdfe4;\n",
       "  color: #000000;\n",
       "}\n",
       "#T_a84b2_row0_col4 {\n",
       "  background-color: #a6afc1;\n",
       "  color: #000000;\n",
       "}\n",
       "#T_a84b2_row1_col1, #T_a84b2_row5_col2 {\n",
       "  background-color: #5b6c8f;\n",
       "  color: #f1f1f1;\n",
       "}\n",
       "#T_a84b2_row1_col2, #T_a84b2_row6_col1, #T_a84b2_row7_col4, #T_a84b2_row8_col4 {\n",
       "  background-color: #939eb4;\n",
       "  color: #f1f1f1;\n",
       "}\n",
       "#T_a84b2_row1_col3 {\n",
       "  background-color: #8894ad;\n",
       "  color: #f1f1f1;\n",
       "}\n",
       "#T_a84b2_row2_col1, #T_a84b2_row3_col1, #T_a84b2_row3_col4 {\n",
       "  background-color: #ccd0d9;\n",
       "  color: #000000;\n",
       "}\n",
       "#T_a84b2_row2_col3 {\n",
       "  background-color: #c7ccd6;\n",
       "  color: #000000;\n",
       "}\n",
       "#T_a84b2_row3_col3 {\n",
       "  background-color: #73819f;\n",
       "  color: #f1f1f1;\n",
       "}\n",
       "#T_a84b2_row4_col2, #T_a84b2_row4_col3, #T_a84b2_row4_col4, #T_a84b2_row8_col1 {\n",
       "  background-color: #495c83;\n",
       "  color: #f1f1f1;\n",
       "}\n",
       "#T_a84b2_row5_col3 {\n",
       "  background-color: #5e6f91;\n",
       "  color: #f1f1f1;\n",
       "}\n",
       "#T_a84b2_row7_col2 {\n",
       "  background-color: #b8bfcd;\n",
       "  color: #000000;\n",
       "}\n",
       "#T_a84b2_row8_col2 {\n",
       "  background-color: #dee0e5;\n",
       "  color: #000000;\n",
       "}\n",
       "</style>\n",
       "<table id=\"T_a84b2\">\n",
       "  <thead>\n",
       "    <tr>\n",
       "      <th class=\"blank level0\" >&nbsp;</th>\n",
       "      <th id=\"T_a84b2_level0_col0\" class=\"col_heading level0 col0\" >hypothesis</th>\n",
       "      <th id=\"T_a84b2_level0_col1\" class=\"col_heading level0 col1\" >reach</th>\n",
       "      <th id=\"T_a84b2_level0_col2\" class=\"col_heading level0 col2\" >impact</th>\n",
       "      <th id=\"T_a84b2_level0_col3\" class=\"col_heading level0 col3\" >confidence</th>\n",
       "      <th id=\"T_a84b2_level0_col4\" class=\"col_heading level0 col4\" >efforts</th>\n",
       "    </tr>\n",
       "  </thead>\n",
       "  <tbody>\n",
       "    <tr>\n",
       "      <th id=\"T_a84b2_level0_row0\" class=\"row_heading level0 row0\" >0</th>\n",
       "      <td id=\"T_a84b2_row0_col0\" class=\"data row0 col0\" >Добавить два новых канала привлечения трафика, что позволит привлекать на 30% больше пользователей</td>\n",
       "      <td id=\"T_a84b2_row0_col1\" class=\"data row0 col1\" >3</td>\n",
       "      <td id=\"T_a84b2_row0_col2\" class=\"data row0 col2\" >10</td>\n",
       "      <td id=\"T_a84b2_row0_col3\" class=\"data row0 col3\" >8</td>\n",
       "      <td id=\"T_a84b2_row0_col4\" class=\"data row0 col4\" >6</td>\n",
       "    </tr>\n",
       "    <tr>\n",
       "      <th id=\"T_a84b2_level0_row1\" class=\"row_heading level0 row1\" >1</th>\n",
       "      <td id=\"T_a84b2_row1_col0\" class=\"data row1 col0\" >Запустить собственную службу доставки, что сократит срок доставки заказов</td>\n",
       "      <td id=\"T_a84b2_row1_col1\" class=\"data row1 col1\" >2</td>\n",
       "      <td id=\"T_a84b2_row1_col2\" class=\"data row1 col2\" >5</td>\n",
       "      <td id=\"T_a84b2_row1_col3\" class=\"data row1 col3\" >4</td>\n",
       "      <td id=\"T_a84b2_row1_col4\" class=\"data row1 col4\" >10</td>\n",
       "    </tr>\n",
       "    <tr>\n",
       "      <th id=\"T_a84b2_level0_row2\" class=\"row_heading level0 row2\" >2</th>\n",
       "      <td id=\"T_a84b2_row2_col0\" class=\"data row2 col0\" >Добавить блоки рекомендаций товаров на сайт интернет магазина, чтобы повысить конверсию и средний чек заказа</td>\n",
       "      <td id=\"T_a84b2_row2_col1\" class=\"data row2 col1\" >8</td>\n",
       "      <td id=\"T_a84b2_row2_col2\" class=\"data row2 col2\" >3</td>\n",
       "      <td id=\"T_a84b2_row2_col3\" class=\"data row2 col3\" >7</td>\n",
       "      <td id=\"T_a84b2_row2_col4\" class=\"data row2 col4\" >3</td>\n",
       "    </tr>\n",
       "    <tr>\n",
       "      <th id=\"T_a84b2_level0_row3\" class=\"row_heading level0 row3\" >3</th>\n",
       "      <td id=\"T_a84b2_row3_col0\" class=\"data row3 col0\" >Изменить структура категорий, что увеличит конверсию, т.к. пользователи быстрее найдут нужный товар</td>\n",
       "      <td id=\"T_a84b2_row3_col1\" class=\"data row3 col1\" >8</td>\n",
       "      <td id=\"T_a84b2_row3_col2\" class=\"data row3 col2\" >3</td>\n",
       "      <td id=\"T_a84b2_row3_col3\" class=\"data row3 col3\" >3</td>\n",
       "      <td id=\"T_a84b2_row3_col4\" class=\"data row3 col4\" >8</td>\n",
       "    </tr>\n",
       "    <tr>\n",
       "      <th id=\"T_a84b2_level0_row4\" class=\"row_heading level0 row4\" >4</th>\n",
       "      <td id=\"T_a84b2_row4_col0\" class=\"data row4 col0\" >Изменить цвет фона главной страницы, чтобы увеличить вовлеченность пользователей</td>\n",
       "      <td id=\"T_a84b2_row4_col1\" class=\"data row4 col1\" >3</td>\n",
       "      <td id=\"T_a84b2_row4_col2\" class=\"data row4 col2\" >1</td>\n",
       "      <td id=\"T_a84b2_row4_col3\" class=\"data row4 col3\" >1</td>\n",
       "      <td id=\"T_a84b2_row4_col4\" class=\"data row4 col4\" >1</td>\n",
       "    </tr>\n",
       "    <tr>\n",
       "      <th id=\"T_a84b2_level0_row5\" class=\"row_heading level0 row5\" >5</th>\n",
       "      <td id=\"T_a84b2_row5_col0\" class=\"data row5 col0\" >Добавить страницу отзывов клиентов о магазине, что позволит увеличить количество заказов</td>\n",
       "      <td id=\"T_a84b2_row5_col1\" class=\"data row5 col1\" >3</td>\n",
       "      <td id=\"T_a84b2_row5_col2\" class=\"data row5 col2\" >2</td>\n",
       "      <td id=\"T_a84b2_row5_col3\" class=\"data row5 col3\" >2</td>\n",
       "      <td id=\"T_a84b2_row5_col4\" class=\"data row5 col4\" >3</td>\n",
       "    </tr>\n",
       "    <tr>\n",
       "      <th id=\"T_a84b2_level0_row6\" class=\"row_heading level0 row6\" >6</th>\n",
       "      <td id=\"T_a84b2_row6_col0\" class=\"data row6 col0\" >Показать на главной странице баннеры с актуальными акциями и распродажами, чтобы увеличить конверсию</td>\n",
       "      <td id=\"T_a84b2_row6_col1\" class=\"data row6 col1\" >5</td>\n",
       "      <td id=\"T_a84b2_row6_col2\" class=\"data row6 col2\" >3</td>\n",
       "      <td id=\"T_a84b2_row6_col3\" class=\"data row6 col3\" >8</td>\n",
       "      <td id=\"T_a84b2_row6_col4\" class=\"data row6 col4\" >3</td>\n",
       "    </tr>\n",
       "    <tr>\n",
       "      <th id=\"T_a84b2_level0_row7\" class=\"row_heading level0 row7\" >7</th>\n",
       "      <td id=\"T_a84b2_row7_col0\" class=\"data row7 col0\" >Добавить форму подписки на все основные страницы, чтобы собрать базу клиентов для email-рассылок</td>\n",
       "      <td id=\"T_a84b2_row7_col1\" class=\"data row7 col1\" >10</td>\n",
       "      <td id=\"T_a84b2_row7_col2\" class=\"data row7 col2\" >7</td>\n",
       "      <td id=\"T_a84b2_row7_col3\" class=\"data row7 col3\" >8</td>\n",
       "      <td id=\"T_a84b2_row7_col4\" class=\"data row7 col4\" >5</td>\n",
       "    </tr>\n",
       "    <tr>\n",
       "      <th id=\"T_a84b2_level0_row8\" class=\"row_heading level0 row8\" >8</th>\n",
       "      <td id=\"T_a84b2_row8_col0\" class=\"data row8 col0\" >Запустить акцию, дающую скидку на товар в день рождения</td>\n",
       "      <td id=\"T_a84b2_row8_col1\" class=\"data row8 col1\" >1</td>\n",
       "      <td id=\"T_a84b2_row8_col2\" class=\"data row8 col2\" >9</td>\n",
       "      <td id=\"T_a84b2_row8_col3\" class=\"data row8 col3\" >9</td>\n",
       "      <td id=\"T_a84b2_row8_col4\" class=\"data row8 col4\" >5</td>\n",
       "    </tr>\n",
       "  </tbody>\n",
       "</table>\n"
      ],
      "text/plain": [
       "<pandas.io.formats.style.Styler at 0x20c972f0d00>"
      ]
     },
     "execution_count": 28,
     "metadata": {},
     "output_type": "execute_result"
    }
   ],
   "source": [
    "teal = sns.light_palette('#495C83', reverse=True, as_cmap=True)\n",
    "thesis[['hypothesis','reach','impact','confidence','efforts']].style.background_gradient(cmap=teal)"
   ]
  },
  {
   "cell_type": "markdown",
   "metadata": {},
   "source": [
    "По значению reach лидирует 7 гипотеза, по impact - 0 и по efforts - 1\n",
    "у 8 гипотезы очень низкий показатель reach , а у 2 - целых 2 компонента ниже 5 баллов - impact и efforts\n",
    "RICE в отличие от ICE, также включает параметр reach, что влияет на конечный результат, поэтому рекомендуется считать гипотезы 2 и 7  и использования метода RICE наиболее приоритетными."
   ]
  },
  {
   "cell_type": "markdown",
   "metadata": {},
   "source": [
    "### Анализ A/B-теста<a id=\"test\"></a>"
   ]
  },
  {
   "cell_type": "markdown",
   "metadata": {},
   "source": [
    "Мы провели A/B-тест и получили результаты, которые описаны в файлах /datasets/orders.csv и /datasets/visitors.csv.\n",
    "Задача:\n",
    "Проанализировать A/B-тест."
   ]
  },
  {
   "cell_type": "markdown",
   "metadata": {},
   "source": [
    "#### Построить график кумулятивной выручки по группам.<a id=\"1\"></a>"
   ]
  },
  {
   "cell_type": "markdown",
   "metadata": {},
   "source": [
    "Приведем даты в нужный формат"
   ]
  },
  {
   "cell_type": "code",
   "execution_count": 29,
   "metadata": {},
   "outputs": [],
   "source": [
    "orders['date'] = orders['date'].map(lambda x: dt.datetime.strptime(x, '%Y-%m-%d'))\n",
    "visitors['date'] = visitors['date'].map(lambda x: dt.datetime.strptime(x, '%Y-%m-%d'))"
   ]
  },
  {
   "cell_type": "markdown",
   "metadata": {},
   "source": [
    "Соберём агрегированные кумулятивные по дням данные о заказах:"
   ]
  },
  {
   "cell_type": "code",
   "execution_count": 30,
   "metadata": {},
   "outputs": [],
   "source": [
    "datesGroups = orders[['date', 'group']].drop_duplicates() # создаем массив уникальных пар значений дат и групп теста\n",
    "\n",
    "# получаем агрегированные кумулятивные по дням данные о заказах \n",
    "ordersAggregated = datesGroups.apply(\n",
    "    lambda x: orders[\n",
    "        np.logical_and(\n",
    "            orders['date'] <= x['date'], orders['group'] == x['group']\n",
    "        )\n",
    "    ].agg({'date':'max',\n",
    "            'group':'max',\n",
    "            'transactionId':'nunique',\n",
    "            'visitorId':'nunique',\n",
    "            'revenue':'sum',}),axis=1,\n",
    ").sort_values(by=['date', 'group'])\n",
    "\n",
    "# получаем агрегированные кумулятивные по дням данные о посетителях интернет-магазина \n",
    "visitorsAggregated = datesGroups.apply(\n",
    "    lambda x: visitors[\n",
    "        np.logical_and(\n",
    "            visitors['date'] <= x['date'], visitors['group'] == x['group']\n",
    "        )\n",
    "    ].agg({'date': 'max', 'group': 'max', 'visitors': 'sum'}),axis=1,\n",
    ").sort_values(by=['date', 'group'])\n",
    "\n",
    "# объединяем кумулятивные данные в одной таблице и переименовываем столбцы\n",
    "cumulativeData = ordersAggregated.merge(\n",
    "    visitorsAggregated, left_on=['date', 'group'], right_on=['date', 'group'])\n",
    "cumulativeData.columns = ['date', 'group', 'orders', 'buyers', 'revenue', 'visitors']"
   ]
  },
  {
   "cell_type": "code",
   "execution_count": 31,
   "metadata": {},
   "outputs": [
    {
     "data": {
      "image/png": "[encoded data removed]",
      "text/plain": [
       "<Figure size 1200x500 with 1 Axes>"
      ]
     },
     "metadata": {},
     "output_type": "display_data"
    }
   ],
   "source": [
    "# датафреймы с кумулятивным количеством заказов и кумулятивной выручкой по дням в группе А и В\n",
    "cumulativeRevenueA = cumulativeData[cumulativeData['group']=='A'][['date','revenue', 'orders']]\n",
    "cumulativeRevenueB = cumulativeData[cumulativeData['group']=='B'][['date','revenue', 'orders']]\n",
    "\n",
    "#строим графики с выручкой\n",
    "plt.figure(figsize=(12, 5))\n",
    "plt.plot(cumulativeRevenueA['date'], cumulativeRevenueA['revenue'], label='A')\n",
    "plt.plot(cumulativeRevenueB['date'], cumulativeRevenueB['revenue'], label='B')\n",
    "plt.title('График кумулятивной выручки по группам')\n",
    "plt.xlabel('Даты')\n",
    "plt.ylabel('Выручка')\n",
    "plt.legend();"
   ]
  },
  {
   "cell_type": "markdown",
   "metadata": {},
   "source": [
    "Кумулятивная выручка группы В выше выручки группы А.\n",
    "13 августа они сравнялись, но в 17-21 числах у выручки группы В случился резкий скачок."
   ]
  },
  {
   "cell_type": "markdown",
   "metadata": {},
   "source": [
    "#### Построить график кумулятивного среднего чека по группам.<a id=\"2\"></a>"
   ]
  },
  {
   "cell_type": "code",
   "execution_count": 32,
   "metadata": {},
   "outputs": [
    {
     "data": {
      "image/png": "[encoded data removed]",
      "text/plain": [
       "<Figure size 1200x500 with 1 Axes>"
      ]
     },
     "metadata": {},
     "output_type": "display_data"
    }
   ],
   "source": [
    "#построим графики среднего чека по группам — разделим кумулятивную выручку на кумулятивное число заказов:\n",
    "plt.figure(figsize=(12, 5))\n",
    "plt.plot(cumulativeRevenueA['date'], cumulativeRevenueA['revenue']/cumulativeRevenueA['orders'], label='A')\n",
    "plt.plot(cumulativeRevenueB['date'], cumulativeRevenueB['revenue']/cumulativeRevenueB['orders'], label='B')\n",
    "plt.title('График кумулятивного среднего чека по группам')\n",
    "plt.xlabel('Даты')\n",
    "plt.ylabel('Сумма чека')\n",
    "plt.legend();"
   ]
  },
  {
   "cell_type": "markdown",
   "metadata": {},
   "source": [
    "Сумма среднего чека группы В в целом превышает показатели группы А, и также как и на графике выше, резко увеличилась в конце августа. Вероятно, в эти дни в этой группе кто-то сделал крупный заказ."
   ]
  },
  {
   "cell_type": "markdown",
   "metadata": {},
   "source": [
    "#### Построить график относительного изменения кумулятивного среднего чека группы B к группе A.<a id=\"3\"></a>"
   ]
  },
  {
   "cell_type": "code",
   "execution_count": 33,
   "metadata": {},
   "outputs": [
    {
     "data": {
      "image/png": "[encoded data removed]",
      "text/plain": [
       "<Figure size 1200x500 with 1 Axes>"
      ]
     },
     "metadata": {},
     "output_type": "display_data"
    }
   ],
   "source": [
    "# собираем данные в один датафрейм\n",
    "mergedCumulativeRevenue = cumulativeRevenueA\\\n",
    ".merge(cumulativeRevenueB, left_on='date', right_on='date', how='left', suffixes=['A', 'B'])\n",
    "\n",
    "# cтроим отношение средних чеков\n",
    "plt.figure(figsize=(12, 5))\n",
    "plt.plot(mergedCumulativeRevenue['date'], (mergedCumulativeRevenue['revenueB']/\\\n",
    "                                           mergedCumulativeRevenue['ordersB'])/(mergedCumulativeRevenue['revenueA']\\\n",
    "                                                                                /mergedCumulativeRevenue['ordersA'])-1)\n",
    "plt.axhline(y=0, color='black', linestyle='--')\n",
    "plt.title('График относительного изменения кумулятивного среднего чека группы B к группе A')\n",
    "plt.xlabel('Даты');"
   ]
  },
  {
   "cell_type": "markdown",
   "metadata": {},
   "source": [
    "Показания среднего чека колеблются и имеют выбросы в начале и конце месяца."
   ]
  },
  {
   "cell_type": "markdown",
   "metadata": {},
   "source": [
    "#### Построить график кумулятивного среднего количества заказов на посетителя по группам. <a id=\"4\"></a>"
   ]
  },
  {
   "cell_type": "code",
   "execution_count": 34,
   "metadata": {},
   "outputs": [
    {
     "data": {
      "image/png": "[encoded data removed]",
      "text/plain": [
       "<Figure size 1200x500 with 1 Axes>"
      ]
     },
     "metadata": {},
     "output_type": "display_data"
    }
   ],
   "source": [
    "cumulativeData['conversion'] = cumulativeData['orders']/cumulativeData['visitors']\n",
    "\n",
    "cumulativeDataA = cumulativeData[cumulativeData['group']=='A']\n",
    "\n",
    "cumulativeDataB = cumulativeData[cumulativeData['group']=='B']\n",
    "\n",
    "\n",
    "plt.figure(figsize=(12, 5))\n",
    "plt.plot(cumulativeDataA['date'], cumulativeDataA['conversion'], label='A')\n",
    "plt.plot(cumulativeDataB['date'], cumulativeDataB['conversion'], label='B')\n",
    "plt.title('График кумулятивного среднего количества заказов на посетителя по группам')\n",
    "plt.xlabel('Даты')\n",
    "plt.ylabel('Количество заказов')\n",
    "plt.axhline(y=0.034, color='gray', linestyle='--')\n",
    "plt.axhline(y=0.030, color='gray', linestyle='--')\n",
    "plt.legend();"
   ]
  },
  {
   "cell_type": "markdown",
   "metadata": {},
   "source": [
    "В начале теста группа А имела большую разницу в количестве заказов, которая далее снизилась и продолжила колебаться в районе 0.030.\n",
    "Количество заказов группы В колебалось в начале и имело скачки в начале и середине августа, но начало выравниваться к концу теста в районе 0.034, что несколько больше показателей группы А."
   ]
  },
  {
   "cell_type": "markdown",
   "metadata": {},
   "source": [
    "#### Построить график относительного изменения кумулятивного среднего количества заказов на посетителя группы B к группе A. <a id=\"5\"></a>"
   ]
  },
  {
   "cell_type": "code",
   "execution_count": 35,
   "metadata": {},
   "outputs": [
    {
     "data": {
      "image/png": "[encoded data removed]",
      "text/plain": [
       "<Figure size 1200x500 with 1 Axes>"
      ]
     },
     "metadata": {},
     "output_type": "display_data"
    }
   ],
   "source": [
    "mergedCumulativeConversions = cumulativeDataA[['date','conversion']]\\\n",
    ".merge(cumulativeDataB[['date','conversion']], left_on='date', right_on='date', how='left', suffixes=['A', 'B'])\n",
    "\n",
    "plt.figure(figsize=(12, 5))\n",
    "plt.plot(mergedCumulativeConversions['date'], mergedCumulativeConversions['conversionB']\\\n",
    "         /mergedCumulativeConversions['conversionA']-1,\\\n",
    "         label='линия конверсии')\n",
    "plt.axhline(y=0, color='black', linestyle='--')\n",
    "plt.axhline(y=0.15, color='gray', linestyle='--')\n",
    "plt.title('График относительного изменения кумулятивного среднего количества заказов на посетителя группы B к группе A')\n",
    "plt.xlabel('Даты')\n",
    "plt.ylabel('Количество заказов')\n",
    "plt.legend();\n"
   ]
  },
  {
   "cell_type": "markdown",
   "metadata": {},
   "source": [
    "Группа В почти с самого начала лидирует по количеству заказов, прирост конверсии больше на 15% относительно второй группы."
   ]
  },
  {
   "cell_type": "markdown",
   "metadata": {},
   "source": [
    "#### Построить точечный график количества заказов по пользователям.<a id=\"6\"></a>"
   ]
  },
  {
   "cell_type": "markdown",
   "metadata": {},
   "source": [
    "Подсчитаем количество заказов  на пользователя, и построим точечный график распределения заказов."
   ]
  },
  {
   "cell_type": "code",
   "execution_count": 36,
   "metadata": {},
   "outputs": [
    {
     "name": "stdout",
     "output_type": "stream",
     "text": [
      "       visitorId  orders\n",
      "1023  4256040402      11\n",
      "591   2458001652      11\n",
      "569   2378935119       9\n",
      "487   2038680547       8\n",
      "44     199603092       5\n",
      "744   3062433592       5\n",
      "55     237748145       5\n",
      "917   3803269165       5\n",
      "299   1230306981       5\n",
      "897   3717692402       5\n"
     ]
    },
    {
     "data": {
      "image/png": "[encoded data removed]",
      "text/plain": [
       "<Figure size 1200x500 with 1 Axes>"
      ]
     },
     "metadata": {},
     "output_type": "display_data"
    }
   ],
   "source": [
    "#Подсчитаем количество заказов по пользователям\n",
    "ordersByUsers = (orders.groupby('visitorId', as_index=False)\n",
    "    .agg({'transactionId': 'nunique'}))\n",
    "ordersByUsers.columns = ['visitorId', 'orders']\n",
    "print(ordersByUsers.sort_values(by='orders', ascending=False).head(10))\n",
    "\n",
    "# серия из чисел от 0 до количества наблюдений в ordersByUsers\n",
    "x_values = pd.Series(range(0, len(ordersByUsers)))\n",
    "\n",
    "#построим график\n",
    "plt.figure(figsize=(12, 5))\n",
    "plt.scatter(x_values, ordersByUsers['orders'])\n",
    "plt.title('Точечный график количества заказов по пользователям')\n",
    "plt.xlabel('')\n",
    "plt.ylabel('Количество заказов');"
   ]
  },
  {
   "cell_type": "markdown",
   "metadata": {},
   "source": [
    "Видно, что есть пара всплесков по количеству заказов в районе 8-11шт, в основном же пользователи делают 1-2 заказа, в более редких случаях - 3-4."
   ]
  },
  {
   "cell_type": "markdown",
   "metadata": {},
   "source": [
    "#### Посчитать 95-й и 99-й перцентили количества заказов на пользователя.<a id=\"7\"></a>"
   ]
  },
  {
   "cell_type": "code",
   "execution_count": 37,
   "metadata": {},
   "outputs": [
    {
     "name": "stdout",
     "output_type": "stream",
     "text": [
      "[1. 2. 4.]\n"
     ]
    }
   ],
   "source": [
    "print(np.percentile(ordersByUsers['orders'], [90, 95, 99]))"
   ]
  },
  {
   "cell_type": "markdown",
   "metadata": {},
   "source": [
    "Не более 5% делали больше 2 заказов и не более 1% - больше 4. Примем за аномальных пользователей тех, кто совершил 4 заказа и более."
   ]
  },
  {
   "cell_type": "markdown",
   "metadata": {},
   "source": [
    "#### Построить точечный график стоимостей заказов. <a id=\"8\"></a>"
   ]
  },
  {
   "cell_type": "code",
   "execution_count": 38,
   "metadata": {},
   "outputs": [
    {
     "data": {
      "text/plain": [
       "count    1.197000e+03\n",
       "mean     8.348006e+03\n",
       "std      3.919113e+04\n",
       "min      5.000000e+01\n",
       "25%      1.220000e+03\n",
       "50%      2.978000e+03\n",
       "75%      8.290000e+03\n",
       "max      1.294500e+06\n",
       "Name: revenue, dtype: float64"
      ]
     },
     "execution_count": 38,
     "metadata": {},
     "output_type": "execute_result"
    },
    {
     "data": {
      "image/png": "[encoded data removed]",
      "text/plain": [
       "<Figure size 1000x500 with 1 Axes>"
      ]
     },
     "metadata": {},
     "output_type": "display_data"
    }
   ],
   "source": [
    "x_values = pd.Series(range(0, len(orders['revenue'])))\n",
    "\n",
    "plt.figure(figsize=(10, 5))\n",
    "plt.scatter(x_values, orders['revenue'])\n",
    "plt.title('Точечный график стоимости заказов')\n",
    "plt.xlabel('')\n",
    "plt.ylabel('Стоимость заказов');\n",
    "\n",
    "orders['revenue'].describe()"
   ]
  },
  {
   "cell_type": "markdown",
   "metadata": {},
   "source": [
    "На графике есть выбросы в районе 200 000 и 1,2млн"
   ]
  },
  {
   "cell_type": "markdown",
   "metadata": {},
   "source": [
    "#### Посчитать 95-й и 99-й перцентили стоимости заказов. Выбрать границу для определения аномальных заказов.<a id=\"9\"></a>"
   ]
  },
  {
   "cell_type": "code",
   "execution_count": 39,
   "metadata": {},
   "outputs": [
    {
     "name": "stdout",
     "output_type": "stream",
     "text": [
      "[18168.  28000.  58233.2]\n"
     ]
    }
   ],
   "source": [
    "print(np.percentile(orders['revenue'], [90, 95, 99])) "
   ]
  },
  {
   "cell_type": "markdown",
   "metadata": {},
   "source": [
    "Не более чем 5% заказов дороже 18 168 тысяч, и не более 1% дороже 58 233. Примем за аномальных пользователей тех, кто совершил покупку более 28 000."
   ]
  },
  {
   "cell_type": "markdown",
   "metadata": {},
   "source": [
    "#### Посчитать статистическую значимость различий в среднем количестве заказов на посетителя между группами по «сырым» данным. <a id=\"10\"></a>"
   ]
  },
  {
   "cell_type": "markdown",
   "metadata": {},
   "source": [
    "*Нулевая гипотеза:* различий в среднем количестве заказов между группами нет.\n",
    "\n",
    "*Альтернативная гипотеза:* различия в среднем количестве заказов между группами есть.\n",
    "\n",
    "Зададим значение alpha 0.05, а выборку будем проверять критерием Манна-Уитни."
   ]
  },
  {
   "cell_type": "code",
   "execution_count": 40,
   "metadata": {},
   "outputs": [
    {
     "name": "stdout",
     "output_type": "stream",
     "text": [
      "        date  ordersPerDateA  revenuePerDateA  ordersPerDateB  \\\n",
      "0 2019-08-01              24           148579              21   \n",
      "1 2019-08-02              20            93822              24   \n",
      "2 2019-08-03              24           112473              16   \n",
      "3 2019-08-04              16            70825              17   \n",
      "4 2019-08-05              25           124218              23   \n",
      "\n",
      "   revenuePerDateB  ordersCummulativeA  revenueCummulativeA  \\\n",
      "0           101217                  24               148579   \n",
      "1           165531                  44               242401   \n",
      "2           114248                  68               354874   \n",
      "3           108571                  84               425699   \n",
      "4            92428                 109               549917   \n",
      "\n",
      "   ordersCummulativeB  revenueCummulativeB  visitorsPerDateA  \\\n",
      "0                  21               101217               719   \n",
      "1                  45               266748               619   \n",
      "2                  61               380996               507   \n",
      "3                  78               489567               717   \n",
      "4                 101               581995               756   \n",
      "\n",
      "   visitorsPerDateB  visitorsCummulativeA  visitorsCummulativeB  \n",
      "0               713                   719                   713  \n",
      "1               581                  1338                  1294  \n",
      "2               509                  1845                  1803  \n",
      "3               770                  2562                  2573  \n",
      "4               707                  3318                  3280  \n"
     ]
    }
   ],
   "source": [
    "visitorsADaily = visitors[visitors['group'] == 'A'][['date', 'visitors']]\n",
    "visitorsADaily.columns = ['date', 'visitorsPerDateA']\n",
    "\n",
    "visitorsACummulative = visitorsADaily.apply(\n",
    "    lambda x: visitorsADaily[visitorsADaily['date'] <= x['date']].agg(\n",
    "        {'date': 'max', 'visitorsPerDateA': 'sum'}),axis=1)\n",
    "visitorsACummulative.columns = ['date', 'visitorsCummulativeA']\n",
    "\n",
    "visitorsBDaily = visitors[visitors['group'] == 'B'][['date', 'visitors']]\n",
    "visitorsBDaily.columns = ['date', 'visitorsPerDateB']\n",
    "\n",
    "visitorsBCummulative = visitorsBDaily.apply(\n",
    "    lambda x: visitorsBDaily[visitorsBDaily['date'] <= x['date']].agg(\n",
    "        {'date': 'max', 'visitorsPerDateB': 'sum'}),axis=1,)\n",
    "\n",
    "visitorsBCummulative.columns = ['date', 'visitorsCummulativeB']\n",
    "\n",
    "ordersADaily = (\n",
    "    orders[orders['group'] == 'A'][['date', 'transactionId', 'visitorId', 'revenue']]\n",
    "    .groupby('date', as_index=False)\n",
    "    .agg({'transactionId': pd.Series.nunique, 'revenue': 'sum'}))\n",
    "\n",
    "ordersADaily.columns = ['date', 'ordersPerDateA', 'revenuePerDateA']\n",
    "\n",
    "ordersACummulative = ordersADaily.apply(\n",
    "    lambda x: ordersADaily[ordersADaily['date'] <= x['date']].agg(\n",
    "        {'date': 'max', 'ordersPerDateA': 'sum', 'revenuePerDateA': 'sum'}\n",
    "    ),\n",
    "    axis=1,\n",
    ").sort_values(by=['date'])\n",
    "\n",
    "ordersACummulative.columns = ['date',\n",
    "                              'ordersCummulativeA',\n",
    "                              'revenueCummulativeA',]\n",
    "\n",
    "ordersBDaily = (\n",
    "    orders[orders['group'] == 'B'][['date', 'transactionId', 'visitorId', 'revenue']]\n",
    "    .groupby('date', as_index=False)\n",
    "    .agg({'transactionId': pd.Series.nunique, 'revenue': 'sum'}))\n",
    "\n",
    "ordersBDaily.columns = ['date', 'ordersPerDateB', 'revenuePerDateB']\n",
    "\n",
    "ordersBCummulative = ordersBDaily.apply(\n",
    "    lambda x: ordersBDaily[ordersBDaily['date'] <= x['date']].agg(\n",
    "        {'date': 'max', 'ordersPerDateB': 'sum', 'revenuePerDateB': 'sum'}),axis=1,\n",
    ").sort_values(by=['date'])\n",
    "\n",
    "ordersBCummulative.columns = ['date',\n",
    "                              'ordersCummulativeB',\n",
    "                              'revenueCummulativeB',]\n",
    "\n",
    "data = (\n",
    "    ordersADaily.merge(\n",
    "        ordersBDaily, left_on='date', right_on='date', how='left')\n",
    "    .merge(ordersACummulative, left_on='date', right_on='date', how='left')\n",
    "    .merge(ordersBCummulative, left_on='date', right_on='date', how='left')\n",
    "    .merge(visitorsADaily, left_on='date', right_on='date', how='left')\n",
    "    .merge(visitorsBDaily, left_on='date', right_on='date', how='left')\n",
    "    .merge(visitorsACummulative, left_on='date', right_on='date', how='left')\n",
    "    .merge(visitorsBCummulative, left_on='date', right_on='date', how='left'))\n",
    "\n",
    "print(data.head(5))"
   ]
  },
  {
   "cell_type": "code",
   "execution_count": 41,
   "metadata": {},
   "outputs": [
    {
     "name": "stdout",
     "output_type": "stream",
     "text": [
      "p-value: 0.017\n",
      "Изменение среднего конверсии группы B к группе A: 0.138\n"
     ]
    }
   ],
   "source": [
    "ordersByUsersA = (\n",
    "    orders[orders['group'] == 'A']\n",
    "    .groupby('visitorId', as_index=False)\n",
    "    .agg({'transactionId': pd.Series.nunique})\n",
    ")\n",
    "\n",
    "ordersByUsersA.columns = ['userId', 'orders']\n",
    "\n",
    "ordersByUsersB = (orders[orders['group'] == 'B']\n",
    "    .groupby('visitorId', as_index=False)\n",
    "    .agg({'transactionId': pd.Series.nunique}))\n",
    "\n",
    "ordersByUsersB.columns = ['userId', 'orders'] \n",
    "\n",
    "sampleA = pd.concat([ordersByUsersA['orders'],\n",
    "        pd.Series(0, index=np.arange(\n",
    "                data['visitorsPerDateA'].sum() - len(ordersByUsersA['orders'])),\n",
    "            name='orders')],axis=0)\n",
    "\n",
    "sampleB = pd.concat([ordersByUsersB['orders'],\n",
    "        pd.Series(0,index=np.arange(\n",
    "                data['visitorsPerDateB'].sum() - len(ordersByUsersB['orders'])),\n",
    "            name='orders')],axis=0)\n",
    "\n",
    "print(\"p-value: {0:.3f}\"\n",
    "      .format(stats.mannwhitneyu(sampleA, sampleB)[1]))\n",
    "\n",
    "print(\"Изменение среднего конверсии группы B к группе A: {0:.3f}\"\n",
    "      .format(sampleB.mean() / sampleA.mean() - 1))"
   ]
  },
  {
   "cell_type": "markdown",
   "metadata": {},
   "source": [
    "Вывод: По «сырым» данным различий в среднем числе заказов групп A и B нет. \n",
    "p-value = 0.017 больше 0.05, начит, нулевую гипотезу о том, что статистически значимых различий в среднем числе заказов между группами нет, не отвергаем. \n",
    "Однако относительная конверсия группы B равна 13.8%\n",
    "\n",
    "Далее выполним проверку гипотез:"
   ]
  },
  {
   "cell_type": "code",
   "execution_count": 42,
   "metadata": {},
   "outputs": [
    {
     "name": "stdout",
     "output_type": "stream",
     "text": [
      "p-значение: 0.016792355056752608\n",
      "Отвергаем нулевую гипотезу, различия в среднем количестве заказов между группами есть\n"
     ]
    }
   ],
   "source": [
    "# Выполним проверку гипотезы\n",
    "alpha = 0.05 # критический уровень статистической значимости\n",
    "results = stats.mannwhitneyu(sampleA, sampleB)\n",
    "print('p-значение:', results.pvalue)\n",
    "\n",
    "if (results.pvalue < alpha):\n",
    "    print(\"Отвергаем нулевую гипотезу, различия в среднем количестве заказов между группами есть\")\n",
    "else:\n",
    "    print(\"Не получилось отвергнуть нулевую гипотезу, различий в среднем количестве заказов между группами нет\")"
   ]
  },
  {
   "cell_type": "markdown",
   "metadata": {},
   "source": [
    "#### Посчитать статистическую значимость различий в среднем чеке заказа между группами по «сырым» данным.<a id=\"11\"></a>"
   ]
  },
  {
   "cell_type": "markdown",
   "metadata": {},
   "source": [
    "Теперь проверим статистическую значимость различий в среднем чеке между группами А и В. \n",
    "\n",
    "*Нулевая гипотеза*: различий в среднем чеке между группами нет. \n",
    "\n",
    "*Альтернативная гипотеза*: различия в среднем чеке между группами есть. \n",
    "\n",
    "Чтобы рассчитать статистическую значимость различий в среднем чеке, передадим критерию mannwhitneyu() данные о выручке с заказов."
   ]
  },
  {
   "cell_type": "code",
   "execution_count": 43,
   "metadata": {},
   "outputs": [
    {
     "name": "stdout",
     "output_type": "stream",
     "text": [
      "p-value: 0.729\n",
      "Изменение среднего чека в группе B к группе A: 0.259\n"
     ]
    }
   ],
   "source": [
    "print('p-value: {0:.3f}'\n",
    "      .format(stats.mannwhitneyu(orders[orders['group']=='A']['revenue'], orders[orders['group']=='B']['revenue'])[1]))\n",
    "\n",
    "print('Изменение среднего чека в группе B к группе A: {0:.3f}'\n",
    "      .format(orders[orders['group']=='B']['revenue'].mean()/orders[orders['group']=='A']['revenue'].mean()-1)) "
   ]
  },
  {
   "cell_type": "markdown",
   "metadata": {},
   "source": [
    "p-value больше 0,05, значит, статистически значимых отличий между группами нет. Также относительное различие среднего чека между группами составляет почти 25,9%"
   ]
  },
  {
   "cell_type": "code",
   "execution_count": 44,
   "metadata": {},
   "outputs": [
    {
     "name": "stdout",
     "output_type": "stream",
     "text": [
      "p-значение: 0.7292909855432458\n",
      "Не получилось отвергнуть нулевую гипотезу, различий в среднем чеке между группами нет.\n"
     ]
    }
   ],
   "source": [
    "# Выполним проверку гипотезы\n",
    "alpha = 0.05 # критический уровень статистической значимости\n",
    "results = stats.mannwhitneyu(orders[orders['group']=='A']['revenue'], orders[orders['group']=='B']['revenue'])\n",
    "print('p-значение:', results.pvalue)\n",
    "\n",
    "if (results.pvalue < alpha):\n",
    "    print(\"Отвергаем нулевую гипотезу, различия в среднем чеке между группами есть\")\n",
    "else:\n",
    "    print(\"Не получилось отвергнуть нулевую гипотезу, различий в среднем чеке между группами нет.\")"
   ]
  },
  {
   "cell_type": "markdown",
   "metadata": {},
   "source": [
    "#### Посчитать статистическую значимость различий в среднем количестве заказов на посетителя между группами по «очищенным» данным. <a id=\"12\"></a>"
   ]
  },
  {
   "cell_type": "markdown",
   "metadata": {},
   "source": [
    " Сделаем срезы пользователей с числом заказов больше 3 — usersWithManyOrders и пользователей, совершивших заказы дороже 30 000 — usersWithExpensiveOrders. Объединим их в таблице abnormalUsers, удалим дубликаты, отсортируем по возрастанию."
   ]
  },
  {
   "cell_type": "code",
   "execution_count": 45,
   "metadata": {},
   "outputs": [],
   "source": [
    "usersWithManyOrders = pd.concat(\n",
    "    [ordersByUsersA[ordersByUsersA['orders'] > 3]['userId'],\n",
    "    ordersByUsersB[ordersByUsersB['orders'] > 3]['userId'],],\n",
    "    axis=0,)\n",
    "\n",
    "usersWithExpensiveOrders = orders[orders['revenue'] > np.percentile(orders['revenue'], 95)]['visitorId']\n",
    "abnormalUsers = (\n",
    "    pd.concat([usersWithManyOrders, usersWithExpensiveOrders], axis=0)\n",
    "    .drop_duplicates()\n",
    "    .sort_values())"
   ]
  },
  {
   "cell_type": "markdown",
   "metadata": {},
   "source": [
    "*Нулевая гипотеза:* различий в среднем количестве заказов между группами нет.\n",
    "\n",
    "*Альтернативная гипотеза:* различия в среднем количестве заказов между группами есть.\n",
    "\n",
    "Посчитаем статистическую значимость различия среднего количества заказов после удаления аномальных пользователей."
   ]
  },
  {
   "cell_type": "code",
   "execution_count": 46,
   "metadata": {},
   "outputs": [
    {
     "name": "stdout",
     "output_type": "stream",
     "text": [
      "p-value: 0.018\n",
      "Изменение среднего конверсии группы B к группе A: 0.148\n"
     ]
    }
   ],
   "source": [
    "sampleAFiltered = pd.concat(\n",
    "    [ordersByUsersA[\n",
    "            np.logical_not(ordersByUsersA['userId'].isin(abnormalUsers))\n",
    "        ]['orders'],\n",
    "        pd.Series(0,index=np.arange(\n",
    "                data['visitorsPerDateA'].sum() - len(ordersByUsersA['orders'])),\n",
    "            name='orders')],axis=0)\n",
    "\n",
    "sampleBFiltered = pd.concat(\n",
    "    [ ordersByUsersB[\n",
    "            np.logical_not(ordersByUsersB['userId'].isin(abnormalUsers))\n",
    "        ]['orders'],pd.Series(0,index=np.arange(\n",
    "                data['visitorsPerDateB'].sum() - len(ordersByUsersB['orders'])),\n",
    "            name='orders')],axis=0,) \n",
    "\n",
    "print('p-value: {0:.3f}'\n",
    "      .format(stats.mannwhitneyu(sampleAFiltered, sampleBFiltered)[1]))\n",
    "\n",
    "print('Изменение среднего конверсии группы B к группе A: {0:.3f}'\n",
    "      .format(sampleBFiltered.mean()/sampleAFiltered.mean()-1))"
   ]
  },
  {
   "cell_type": "markdown",
   "metadata": {},
   "source": [
    "Как и до очищения данных, p-value меньше 0.05.\n",
    "Конверсия среднего количества заказов составляет 14,8%"
   ]
  },
  {
   "cell_type": "code",
   "execution_count": 47,
   "metadata": {},
   "outputs": [
    {
     "name": "stdout",
     "output_type": "stream",
     "text": [
      "p-значение: 0.017942888591552505\n",
      "Отвергаем нулевую гипотезу, различия в среднем количестве заказов между группами есть\n"
     ]
    }
   ],
   "source": [
    "# Выполним проверку гипотезы\n",
    "alpha = 0.05\n",
    "results = stats.mannwhitneyu(sampleAFiltered, sampleBFiltered)\n",
    "print('p-значение:', results.pvalue)\n",
    "\n",
    "if (results.pvalue < alpha):\n",
    "    print(\"Отвергаем нулевую гипотезу, различия в среднем количестве заказов между группами есть\")\n",
    "else:\n",
    "    print(\"Не получилось отвергнуть нулевую гипотезу, различий в среднем количестве заказов между группами нет\")"
   ]
  },
  {
   "cell_type": "markdown",
   "metadata": {},
   "source": [
    "#### Посчитать статистическую значимость различий в среднем чеке заказа между группами по «очищенным» данным.<a id=\"13\"></a>"
   ]
  },
  {
   "cell_type": "markdown",
   "metadata": {},
   "source": [
    "*Нулевая гипотеза*: различий в среднем чеке между группами нет. \n",
    "\n",
    "*Альтернативная гипотеза*: различия в среднем чеке между группами есть. "
   ]
  },
  {
   "cell_type": "code",
   "execution_count": 48,
   "metadata": {},
   "outputs": [
    {
     "name": "stdout",
     "output_type": "stream",
     "text": [
      "p-value: 0.977\n",
      "Изменение среднего чека в группе B к группе A: -0.017\n"
     ]
    }
   ],
   "source": [
    "print('p-value: {0:.3f}'.format(\n",
    "        stats.mannwhitneyu(\n",
    "            orders[np.logical_and(orders['group'] == 'A',\n",
    "                    np.logical_not(orders['visitorId'].isin(abnormalUsers)))]['revenue'],\n",
    "            orders[np.logical_and(orders['group'] == 'B',\n",
    "                    np.logical_not(orders['visitorId'].isin(abnormalUsers)),)]['revenue'])[1]))\n",
    "\n",
    "print('Изменение среднего чека в группе B к группе A: {0:.3f}'.format(orders[\n",
    "            np.logical_and(orders['group'] == 'B',\n",
    "                np.logical_not(orders['visitorId'].isin(abnormalUsers)))]['revenue'].mean()\n",
    "        / orders[np.logical_and(orders['group'] == 'A',\n",
    "                np.logical_not(orders['visitorId'].isin(abnormalUsers)))]['revenue'].mean() - 1)) "
   ]
  },
  {
   "cell_type": "markdown",
   "metadata": {},
   "source": [
    "После очищения данных p-value увеличилось с 0.729 до 0.977, а различие в среднем чеке снизизилось на 24,2 процентных пункта."
   ]
  },
  {
   "cell_type": "code",
   "execution_count": 49,
   "metadata": {},
   "outputs": [
    {
     "name": "stdout",
     "output_type": "stream",
     "text": [
      "p-значение: 0.9765292921254219\n",
      "Не получилось отвергнуть нулевую гипотезу, различий в среднем чеке между группами нет\n"
     ]
    }
   ],
   "source": [
    "# Выполним проверку гипотезы\n",
    "alpha = 0.05\n",
    "results = stats.mannwhitneyu(\n",
    "    orders[np.logical_and(orders['group']=='A', np.logical_not(orders['visitorId'].isin(abnormalUsers)))]['revenue'], \n",
    "    orders[np.logical_and(orders['group']=='B', np.logical_not(orders['visitorId'].isin(abnormalUsers)))]['revenue'])\n",
    "print('p-значение:', results.pvalue)\n",
    "\n",
    "if (results.pvalue < alpha):\n",
    "    print(\"Отвергаем нулевую гипотезу, различия в среднем чеке между группами есть\")\n",
    "else:\n",
    "    print(\"Не получилось отвергнуть нулевую гипотезу, различий в среднем чеке между группами нет\")"
   ]
  },
  {
   "cell_type": "markdown",
   "metadata": {},
   "source": [
    "###  Принятие решений по результатам теста. Выводы.<a id=\"end\"></a>\n",
    "**Варианты решений:** \n",
    "1. Остановить тест, зафиксировать победу одной из групп.\n",
    "2. Остановить тест, зафиксировать отсутствие различий между группами.\n",
    "3. Продолжить тест."
   ]
  },
  {
   "cell_type": "markdown",
   "metadata": {},
   "source": [
    "* RICE в отличие от ICE, также включает параметр reach, что влияет на конечный результат, поэтому рекомендуется считать гипотезы 2 и 7  и использование метода RICE наиболее приоритетными.\n",
    "* Кумулятивная выручка группы В выше выручки группы А.\n",
    "* Сумма среднего чека группы В в целом превышает показатели группы А.\n",
    "* В основном же пользователи делают 1-2 заказа, в более редких случаях - 3-4 и более.\n",
    "* Не более чем 5% заказов дороже 18 168 тысяч, и не более 1% дороже 58 233.\n",
    "* Были обнаружены повторяющиеся пользователи в обеих группах, из-за чего встает вопрос о необходимости более тщательного отбора и распределения пользователей.\n",
    "\n",
    "Тест можно остановить, признать его успешным, и зафиксировать победу группы В, \n",
    "\n",
    "- так как она вышла вперед по количеству заказов, хотя по среднему чеку различий с группой А нет.\n",
    "- также график различия конверсии между группами сообщает, что результаты группы B в общем лучше группы A."
   ]
  },
  {
   "cell_type": "code",
   "execution_count": null,
   "metadata": {},
   "outputs": [],
   "source": []
  }
 ],
 "metadata": {
  "ExecuteTimeLog": [
   {
    "duration": 370,
    "start_time": "2023-07-04T10:53:34.151Z"
   },
   {
    "duration": 76,
    "start_time": "2023-07-04T10:54:18.810Z"
   },
   {
    "duration": 3,
    "start_time": "2023-07-04T10:54:22.053Z"
   },
   {
    "duration": 7,
    "start_time": "2023-07-04T10:54:22.366Z"
   },
   {
    "duration": 3,
    "start_time": "2023-07-04T10:54:36.727Z"
   },
   {
    "duration": 62,
    "start_time": "2023-07-04T10:54:37.069Z"
   },
   {
    "duration": 15,
    "start_time": "2023-07-04T10:54:47.400Z"
   },
   {
    "duration": 140,
    "start_time": "2023-07-04T10:55:30.172Z"
   },
   {
    "duration": 9,
    "start_time": "2023-07-04T10:55:30.497Z"
   },
   {
    "duration": 82,
    "start_time": "2023-07-04T10:56:36.206Z"
   },
   {
    "duration": 7,
    "start_time": "2023-07-04T10:56:36.649Z"
   },
   {
    "duration": 11,
    "start_time": "2023-07-04T10:57:18.006Z"
   },
   {
    "duration": 11,
    "start_time": "2023-07-04T10:57:32.935Z"
   },
   {
    "duration": 16,
    "start_time": "2023-07-04T10:57:51.916Z"
   },
   {
    "duration": 3,
    "start_time": "2023-07-04T11:24:16.336Z"
   },
   {
    "duration": 10,
    "start_time": "2023-07-04T11:24:41.154Z"
   },
   {
    "duration": 11,
    "start_time": "2023-07-04T11:25:34.809Z"
   },
   {
    "duration": 889,
    "start_time": "2023-07-04T11:31:32.710Z"
   },
   {
    "duration": 0,
    "start_time": "2023-07-04T11:31:33.601Z"
   },
   {
    "duration": 450,
    "start_time": "2023-07-04T11:31:56.277Z"
   },
   {
    "duration": 73,
    "start_time": "2023-07-04T11:31:56.729Z"
   },
   {
    "duration": 14,
    "start_time": "2023-07-04T11:31:57.060Z"
   },
   {
    "duration": 9,
    "start_time": "2023-07-04T11:31:57.283Z"
   },
   {
    "duration": 4,
    "start_time": "2023-07-04T11:31:57.475Z"
   },
   {
    "duration": 68,
    "start_time": "2023-07-04T11:31:57.676Z"
   },
   {
    "duration": 12,
    "start_time": "2023-07-04T11:31:57.930Z"
   },
   {
    "duration": 10,
    "start_time": "2023-07-04T11:31:58.130Z"
   },
   {
    "duration": 42,
    "start_time": "2023-07-04T11:31:58.461Z"
   },
   {
    "duration": 11,
    "start_time": "2023-07-04T11:31:58.636Z"
   },
   {
    "duration": 9,
    "start_time": "2023-07-04T11:31:58.808Z"
   },
   {
    "duration": 8,
    "start_time": "2023-07-04T11:31:59.130Z"
   },
   {
    "duration": 10,
    "start_time": "2023-07-04T11:31:59.294Z"
   },
   {
    "duration": 498,
    "start_time": "2023-07-04T11:31:59.621Z"
   },
   {
    "duration": 0,
    "start_time": "2023-07-04T11:32:00.121Z"
   },
   {
    "duration": 448,
    "start_time": "2023-07-04T11:32:28.396Z"
   },
   {
    "duration": 463,
    "start_time": "2023-07-04T11:33:39.827Z"
   },
   {
    "duration": 440,
    "start_time": "2023-07-04T11:35:36.543Z"
   },
   {
    "duration": 470,
    "start_time": "2023-07-04T11:35:53.945Z"
   },
   {
    "duration": 475,
    "start_time": "2023-07-04T11:36:40.525Z"
   },
   {
    "duration": 22,
    "start_time": "2023-07-04T11:37:05.408Z"
   },
   {
    "duration": 4,
    "start_time": "2023-07-04T11:37:10.265Z"
   },
   {
    "duration": 29,
    "start_time": "2023-07-04T11:37:57.355Z"
   },
   {
    "duration": 577,
    "start_time": "2023-07-04T11:40:02.853Z"
   },
   {
    "duration": 173,
    "start_time": "2023-07-04T11:42:14.125Z"
   },
   {
    "duration": 358,
    "start_time": "2023-07-04T11:42:37.209Z"
   },
   {
    "duration": 11,
    "start_time": "2023-07-04T11:45:31.294Z"
   },
   {
    "duration": 123,
    "start_time": "2023-07-04T11:46:23.749Z"
   },
   {
    "duration": 130,
    "start_time": "2023-07-04T11:46:39.495Z"
   },
   {
    "duration": 8,
    "start_time": "2023-07-04T11:47:28.249Z"
   },
   {
    "duration": 13,
    "start_time": "2023-07-04T11:48:43.462Z"
   },
   {
    "duration": 149,
    "start_time": "2023-07-04T11:48:52.008Z"
   },
   {
    "duration": 127,
    "start_time": "2023-07-04T11:48:57.938Z"
   },
   {
    "duration": 7,
    "start_time": "2023-07-04T11:50:42.336Z"
   },
   {
    "duration": 7,
    "start_time": "2023-07-04T11:50:53.964Z"
   },
   {
    "duration": 701,
    "start_time": "2023-07-04T12:02:52.595Z"
   },
   {
    "duration": 57,
    "start_time": "2023-07-04T12:02:53.298Z"
   },
   {
    "duration": 12,
    "start_time": "2023-07-04T12:02:53.356Z"
   },
   {
    "duration": 19,
    "start_time": "2023-07-04T12:02:53.370Z"
   },
   {
    "duration": 10,
    "start_time": "2023-07-04T12:02:53.392Z"
   },
   {
    "duration": 102,
    "start_time": "2023-07-04T12:02:53.404Z"
   },
   {
    "duration": 12,
    "start_time": "2023-07-04T12:02:53.508Z"
   },
   {
    "duration": 17,
    "start_time": "2023-07-04T12:02:53.522Z"
   },
   {
    "duration": 89,
    "start_time": "2023-07-04T12:02:53.541Z"
   },
   {
    "duration": 12,
    "start_time": "2023-07-04T12:02:53.632Z"
   },
   {
    "duration": 28,
    "start_time": "2023-07-04T12:02:53.646Z"
   },
   {
    "duration": 14,
    "start_time": "2023-07-04T12:02:53.676Z"
   },
   {
    "duration": 18,
    "start_time": "2023-07-04T12:02:53.692Z"
   },
   {
    "duration": 21,
    "start_time": "2023-07-04T12:02:53.713Z"
   },
   {
    "duration": 16,
    "start_time": "2023-07-04T12:02:53.736Z"
   },
   {
    "duration": 576,
    "start_time": "2023-07-04T12:02:53.754Z"
   },
   {
    "duration": 186,
    "start_time": "2023-07-04T12:02:54.332Z"
   },
   {
    "duration": 277,
    "start_time": "2023-07-04T12:02:54.520Z"
   },
   {
    "duration": 178,
    "start_time": "2023-07-04T12:02:54.799Z"
   },
   {
    "duration": 6,
    "start_time": "2023-07-04T12:02:54.978Z"
   },
   {
    "duration": 147,
    "start_time": "2023-07-04T12:02:54.986Z"
   },
   {
    "duration": 6,
    "start_time": "2023-07-04T12:02:55.135Z"
   },
   {
    "duration": 558,
    "start_time": "2023-07-04T12:07:27.518Z"
   },
   {
    "duration": 4,
    "start_time": "2023-07-04T12:08:12.200Z"
   },
   {
    "duration": 447,
    "start_time": "2023-07-04T12:08:20.926Z"
   },
   {
    "duration": 8,
    "start_time": "2023-07-04T12:08:42.633Z"
   },
   {
    "duration": 4,
    "start_time": "2023-07-04T12:08:43.298Z"
   },
   {
    "duration": 454,
    "start_time": "2023-07-04T12:08:44.033Z"
   },
   {
    "duration": 168,
    "start_time": "2023-07-04T12:08:45.110Z"
   },
   {
    "duration": 267,
    "start_time": "2023-07-04T12:08:45.425Z"
   },
   {
    "duration": 116,
    "start_time": "2023-07-04T12:08:47.061Z"
   },
   {
    "duration": 7,
    "start_time": "2023-07-04T12:08:47.474Z"
   },
   {
    "duration": 134,
    "start_time": "2023-07-04T12:08:48.030Z"
   },
   {
    "duration": 7,
    "start_time": "2023-07-04T12:08:48.384Z"
   },
   {
    "duration": 117,
    "start_time": "2023-07-04T12:11:55.629Z"
   },
   {
    "duration": 108,
    "start_time": "2023-07-04T12:12:41.850Z"
   },
   {
    "duration": 162,
    "start_time": "2023-07-04T12:14:17.831Z"
   },
   {
    "duration": 376,
    "start_time": "2023-07-04T12:14:54.208Z"
   },
   {
    "duration": 520,
    "start_time": "2023-07-04T12:15:24.302Z"
   },
   {
    "duration": 56,
    "start_time": "2023-07-04T12:15:24.835Z"
   },
   {
    "duration": 12,
    "start_time": "2023-07-04T12:15:25.008Z"
   },
   {
    "duration": 9,
    "start_time": "2023-07-04T12:15:25.119Z"
   },
   {
    "duration": 3,
    "start_time": "2023-07-04T12:15:25.253Z"
   },
   {
    "duration": 66,
    "start_time": "2023-07-04T12:15:25.511Z"
   },
   {
    "duration": 11,
    "start_time": "2023-07-04T12:15:25.667Z"
   },
   {
    "duration": 9,
    "start_time": "2023-07-04T12:15:25.868Z"
   },
   {
    "duration": 47,
    "start_time": "2023-07-04T12:15:26.262Z"
   },
   {
    "duration": 13,
    "start_time": "2023-07-04T12:15:26.424Z"
   },
   {
    "duration": 8,
    "start_time": "2023-07-04T12:15:26.607Z"
   },
   {
    "duration": 10,
    "start_time": "2023-07-04T12:15:26.906Z"
   },
   {
    "duration": 8,
    "start_time": "2023-07-04T12:15:27.053Z"
   },
   {
    "duration": 489,
    "start_time": "2023-07-04T12:15:27.355Z"
   },
   {
    "duration": 0,
    "start_time": "2023-07-04T12:15:27.846Z"
   },
   {
    "duration": 0,
    "start_time": "2023-07-04T12:15:27.847Z"
   },
   {
    "duration": 179,
    "start_time": "2023-07-04T12:15:28.529Z"
   },
   {
    "duration": 291,
    "start_time": "2023-07-04T12:15:28.896Z"
   },
   {
    "duration": 126,
    "start_time": "2023-07-04T12:15:30.535Z"
   },
   {
    "duration": 7,
    "start_time": "2023-07-04T12:15:30.910Z"
   },
   {
    "duration": 171,
    "start_time": "2023-07-04T12:15:31.258Z"
   },
   {
    "duration": 8,
    "start_time": "2023-07-04T12:15:31.613Z"
   },
   {
    "duration": 397,
    "start_time": "2023-07-04T12:15:32.148Z"
   },
   {
    "duration": 12,
    "start_time": "2023-07-04T12:15:53.600Z"
   },
   {
    "duration": 438,
    "start_time": "2023-07-04T12:18:08.710Z"
   },
   {
    "duration": 448,
    "start_time": "2023-07-04T12:18:25.026Z"
   },
   {
    "duration": 8,
    "start_time": "2023-07-04T12:18:42.846Z"
   },
   {
    "duration": 9,
    "start_time": "2023-07-04T12:18:54.799Z"
   },
   {
    "duration": 1101,
    "start_time": "2023-07-04T12:19:16.607Z"
   },
   {
    "duration": 136,
    "start_time": "2023-07-04T12:19:17.710Z"
   },
   {
    "duration": 12,
    "start_time": "2023-07-04T12:19:17.848Z"
   },
   {
    "duration": 14,
    "start_time": "2023-07-04T12:19:17.862Z"
   },
   {
    "duration": 3,
    "start_time": "2023-07-04T12:19:17.879Z"
   },
   {
    "duration": 71,
    "start_time": "2023-07-04T12:19:17.884Z"
   },
   {
    "duration": 12,
    "start_time": "2023-07-04T12:19:17.956Z"
   },
   {
    "duration": 21,
    "start_time": "2023-07-04T12:19:17.970Z"
   },
   {
    "duration": 83,
    "start_time": "2023-07-04T12:19:17.992Z"
   },
   {
    "duration": 13,
    "start_time": "2023-07-04T12:19:18.076Z"
   },
   {
    "duration": 11,
    "start_time": "2023-07-04T12:19:18.091Z"
   },
   {
    "duration": 14,
    "start_time": "2023-07-04T12:19:18.103Z"
   },
   {
    "duration": 9,
    "start_time": "2023-07-04T12:19:18.118Z"
   },
   {
    "duration": 547,
    "start_time": "2023-07-04T12:19:18.129Z"
   },
   {
    "duration": 274,
    "start_time": "2023-07-04T12:19:18.678Z"
   },
   {
    "duration": 320,
    "start_time": "2023-07-04T12:19:18.954Z"
   },
   {
    "duration": 125,
    "start_time": "2023-07-04T12:19:19.275Z"
   },
   {
    "duration": 16,
    "start_time": "2023-07-04T12:19:19.401Z"
   },
   {
    "duration": 149,
    "start_time": "2023-07-04T12:19:19.419Z"
   },
   {
    "duration": 8,
    "start_time": "2023-07-04T12:19:19.569Z"
   },
   {
    "duration": 465,
    "start_time": "2023-07-04T12:19:19.583Z"
   },
   {
    "duration": 10,
    "start_time": "2023-07-04T12:19:20.050Z"
   },
   {
    "duration": 15,
    "start_time": "2023-07-04T12:21:02.704Z"
   },
   {
    "duration": 615,
    "start_time": "2023-07-04T12:21:28.312Z"
   },
   {
    "duration": 0,
    "start_time": "2023-07-04T12:21:28.929Z"
   },
   {
    "duration": 1111,
    "start_time": "2023-07-04T12:21:38.948Z"
   },
   {
    "duration": 104,
    "start_time": "2023-07-04T12:21:40.061Z"
   },
   {
    "duration": 16,
    "start_time": "2023-07-04T12:21:40.167Z"
   },
   {
    "duration": 20,
    "start_time": "2023-07-04T12:21:40.186Z"
   },
   {
    "duration": 12,
    "start_time": "2023-07-04T12:21:40.208Z"
   },
   {
    "duration": 70,
    "start_time": "2023-07-04T12:21:40.222Z"
   },
   {
    "duration": 12,
    "start_time": "2023-07-04T12:21:40.294Z"
   },
   {
    "duration": 23,
    "start_time": "2023-07-04T12:21:40.308Z"
   },
   {
    "duration": 67,
    "start_time": "2023-07-04T12:21:40.333Z"
   },
   {
    "duration": 10,
    "start_time": "2023-07-04T12:21:40.404Z"
   },
   {
    "duration": 16,
    "start_time": "2023-07-04T12:21:40.417Z"
   },
   {
    "duration": 52,
    "start_time": "2023-07-04T12:21:40.435Z"
   },
   {
    "duration": 37,
    "start_time": "2023-07-04T12:21:40.489Z"
   },
   {
    "duration": 22,
    "start_time": "2023-07-04T12:21:40.528Z"
   },
   {
    "duration": 23,
    "start_time": "2023-07-04T12:21:40.552Z"
   },
   {
    "duration": 567,
    "start_time": "2023-07-04T12:21:40.577Z"
   },
   {
    "duration": 194,
    "start_time": "2023-07-04T12:21:41.146Z"
   },
   {
    "duration": 270,
    "start_time": "2023-07-04T12:21:41.343Z"
   },
   {
    "duration": 127,
    "start_time": "2023-07-04T12:21:41.615Z"
   },
   {
    "duration": 6,
    "start_time": "2023-07-04T12:21:41.744Z"
   },
   {
    "duration": 152,
    "start_time": "2023-07-04T12:21:41.752Z"
   },
   {
    "duration": 8,
    "start_time": "2023-07-04T12:21:41.913Z"
   },
   {
    "duration": 385,
    "start_time": "2023-07-04T12:21:41.923Z"
   },
   {
    "duration": 11,
    "start_time": "2023-07-04T12:21:42.314Z"
   },
   {
    "duration": 1902,
    "start_time": "2023-07-04T12:25:10.522Z"
   },
   {
    "duration": 10,
    "start_time": "2023-07-04T12:25:28.216Z"
   },
   {
    "duration": 36,
    "start_time": "2023-07-04T12:26:28.847Z"
   },
   {
    "duration": 1827,
    "start_time": "2023-07-04T12:27:04.613Z"
   },
   {
    "duration": 15,
    "start_time": "2023-07-04T12:27:33.616Z"
   },
   {
    "duration": 9,
    "start_time": "2023-07-04T12:29:45.930Z"
   },
   {
    "duration": 213,
    "start_time": "2023-07-04T12:30:50.918Z"
   },
   {
    "duration": 195,
    "start_time": "2023-07-04T12:31:32.959Z"
   },
   {
    "duration": 186,
    "start_time": "2023-07-04T12:31:52.612Z"
   },
   {
    "duration": 441,
    "start_time": "2023-07-04T12:32:28.904Z"
   },
   {
    "duration": 188,
    "start_time": "2023-07-04T12:32:52.447Z"
   },
   {
    "duration": 1513,
    "start_time": "2023-07-06T11:31:04.697Z"
   },
   {
    "duration": 129,
    "start_time": "2023-07-06T11:31:06.212Z"
   },
   {
    "duration": 13,
    "start_time": "2023-07-06T11:31:06.343Z"
   },
   {
    "duration": 51,
    "start_time": "2023-07-06T11:31:06.357Z"
   },
   {
    "duration": 10,
    "start_time": "2023-07-06T11:31:06.410Z"
   },
   {
    "duration": 52,
    "start_time": "2023-07-06T11:31:06.422Z"
   },
   {
    "duration": 11,
    "start_time": "2023-07-06T11:31:06.476Z"
   },
   {
    "duration": 25,
    "start_time": "2023-07-06T11:31:06.489Z"
   },
   {
    "duration": 44,
    "start_time": "2023-07-06T11:31:06.516Z"
   },
   {
    "duration": 11,
    "start_time": "2023-07-06T11:31:06.562Z"
   },
   {
    "duration": 24,
    "start_time": "2023-07-06T11:31:06.574Z"
   },
   {
    "duration": 15,
    "start_time": "2023-07-06T11:31:06.600Z"
   },
   {
    "duration": 9,
    "start_time": "2023-07-06T11:31:06.617Z"
   },
   {
    "duration": 21,
    "start_time": "2023-07-06T11:31:06.628Z"
   },
   {
    "duration": 11,
    "start_time": "2023-07-06T11:31:06.653Z"
   },
   {
    "duration": 553,
    "start_time": "2023-07-06T11:31:06.665Z"
   },
   {
    "duration": 190,
    "start_time": "2023-07-06T11:31:07.219Z"
   },
   {
    "duration": 449,
    "start_time": "2023-07-06T11:31:07.410Z"
   },
   {
    "duration": 399,
    "start_time": "2023-07-06T11:31:07.860Z"
   },
   {
    "duration": 396,
    "start_time": "2023-07-06T11:31:08.260Z"
   },
   {
    "duration": 175,
    "start_time": "2023-07-06T11:31:08.658Z"
   },
   {
    "duration": 8,
    "start_time": "2023-07-06T11:31:08.854Z"
   },
   {
    "duration": 155,
    "start_time": "2023-07-06T11:31:08.863Z"
   },
   {
    "duration": 7,
    "start_time": "2023-07-06T11:31:09.020Z"
   },
   {
    "duration": 929,
    "start_time": "2023-07-06T11:31:09.029Z"
   },
   {
    "duration": 11,
    "start_time": "2023-07-06T11:31:09.959Z"
   },
   {
    "duration": 95,
    "start_time": "2023-07-06T11:31:09.972Z"
   },
   {
    "duration": 15,
    "start_time": "2023-07-06T11:31:10.069Z"
   },
   {
    "duration": 1045,
    "start_time": "2023-07-06T12:01:32.706Z"
   },
   {
    "duration": 109,
    "start_time": "2023-07-06T12:01:33.753Z"
   },
   {
    "duration": 45,
    "start_time": "2023-07-06T12:01:33.864Z"
   },
   {
    "duration": 41,
    "start_time": "2023-07-06T12:01:33.911Z"
   },
   {
    "duration": 13,
    "start_time": "2023-07-06T12:01:33.954Z"
   },
   {
    "duration": 23,
    "start_time": "2023-07-06T12:01:33.968Z"
   },
   {
    "duration": 11,
    "start_time": "2023-07-06T12:01:33.992Z"
   },
   {
    "duration": 13,
    "start_time": "2023-07-06T12:01:34.004Z"
   },
   {
    "duration": 16,
    "start_time": "2023-07-06T12:01:34.018Z"
   },
   {
    "duration": 31,
    "start_time": "2023-07-06T12:01:34.036Z"
   },
   {
    "duration": 22,
    "start_time": "2023-07-06T12:01:34.069Z"
   },
   {
    "duration": 12,
    "start_time": "2023-07-06T12:01:34.093Z"
   },
   {
    "duration": 38,
    "start_time": "2023-07-06T12:01:34.107Z"
   },
   {
    "duration": 68,
    "start_time": "2023-07-06T12:01:34.147Z"
   },
   {
    "duration": 559,
    "start_time": "2023-07-06T12:01:34.217Z"
   },
   {
    "duration": 178,
    "start_time": "2023-07-06T12:01:34.778Z"
   },
   {
    "duration": 278,
    "start_time": "2023-07-06T12:01:34.958Z"
   },
   {
    "duration": 215,
    "start_time": "2023-07-06T12:01:35.238Z"
   },
   {
    "duration": 203,
    "start_time": "2023-07-06T12:01:35.455Z"
   },
   {
    "duration": 118,
    "start_time": "2023-07-06T12:01:35.659Z"
   },
   {
    "duration": 7,
    "start_time": "2023-07-06T12:01:35.779Z"
   },
   {
    "duration": 153,
    "start_time": "2023-07-06T12:01:35.788Z"
   },
   {
    "duration": 7,
    "start_time": "2023-07-06T12:01:35.954Z"
   },
   {
    "duration": 399,
    "start_time": "2023-07-06T12:01:35.963Z"
   },
   {
    "duration": 11,
    "start_time": "2023-07-06T12:01:36.363Z"
   },
   {
    "duration": 35,
    "start_time": "2023-07-06T12:01:36.376Z"
   },
   {
    "duration": 15,
    "start_time": "2023-07-06T12:01:36.412Z"
   },
   {
    "duration": 550,
    "start_time": "2023-07-06T12:19:31.394Z"
   },
   {
    "duration": 481,
    "start_time": "2023-07-06T12:19:45.368Z"
   },
   {
    "duration": 453,
    "start_time": "2023-07-06T12:20:01.641Z"
   },
   {
    "duration": 467,
    "start_time": "2023-07-06T12:20:10.715Z"
   },
   {
    "duration": 474,
    "start_time": "2023-07-06T12:20:17.694Z"
   },
   {
    "duration": 183,
    "start_time": "2023-07-06T12:20:29.610Z"
   },
   {
    "duration": 247,
    "start_time": "2023-07-06T12:20:38.695Z"
   },
   {
    "duration": 240,
    "start_time": "2023-07-06T12:20:44.139Z"
   },
   {
    "duration": 197,
    "start_time": "2023-07-06T12:20:49.289Z"
   },
   {
    "duration": 119,
    "start_time": "2023-07-06T12:21:02.908Z"
   },
   {
    "duration": 142,
    "start_time": "2023-07-06T12:21:12.532Z"
   },
   {
    "duration": 147,
    "start_time": "2023-07-06T12:21:18.527Z"
   },
   {
    "duration": 93,
    "start_time": "2023-07-06T13:08:09.691Z"
   },
   {
    "duration": 8,
    "start_time": "2023-07-06T13:08:23.023Z"
   },
   {
    "duration": 11,
    "start_time": "2023-07-06T13:08:32.629Z"
   },
   {
    "duration": 9,
    "start_time": "2023-07-06T13:08:58.214Z"
   },
   {
    "duration": 10,
    "start_time": "2023-07-06T13:09:15.750Z"
   },
   {
    "duration": 10,
    "start_time": "2023-07-06T13:09:25.933Z"
   },
   {
    "duration": 10,
    "start_time": "2023-07-06T13:11:21.522Z"
   },
   {
    "duration": 10,
    "start_time": "2023-07-06T13:11:46.391Z"
   },
   {
    "duration": 3,
    "start_time": "2023-07-06T13:12:14.012Z"
   },
   {
    "duration": 10,
    "start_time": "2023-07-06T13:12:15.897Z"
   },
   {
    "duration": 10,
    "start_time": "2023-07-06T13:12:16.580Z"
   },
   {
    "duration": 2,
    "start_time": "2023-07-06T13:12:19.443Z"
   },
   {
    "duration": 10,
    "start_time": "2023-07-06T13:12:19.687Z"
   },
   {
    "duration": 11,
    "start_time": "2023-07-06T13:12:19.816Z"
   },
   {
    "duration": 1064,
    "start_time": "2023-07-06T13:12:36.596Z"
   },
   {
    "duration": 137,
    "start_time": "2023-07-06T13:12:37.665Z"
   },
   {
    "duration": 100,
    "start_time": "2023-07-06T13:12:37.803Z"
   },
   {
    "duration": 71,
    "start_time": "2023-07-06T13:12:37.905Z"
   },
   {
    "duration": 12,
    "start_time": "2023-07-06T13:12:37.978Z"
   },
   {
    "duration": 28,
    "start_time": "2023-07-06T13:12:37.991Z"
   },
   {
    "duration": 36,
    "start_time": "2023-07-06T13:12:38.021Z"
   },
   {
    "duration": 22,
    "start_time": "2023-07-06T13:12:38.059Z"
   },
   {
    "duration": 26,
    "start_time": "2023-07-06T13:12:38.083Z"
   },
   {
    "duration": 16,
    "start_time": "2023-07-06T13:12:38.111Z"
   },
   {
    "duration": 17,
    "start_time": "2023-07-06T13:12:38.128Z"
   },
   {
    "duration": 21,
    "start_time": "2023-07-06T13:12:38.147Z"
   },
   {
    "duration": 26,
    "start_time": "2023-07-06T13:12:38.169Z"
   },
   {
    "duration": 11,
    "start_time": "2023-07-06T13:12:38.198Z"
   },
   {
    "duration": 23,
    "start_time": "2023-07-06T13:12:38.210Z"
   },
   {
    "duration": 553,
    "start_time": "2023-07-06T13:12:38.234Z"
   },
   {
    "duration": 200,
    "start_time": "2023-07-06T13:12:38.789Z"
   },
   {
    "duration": 274,
    "start_time": "2023-07-06T13:12:38.991Z"
   },
   {
    "duration": 225,
    "start_time": "2023-07-06T13:12:39.267Z"
   },
   {
    "duration": 213,
    "start_time": "2023-07-06T13:12:39.493Z"
   },
   {
    "duration": 140,
    "start_time": "2023-07-06T13:12:39.708Z"
   },
   {
    "duration": 7,
    "start_time": "2023-07-06T13:12:39.853Z"
   },
   {
    "duration": 153,
    "start_time": "2023-07-06T13:12:39.862Z"
   },
   {
    "duration": 6,
    "start_time": "2023-07-06T13:12:40.017Z"
   },
   {
    "duration": 396,
    "start_time": "2023-07-06T13:12:40.025Z"
   },
   {
    "duration": 13,
    "start_time": "2023-07-06T13:12:40.423Z"
   },
   {
    "duration": 47,
    "start_time": "2023-07-06T13:12:40.438Z"
   },
   {
    "duration": 16,
    "start_time": "2023-07-06T13:12:40.488Z"
   },
   {
    "duration": 3,
    "start_time": "2023-07-06T13:13:06.230Z"
   },
   {
    "duration": 11,
    "start_time": "2023-07-06T13:13:06.576Z"
   },
   {
    "duration": 12,
    "start_time": "2023-07-06T13:13:07.726Z"
   },
   {
    "duration": 3,
    "start_time": "2023-07-06T13:13:26.529Z"
   },
   {
    "duration": 12,
    "start_time": "2023-07-06T13:13:26.701Z"
   },
   {
    "duration": 12,
    "start_time": "2023-07-06T13:13:26.845Z"
   },
   {
    "duration": 9,
    "start_time": "2023-07-06T13:13:39.882Z"
   },
   {
    "duration": 11,
    "start_time": "2023-07-06T13:13:47.494Z"
   },
   {
    "duration": 329,
    "start_time": "2023-07-06T13:59:11.306Z"
   },
   {
    "duration": 384,
    "start_time": "2023-07-06T13:59:20.495Z"
   },
   {
    "duration": 388,
    "start_time": "2023-07-06T13:59:31.356Z"
   },
   {
    "duration": 101,
    "start_time": "2023-07-06T14:03:08.328Z"
   },
   {
    "duration": 138,
    "start_time": "2023-07-06T14:04:04.617Z"
   },
   {
    "duration": 116,
    "start_time": "2023-07-06T14:05:08.066Z"
   },
   {
    "duration": 6,
    "start_time": "2023-07-06T14:05:49.224Z"
   },
   {
    "duration": 120,
    "start_time": "2023-07-06T14:06:16.597Z"
   },
   {
    "duration": 18,
    "start_time": "2023-07-06T14:06:57.893Z"
   },
   {
    "duration": 19,
    "start_time": "2023-07-06T14:10:24.515Z"
   },
   {
    "duration": 14,
    "start_time": "2023-07-06T14:10:59.542Z"
   },
   {
    "duration": 1405,
    "start_time": "2023-07-07T12:11:17.058Z"
   },
   {
    "duration": 147,
    "start_time": "2023-07-07T12:11:18.466Z"
   },
   {
    "duration": 90,
    "start_time": "2023-07-07T12:11:18.615Z"
   },
   {
    "duration": 86,
    "start_time": "2023-07-07T12:11:18.707Z"
   },
   {
    "duration": 17,
    "start_time": "2023-07-07T12:11:18.796Z"
   },
   {
    "duration": 24,
    "start_time": "2023-07-07T12:11:18.816Z"
   },
   {
    "duration": 18,
    "start_time": "2023-07-07T12:11:18.843Z"
   },
   {
    "duration": 23,
    "start_time": "2023-07-07T12:11:18.863Z"
   },
   {
    "duration": 17,
    "start_time": "2023-07-07T12:11:18.889Z"
   },
   {
    "duration": 12,
    "start_time": "2023-07-07T12:11:18.908Z"
   },
   {
    "duration": 17,
    "start_time": "2023-07-07T12:11:18.924Z"
   },
   {
    "duration": 15,
    "start_time": "2023-07-07T12:11:18.943Z"
   },
   {
    "duration": 20,
    "start_time": "2023-07-07T12:11:18.960Z"
   },
   {
    "duration": 18,
    "start_time": "2023-07-07T12:11:18.983Z"
   },
   {
    "duration": 20,
    "start_time": "2023-07-07T12:11:19.003Z"
   },
   {
    "duration": 687,
    "start_time": "2023-07-07T12:11:19.026Z"
   },
   {
    "duration": 287,
    "start_time": "2023-07-07T12:11:19.716Z"
   },
   {
    "duration": 387,
    "start_time": "2023-07-07T12:11:20.005Z"
   },
   {
    "duration": 238,
    "start_time": "2023-07-07T12:11:20.394Z"
   },
   {
    "duration": 230,
    "start_time": "2023-07-07T12:11:20.634Z"
   },
   {
    "duration": 160,
    "start_time": "2023-07-07T12:11:20.867Z"
   },
   {
    "duration": 8,
    "start_time": "2023-07-07T12:11:21.029Z"
   },
   {
    "duration": 182,
    "start_time": "2023-07-07T12:11:21.039Z"
   },
   {
    "duration": 8,
    "start_time": "2023-07-07T12:11:21.223Z"
   },
   {
    "duration": 363,
    "start_time": "2023-07-07T12:11:21.233Z"
   },
   {
    "duration": 9,
    "start_time": "2023-07-07T12:11:21.598Z"
   },
   {
    "duration": 51,
    "start_time": "2023-07-07T12:11:21.609Z"
   },
   {
    "duration": 14,
    "start_time": "2023-07-07T12:11:21.662Z"
   },
   {
    "duration": 1306,
    "start_time": "2023-07-10T11:57:38.151Z"
   },
   {
    "duration": 145,
    "start_time": "2023-07-10T11:57:39.460Z"
   },
   {
    "duration": 103,
    "start_time": "2023-07-10T11:57:39.607Z"
   },
   {
    "duration": 99,
    "start_time": "2023-07-10T11:57:39.712Z"
   },
   {
    "duration": 12,
    "start_time": "2023-07-10T11:57:39.814Z"
   },
   {
    "duration": 16,
    "start_time": "2023-07-10T11:57:39.828Z"
   },
   {
    "duration": 7,
    "start_time": "2023-07-10T11:57:39.846Z"
   },
   {
    "duration": 20,
    "start_time": "2023-07-10T11:57:39.855Z"
   },
   {
    "duration": 10,
    "start_time": "2023-07-10T11:57:39.877Z"
   },
   {
    "duration": 12,
    "start_time": "2023-07-10T11:57:39.889Z"
   },
   {
    "duration": 17,
    "start_time": "2023-07-10T11:57:39.902Z"
   },
   {
    "duration": 8,
    "start_time": "2023-07-10T11:57:39.921Z"
   },
   {
    "duration": 35,
    "start_time": "2023-07-10T11:57:39.931Z"
   },
   {
    "duration": 16,
    "start_time": "2023-07-10T11:57:39.969Z"
   },
   {
    "duration": 19,
    "start_time": "2023-07-10T11:57:39.986Z"
   },
   {
    "duration": 608,
    "start_time": "2023-07-10T11:57:40.007Z"
   },
   {
    "duration": 208,
    "start_time": "2023-07-10T11:57:40.618Z"
   },
   {
    "duration": 355,
    "start_time": "2023-07-10T11:57:40.828Z"
   },
   {
    "duration": 232,
    "start_time": "2023-07-10T11:57:41.185Z"
   },
   {
    "duration": 210,
    "start_time": "2023-07-10T11:57:41.419Z"
   },
   {
    "duration": 139,
    "start_time": "2023-07-10T11:57:41.631Z"
   },
   {
    "duration": 9,
    "start_time": "2023-07-10T11:57:41.773Z"
   },
   {
    "duration": 154,
    "start_time": "2023-07-10T11:57:41.784Z"
   },
   {
    "duration": 18,
    "start_time": "2023-07-10T11:57:41.940Z"
   },
   {
    "duration": 397,
    "start_time": "2023-07-10T11:57:41.965Z"
   },
   {
    "duration": 18,
    "start_time": "2023-07-10T11:57:42.363Z"
   },
   {
    "duration": 34,
    "start_time": "2023-07-10T11:57:42.383Z"
   },
   {
    "duration": 17,
    "start_time": "2023-07-10T11:57:42.419Z"
   },
   {
    "duration": 163,
    "start_time": "2023-07-10T12:14:48.408Z"
   },
   {
    "duration": 253,
    "start_time": "2023-07-10T12:15:06.245Z"
   },
   {
    "duration": 165,
    "start_time": "2023-07-10T12:15:53.739Z"
   },
   {
    "duration": 5,
    "start_time": "2023-07-10T12:16:29.896Z"
   },
   {
    "duration": 1329,
    "start_time": "2023-07-11T11:51:32.250Z"
   },
   {
    "duration": 160,
    "start_time": "2023-07-11T11:51:33.585Z"
   },
   {
    "duration": 151,
    "start_time": "2023-07-11T11:51:33.747Z"
   },
   {
    "duration": 134,
    "start_time": "2023-07-11T11:51:33.901Z"
   },
   {
    "duration": 14,
    "start_time": "2023-07-11T11:51:34.037Z"
   },
   {
    "duration": 26,
    "start_time": "2023-07-11T11:51:34.053Z"
   },
   {
    "duration": 10,
    "start_time": "2023-07-11T11:51:34.081Z"
   },
   {
    "duration": 10,
    "start_time": "2023-07-11T11:51:34.093Z"
   },
   {
    "duration": 17,
    "start_time": "2023-07-11T11:51:34.105Z"
   },
   {
    "duration": 9,
    "start_time": "2023-07-11T11:51:34.126Z"
   },
   {
    "duration": 19,
    "start_time": "2023-07-11T11:51:34.136Z"
   },
   {
    "duration": 22,
    "start_time": "2023-07-11T11:51:34.157Z"
   },
   {
    "duration": 15,
    "start_time": "2023-07-11T11:51:34.182Z"
   },
   {
    "duration": 20,
    "start_time": "2023-07-11T11:51:34.199Z"
   },
   {
    "duration": 19,
    "start_time": "2023-07-11T11:51:34.222Z"
   },
   {
    "duration": 541,
    "start_time": "2023-07-11T11:51:34.243Z"
   },
   {
    "duration": 195,
    "start_time": "2023-07-11T11:51:34.786Z"
   },
   {
    "duration": 412,
    "start_time": "2023-07-11T11:51:34.984Z"
   },
   {
    "duration": 226,
    "start_time": "2023-07-11T11:51:35.398Z"
   },
   {
    "duration": 210,
    "start_time": "2023-07-11T11:51:35.626Z"
   },
   {
    "duration": 141,
    "start_time": "2023-07-11T11:51:35.837Z"
   },
   {
    "duration": 6,
    "start_time": "2023-07-11T11:51:35.980Z"
   },
   {
    "duration": 162,
    "start_time": "2023-07-11T11:51:35.988Z"
   },
   {
    "duration": 170,
    "start_time": "2023-07-11T11:51:36.152Z"
   },
   {
    "duration": 5,
    "start_time": "2023-07-11T11:51:36.323Z"
   },
   {
    "duration": 396,
    "start_time": "2023-07-11T11:51:36.329Z"
   },
   {
    "duration": 14,
    "start_time": "2023-07-11T11:51:36.727Z"
   },
   {
    "duration": 72,
    "start_time": "2023-07-11T11:51:36.745Z"
   },
   {
    "duration": 16,
    "start_time": "2023-07-11T11:51:36.820Z"
   },
   {
    "duration": 104,
    "start_time": "2023-07-11T12:07:17.906Z"
   },
   {
    "duration": 174,
    "start_time": "2023-07-11T12:07:52.836Z"
   },
   {
    "duration": 95,
    "start_time": "2023-07-11T12:07:53.920Z"
   },
   {
    "duration": 153,
    "start_time": "2023-07-11T12:07:54.188Z"
   },
   {
    "duration": 106,
    "start_time": "2023-07-11T12:07:54.347Z"
   },
   {
    "duration": 11,
    "start_time": "2023-07-11T12:07:54.609Z"
   },
   {
    "duration": 11,
    "start_time": "2023-07-11T12:07:54.746Z"
   },
   {
    "duration": 3,
    "start_time": "2023-07-11T12:07:54.852Z"
   },
   {
    "duration": 10,
    "start_time": "2023-07-11T12:07:55.342Z"
   },
   {
    "duration": 13,
    "start_time": "2023-07-11T12:07:55.514Z"
   },
   {
    "duration": 15,
    "start_time": "2023-07-11T12:07:55.781Z"
   },
   {
    "duration": 10,
    "start_time": "2023-07-11T12:07:55.936Z"
   },
   {
    "duration": 3,
    "start_time": "2023-07-11T12:07:56.638Z"
   },
   {
    "duration": 12,
    "start_time": "2023-07-11T12:07:56.820Z"
   },
   {
    "duration": 15,
    "start_time": "2023-07-11T12:07:56.992Z"
   },
   {
    "duration": 559,
    "start_time": "2023-07-11T12:07:57.186Z"
   },
   {
    "duration": 597,
    "start_time": "2023-07-11T12:09:41.636Z"
   },
   {
    "duration": 467,
    "start_time": "2023-07-11T12:09:50.419Z"
   },
   {
    "duration": 78,
    "start_time": "2023-07-11T12:22:23.622Z"
   },
   {
    "duration": 13,
    "start_time": "2023-07-11T12:23:04.528Z"
   },
   {
    "duration": 12,
    "start_time": "2023-07-11T12:23:20.230Z"
   },
   {
    "duration": 9,
    "start_time": "2023-07-11T12:26:42.788Z"
   },
   {
    "duration": 9,
    "start_time": "2023-07-11T12:30:04.294Z"
   },
   {
    "duration": 23,
    "start_time": "2023-07-11T12:30:12.392Z"
   },
   {
    "duration": 19,
    "start_time": "2023-07-11T12:30:33.470Z"
   },
   {
    "duration": 19,
    "start_time": "2023-07-11T12:31:51.710Z"
   },
   {
    "duration": 23,
    "start_time": "2023-07-11T12:33:14.093Z"
   },
   {
    "duration": 24,
    "start_time": "2023-07-11T12:33:19.832Z"
   },
   {
    "duration": 104,
    "start_time": "2023-07-11T12:33:47.300Z"
   },
   {
    "duration": 98,
    "start_time": "2023-07-11T12:33:52.092Z"
   },
   {
    "duration": 102,
    "start_time": "2023-07-11T12:33:57.567Z"
   },
   {
    "duration": 113,
    "start_time": "2023-07-11T12:34:01.799Z"
   },
   {
    "duration": 17,
    "start_time": "2023-07-11T12:34:06.616Z"
   },
   {
    "duration": 96,
    "start_time": "2023-07-11T12:34:38.837Z"
   },
   {
    "duration": 19,
    "start_time": "2023-07-11T12:35:29.805Z"
   },
   {
    "duration": 19,
    "start_time": "2023-07-11T12:36:30.095Z"
   },
   {
    "duration": 16,
    "start_time": "2023-07-11T12:39:50.947Z"
   },
   {
    "duration": 8,
    "start_time": "2023-07-11T12:40:12.557Z"
   },
   {
    "duration": 17,
    "start_time": "2023-07-11T12:40:19.335Z"
   },
   {
    "duration": 18,
    "start_time": "2023-07-11T12:41:02.104Z"
   },
   {
    "duration": 17,
    "start_time": "2023-07-11T12:41:14.437Z"
   },
   {
    "duration": 13,
    "start_time": "2023-07-11T12:41:32.497Z"
   },
   {
    "duration": 16,
    "start_time": "2023-07-11T12:41:36.799Z"
   },
   {
    "duration": 21,
    "start_time": "2023-07-11T12:41:45.394Z"
   },
   {
    "duration": 22,
    "start_time": "2023-07-11T12:42:24.161Z"
   },
   {
    "duration": 598,
    "start_time": "2023-07-11T12:52:28.128Z"
   },
   {
    "duration": 546,
    "start_time": "2023-07-11T12:52:40.326Z"
   },
   {
    "duration": 12,
    "start_time": "2023-07-11T12:52:45.550Z"
   },
   {
    "duration": 461,
    "start_time": "2023-07-11T12:52:46.293Z"
   },
   {
    "duration": 133,
    "start_time": "2023-07-11T12:54:23.605Z"
   },
   {
    "duration": 111,
    "start_time": "2023-07-11T12:54:51.442Z"
   },
   {
    "duration": 510,
    "start_time": "2023-07-11T12:55:09.136Z"
   },
   {
    "duration": 288,
    "start_time": "2023-07-11T12:56:03.495Z"
   },
   {
    "duration": 214,
    "start_time": "2023-07-11T12:56:05.659Z"
   },
   {
    "duration": 199,
    "start_time": "2023-07-11T12:56:57.921Z"
   },
   {
    "duration": 130,
    "start_time": "2023-07-11T12:59:30.325Z"
   },
   {
    "duration": 235,
    "start_time": "2023-07-11T12:59:35.066Z"
   },
   {
    "duration": 224,
    "start_time": "2023-07-11T13:00:22.053Z"
   },
   {
    "duration": 212,
    "start_time": "2023-07-11T13:01:11.612Z"
   },
   {
    "duration": 319,
    "start_time": "2023-07-11T13:02:47.326Z"
   },
   {
    "duration": 284,
    "start_time": "2023-07-11T13:08:40.325Z"
   },
   {
    "duration": 179,
    "start_time": "2023-07-11T13:09:03.083Z"
   },
   {
    "duration": 6,
    "start_time": "2023-07-11T13:09:31.525Z"
   },
   {
    "duration": 165,
    "start_time": "2023-07-11T13:11:00.335Z"
   },
   {
    "duration": 182,
    "start_time": "2023-07-11T13:11:11.863Z"
   },
   {
    "duration": 209,
    "start_time": "2023-07-11T13:11:24.195Z"
   },
   {
    "duration": 378,
    "start_time": "2023-07-11T13:18:15.758Z"
   },
   {
    "duration": 363,
    "start_time": "2023-07-11T13:18:53.598Z"
   },
   {
    "duration": 127,
    "start_time": "2023-07-11T13:19:01.266Z"
   },
   {
    "duration": 400,
    "start_time": "2023-07-11T13:19:11.465Z"
   },
   {
    "duration": 227,
    "start_time": "2023-07-11T13:19:37.603Z"
   },
   {
    "duration": 152,
    "start_time": "2023-07-11T13:19:40.201Z"
   },
   {
    "duration": 48,
    "start_time": "2023-07-11T13:24:17.909Z"
   },
   {
    "duration": 101,
    "start_time": "2023-07-11T13:24:32.951Z"
   },
   {
    "duration": 59,
    "start_time": "2023-07-11T13:25:03.963Z"
   },
   {
    "duration": 19,
    "start_time": "2023-07-11T13:25:53.933Z"
   },
   {
    "duration": 14,
    "start_time": "2023-07-11T13:26:19.293Z"
   },
   {
    "duration": 14,
    "start_time": "2023-07-11T13:26:37.339Z"
   },
   {
    "duration": 13,
    "start_time": "2023-07-11T13:27:26.045Z"
   },
   {
    "duration": 220,
    "start_time": "2023-07-11T13:27:49.603Z"
   },
   {
    "duration": 109,
    "start_time": "2023-07-11T13:29:26.225Z"
   },
   {
    "duration": 102,
    "start_time": "2023-07-11T13:30:20.690Z"
   },
   {
    "duration": 273,
    "start_time": "2023-07-11T13:30:55.763Z"
   },
   {
    "duration": 231,
    "start_time": "2023-07-11T13:31:14.939Z"
   },
   {
    "duration": 171,
    "start_time": "2023-07-11T13:34:17.525Z"
   },
   {
    "duration": 37,
    "start_time": "2023-07-11T13:34:46.152Z"
   },
   {
    "duration": 19,
    "start_time": "2023-07-11T13:39:19.085Z"
   },
   {
    "duration": 194,
    "start_time": "2023-07-11T13:39:47.230Z"
   },
   {
    "duration": 14,
    "start_time": "2023-07-11T13:40:15.315Z"
   },
   {
    "duration": 9,
    "start_time": "2023-07-11T13:40:16.223Z"
   },
   {
    "duration": 16,
    "start_time": "2023-07-11T13:40:28.243Z"
   },
   {
    "duration": 195,
    "start_time": "2023-07-11T13:40:39.801Z"
   },
   {
    "duration": 13,
    "start_time": "2023-07-11T13:41:33.797Z"
   },
   {
    "duration": 8,
    "start_time": "2023-07-11T13:41:52.815Z"
   },
   {
    "duration": 39,
    "start_time": "2023-07-11T13:41:55.291Z"
   },
   {
    "duration": 27,
    "start_time": "2023-07-11T13:42:45.343Z"
   },
   {
    "duration": 32,
    "start_time": "2023-07-11T13:43:19.456Z"
   },
   {
    "duration": 1716,
    "start_time": "2023-07-11T13:44:19.987Z"
   },
   {
    "duration": 32,
    "start_time": "2023-07-11T13:45:02.263Z"
   },
   {
    "duration": 268,
    "start_time": "2023-07-11T14:00:48.531Z"
   },
   {
    "duration": 434,
    "start_time": "2023-07-11T14:02:11.040Z"
   },
   {
    "duration": 139,
    "start_time": "2023-07-11T14:02:28.490Z"
   },
   {
    "duration": 357,
    "start_time": "2023-07-11T14:02:35.306Z"
   },
   {
    "duration": 365,
    "start_time": "2023-07-11T14:02:49.091Z"
   },
   {
    "duration": 386,
    "start_time": "2023-07-11T14:03:00.759Z"
   },
   {
    "duration": 210,
    "start_time": "2023-07-11T14:04:09.000Z"
   },
   {
    "duration": 1397,
    "start_time": "2023-07-11T14:04:27.003Z"
   },
   {
    "duration": 197,
    "start_time": "2023-07-11T14:04:28.406Z"
   },
   {
    "duration": 151,
    "start_time": "2023-07-11T14:04:28.604Z"
   },
   {
    "duration": 193,
    "start_time": "2023-07-11T14:04:28.756Z"
   },
   {
    "duration": 12,
    "start_time": "2023-07-11T14:04:28.952Z"
   },
   {
    "duration": 35,
    "start_time": "2023-07-11T14:04:28.966Z"
   },
   {
    "duration": 3,
    "start_time": "2023-07-11T14:04:29.006Z"
   },
   {
    "duration": 11,
    "start_time": "2023-07-11T14:04:29.012Z"
   },
   {
    "duration": 12,
    "start_time": "2023-07-11T14:04:29.024Z"
   },
   {
    "duration": 10,
    "start_time": "2023-07-11T14:04:29.039Z"
   },
   {
    "duration": 56,
    "start_time": "2023-07-11T14:04:29.051Z"
   },
   {
    "duration": 7,
    "start_time": "2023-07-11T14:04:29.111Z"
   },
   {
    "duration": 12,
    "start_time": "2023-07-11T14:04:29.120Z"
   },
   {
    "duration": 11,
    "start_time": "2023-07-11T14:04:29.136Z"
   },
   {
    "duration": 91,
    "start_time": "2023-07-11T14:04:29.149Z"
   },
   {
    "duration": 13,
    "start_time": "2023-07-11T14:04:29.242Z"
   },
   {
    "duration": 343,
    "start_time": "2023-07-11T14:04:29.257Z"
   },
   {
    "duration": 335,
    "start_time": "2023-07-11T14:04:29.602Z"
   },
   {
    "duration": 231,
    "start_time": "2023-07-11T14:04:29.939Z"
   },
   {
    "duration": 349,
    "start_time": "2023-07-11T14:04:30.175Z"
   },
   {
    "duration": 295,
    "start_time": "2023-07-11T14:04:30.526Z"
   },
   {
    "duration": 435,
    "start_time": "2023-07-11T14:04:30.823Z"
   },
   {
    "duration": 216,
    "start_time": "2023-07-11T14:04:31.259Z"
   },
   {
    "duration": 12,
    "start_time": "2023-07-11T14:04:31.478Z"
   },
   {
    "duration": 163,
    "start_time": "2023-07-11T14:04:31.493Z"
   },
   {
    "duration": 279,
    "start_time": "2023-07-11T14:04:31.658Z"
   },
   {
    "duration": 5,
    "start_time": "2023-07-11T14:04:31.939Z"
   },
   {
    "duration": 255,
    "start_time": "2023-07-11T14:04:31.946Z"
   },
   {
    "duration": 206,
    "start_time": "2023-07-11T14:04:32.204Z"
   },
   {
    "duration": 26,
    "start_time": "2023-07-11T14:04:32.416Z"
   },
   {
    "duration": 14,
    "start_time": "2023-07-11T14:04:32.445Z"
   },
   {
    "duration": 29,
    "start_time": "2023-07-11T14:04:32.469Z"
   },
   {
    "duration": 26,
    "start_time": "2023-07-11T14:04:32.501Z"
   },
   {
    "duration": 45,
    "start_time": "2023-07-11T14:04:32.529Z"
   },
   {
    "duration": 39,
    "start_time": "2023-07-11T14:04:32.578Z"
   },
   {
    "duration": 19,
    "start_time": "2023-07-11T14:04:32.620Z"
   },
   {
    "duration": 18,
    "start_time": "2023-07-11T14:04:32.641Z"
   },
   {
    "duration": 206,
    "start_time": "2023-07-11T14:05:15.132Z"
   },
   {
    "duration": 352,
    "start_time": "2023-07-11T14:05:36.194Z"
   },
   {
    "duration": 170,
    "start_time": "2023-07-11T14:05:39.457Z"
   },
   {
    "duration": 6,
    "start_time": "2023-07-11T14:05:41.599Z"
   },
   {
    "duration": 190,
    "start_time": "2023-07-11T14:07:43.110Z"
   },
   {
    "duration": 142,
    "start_time": "2023-07-11T14:08:45.097Z"
   },
   {
    "duration": 9,
    "start_time": "2023-07-11T14:44:22.453Z"
   },
   {
    "duration": 109,
    "start_time": "2023-07-11T14:50:56.989Z"
   },
   {
    "duration": 6,
    "start_time": "2023-07-11T14:51:03.588Z"
   },
   {
    "duration": 10,
    "start_time": "2023-07-11T15:31:06.255Z"
   },
   {
    "duration": 152,
    "start_time": "2023-07-11T15:31:20.007Z"
   },
   {
    "duration": 180,
    "start_time": "2023-07-11T15:31:28.756Z"
   },
   {
    "duration": 260,
    "start_time": "2023-07-11T15:32:02.202Z"
   },
   {
    "duration": 1356,
    "start_time": "2023-07-12T11:58:49.735Z"
   },
   {
    "duration": 115,
    "start_time": "2023-07-12T11:58:51.093Z"
   },
   {
    "duration": 118,
    "start_time": "2023-07-12T11:58:51.210Z"
   },
   {
    "duration": 102,
    "start_time": "2023-07-12T11:58:51.330Z"
   },
   {
    "duration": 14,
    "start_time": "2023-07-12T11:58:51.434Z"
   },
   {
    "duration": 15,
    "start_time": "2023-07-12T11:58:51.450Z"
   },
   {
    "duration": 12,
    "start_time": "2023-07-12T11:58:51.467Z"
   },
   {
    "duration": 10,
    "start_time": "2023-07-12T11:58:51.481Z"
   },
   {
    "duration": 10,
    "start_time": "2023-07-12T11:58:51.492Z"
   },
   {
    "duration": 7,
    "start_time": "2023-07-12T11:58:51.505Z"
   },
   {
    "duration": 13,
    "start_time": "2023-07-12T11:58:51.514Z"
   },
   {
    "duration": 31,
    "start_time": "2023-07-12T11:58:51.529Z"
   },
   {
    "duration": 19,
    "start_time": "2023-07-12T11:58:51.561Z"
   },
   {
    "duration": 13,
    "start_time": "2023-07-12T11:58:51.583Z"
   },
   {
    "duration": 78,
    "start_time": "2023-07-12T11:58:51.598Z"
   },
   {
    "duration": 19,
    "start_time": "2023-07-12T11:58:51.679Z"
   },
   {
    "duration": 308,
    "start_time": "2023-07-12T11:58:51.700Z"
   },
   {
    "duration": 308,
    "start_time": "2023-07-12T11:58:52.010Z"
   },
   {
    "duration": 211,
    "start_time": "2023-07-12T11:58:52.320Z"
   },
   {
    "duration": 369,
    "start_time": "2023-07-12T11:58:52.533Z"
   },
   {
    "duration": 260,
    "start_time": "2023-07-12T11:58:52.904Z"
   },
   {
    "duration": 328,
    "start_time": "2023-07-12T11:58:53.167Z"
   },
   {
    "duration": 181,
    "start_time": "2023-07-12T11:58:53.497Z"
   },
   {
    "duration": 5,
    "start_time": "2023-07-12T11:58:53.680Z"
   },
   {
    "duration": 199,
    "start_time": "2023-07-12T11:58:53.687Z"
   },
   {
    "duration": 280,
    "start_time": "2023-07-12T11:58:53.888Z"
   },
   {
    "duration": 6,
    "start_time": "2023-07-12T11:58:54.170Z"
   },
   {
    "duration": 280,
    "start_time": "2023-07-12T11:58:54.181Z"
   },
   {
    "duration": 209,
    "start_time": "2023-07-12T11:58:54.463Z"
   },
   {
    "duration": 25,
    "start_time": "2023-07-12T11:58:54.675Z"
   },
   {
    "duration": 13,
    "start_time": "2023-07-12T11:58:54.702Z"
   },
   {
    "duration": 8,
    "start_time": "2023-07-12T11:58:54.717Z"
   },
   {
    "duration": 37,
    "start_time": "2023-07-12T11:58:54.726Z"
   },
   {
    "duration": 28,
    "start_time": "2023-07-12T11:58:54.765Z"
   },
   {
    "duration": 21,
    "start_time": "2023-07-12T11:58:54.795Z"
   },
   {
    "duration": 42,
    "start_time": "2023-07-12T11:58:54.818Z"
   },
   {
    "duration": 11,
    "start_time": "2023-07-12T11:58:54.862Z"
   },
   {
    "duration": 1179,
    "start_time": "2023-07-12T12:06:54.102Z"
   },
   {
    "duration": 96,
    "start_time": "2023-07-12T12:06:55.283Z"
   },
   {
    "duration": 34,
    "start_time": "2023-07-12T12:06:55.381Z"
   },
   {
    "duration": 70,
    "start_time": "2023-07-12T12:06:55.416Z"
   },
   {
    "duration": 12,
    "start_time": "2023-07-12T12:06:55.489Z"
   },
   {
    "duration": 11,
    "start_time": "2023-07-12T12:06:55.502Z"
   },
   {
    "duration": 5,
    "start_time": "2023-07-12T12:06:55.514Z"
   },
   {
    "duration": 11,
    "start_time": "2023-07-12T12:06:55.520Z"
   },
   {
    "duration": 18,
    "start_time": "2023-07-12T12:06:55.532Z"
   },
   {
    "duration": 24,
    "start_time": "2023-07-12T12:06:55.552Z"
   },
   {
    "duration": 11,
    "start_time": "2023-07-12T12:06:55.578Z"
   },
   {
    "duration": 3,
    "start_time": "2023-07-12T12:06:55.591Z"
   },
   {
    "duration": 16,
    "start_time": "2023-07-12T12:06:55.596Z"
   },
   {
    "duration": 12,
    "start_time": "2023-07-12T12:06:55.614Z"
   },
   {
    "duration": 65,
    "start_time": "2023-07-12T12:06:55.628Z"
   },
   {
    "duration": 14,
    "start_time": "2023-07-12T12:06:55.695Z"
   },
   {
    "duration": 291,
    "start_time": "2023-07-12T12:06:55.711Z"
   },
   {
    "duration": 285,
    "start_time": "2023-07-12T12:06:56.003Z"
   },
   {
    "duration": 209,
    "start_time": "2023-07-12T12:06:56.290Z"
   },
   {
    "duration": 286,
    "start_time": "2023-07-12T12:06:56.501Z"
   },
   {
    "duration": 224,
    "start_time": "2023-07-12T12:06:56.789Z"
   },
   {
    "duration": 314,
    "start_time": "2023-07-12T12:06:57.015Z"
   },
   {
    "duration": 160,
    "start_time": "2023-07-12T12:06:57.331Z"
   },
   {
    "duration": 4,
    "start_time": "2023-07-12T12:06:57.493Z"
   },
   {
    "duration": 169,
    "start_time": "2023-07-12T12:06:57.498Z"
   },
   {
    "duration": 232,
    "start_time": "2023-07-12T12:06:57.669Z"
   },
   {
    "duration": 5,
    "start_time": "2023-07-12T12:06:57.903Z"
   },
   {
    "duration": 247,
    "start_time": "2023-07-12T12:06:57.909Z"
   },
   {
    "duration": 156,
    "start_time": "2023-07-12T12:06:58.159Z"
   },
   {
    "duration": 21,
    "start_time": "2023-07-12T12:06:58.316Z"
   },
   {
    "duration": 22,
    "start_time": "2023-07-12T12:06:58.339Z"
   },
   {
    "duration": 8,
    "start_time": "2023-07-12T12:06:58.363Z"
   },
   {
    "duration": 7,
    "start_time": "2023-07-12T12:06:58.373Z"
   },
   {
    "duration": 31,
    "start_time": "2023-07-12T12:06:58.382Z"
   },
   {
    "duration": 45,
    "start_time": "2023-07-12T12:06:58.414Z"
   },
   {
    "duration": 14,
    "start_time": "2023-07-12T12:06:58.461Z"
   },
   {
    "duration": 9,
    "start_time": "2023-07-12T12:06:58.477Z"
   },
   {
    "duration": 331,
    "start_time": "2023-07-12T12:21:54.600Z"
   },
   {
    "duration": 215,
    "start_time": "2023-07-12T12:22:41.403Z"
   },
   {
    "duration": 231,
    "start_time": "2023-07-12T12:22:50.958Z"
   },
   {
    "duration": 225,
    "start_time": "2023-07-12T12:22:59.702Z"
   },
   {
    "duration": 235,
    "start_time": "2023-07-12T12:23:07.372Z"
   },
   {
    "duration": 125,
    "start_time": "2023-07-12T12:29:15.891Z"
   },
   {
    "duration": 223,
    "start_time": "2023-07-12T12:29:22.794Z"
   },
   {
    "duration": 125,
    "start_time": "2023-07-12T12:30:33.841Z"
   },
   {
    "duration": 131,
    "start_time": "2023-07-12T12:32:03.888Z"
   },
   {
    "duration": 111,
    "start_time": "2023-07-12T12:32:10.169Z"
   },
   {
    "duration": 240,
    "start_time": "2023-07-12T12:32:45.552Z"
   },
   {
    "duration": 347,
    "start_time": "2023-07-12T12:36:43.607Z"
   },
   {
    "duration": 350,
    "start_time": "2023-07-12T12:37:03.355Z"
   },
   {
    "duration": 331,
    "start_time": "2023-07-12T12:38:46.249Z"
   },
   {
    "duration": 420,
    "start_time": "2023-07-12T12:41:02.911Z"
   },
   {
    "duration": 189,
    "start_time": "2023-07-12T12:53:14.039Z"
   },
   {
    "duration": 165,
    "start_time": "2023-07-12T12:53:29.933Z"
   },
   {
    "duration": 180,
    "start_time": "2023-07-12T12:53:54.260Z"
   },
   {
    "duration": 173,
    "start_time": "2023-07-12T13:05:21.298Z"
   },
   {
    "duration": 15,
    "start_time": "2023-07-12T13:14:07.266Z"
   },
   {
    "duration": 12,
    "start_time": "2023-07-12T13:24:17.509Z"
   },
   {
    "duration": 8,
    "start_time": "2023-07-12T13:25:08.308Z"
   },
   {
    "duration": 11,
    "start_time": "2023-07-12T13:25:14.002Z"
   },
   {
    "duration": 28,
    "start_time": "2023-07-12T13:25:44.989Z"
   },
   {
    "duration": 28,
    "start_time": "2023-07-12T13:26:11.574Z"
   },
   {
    "duration": 15,
    "start_time": "2023-07-12T13:31:03.802Z"
   },
   {
    "duration": 21,
    "start_time": "2023-07-12T13:45:14.973Z"
   },
   {
    "duration": 12,
    "start_time": "2023-07-12T13:46:56.482Z"
   },
   {
    "duration": 30,
    "start_time": "2023-07-12T13:47:57.069Z"
   },
   {
    "duration": 11,
    "start_time": "2023-07-12T13:48:44.974Z"
   },
   {
    "duration": 1331,
    "start_time": "2023-07-12T14:12:08.320Z"
   },
   {
    "duration": 126,
    "start_time": "2023-07-12T14:12:09.653Z"
   },
   {
    "duration": 130,
    "start_time": "2023-07-12T14:12:09.781Z"
   },
   {
    "duration": 82,
    "start_time": "2023-07-12T14:12:09.913Z"
   },
   {
    "duration": 12,
    "start_time": "2023-07-12T14:12:09.997Z"
   },
   {
    "duration": 43,
    "start_time": "2023-07-12T14:12:10.011Z"
   },
   {
    "duration": 34,
    "start_time": "2023-07-12T14:12:10.057Z"
   },
   {
    "duration": 33,
    "start_time": "2023-07-12T14:12:10.093Z"
   },
   {
    "duration": 13,
    "start_time": "2023-07-12T14:12:10.128Z"
   },
   {
    "duration": 14,
    "start_time": "2023-07-12T14:12:10.144Z"
   },
   {
    "duration": 65,
    "start_time": "2023-07-12T14:12:10.160Z"
   },
   {
    "duration": 161,
    "start_time": "2023-07-12T14:12:10.227Z"
   },
   {
    "duration": 87,
    "start_time": "2023-07-12T14:12:10.390Z"
   },
   {
    "duration": 49,
    "start_time": "2023-07-12T14:12:10.479Z"
   },
   {
    "duration": 166,
    "start_time": "2023-07-12T14:12:10.530Z"
   },
   {
    "duration": 16,
    "start_time": "2023-07-12T14:12:10.698Z"
   },
   {
    "duration": 308,
    "start_time": "2023-07-12T14:12:10.716Z"
   },
   {
    "duration": 323,
    "start_time": "2023-07-12T14:12:11.026Z"
   },
   {
    "duration": 229,
    "start_time": "2023-07-12T14:12:11.358Z"
   },
   {
    "duration": 298,
    "start_time": "2023-07-12T14:12:11.589Z"
   },
   {
    "duration": 107,
    "start_time": "2023-07-12T14:12:11.889Z"
   },
   {
    "duration": 1,
    "start_time": "2023-07-12T14:12:11.998Z"
   },
   {
    "duration": 0,
    "start_time": "2023-07-12T14:12:12.001Z"
   },
   {
    "duration": 0,
    "start_time": "2023-07-12T14:12:12.003Z"
   },
   {
    "duration": 0,
    "start_time": "2023-07-12T14:12:12.004Z"
   },
   {
    "duration": 0,
    "start_time": "2023-07-12T14:12:12.006Z"
   },
   {
    "duration": 0,
    "start_time": "2023-07-12T14:12:12.007Z"
   },
   {
    "duration": 0,
    "start_time": "2023-07-12T14:12:12.010Z"
   },
   {
    "duration": 0,
    "start_time": "2023-07-12T14:12:12.011Z"
   },
   {
    "duration": 0,
    "start_time": "2023-07-12T14:12:12.013Z"
   },
   {
    "duration": 0,
    "start_time": "2023-07-12T14:12:12.014Z"
   },
   {
    "duration": 0,
    "start_time": "2023-07-12T14:12:12.016Z"
   },
   {
    "duration": 0,
    "start_time": "2023-07-12T14:12:12.018Z"
   },
   {
    "duration": 0,
    "start_time": "2023-07-12T14:12:12.019Z"
   },
   {
    "duration": 0,
    "start_time": "2023-07-12T14:12:12.021Z"
   },
   {
    "duration": 0,
    "start_time": "2023-07-12T14:12:12.022Z"
   },
   {
    "duration": 0,
    "start_time": "2023-07-12T14:12:12.024Z"
   },
   {
    "duration": 113,
    "start_time": "2023-07-12T14:14:24.111Z"
   },
   {
    "duration": 11,
    "start_time": "2023-07-12T14:19:04.670Z"
   },
   {
    "duration": 13,
    "start_time": "2023-07-12T14:19:44.996Z"
   },
   {
    "duration": 14,
    "start_time": "2023-07-12T14:19:46.191Z"
   },
   {
    "duration": 21,
    "start_time": "2023-07-12T14:19:49.739Z"
   },
   {
    "duration": 1147,
    "start_time": "2023-07-12T14:19:55.400Z"
   },
   {
    "duration": 53,
    "start_time": "2023-07-12T14:19:56.549Z"
   },
   {
    "duration": 78,
    "start_time": "2023-07-12T14:19:56.604Z"
   },
   {
    "duration": 39,
    "start_time": "2023-07-12T14:19:56.685Z"
   },
   {
    "duration": 23,
    "start_time": "2023-07-12T14:19:56.727Z"
   },
   {
    "duration": 15,
    "start_time": "2023-07-12T14:19:56.752Z"
   },
   {
    "duration": 5,
    "start_time": "2023-07-12T14:19:56.769Z"
   },
   {
    "duration": 20,
    "start_time": "2023-07-12T14:19:56.776Z"
   },
   {
    "duration": 26,
    "start_time": "2023-07-12T14:19:56.798Z"
   },
   {
    "duration": 13,
    "start_time": "2023-07-12T14:19:56.826Z"
   },
   {
    "duration": 29,
    "start_time": "2023-07-12T14:19:56.841Z"
   },
   {
    "duration": 20,
    "start_time": "2023-07-12T14:19:56.872Z"
   },
   {
    "duration": 16,
    "start_time": "2023-07-12T14:19:56.894Z"
   },
   {
    "duration": 105,
    "start_time": "2023-07-12T14:19:56.915Z"
   },
   {
    "duration": 15,
    "start_time": "2023-07-12T14:19:57.021Z"
   },
   {
    "duration": 323,
    "start_time": "2023-07-12T14:19:57.038Z"
   },
   {
    "duration": 311,
    "start_time": "2023-07-12T14:19:57.362Z"
   },
   {
    "duration": 223,
    "start_time": "2023-07-12T14:19:57.675Z"
   },
   {
    "duration": 292,
    "start_time": "2023-07-12T14:19:57.900Z"
   },
   {
    "duration": 133,
    "start_time": "2023-07-12T14:19:58.194Z"
   },
   {
    "duration": 0,
    "start_time": "2023-07-12T14:19:58.330Z"
   },
   {
    "duration": 0,
    "start_time": "2023-07-12T14:19:58.331Z"
   },
   {
    "duration": 0,
    "start_time": "2023-07-12T14:19:58.332Z"
   },
   {
    "duration": 0,
    "start_time": "2023-07-12T14:19:58.334Z"
   },
   {
    "duration": 0,
    "start_time": "2023-07-12T14:19:58.335Z"
   },
   {
    "duration": 0,
    "start_time": "2023-07-12T14:19:58.336Z"
   },
   {
    "duration": 0,
    "start_time": "2023-07-12T14:19:58.338Z"
   },
   {
    "duration": 0,
    "start_time": "2023-07-12T14:19:58.338Z"
   },
   {
    "duration": 0,
    "start_time": "2023-07-12T14:19:58.340Z"
   },
   {
    "duration": 0,
    "start_time": "2023-07-12T14:19:58.341Z"
   },
   {
    "duration": 0,
    "start_time": "2023-07-12T14:19:58.342Z"
   },
   {
    "duration": 0,
    "start_time": "2023-07-12T14:19:58.343Z"
   },
   {
    "duration": 0,
    "start_time": "2023-07-12T14:19:58.344Z"
   },
   {
    "duration": 0,
    "start_time": "2023-07-12T14:19:58.345Z"
   },
   {
    "duration": 0,
    "start_time": "2023-07-12T14:19:58.346Z"
   },
   {
    "duration": 0,
    "start_time": "2023-07-12T14:19:58.347Z"
   },
   {
    "duration": 1252,
    "start_time": "2023-07-12T14:25:39.001Z"
   },
   {
    "duration": 43,
    "start_time": "2023-07-12T14:25:40.255Z"
   },
   {
    "duration": 64,
    "start_time": "2023-07-12T14:25:40.300Z"
   },
   {
    "duration": 33,
    "start_time": "2023-07-12T14:25:40.366Z"
   },
   {
    "duration": 15,
    "start_time": "2023-07-12T14:25:40.402Z"
   },
   {
    "duration": 27,
    "start_time": "2023-07-12T14:25:40.419Z"
   },
   {
    "duration": 25,
    "start_time": "2023-07-12T14:25:40.448Z"
   },
   {
    "duration": 18,
    "start_time": "2023-07-12T14:25:40.474Z"
   },
   {
    "duration": 21,
    "start_time": "2023-07-12T14:25:40.494Z"
   },
   {
    "duration": 20,
    "start_time": "2023-07-12T14:25:40.517Z"
   },
   {
    "duration": 30,
    "start_time": "2023-07-12T14:25:40.539Z"
   },
   {
    "duration": 29,
    "start_time": "2023-07-12T14:25:40.572Z"
   },
   {
    "duration": 13,
    "start_time": "2023-07-12T14:25:40.604Z"
   },
   {
    "duration": 80,
    "start_time": "2023-07-12T14:25:40.621Z"
   },
   {
    "duration": 14,
    "start_time": "2023-07-12T14:25:40.703Z"
   },
   {
    "duration": 321,
    "start_time": "2023-07-12T14:25:40.719Z"
   },
   {
    "duration": 319,
    "start_time": "2023-07-12T14:25:41.042Z"
   },
   {
    "duration": 225,
    "start_time": "2023-07-12T14:25:41.362Z"
   },
   {
    "duration": 292,
    "start_time": "2023-07-12T14:25:41.589Z"
   },
   {
    "duration": 112,
    "start_time": "2023-07-12T14:25:41.883Z"
   },
   {
    "duration": 0,
    "start_time": "2023-07-12T14:25:41.997Z"
   },
   {
    "duration": 0,
    "start_time": "2023-07-12T14:25:41.998Z"
   },
   {
    "duration": 0,
    "start_time": "2023-07-12T14:25:42.000Z"
   },
   {
    "duration": 0,
    "start_time": "2023-07-12T14:25:42.001Z"
   },
   {
    "duration": 0,
    "start_time": "2023-07-12T14:25:42.003Z"
   },
   {
    "duration": 0,
    "start_time": "2023-07-12T14:25:42.005Z"
   },
   {
    "duration": 0,
    "start_time": "2023-07-12T14:25:42.006Z"
   },
   {
    "duration": 0,
    "start_time": "2023-07-12T14:25:42.008Z"
   },
   {
    "duration": 0,
    "start_time": "2023-07-12T14:25:42.010Z"
   },
   {
    "duration": 0,
    "start_time": "2023-07-12T14:25:42.012Z"
   },
   {
    "duration": 0,
    "start_time": "2023-07-12T14:25:42.013Z"
   },
   {
    "duration": 0,
    "start_time": "2023-07-12T14:25:42.015Z"
   },
   {
    "duration": 0,
    "start_time": "2023-07-12T14:25:42.016Z"
   },
   {
    "duration": 0,
    "start_time": "2023-07-12T14:25:42.018Z"
   },
   {
    "duration": 0,
    "start_time": "2023-07-12T14:25:42.019Z"
   },
   {
    "duration": 0,
    "start_time": "2023-07-12T14:25:42.021Z"
   },
   {
    "duration": 1245,
    "start_time": "2023-07-12T14:27:00.262Z"
   },
   {
    "duration": 77,
    "start_time": "2023-07-12T14:27:01.509Z"
   },
   {
    "duration": 81,
    "start_time": "2023-07-12T14:27:01.587Z"
   },
   {
    "duration": 36,
    "start_time": "2023-07-12T14:27:01.671Z"
   },
   {
    "duration": 32,
    "start_time": "2023-07-12T14:27:01.709Z"
   },
   {
    "duration": 51,
    "start_time": "2023-07-12T14:27:01.743Z"
   },
   {
    "duration": 69,
    "start_time": "2023-07-12T14:27:01.796Z"
   },
   {
    "duration": 102,
    "start_time": "2023-07-12T14:27:01.867Z"
   },
   {
    "duration": 64,
    "start_time": "2023-07-12T14:27:01.971Z"
   },
   {
    "duration": 89,
    "start_time": "2023-07-12T14:27:02.038Z"
   },
   {
    "duration": 37,
    "start_time": "2023-07-12T14:27:02.130Z"
   },
   {
    "duration": 46,
    "start_time": "2023-07-12T14:27:02.169Z"
   },
   {
    "duration": 41,
    "start_time": "2023-07-12T14:27:02.217Z"
   },
   {
    "duration": 103,
    "start_time": "2023-07-12T14:27:02.260Z"
   },
   {
    "duration": 18,
    "start_time": "2023-07-12T14:27:02.365Z"
   },
   {
    "duration": 369,
    "start_time": "2023-07-12T14:27:02.385Z"
   },
   {
    "duration": 325,
    "start_time": "2023-07-12T14:27:02.758Z"
   },
   {
    "duration": 239,
    "start_time": "2023-07-12T14:27:03.086Z"
   },
   {
    "duration": 349,
    "start_time": "2023-07-12T14:27:03.326Z"
   },
   {
    "duration": 375,
    "start_time": "2023-07-12T14:27:03.677Z"
   },
   {
    "duration": 388,
    "start_time": "2023-07-12T14:27:04.054Z"
   },
   {
    "duration": 168,
    "start_time": "2023-07-12T14:27:04.443Z"
   },
   {
    "duration": 5,
    "start_time": "2023-07-12T14:27:04.613Z"
   },
   {
    "duration": 192,
    "start_time": "2023-07-12T14:27:04.620Z"
   },
   {
    "duration": 4,
    "start_time": "2023-07-12T14:27:04.814Z"
   },
   {
    "duration": 355,
    "start_time": "2023-07-12T14:27:04.821Z"
   },
   {
    "duration": 230,
    "start_time": "2023-07-12T14:27:05.178Z"
   },
   {
    "duration": 23,
    "start_time": "2023-07-12T14:27:05.412Z"
   },
   {
    "duration": 28,
    "start_time": "2023-07-12T14:27:05.437Z"
   },
   {
    "duration": 11,
    "start_time": "2023-07-12T14:27:05.467Z"
   },
   {
    "duration": 10,
    "start_time": "2023-07-12T14:27:05.480Z"
   },
   {
    "duration": 36,
    "start_time": "2023-07-12T14:27:05.492Z"
   },
   {
    "duration": 58,
    "start_time": "2023-07-12T14:27:05.531Z"
   },
   {
    "duration": 21,
    "start_time": "2023-07-12T14:27:05.591Z"
   },
   {
    "duration": 29,
    "start_time": "2023-07-12T14:27:05.614Z"
   },
   {
    "duration": 1313,
    "start_time": "2023-07-12T14:42:33.798Z"
   },
   {
    "duration": 64,
    "start_time": "2023-07-12T14:42:35.113Z"
   },
   {
    "duration": 45,
    "start_time": "2023-07-12T14:42:35.178Z"
   },
   {
    "duration": 43,
    "start_time": "2023-07-12T14:42:35.225Z"
   },
   {
    "duration": 11,
    "start_time": "2023-07-12T14:42:35.271Z"
   },
   {
    "duration": 12,
    "start_time": "2023-07-12T14:42:35.283Z"
   },
   {
    "duration": 15,
    "start_time": "2023-07-12T14:42:35.296Z"
   },
   {
    "duration": 10,
    "start_time": "2023-07-12T14:42:35.313Z"
   },
   {
    "duration": 16,
    "start_time": "2023-07-12T14:42:35.325Z"
   },
   {
    "duration": 15,
    "start_time": "2023-07-12T14:42:35.342Z"
   },
   {
    "duration": 12,
    "start_time": "2023-07-12T14:42:35.358Z"
   },
   {
    "duration": 16,
    "start_time": "2023-07-12T14:42:35.371Z"
   },
   {
    "duration": 10,
    "start_time": "2023-07-12T14:42:35.389Z"
   },
   {
    "duration": 66,
    "start_time": "2023-07-12T14:42:35.402Z"
   },
   {
    "duration": 13,
    "start_time": "2023-07-12T14:42:35.470Z"
   },
   {
    "duration": 286,
    "start_time": "2023-07-12T14:42:35.484Z"
   },
   {
    "duration": 298,
    "start_time": "2023-07-12T14:42:35.772Z"
   },
   {
    "duration": 208,
    "start_time": "2023-07-12T14:42:36.072Z"
   },
   {
    "duration": 319,
    "start_time": "2023-07-12T14:42:36.281Z"
   },
   {
    "duration": 313,
    "start_time": "2023-07-12T14:42:36.602Z"
   },
   {
    "duration": 315,
    "start_time": "2023-07-12T14:42:36.916Z"
   },
   {
    "duration": 157,
    "start_time": "2023-07-12T14:42:37.233Z"
   },
   {
    "duration": 5,
    "start_time": "2023-07-12T14:42:37.392Z"
   },
   {
    "duration": 174,
    "start_time": "2023-07-12T14:42:37.399Z"
   },
   {
    "duration": 5,
    "start_time": "2023-07-12T14:42:37.574Z"
   },
   {
    "duration": 323,
    "start_time": "2023-07-12T14:42:37.580Z"
   },
   {
    "duration": 148,
    "start_time": "2023-07-12T14:42:37.905Z"
   },
   {
    "duration": 21,
    "start_time": "2023-07-12T14:42:38.057Z"
   },
   {
    "duration": 59,
    "start_time": "2023-07-12T14:42:38.080Z"
   },
   {
    "duration": 22,
    "start_time": "2023-07-12T14:42:38.141Z"
   },
   {
    "duration": 34,
    "start_time": "2023-07-12T14:42:38.164Z"
   },
   {
    "duration": 41,
    "start_time": "2023-07-12T14:42:38.199Z"
   },
   {
    "duration": 22,
    "start_time": "2023-07-12T14:42:38.243Z"
   },
   {
    "duration": 15,
    "start_time": "2023-07-12T14:42:38.267Z"
   },
   {
    "duration": 10,
    "start_time": "2023-07-12T14:42:38.284Z"
   },
   {
    "duration": 104,
    "start_time": "2023-07-12T15:40:56.197Z"
   },
   {
    "duration": 12,
    "start_time": "2023-07-12T15:41:30.744Z"
   },
   {
    "duration": 106,
    "start_time": "2023-07-12T15:42:55.860Z"
   },
   {
    "duration": 10,
    "start_time": "2023-07-12T15:43:02.759Z"
   },
   {
    "duration": 109,
    "start_time": "2023-07-12T15:43:11.765Z"
   },
   {
    "duration": 9,
    "start_time": "2023-07-12T15:43:22.774Z"
   },
   {
    "duration": 29,
    "start_time": "2023-07-12T15:43:29.703Z"
   },
   {
    "duration": 7,
    "start_time": "2023-07-12T15:43:42.042Z"
   },
   {
    "duration": 1190,
    "start_time": "2023-07-12T15:43:47.838Z"
   },
   {
    "duration": 134,
    "start_time": "2023-07-12T15:43:49.030Z"
   },
   {
    "duration": 60,
    "start_time": "2023-07-12T15:43:49.166Z"
   },
   {
    "duration": 124,
    "start_time": "2023-07-12T15:43:49.228Z"
   },
   {
    "duration": 11,
    "start_time": "2023-07-12T15:43:49.354Z"
   },
   {
    "duration": 12,
    "start_time": "2023-07-12T15:43:49.367Z"
   },
   {
    "duration": 10,
    "start_time": "2023-07-12T15:43:49.381Z"
   },
   {
    "duration": 18,
    "start_time": "2023-07-12T15:43:49.392Z"
   },
   {
    "duration": 12,
    "start_time": "2023-07-12T15:43:49.412Z"
   },
   {
    "duration": 32,
    "start_time": "2023-07-12T15:43:49.425Z"
   },
   {
    "duration": 22,
    "start_time": "2023-07-12T15:43:49.458Z"
   },
   {
    "duration": 28,
    "start_time": "2023-07-12T15:43:49.481Z"
   },
   {
    "duration": 25,
    "start_time": "2023-07-12T15:43:49.511Z"
   },
   {
    "duration": 14,
    "start_time": "2023-07-12T15:43:49.539Z"
   },
   {
    "duration": 19,
    "start_time": "2023-07-12T15:43:49.554Z"
   },
   {
    "duration": 31,
    "start_time": "2023-07-12T15:43:49.575Z"
   },
   {
    "duration": 73,
    "start_time": "2023-07-12T15:43:49.607Z"
   },
   {
    "duration": 12,
    "start_time": "2023-07-12T15:43:49.681Z"
   },
   {
    "duration": 281,
    "start_time": "2023-07-12T15:43:49.695Z"
   },
   {
    "duration": 294,
    "start_time": "2023-07-12T15:43:49.978Z"
   },
   {
    "duration": 210,
    "start_time": "2023-07-12T15:43:50.273Z"
   },
   {
    "duration": 284,
    "start_time": "2023-07-12T15:43:50.485Z"
   },
   {
    "duration": 315,
    "start_time": "2023-07-12T15:43:50.771Z"
   },
   {
    "duration": 296,
    "start_time": "2023-07-12T15:43:51.087Z"
   },
   {
    "duration": 152,
    "start_time": "2023-07-12T15:43:51.385Z"
   },
   {
    "duration": 4,
    "start_time": "2023-07-12T15:43:51.539Z"
   },
   {
    "duration": 154,
    "start_time": "2023-07-12T15:43:51.544Z"
   },
   {
    "duration": 4,
    "start_time": "2023-07-12T15:43:51.700Z"
   },
   {
    "duration": 307,
    "start_time": "2023-07-12T15:43:51.705Z"
   },
   {
    "duration": 184,
    "start_time": "2023-07-12T15:43:52.013Z"
   },
   {
    "duration": 21,
    "start_time": "2023-07-12T15:43:52.199Z"
   },
   {
    "duration": 10,
    "start_time": "2023-07-12T15:43:52.221Z"
   },
   {
    "duration": 28,
    "start_time": "2023-07-12T15:43:52.233Z"
   },
   {
    "duration": 8,
    "start_time": "2023-07-12T15:43:52.263Z"
   },
   {
    "duration": 28,
    "start_time": "2023-07-12T15:43:52.272Z"
   },
   {
    "duration": 21,
    "start_time": "2023-07-12T15:43:52.302Z"
   },
   {
    "duration": 37,
    "start_time": "2023-07-12T15:43:52.324Z"
   },
   {
    "duration": 11,
    "start_time": "2023-07-12T15:43:52.363Z"
   },
   {
    "duration": 1187,
    "start_time": "2023-07-12T15:47:29.673Z"
   },
   {
    "duration": 42,
    "start_time": "2023-07-12T15:47:30.862Z"
   },
   {
    "duration": 45,
    "start_time": "2023-07-12T15:47:30.906Z"
   },
   {
    "duration": 33,
    "start_time": "2023-07-12T15:47:30.953Z"
   },
   {
    "duration": 13,
    "start_time": "2023-07-12T15:47:30.988Z"
   },
   {
    "duration": 57,
    "start_time": "2023-07-12T15:47:31.003Z"
   },
   {
    "duration": 33,
    "start_time": "2023-07-12T15:47:31.062Z"
   },
   {
    "duration": 60,
    "start_time": "2023-07-12T15:47:31.097Z"
   },
   {
    "duration": 49,
    "start_time": "2023-07-12T15:47:31.158Z"
   },
   {
    "duration": 48,
    "start_time": "2023-07-12T15:47:31.209Z"
   },
   {
    "duration": 54,
    "start_time": "2023-07-12T15:47:31.259Z"
   },
   {
    "duration": 46,
    "start_time": "2023-07-12T15:47:31.315Z"
   },
   {
    "duration": 32,
    "start_time": "2023-07-12T15:47:31.362Z"
   },
   {
    "duration": 21,
    "start_time": "2023-07-12T15:47:31.397Z"
   },
   {
    "duration": 44,
    "start_time": "2023-07-12T15:47:31.420Z"
   },
   {
    "duration": 103,
    "start_time": "2023-07-12T15:47:31.466Z"
   },
   {
    "duration": 84,
    "start_time": "2023-07-12T15:47:31.571Z"
   },
   {
    "duration": 14,
    "start_time": "2023-07-12T15:47:31.657Z"
   },
   {
    "duration": 307,
    "start_time": "2023-07-12T15:47:31.673Z"
   },
   {
    "duration": 314,
    "start_time": "2023-07-12T15:47:31.982Z"
   },
   {
    "duration": 226,
    "start_time": "2023-07-12T15:47:32.298Z"
   },
   {
    "duration": 335,
    "start_time": "2023-07-12T15:47:32.526Z"
   },
   {
    "duration": 356,
    "start_time": "2023-07-12T15:47:32.863Z"
   },
   {
    "duration": 374,
    "start_time": "2023-07-12T15:47:33.221Z"
   },
   {
    "duration": 157,
    "start_time": "2023-07-12T15:47:33.597Z"
   },
   {
    "duration": 6,
    "start_time": "2023-07-12T15:47:33.758Z"
   },
   {
    "duration": 168,
    "start_time": "2023-07-12T15:47:33.765Z"
   },
   {
    "duration": 5,
    "start_time": "2023-07-12T15:47:33.935Z"
   },
   {
    "duration": 367,
    "start_time": "2023-07-12T15:47:33.941Z"
   },
   {
    "duration": 151,
    "start_time": "2023-07-12T15:47:34.310Z"
   },
   {
    "duration": 20,
    "start_time": "2023-07-12T15:47:34.463Z"
   },
   {
    "duration": 38,
    "start_time": "2023-07-12T15:47:34.484Z"
   },
   {
    "duration": 8,
    "start_time": "2023-07-12T15:47:34.524Z"
   },
   {
    "duration": 14,
    "start_time": "2023-07-12T15:47:34.534Z"
   },
   {
    "duration": 51,
    "start_time": "2023-07-12T15:47:34.549Z"
   },
   {
    "duration": 21,
    "start_time": "2023-07-12T15:47:34.602Z"
   },
   {
    "duration": 14,
    "start_time": "2023-07-12T15:47:34.624Z"
   },
   {
    "duration": 16,
    "start_time": "2023-07-12T15:47:34.639Z"
   },
   {
    "duration": 11,
    "start_time": "2023-07-12T15:50:21.730Z"
   },
   {
    "duration": 10,
    "start_time": "2023-07-12T15:50:51.213Z"
   },
   {
    "duration": 9,
    "start_time": "2023-07-12T15:50:51.764Z"
   },
   {
    "duration": 6,
    "start_time": "2023-07-12T15:50:52.183Z"
   },
   {
    "duration": 11,
    "start_time": "2023-07-12T16:08:11.786Z"
   },
   {
    "duration": 107,
    "start_time": "2023-07-12T16:10:43.885Z"
   },
   {
    "duration": 11,
    "start_time": "2023-07-12T16:11:12.007Z"
   },
   {
    "duration": 7,
    "start_time": "2023-07-12T16:11:18.745Z"
   },
   {
    "duration": 4,
    "start_time": "2023-07-12T16:11:52.351Z"
   },
   {
    "duration": 88,
    "start_time": "2023-07-12T16:11:52.358Z"
   },
   {
    "duration": 30,
    "start_time": "2023-07-12T16:11:52.448Z"
   },
   {
    "duration": 61,
    "start_time": "2023-07-12T16:11:52.480Z"
   },
   {
    "duration": 8,
    "start_time": "2023-07-12T16:11:52.543Z"
   },
   {
    "duration": 10,
    "start_time": "2023-07-12T16:11:52.553Z"
   },
   {
    "duration": 14,
    "start_time": "2023-07-12T16:11:52.564Z"
   },
   {
    "duration": 12,
    "start_time": "2023-07-12T16:11:52.580Z"
   },
   {
    "duration": 15,
    "start_time": "2023-07-12T16:11:52.593Z"
   },
   {
    "duration": 7,
    "start_time": "2023-07-12T16:11:52.609Z"
   },
   {
    "duration": 9,
    "start_time": "2023-07-12T16:11:52.619Z"
   },
   {
    "duration": 11,
    "start_time": "2023-07-12T16:11:52.629Z"
   },
   {
    "duration": 28,
    "start_time": "2023-07-12T16:11:52.641Z"
   },
   {
    "duration": 5,
    "start_time": "2023-07-12T16:11:52.671Z"
   },
   {
    "duration": 18,
    "start_time": "2023-07-12T16:11:52.677Z"
   },
   {
    "duration": 12,
    "start_time": "2023-07-12T16:11:52.696Z"
   },
   {
    "duration": 259,
    "start_time": "2023-07-12T16:12:46.455Z"
   },
   {
    "duration": 298,
    "start_time": "2023-07-12T16:12:47.957Z"
   },
   {
    "duration": 14,
    "start_time": "2023-07-12T16:12:53.727Z"
   },
   {
    "duration": 274,
    "start_time": "2023-07-12T16:12:54.850Z"
   },
   {
    "duration": 214,
    "start_time": "2023-07-12T16:12:55.277Z"
   },
   {
    "duration": 1167,
    "start_time": "2023-07-12T16:13:09.286Z"
   },
   {
    "duration": 40,
    "start_time": "2023-07-12T16:13:10.455Z"
   },
   {
    "duration": 50,
    "start_time": "2023-07-12T16:13:10.496Z"
   },
   {
    "duration": 35,
    "start_time": "2023-07-12T16:13:10.548Z"
   },
   {
    "duration": 13,
    "start_time": "2023-07-12T16:13:10.585Z"
   },
   {
    "duration": 12,
    "start_time": "2023-07-12T16:13:10.599Z"
   },
   {
    "duration": 5,
    "start_time": "2023-07-12T16:13:10.613Z"
   },
   {
    "duration": 12,
    "start_time": "2023-07-12T16:13:10.619Z"
   },
   {
    "duration": 13,
    "start_time": "2023-07-12T16:13:10.633Z"
   },
   {
    "duration": 8,
    "start_time": "2023-07-12T16:13:10.661Z"
   },
   {
    "duration": 15,
    "start_time": "2023-07-12T16:13:10.671Z"
   },
   {
    "duration": 15,
    "start_time": "2023-07-12T16:13:10.688Z"
   },
   {
    "duration": 9,
    "start_time": "2023-07-12T16:13:10.705Z"
   },
   {
    "duration": 6,
    "start_time": "2023-07-12T16:13:10.715Z"
   },
   {
    "duration": 48,
    "start_time": "2023-07-12T16:13:10.722Z"
   },
   {
    "duration": 10,
    "start_time": "2023-07-12T16:13:10.772Z"
   },
   {
    "duration": 18,
    "start_time": "2023-07-12T16:13:10.784Z"
   },
   {
    "duration": 18,
    "start_time": "2023-07-12T16:13:10.804Z"
   },
   {
    "duration": 73,
    "start_time": "2023-07-12T16:13:10.824Z"
   },
   {
    "duration": 14,
    "start_time": "2023-07-12T16:13:10.899Z"
   },
   {
    "duration": 304,
    "start_time": "2023-07-12T16:13:10.915Z"
   },
   {
    "duration": 303,
    "start_time": "2023-07-12T16:13:11.221Z"
   },
   {
    "duration": 213,
    "start_time": "2023-07-12T16:13:11.526Z"
   },
   {
    "duration": 322,
    "start_time": "2023-07-12T16:13:11.740Z"
   },
   {
    "duration": 348,
    "start_time": "2023-07-12T16:13:12.064Z"
   },
   {
    "duration": 331,
    "start_time": "2023-07-12T16:13:12.414Z"
   },
   {
    "duration": 159,
    "start_time": "2023-07-12T16:13:12.747Z"
   },
   {
    "duration": 4,
    "start_time": "2023-07-12T16:13:12.909Z"
   },
   {
    "duration": 191,
    "start_time": "2023-07-12T16:13:12.915Z"
   },
   {
    "duration": 6,
    "start_time": "2023-07-12T16:13:13.108Z"
   },
   {
    "duration": 333,
    "start_time": "2023-07-12T16:13:13.116Z"
   },
   {
    "duration": 173,
    "start_time": "2023-07-12T16:13:13.451Z"
   },
   {
    "duration": 37,
    "start_time": "2023-07-12T16:13:13.626Z"
   },
   {
    "duration": 10,
    "start_time": "2023-07-12T16:13:13.665Z"
   },
   {
    "duration": 14,
    "start_time": "2023-07-12T16:13:13.677Z"
   },
   {
    "duration": 15,
    "start_time": "2023-07-12T16:13:13.692Z"
   },
   {
    "duration": 26,
    "start_time": "2023-07-12T16:13:13.708Z"
   },
   {
    "duration": 36,
    "start_time": "2023-07-12T16:13:13.735Z"
   },
   {
    "duration": 14,
    "start_time": "2023-07-12T16:13:13.773Z"
   },
   {
    "duration": 9,
    "start_time": "2023-07-12T16:13:13.789Z"
   },
   {
    "duration": 11,
    "start_time": "2023-07-12T16:13:45.501Z"
   },
   {
    "duration": 7,
    "start_time": "2023-07-12T16:13:54.462Z"
   },
   {
    "duration": 11,
    "start_time": "2023-07-12T16:13:55.094Z"
   },
   {
    "duration": 12,
    "start_time": "2023-07-12T16:14:02.235Z"
   },
   {
    "duration": 1302,
    "start_time": "2023-07-12T16:14:53.733Z"
   },
   {
    "duration": 44,
    "start_time": "2023-07-12T16:14:55.037Z"
   },
   {
    "duration": 69,
    "start_time": "2023-07-12T16:14:55.085Z"
   },
   {
    "duration": 29,
    "start_time": "2023-07-12T16:14:55.155Z"
   },
   {
    "duration": 11,
    "start_time": "2023-07-12T16:14:55.185Z"
   },
   {
    "duration": 10,
    "start_time": "2023-07-12T16:14:55.198Z"
   },
   {
    "duration": 8,
    "start_time": "2023-07-12T16:14:55.210Z"
   },
   {
    "duration": 9,
    "start_time": "2023-07-12T16:14:55.220Z"
   },
   {
    "duration": 10,
    "start_time": "2023-07-12T16:14:55.231Z"
   },
   {
    "duration": 19,
    "start_time": "2023-07-12T16:14:55.243Z"
   },
   {
    "duration": 14,
    "start_time": "2023-07-12T16:14:55.264Z"
   },
   {
    "duration": 15,
    "start_time": "2023-07-12T16:14:55.280Z"
   },
   {
    "duration": 8,
    "start_time": "2023-07-12T16:14:55.297Z"
   },
   {
    "duration": 13,
    "start_time": "2023-07-12T16:14:55.306Z"
   },
   {
    "duration": 13,
    "start_time": "2023-07-12T16:14:55.321Z"
   },
   {
    "duration": 9,
    "start_time": "2023-07-12T16:14:55.358Z"
   },
   {
    "duration": 16,
    "start_time": "2023-07-12T16:14:55.369Z"
   },
   {
    "duration": 13,
    "start_time": "2023-07-12T16:14:55.386Z"
   },
   {
    "duration": 12,
    "start_time": "2023-07-12T16:14:55.401Z"
   },
   {
    "duration": 70,
    "start_time": "2023-07-12T16:14:55.415Z"
   },
   {
    "duration": 14,
    "start_time": "2023-07-12T16:14:55.487Z"
   },
   {
    "duration": 303,
    "start_time": "2023-07-12T16:14:55.503Z"
   },
   {
    "duration": 302,
    "start_time": "2023-07-12T16:14:55.808Z"
   },
   {
    "duration": 215,
    "start_time": "2023-07-12T16:14:56.112Z"
   },
   {
    "duration": 337,
    "start_time": "2023-07-12T16:14:56.329Z"
   },
   {
    "duration": 339,
    "start_time": "2023-07-12T16:14:56.668Z"
   },
   {
    "duration": 312,
    "start_time": "2023-07-12T16:14:57.010Z"
   },
   {
    "duration": 150,
    "start_time": "2023-07-12T16:14:57.323Z"
   },
   {
    "duration": 5,
    "start_time": "2023-07-12T16:14:57.475Z"
   },
   {
    "duration": 164,
    "start_time": "2023-07-12T16:14:57.481Z"
   },
   {
    "duration": 4,
    "start_time": "2023-07-12T16:14:57.647Z"
   },
   {
    "duration": 324,
    "start_time": "2023-07-12T16:14:57.659Z"
   },
   {
    "duration": 184,
    "start_time": "2023-07-12T16:14:57.984Z"
   },
   {
    "duration": 21,
    "start_time": "2023-07-12T16:14:58.170Z"
   },
   {
    "duration": 9,
    "start_time": "2023-07-12T16:14:58.193Z"
   },
   {
    "duration": 27,
    "start_time": "2023-07-12T16:14:58.204Z"
   },
   {
    "duration": 9,
    "start_time": "2023-07-12T16:14:58.232Z"
   },
   {
    "duration": 38,
    "start_time": "2023-07-12T16:14:58.242Z"
   },
   {
    "duration": 22,
    "start_time": "2023-07-12T16:14:58.282Z"
   },
   {
    "duration": 15,
    "start_time": "2023-07-12T16:14:58.305Z"
   },
   {
    "duration": 31,
    "start_time": "2023-07-12T16:14:58.321Z"
   },
   {
    "duration": 1171,
    "start_time": "2023-07-12T16:18:32.071Z"
   },
   {
    "duration": 45,
    "start_time": "2023-07-12T16:18:33.244Z"
   },
   {
    "duration": 63,
    "start_time": "2023-07-12T16:18:33.291Z"
   },
   {
    "duration": 40,
    "start_time": "2023-07-12T16:18:33.355Z"
   },
   {
    "duration": 13,
    "start_time": "2023-07-12T16:18:33.397Z"
   },
   {
    "duration": 12,
    "start_time": "2023-07-12T16:18:33.411Z"
   },
   {
    "duration": 44,
    "start_time": "2023-07-12T16:18:33.424Z"
   },
   {
    "duration": 12,
    "start_time": "2023-07-12T16:18:33.470Z"
   },
   {
    "duration": 12,
    "start_time": "2023-07-12T16:18:33.483Z"
   },
   {
    "duration": 12,
    "start_time": "2023-07-12T16:18:33.496Z"
   },
   {
    "duration": 15,
    "start_time": "2023-07-12T16:18:33.510Z"
   },
   {
    "duration": 13,
    "start_time": "2023-07-12T16:18:33.527Z"
   },
   {
    "duration": 7,
    "start_time": "2023-07-12T16:18:33.542Z"
   },
   {
    "duration": 5,
    "start_time": "2023-07-12T16:18:33.558Z"
   },
   {
    "duration": 10,
    "start_time": "2023-07-12T16:18:33.564Z"
   },
   {
    "duration": 9,
    "start_time": "2023-07-12T16:18:33.576Z"
   },
   {
    "duration": 6,
    "start_time": "2023-07-12T16:18:33.586Z"
   },
   {
    "duration": 12,
    "start_time": "2023-07-12T16:18:33.593Z"
   },
   {
    "duration": 12,
    "start_time": "2023-07-12T16:18:33.606Z"
   },
   {
    "duration": 73,
    "start_time": "2023-07-12T16:18:33.620Z"
   },
   {
    "duration": 13,
    "start_time": "2023-07-12T16:18:33.694Z"
   },
   {
    "duration": 295,
    "start_time": "2023-07-12T16:18:33.709Z"
   },
   {
    "duration": 340,
    "start_time": "2023-07-12T16:18:34.006Z"
   },
   {
    "duration": 199,
    "start_time": "2023-07-12T16:18:34.348Z"
   },
   {
    "duration": 334,
    "start_time": "2023-07-12T16:18:34.549Z"
   },
   {
    "duration": 334,
    "start_time": "2023-07-12T16:18:34.884Z"
   },
   {
    "duration": 384,
    "start_time": "2023-07-12T16:18:35.220Z"
   },
   {
    "duration": 148,
    "start_time": "2023-07-12T16:18:35.605Z"
   },
   {
    "duration": 4,
    "start_time": "2023-07-12T16:18:35.759Z"
   },
   {
    "duration": 186,
    "start_time": "2023-07-12T16:18:35.765Z"
   },
   {
    "duration": 8,
    "start_time": "2023-07-12T16:18:35.953Z"
   },
   {
    "duration": 331,
    "start_time": "2023-07-12T16:18:35.963Z"
   },
   {
    "duration": 178,
    "start_time": "2023-07-12T16:18:36.296Z"
   },
   {
    "duration": 20,
    "start_time": "2023-07-12T16:18:36.476Z"
   },
   {
    "duration": 10,
    "start_time": "2023-07-12T16:18:36.498Z"
   },
   {
    "duration": 8,
    "start_time": "2023-07-12T16:18:36.509Z"
   },
   {
    "duration": 7,
    "start_time": "2023-07-12T16:18:36.519Z"
   },
   {
    "duration": 55,
    "start_time": "2023-07-12T16:18:36.527Z"
   },
   {
    "duration": 21,
    "start_time": "2023-07-12T16:18:36.584Z"
   },
   {
    "duration": 15,
    "start_time": "2023-07-12T16:18:36.607Z"
   },
   {
    "duration": 11,
    "start_time": "2023-07-12T16:18:36.659Z"
   },
   {
    "duration": 8,
    "start_time": "2023-07-12T16:20:55.451Z"
   },
   {
    "duration": 13,
    "start_time": "2023-07-12T16:21:19.017Z"
   },
   {
    "duration": 113,
    "start_time": "2023-07-12T16:21:42.569Z"
   },
   {
    "duration": 13,
    "start_time": "2023-07-12T16:22:02.293Z"
   },
   {
    "duration": 6,
    "start_time": "2023-07-12T16:22:43.705Z"
   },
   {
    "duration": 6,
    "start_time": "2023-07-12T16:23:16.740Z"
   },
   {
    "duration": 7,
    "start_time": "2023-07-12T16:23:28.927Z"
   },
   {
    "duration": 5,
    "start_time": "2023-07-12T16:24:14.950Z"
   },
   {
    "duration": 9,
    "start_time": "2023-07-12T16:24:50.347Z"
   },
   {
    "duration": 9,
    "start_time": "2023-07-12T16:25:05.673Z"
   },
   {
    "duration": 4,
    "start_time": "2023-07-12T16:25:11.603Z"
   },
   {
    "duration": 1453,
    "start_time": "2023-07-13T12:22:59.345Z"
   },
   {
    "duration": 67,
    "start_time": "2023-07-13T12:23:00.801Z"
   },
   {
    "duration": 90,
    "start_time": "2023-07-13T12:23:00.869Z"
   },
   {
    "duration": 83,
    "start_time": "2023-07-13T12:23:00.960Z"
   },
   {
    "duration": 14,
    "start_time": "2023-07-13T12:23:01.046Z"
   },
   {
    "duration": 43,
    "start_time": "2023-07-13T12:23:01.062Z"
   },
   {
    "duration": 35,
    "start_time": "2023-07-13T12:23:01.107Z"
   },
   {
    "duration": 64,
    "start_time": "2023-07-13T12:23:01.144Z"
   },
   {
    "duration": 120,
    "start_time": "2023-07-13T12:23:01.210Z"
   },
   {
    "duration": 58,
    "start_time": "2023-07-13T12:23:01.332Z"
   },
   {
    "duration": 40,
    "start_time": "2023-07-13T12:23:01.392Z"
   },
   {
    "duration": 46,
    "start_time": "2023-07-13T12:23:01.433Z"
   },
   {
    "duration": 37,
    "start_time": "2023-07-13T12:23:01.481Z"
   },
   {
    "duration": 45,
    "start_time": "2023-07-13T12:23:01.523Z"
   },
   {
    "duration": 71,
    "start_time": "2023-07-13T12:23:01.569Z"
   },
   {
    "duration": 27,
    "start_time": "2023-07-13T12:23:01.642Z"
   },
   {
    "duration": 52,
    "start_time": "2023-07-13T12:23:01.671Z"
   },
   {
    "duration": 70,
    "start_time": "2023-07-13T12:23:01.725Z"
   },
   {
    "duration": 88,
    "start_time": "2023-07-13T12:23:01.798Z"
   },
   {
    "duration": 167,
    "start_time": "2023-07-13T12:23:01.889Z"
   },
   {
    "duration": 15,
    "start_time": "2023-07-13T12:23:02.058Z"
   },
   {
    "duration": 316,
    "start_time": "2023-07-13T12:23:02.075Z"
   },
   {
    "duration": 350,
    "start_time": "2023-07-13T12:23:02.393Z"
   },
   {
    "duration": 236,
    "start_time": "2023-07-13T12:23:02.745Z"
   },
   {
    "duration": 371,
    "start_time": "2023-07-13T12:23:02.983Z"
   },
   {
    "duration": 368,
    "start_time": "2023-07-13T12:23:03.355Z"
   },
   {
    "duration": 337,
    "start_time": "2023-07-13T12:23:03.726Z"
   },
   {
    "duration": 161,
    "start_time": "2023-07-13T12:23:04.065Z"
   },
   {
    "duration": 5,
    "start_time": "2023-07-13T12:23:04.228Z"
   },
   {
    "duration": 198,
    "start_time": "2023-07-13T12:23:04.234Z"
   },
   {
    "duration": 5,
    "start_time": "2023-07-13T12:23:04.434Z"
   },
   {
    "duration": 347,
    "start_time": "2023-07-13T12:23:04.442Z"
   },
   {
    "duration": 181,
    "start_time": "2023-07-13T12:23:04.791Z"
   },
   {
    "duration": 30,
    "start_time": "2023-07-13T12:23:04.974Z"
   },
   {
    "duration": 13,
    "start_time": "2023-07-13T12:23:05.007Z"
   },
   {
    "duration": 16,
    "start_time": "2023-07-13T12:23:05.022Z"
   },
   {
    "duration": 23,
    "start_time": "2023-07-13T12:23:05.040Z"
   },
   {
    "duration": 55,
    "start_time": "2023-07-13T12:23:05.064Z"
   },
   {
    "duration": 22,
    "start_time": "2023-07-13T12:23:05.121Z"
   },
   {
    "duration": 15,
    "start_time": "2023-07-13T12:23:05.144Z"
   },
   {
    "duration": 45,
    "start_time": "2023-07-13T12:23:05.164Z"
   },
   {
    "duration": 6,
    "start_time": "2023-07-13T12:23:38.214Z"
   },
   {
    "duration": 22,
    "start_time": "2023-07-13T12:23:47.702Z"
   },
   {
    "duration": 8,
    "start_time": "2023-07-13T12:24:29.816Z"
   },
   {
    "duration": 7,
    "start_time": "2023-07-13T12:25:06.206Z"
   },
   {
    "duration": 120,
    "start_time": "2023-07-13T12:26:38.307Z"
   },
   {
    "duration": 7,
    "start_time": "2023-07-13T12:26:41.110Z"
   },
   {
    "duration": 8,
    "start_time": "2023-07-13T12:26:41.534Z"
   },
   {
    "duration": 12,
    "start_time": "2023-07-13T12:26:57.116Z"
   },
   {
    "duration": 9,
    "start_time": "2023-07-13T12:26:57.503Z"
   },
   {
    "duration": 6,
    "start_time": "2023-07-13T12:27:29.911Z"
   },
   {
    "duration": 3,
    "start_time": "2023-07-13T12:27:40.319Z"
   },
   {
    "duration": 17,
    "start_time": "2023-07-13T12:27:40.324Z"
   },
   {
    "duration": 12,
    "start_time": "2023-07-13T12:27:40.343Z"
   },
   {
    "duration": 34,
    "start_time": "2023-07-13T12:27:40.356Z"
   },
   {
    "duration": 399,
    "start_time": "2023-07-13T12:27:40.402Z"
   },
   {
    "duration": 0,
    "start_time": "2023-07-13T12:27:40.803Z"
   },
   {
    "duration": 0,
    "start_time": "2023-07-13T12:27:40.805Z"
   },
   {
    "duration": 0,
    "start_time": "2023-07-13T12:27:40.806Z"
   },
   {
    "duration": 0,
    "start_time": "2023-07-13T12:27:40.807Z"
   },
   {
    "duration": 0,
    "start_time": "2023-07-13T12:27:40.809Z"
   },
   {
    "duration": 0,
    "start_time": "2023-07-13T12:27:40.810Z"
   },
   {
    "duration": 0,
    "start_time": "2023-07-13T12:27:40.811Z"
   },
   {
    "duration": 0,
    "start_time": "2023-07-13T12:27:40.813Z"
   },
   {
    "duration": 0,
    "start_time": "2023-07-13T12:27:40.814Z"
   },
   {
    "duration": 0,
    "start_time": "2023-07-13T12:27:40.815Z"
   },
   {
    "duration": 0,
    "start_time": "2023-07-13T12:27:40.816Z"
   },
   {
    "duration": 0,
    "start_time": "2023-07-13T12:27:40.817Z"
   },
   {
    "duration": 0,
    "start_time": "2023-07-13T12:27:40.818Z"
   },
   {
    "duration": 0,
    "start_time": "2023-07-13T12:27:40.820Z"
   },
   {
    "duration": 0,
    "start_time": "2023-07-13T12:27:40.820Z"
   },
   {
    "duration": 0,
    "start_time": "2023-07-13T12:27:40.821Z"
   },
   {
    "duration": 0,
    "start_time": "2023-07-13T12:27:40.822Z"
   },
   {
    "duration": 0,
    "start_time": "2023-07-13T12:27:40.823Z"
   },
   {
    "duration": 0,
    "start_time": "2023-07-13T12:27:40.825Z"
   },
   {
    "duration": 0,
    "start_time": "2023-07-13T12:27:40.826Z"
   },
   {
    "duration": 1325,
    "start_time": "2023-07-13T12:28:37.915Z"
   },
   {
    "duration": 45,
    "start_time": "2023-07-13T12:28:39.242Z"
   },
   {
    "duration": 43,
    "start_time": "2023-07-13T12:28:39.289Z"
   },
   {
    "duration": 37,
    "start_time": "2023-07-13T12:28:39.334Z"
   },
   {
    "duration": 13,
    "start_time": "2023-07-13T12:28:39.373Z"
   },
   {
    "duration": 15,
    "start_time": "2023-07-13T12:28:39.388Z"
   },
   {
    "duration": 10,
    "start_time": "2023-07-13T12:28:39.405Z"
   },
   {
    "duration": 24,
    "start_time": "2023-07-13T12:28:39.418Z"
   },
   {
    "duration": 15,
    "start_time": "2023-07-13T12:28:39.444Z"
   },
   {
    "duration": 19,
    "start_time": "2023-07-13T12:28:39.461Z"
   },
   {
    "duration": 20,
    "start_time": "2023-07-13T12:28:39.482Z"
   },
   {
    "duration": 21,
    "start_time": "2023-07-13T12:28:39.504Z"
   },
   {
    "duration": 35,
    "start_time": "2023-07-13T12:28:39.527Z"
   },
   {
    "duration": 9,
    "start_time": "2023-07-13T12:28:39.565Z"
   },
   {
    "duration": 9,
    "start_time": "2023-07-13T12:28:39.575Z"
   },
   {
    "duration": 11,
    "start_time": "2023-07-13T12:28:39.586Z"
   },
   {
    "duration": 8,
    "start_time": "2023-07-13T12:28:39.599Z"
   },
   {
    "duration": 6,
    "start_time": "2023-07-13T12:28:39.609Z"
   },
   {
    "duration": 33,
    "start_time": "2023-07-13T12:28:39.619Z"
   },
   {
    "duration": 27,
    "start_time": "2023-07-13T12:28:39.656Z"
   },
   {
    "duration": 73,
    "start_time": "2023-07-13T12:28:39.685Z"
   },
   {
    "duration": 14,
    "start_time": "2023-07-13T12:28:39.760Z"
   },
   {
    "duration": 303,
    "start_time": "2023-07-13T12:28:39.776Z"
   },
   {
    "duration": 309,
    "start_time": "2023-07-13T12:28:40.081Z"
   },
   {
    "duration": 282,
    "start_time": "2023-07-13T12:28:40.392Z"
   },
   {
    "duration": 332,
    "start_time": "2023-07-13T12:28:40.676Z"
   },
   {
    "duration": 343,
    "start_time": "2023-07-13T12:28:41.010Z"
   },
   {
    "duration": 366,
    "start_time": "2023-07-13T12:28:41.355Z"
   },
   {
    "duration": 162,
    "start_time": "2023-07-13T12:28:41.723Z"
   },
   {
    "duration": 17,
    "start_time": "2023-07-13T12:28:41.887Z"
   },
   {
    "duration": 180,
    "start_time": "2023-07-13T12:28:41.906Z"
   },
   {
    "duration": 4,
    "start_time": "2023-07-13T12:28:42.088Z"
   },
   {
    "duration": 327,
    "start_time": "2023-07-13T12:28:42.101Z"
   },
   {
    "duration": 169,
    "start_time": "2023-07-13T12:28:42.430Z"
   },
   {
    "duration": 24,
    "start_time": "2023-07-13T12:28:42.600Z"
   },
   {
    "duration": 11,
    "start_time": "2023-07-13T12:28:42.625Z"
   },
   {
    "duration": 9,
    "start_time": "2023-07-13T12:28:42.638Z"
   },
   {
    "duration": 11,
    "start_time": "2023-07-13T12:28:42.649Z"
   },
   {
    "duration": 55,
    "start_time": "2023-07-13T12:28:42.661Z"
   },
   {
    "duration": 22,
    "start_time": "2023-07-13T12:28:42.718Z"
   },
   {
    "duration": 14,
    "start_time": "2023-07-13T12:28:42.745Z"
   },
   {
    "duration": 11,
    "start_time": "2023-07-13T12:28:42.761Z"
   },
   {
    "duration": 1217,
    "start_time": "2023-07-13T12:31:08.214Z"
   },
   {
    "duration": 62,
    "start_time": "2023-07-13T12:31:09.433Z"
   },
   {
    "duration": 57,
    "start_time": "2023-07-13T12:31:09.498Z"
   },
   {
    "duration": 47,
    "start_time": "2023-07-13T12:31:09.559Z"
   },
   {
    "duration": 15,
    "start_time": "2023-07-13T12:31:09.608Z"
   },
   {
    "duration": 15,
    "start_time": "2023-07-13T12:31:09.625Z"
   },
   {
    "duration": 32,
    "start_time": "2023-07-13T12:31:09.642Z"
   },
   {
    "duration": 21,
    "start_time": "2023-07-13T12:31:09.676Z"
   },
   {
    "duration": 16,
    "start_time": "2023-07-13T12:31:09.698Z"
   },
   {
    "duration": 10,
    "start_time": "2023-07-13T12:31:09.717Z"
   },
   {
    "duration": 23,
    "start_time": "2023-07-13T12:31:09.729Z"
   },
   {
    "duration": 10,
    "start_time": "2023-07-13T12:31:09.754Z"
   },
   {
    "duration": 17,
    "start_time": "2023-07-13T12:31:09.766Z"
   },
   {
    "duration": 30,
    "start_time": "2023-07-13T12:31:09.785Z"
   },
   {
    "duration": 26,
    "start_time": "2023-07-13T12:31:09.818Z"
   },
   {
    "duration": 98,
    "start_time": "2023-07-13T12:31:09.846Z"
   },
   {
    "duration": 15,
    "start_time": "2023-07-13T12:31:09.945Z"
   },
   {
    "duration": 299,
    "start_time": "2023-07-13T12:31:09.961Z"
   },
   {
    "duration": 371,
    "start_time": "2023-07-13T12:31:10.262Z"
   },
   {
    "duration": 269,
    "start_time": "2023-07-13T12:31:10.635Z"
   },
   {
    "duration": 327,
    "start_time": "2023-07-13T12:31:10.906Z"
   },
   {
    "duration": 342,
    "start_time": "2023-07-13T12:31:11.235Z"
   },
   {
    "duration": 360,
    "start_time": "2023-07-13T12:31:11.579Z"
   },
   {
    "duration": 161,
    "start_time": "2023-07-13T12:31:11.941Z"
   },
   {
    "duration": 5,
    "start_time": "2023-07-13T12:31:12.103Z"
   },
   {
    "duration": 194,
    "start_time": "2023-07-13T12:31:12.109Z"
   },
   {
    "duration": 5,
    "start_time": "2023-07-13T12:31:12.306Z"
   },
   {
    "duration": 351,
    "start_time": "2023-07-13T12:31:12.315Z"
   },
   {
    "duration": 184,
    "start_time": "2023-07-13T12:31:12.668Z"
   },
   {
    "duration": 23,
    "start_time": "2023-07-13T12:31:12.855Z"
   },
   {
    "duration": 31,
    "start_time": "2023-07-13T12:31:12.880Z"
   },
   {
    "duration": 29,
    "start_time": "2023-07-13T12:31:12.913Z"
   },
   {
    "duration": 29,
    "start_time": "2023-07-13T12:31:12.943Z"
   },
   {
    "duration": 43,
    "start_time": "2023-07-13T12:31:12.974Z"
   },
   {
    "duration": 22,
    "start_time": "2023-07-13T12:31:13.019Z"
   },
   {
    "duration": 15,
    "start_time": "2023-07-13T12:31:13.043Z"
   },
   {
    "duration": 17,
    "start_time": "2023-07-13T12:31:13.060Z"
   },
   {
    "duration": 117,
    "start_time": "2023-07-13T12:33:22.541Z"
   },
   {
    "duration": 13,
    "start_time": "2023-07-13T12:33:29.458Z"
   },
   {
    "duration": 7,
    "start_time": "2023-07-13T12:33:29.911Z"
   },
   {
    "duration": 7,
    "start_time": "2023-07-13T12:33:51.610Z"
   },
   {
    "duration": 116,
    "start_time": "2023-07-13T12:35:27.631Z"
   },
   {
    "duration": 12,
    "start_time": "2023-07-13T12:35:33.938Z"
   },
   {
    "duration": 13,
    "start_time": "2023-07-13T12:35:34.338Z"
   },
   {
    "duration": 7,
    "start_time": "2023-07-13T12:35:39.810Z"
   },
   {
    "duration": 7,
    "start_time": "2023-07-13T12:35:47.844Z"
   },
   {
    "duration": 12,
    "start_time": "2023-07-13T12:36:44.431Z"
   },
   {
    "duration": 14,
    "start_time": "2023-07-13T12:36:46.054Z"
   },
   {
    "duration": 9,
    "start_time": "2023-07-13T12:37:58.610Z"
   },
   {
    "duration": 12,
    "start_time": "2023-07-13T12:37:59.075Z"
   },
   {
    "duration": 34,
    "start_time": "2023-07-13T12:38:38.978Z"
   },
   {
    "duration": 12,
    "start_time": "2023-07-13T12:38:39.475Z"
   },
   {
    "duration": 6,
    "start_time": "2023-07-13T12:38:46.142Z"
   },
   {
    "duration": 1201,
    "start_time": "2023-07-13T12:40:08.219Z"
   },
   {
    "duration": 53,
    "start_time": "2023-07-13T12:40:09.423Z"
   },
   {
    "duration": 100,
    "start_time": "2023-07-13T12:40:09.479Z"
   },
   {
    "duration": 62,
    "start_time": "2023-07-13T12:40:09.581Z"
   },
   {
    "duration": 14,
    "start_time": "2023-07-13T12:40:09.646Z"
   },
   {
    "duration": 22,
    "start_time": "2023-07-13T12:40:09.662Z"
   },
   {
    "duration": 19,
    "start_time": "2023-07-13T12:40:09.686Z"
   },
   {
    "duration": 13,
    "start_time": "2023-07-13T12:40:09.706Z"
   },
   {
    "duration": 18,
    "start_time": "2023-07-13T12:40:09.720Z"
   },
   {
    "duration": 27,
    "start_time": "2023-07-13T12:40:09.739Z"
   },
   {
    "duration": 21,
    "start_time": "2023-07-13T12:40:09.768Z"
   },
   {
    "duration": 16,
    "start_time": "2023-07-13T12:40:09.791Z"
   },
   {
    "duration": 16,
    "start_time": "2023-07-13T12:40:09.808Z"
   },
   {
    "duration": 8,
    "start_time": "2023-07-13T12:40:09.827Z"
   },
   {
    "duration": 5,
    "start_time": "2023-07-13T12:40:09.837Z"
   },
   {
    "duration": 12,
    "start_time": "2023-07-13T12:40:09.843Z"
   },
   {
    "duration": 47,
    "start_time": "2023-07-13T12:40:09.856Z"
   },
   {
    "duration": 21,
    "start_time": "2023-07-13T12:40:09.905Z"
   },
   {
    "duration": 71,
    "start_time": "2023-07-13T12:40:09.928Z"
   },
   {
    "duration": 13,
    "start_time": "2023-07-13T12:40:10.002Z"
   },
   {
    "duration": 322,
    "start_time": "2023-07-13T12:40:10.016Z"
   },
   {
    "duration": 370,
    "start_time": "2023-07-13T12:40:10.340Z"
   },
   {
    "duration": 232,
    "start_time": "2023-07-13T12:40:10.712Z"
   },
   {
    "duration": 318,
    "start_time": "2023-07-13T12:40:10.946Z"
   },
   {
    "duration": 411,
    "start_time": "2023-07-13T12:40:11.266Z"
   },
   {
    "duration": 363,
    "start_time": "2023-07-13T12:40:11.679Z"
   },
   {
    "duration": 174,
    "start_time": "2023-07-13T12:40:12.044Z"
   },
   {
    "duration": 6,
    "start_time": "2023-07-13T12:40:12.219Z"
   },
   {
    "duration": 177,
    "start_time": "2023-07-13T12:40:12.226Z"
   },
   {
    "duration": 5,
    "start_time": "2023-07-13T12:40:12.405Z"
   },
   {
    "duration": 345,
    "start_time": "2023-07-13T12:40:12.412Z"
   },
   {
    "duration": 179,
    "start_time": "2023-07-13T12:40:12.759Z"
   },
   {
    "duration": 32,
    "start_time": "2023-07-13T12:40:12.940Z"
   },
   {
    "duration": 32,
    "start_time": "2023-07-13T12:40:12.974Z"
   },
   {
    "duration": 9,
    "start_time": "2023-07-13T12:40:13.008Z"
   },
   {
    "duration": 9,
    "start_time": "2023-07-13T12:40:13.018Z"
   },
   {
    "duration": 35,
    "start_time": "2023-07-13T12:40:13.028Z"
   },
   {
    "duration": 55,
    "start_time": "2023-07-13T12:40:13.064Z"
   },
   {
    "duration": 15,
    "start_time": "2023-07-13T12:40:13.121Z"
   },
   {
    "duration": 12,
    "start_time": "2023-07-13T12:40:13.137Z"
   },
   {
    "duration": 5,
    "start_time": "2023-07-13T12:44:38.114Z"
   },
   {
    "duration": 10,
    "start_time": "2023-07-13T12:44:53.575Z"
   },
   {
    "duration": 13,
    "start_time": "2023-07-13T12:45:13.010Z"
   },
   {
    "duration": 6,
    "start_time": "2023-07-13T12:45:32.760Z"
   },
   {
    "duration": 8,
    "start_time": "2023-07-13T12:47:41.218Z"
   },
   {
    "duration": 7,
    "start_time": "2023-07-13T12:47:41.710Z"
   },
   {
    "duration": 4,
    "start_time": "2023-07-13T12:47:42.046Z"
   },
   {
    "duration": 11,
    "start_time": "2023-07-13T12:47:42.382Z"
   },
   {
    "duration": 13,
    "start_time": "2023-07-13T12:47:42.546Z"
   },
   {
    "duration": 8,
    "start_time": "2023-07-13T12:47:42.684Z"
   },
   {
    "duration": 16,
    "start_time": "2023-07-13T12:47:43.052Z"
   },
   {
    "duration": 13,
    "start_time": "2023-07-13T12:47:43.218Z"
   },
   {
    "duration": 8,
    "start_time": "2023-07-13T12:47:55.814Z"
   },
   {
    "duration": 8,
    "start_time": "2023-07-13T12:47:55.954Z"
   },
   {
    "duration": 7,
    "start_time": "2023-07-13T12:47:56.219Z"
   },
   {
    "duration": 13,
    "start_time": "2023-07-13T12:47:56.499Z"
   },
   {
    "duration": 12,
    "start_time": "2023-07-13T12:47:56.623Z"
   },
   {
    "duration": 9,
    "start_time": "2023-07-13T12:47:56.763Z"
   },
   {
    "duration": 9,
    "start_time": "2023-07-13T12:47:57.214Z"
   },
   {
    "duration": 11,
    "start_time": "2023-07-13T12:47:57.417Z"
   },
   {
    "duration": 7,
    "start_time": "2023-07-13T12:47:58.042Z"
   },
   {
    "duration": 6,
    "start_time": "2023-07-13T13:00:55.019Z"
   },
   {
    "duration": 6,
    "start_time": "2023-07-13T13:01:10.323Z"
   },
   {
    "duration": 102,
    "start_time": "2023-07-13T13:10:45.079Z"
   },
   {
    "duration": 25,
    "start_time": "2023-07-13T13:10:47.830Z"
   },
   {
    "duration": 5,
    "start_time": "2023-07-13T13:10:48.047Z"
   },
   {
    "duration": 13,
    "start_time": "2023-07-13T13:11:01.843Z"
   },
   {
    "duration": 5,
    "start_time": "2023-07-13T13:11:02.222Z"
   },
   {
    "duration": 16,
    "start_time": "2023-07-13T13:11:06.819Z"
   },
   {
    "duration": 4,
    "start_time": "2023-07-13T13:11:07.171Z"
   },
   {
    "duration": 8,
    "start_time": "2023-07-13T13:11:12.114Z"
   },
   {
    "duration": 21,
    "start_time": "2023-07-13T13:11:16.223Z"
   },
   {
    "duration": 8,
    "start_time": "2023-07-13T13:11:16.819Z"
   },
   {
    "duration": 1356,
    "start_time": "2023-07-13T13:11:21.764Z"
   },
   {
    "duration": 56,
    "start_time": "2023-07-13T13:11:23.122Z"
   },
   {
    "duration": 52,
    "start_time": "2023-07-13T13:11:23.181Z"
   },
   {
    "duration": 61,
    "start_time": "2023-07-13T13:11:23.235Z"
   },
   {
    "duration": 13,
    "start_time": "2023-07-13T13:11:23.299Z"
   },
   {
    "duration": 30,
    "start_time": "2023-07-13T13:11:23.314Z"
   },
   {
    "duration": 9,
    "start_time": "2023-07-13T13:11:23.347Z"
   },
   {
    "duration": 18,
    "start_time": "2023-07-13T13:11:23.358Z"
   },
   {
    "duration": 10,
    "start_time": "2023-07-13T13:11:23.378Z"
   },
   {
    "duration": 18,
    "start_time": "2023-07-13T13:11:23.389Z"
   },
   {
    "duration": 14,
    "start_time": "2023-07-13T13:11:23.409Z"
   },
   {
    "duration": 10,
    "start_time": "2023-07-13T13:11:23.425Z"
   },
   {
    "duration": 11,
    "start_time": "2023-07-13T13:11:23.437Z"
   },
   {
    "duration": 16,
    "start_time": "2023-07-13T13:11:23.451Z"
   },
   {
    "duration": 45,
    "start_time": "2023-07-13T13:11:23.469Z"
   },
   {
    "duration": 8,
    "start_time": "2023-07-13T13:11:23.516Z"
   },
   {
    "duration": 17,
    "start_time": "2023-07-13T13:11:23.526Z"
   },
   {
    "duration": 12,
    "start_time": "2023-07-13T13:11:23.545Z"
   },
   {
    "duration": 14,
    "start_time": "2023-07-13T13:11:23.559Z"
   },
   {
    "duration": 7,
    "start_time": "2023-07-13T13:11:23.601Z"
   },
   {
    "duration": 18,
    "start_time": "2023-07-13T13:11:23.610Z"
   },
   {
    "duration": 31,
    "start_time": "2023-07-13T13:11:23.630Z"
   },
   {
    "duration": 31,
    "start_time": "2023-07-13T13:11:23.663Z"
   },
   {
    "duration": 108,
    "start_time": "2023-07-13T13:11:23.696Z"
   },
   {
    "duration": 14,
    "start_time": "2023-07-13T13:11:23.806Z"
   },
   {
    "duration": 345,
    "start_time": "2023-07-13T13:11:23.822Z"
   },
   {
    "duration": 317,
    "start_time": "2023-07-13T13:11:24.169Z"
   },
   {
    "duration": 228,
    "start_time": "2023-07-13T13:11:24.488Z"
   },
   {
    "duration": 330,
    "start_time": "2023-07-13T13:11:24.718Z"
   },
   {
    "duration": 431,
    "start_time": "2023-07-13T13:11:25.050Z"
   },
   {
    "duration": 376,
    "start_time": "2023-07-13T13:11:25.484Z"
   },
   {
    "duration": 165,
    "start_time": "2023-07-13T13:11:25.863Z"
   },
   {
    "duration": 9,
    "start_time": "2023-07-13T13:11:26.030Z"
   },
   {
    "duration": 199,
    "start_time": "2023-07-13T13:11:26.041Z"
   },
   {
    "duration": 5,
    "start_time": "2023-07-13T13:11:26.242Z"
   },
   {
    "duration": 359,
    "start_time": "2023-07-13T13:11:26.248Z"
   },
   {
    "duration": 196,
    "start_time": "2023-07-13T13:11:26.609Z"
   },
   {
    "duration": 23,
    "start_time": "2023-07-13T13:11:26.807Z"
   },
   {
    "duration": 12,
    "start_time": "2023-07-13T13:11:26.832Z"
   },
   {
    "duration": 11,
    "start_time": "2023-07-13T13:11:26.845Z"
   },
   {
    "duration": 45,
    "start_time": "2023-07-13T13:11:26.861Z"
   },
   {
    "duration": 28,
    "start_time": "2023-07-13T13:11:26.908Z"
   },
   {
    "duration": 21,
    "start_time": "2023-07-13T13:11:26.938Z"
   },
   {
    "duration": 49,
    "start_time": "2023-07-13T13:11:26.961Z"
   },
   {
    "duration": 22,
    "start_time": "2023-07-13T13:11:27.012Z"
   },
   {
    "duration": 8,
    "start_time": "2023-07-13T13:11:52.043Z"
   },
   {
    "duration": 11,
    "start_time": "2023-07-13T13:17:08.465Z"
   },
   {
    "duration": 4,
    "start_time": "2023-07-13T13:17:08.640Z"
   },
   {
    "duration": 7,
    "start_time": "2023-07-13T13:24:33.725Z"
   },
   {
    "duration": 6,
    "start_time": "2023-07-13T13:24:34.233Z"
   },
   {
    "duration": 1617,
    "start_time": "2023-07-13T13:25:50.419Z"
   },
   {
    "duration": 13,
    "start_time": "2023-07-13T13:26:56.947Z"
   },
   {
    "duration": 7,
    "start_time": "2023-07-13T13:27:22.825Z"
   },
   {
    "duration": 1346,
    "start_time": "2023-07-13T13:27:34.765Z"
   },
   {
    "duration": 100,
    "start_time": "2023-07-13T13:27:36.113Z"
   },
   {
    "duration": 118,
    "start_time": "2023-07-13T13:27:36.215Z"
   },
   {
    "duration": 96,
    "start_time": "2023-07-13T13:27:36.335Z"
   },
   {
    "duration": 13,
    "start_time": "2023-07-13T13:27:36.433Z"
   },
   {
    "duration": 19,
    "start_time": "2023-07-13T13:27:36.448Z"
   },
   {
    "duration": 21,
    "start_time": "2023-07-13T13:27:36.469Z"
   },
   {
    "duration": 15,
    "start_time": "2023-07-13T13:27:36.493Z"
   },
   {
    "duration": 23,
    "start_time": "2023-07-13T13:27:36.510Z"
   },
   {
    "duration": 24,
    "start_time": "2023-07-13T13:27:36.538Z"
   },
   {
    "duration": 14,
    "start_time": "2023-07-13T13:27:36.565Z"
   },
   {
    "duration": 33,
    "start_time": "2023-07-13T13:27:36.581Z"
   },
   {
    "duration": 18,
    "start_time": "2023-07-13T13:27:36.616Z"
   },
   {
    "duration": 17,
    "start_time": "2023-07-13T13:27:36.636Z"
   },
   {
    "duration": 14,
    "start_time": "2023-07-13T13:27:36.655Z"
   },
   {
    "duration": 12,
    "start_time": "2023-07-13T13:27:36.671Z"
   },
   {
    "duration": 27,
    "start_time": "2023-07-13T13:27:36.684Z"
   },
   {
    "duration": 20,
    "start_time": "2023-07-13T13:27:36.713Z"
   },
   {
    "duration": 4,
    "start_time": "2023-07-13T13:27:36.735Z"
   },
   {
    "duration": 6,
    "start_time": "2023-07-13T13:27:36.741Z"
   },
   {
    "duration": 15,
    "start_time": "2023-07-13T13:27:36.749Z"
   },
   {
    "duration": 11,
    "start_time": "2023-07-13T13:27:36.766Z"
   },
   {
    "duration": 25,
    "start_time": "2023-07-13T13:27:36.779Z"
   },
   {
    "duration": 13,
    "start_time": "2023-07-13T13:27:36.806Z"
   },
   {
    "duration": 13,
    "start_time": "2023-07-13T13:27:36.821Z"
   },
   {
    "duration": 25,
    "start_time": "2023-07-13T13:27:36.836Z"
   },
   {
    "duration": 22,
    "start_time": "2023-07-13T13:27:36.863Z"
   },
   {
    "duration": 86,
    "start_time": "2023-07-13T13:27:36.888Z"
   },
   {
    "duration": 15,
    "start_time": "2023-07-13T13:27:36.975Z"
   },
   {
    "duration": 327,
    "start_time": "2023-07-13T13:27:37.002Z"
   },
   {
    "duration": 324,
    "start_time": "2023-07-13T13:27:37.331Z"
   },
   {
    "duration": 235,
    "start_time": "2023-07-13T13:27:37.656Z"
   },
   {
    "duration": 335,
    "start_time": "2023-07-13T13:27:37.901Z"
   },
   {
    "duration": 381,
    "start_time": "2023-07-13T13:27:38.239Z"
   },
   {
    "duration": 342,
    "start_time": "2023-07-13T13:27:38.622Z"
   },
   {
    "duration": 157,
    "start_time": "2023-07-13T13:27:38.967Z"
   },
   {
    "duration": 6,
    "start_time": "2023-07-13T13:27:39.126Z"
   },
   {
    "duration": 235,
    "start_time": "2023-07-13T13:27:39.134Z"
   },
   {
    "duration": 5,
    "start_time": "2023-07-13T13:27:39.371Z"
   },
   {
    "duration": 362,
    "start_time": "2023-07-13T13:27:39.378Z"
   },
   {
    "duration": 194,
    "start_time": "2023-07-13T13:27:39.742Z"
   },
   {
    "duration": 22,
    "start_time": "2023-07-13T13:27:39.938Z"
   },
   {
    "duration": 11,
    "start_time": "2023-07-13T13:27:39.962Z"
   },
   {
    "duration": 10,
    "start_time": "2023-07-13T13:27:40.002Z"
   },
   {
    "duration": 11,
    "start_time": "2023-07-13T13:27:40.013Z"
   },
   {
    "duration": 37,
    "start_time": "2023-07-13T13:27:40.026Z"
   },
   {
    "duration": 38,
    "start_time": "2023-07-13T13:27:40.066Z"
   },
   {
    "duration": 18,
    "start_time": "2023-07-13T13:27:40.106Z"
   },
   {
    "duration": 14,
    "start_time": "2023-07-13T13:27:40.126Z"
   },
   {
    "duration": 3,
    "start_time": "2023-07-13T13:31:01.947Z"
   },
   {
    "duration": 13,
    "start_time": "2023-07-13T13:31:33.045Z"
   },
   {
    "duration": 124,
    "start_time": "2023-07-13T13:42:19.318Z"
   },
   {
    "duration": 24,
    "start_time": "2023-07-13T13:42:53.571Z"
   },
   {
    "duration": 19,
    "start_time": "2023-07-13T13:43:07.325Z"
   },
   {
    "duration": 9,
    "start_time": "2023-07-13T13:43:45.821Z"
   },
   {
    "duration": 26,
    "start_time": "2023-07-13T13:43:54.522Z"
   },
   {
    "duration": 36,
    "start_time": "2023-07-13T13:43:57.828Z"
   },
   {
    "duration": 21,
    "start_time": "2023-07-13T13:44:00.225Z"
   },
   {
    "duration": 15,
    "start_time": "2023-07-13T13:44:00.823Z"
   },
   {
    "duration": 1375,
    "start_time": "2023-07-13T13:46:10.943Z"
   },
   {
    "duration": 46,
    "start_time": "2023-07-13T13:46:12.320Z"
   },
   {
    "duration": 69,
    "start_time": "2023-07-13T13:46:12.368Z"
   },
   {
    "duration": 36,
    "start_time": "2023-07-13T13:46:12.439Z"
   },
   {
    "duration": 14,
    "start_time": "2023-07-13T13:46:12.477Z"
   },
   {
    "duration": 25,
    "start_time": "2023-07-13T13:46:12.493Z"
   },
   {
    "duration": 23,
    "start_time": "2023-07-13T13:46:12.521Z"
   },
   {
    "duration": 26,
    "start_time": "2023-07-13T13:46:12.545Z"
   },
   {
    "duration": 11,
    "start_time": "2023-07-13T13:46:12.573Z"
   },
   {
    "duration": 21,
    "start_time": "2023-07-13T13:46:12.587Z"
   },
   {
    "duration": 34,
    "start_time": "2023-07-13T13:46:12.617Z"
   },
   {
    "duration": 29,
    "start_time": "2023-07-13T13:46:12.653Z"
   },
   {
    "duration": 11,
    "start_time": "2023-07-13T13:46:12.685Z"
   },
   {
    "duration": 39,
    "start_time": "2023-07-13T13:46:12.699Z"
   },
   {
    "duration": 19,
    "start_time": "2023-07-13T13:46:12.740Z"
   },
   {
    "duration": 27,
    "start_time": "2023-07-13T13:46:12.762Z"
   },
   {
    "duration": 36,
    "start_time": "2023-07-13T13:46:12.793Z"
   },
   {
    "duration": 18,
    "start_time": "2023-07-13T13:46:12.831Z"
   },
   {
    "duration": 5,
    "start_time": "2023-07-13T13:46:12.851Z"
   },
   {
    "duration": 25,
    "start_time": "2023-07-13T13:46:12.857Z"
   },
   {
    "duration": 29,
    "start_time": "2023-07-13T13:46:12.884Z"
   },
   {
    "duration": 17,
    "start_time": "2023-07-13T13:46:12.914Z"
   },
   {
    "duration": 7,
    "start_time": "2023-07-13T13:46:12.933Z"
   },
   {
    "duration": 25,
    "start_time": "2023-07-13T13:46:12.941Z"
   },
   {
    "duration": 10,
    "start_time": "2023-07-13T13:46:12.968Z"
   },
   {
    "duration": 49,
    "start_time": "2023-07-13T13:46:12.980Z"
   },
   {
    "duration": 17,
    "start_time": "2023-07-13T13:46:13.031Z"
   },
   {
    "duration": 70,
    "start_time": "2023-07-13T13:46:13.052Z"
   },
   {
    "duration": 15,
    "start_time": "2023-07-13T13:46:13.124Z"
   },
   {
    "duration": 351,
    "start_time": "2023-07-13T13:46:13.141Z"
   },
   {
    "duration": 339,
    "start_time": "2023-07-13T13:46:13.494Z"
   },
   {
    "duration": 251,
    "start_time": "2023-07-13T13:46:13.835Z"
   },
   {
    "duration": 346,
    "start_time": "2023-07-13T13:46:14.088Z"
   },
   {
    "duration": 361,
    "start_time": "2023-07-13T13:46:14.436Z"
   },
   {
    "duration": 378,
    "start_time": "2023-07-13T13:46:14.799Z"
   },
   {
    "duration": 176,
    "start_time": "2023-07-13T13:46:15.179Z"
   },
   {
    "duration": 5,
    "start_time": "2023-07-13T13:46:15.358Z"
   },
   {
    "duration": 228,
    "start_time": "2023-07-13T13:46:15.365Z"
   },
   {
    "duration": 8,
    "start_time": "2023-07-13T13:46:15.605Z"
   },
   {
    "duration": 350,
    "start_time": "2023-07-13T13:46:15.615Z"
   },
   {
    "duration": 208,
    "start_time": "2023-07-13T13:46:15.967Z"
   },
   {
    "duration": 41,
    "start_time": "2023-07-13T13:46:16.177Z"
   },
   {
    "duration": 33,
    "start_time": "2023-07-13T13:46:16.220Z"
   },
   {
    "duration": 14,
    "start_time": "2023-07-13T13:46:16.255Z"
   },
   {
    "duration": 19,
    "start_time": "2023-07-13T13:46:16.271Z"
   },
   {
    "duration": 48,
    "start_time": "2023-07-13T13:46:16.292Z"
   },
   {
    "duration": 20,
    "start_time": "2023-07-13T13:46:16.343Z"
   },
   {
    "duration": 14,
    "start_time": "2023-07-13T13:46:16.365Z"
   },
   {
    "duration": 36,
    "start_time": "2023-07-13T13:46:16.381Z"
   },
   {
    "duration": 1463,
    "start_time": "2023-07-13T13:53:01.070Z"
   },
   {
    "duration": 54,
    "start_time": "2023-07-13T13:53:02.538Z"
   },
   {
    "duration": 70,
    "start_time": "2023-07-13T13:53:02.595Z"
   },
   {
    "duration": 65,
    "start_time": "2023-07-13T13:53:02.670Z"
   },
   {
    "duration": 18,
    "start_time": "2023-07-13T13:53:02.738Z"
   },
   {
    "duration": 21,
    "start_time": "2023-07-13T13:53:02.758Z"
   },
   {
    "duration": 37,
    "start_time": "2023-07-13T13:53:02.781Z"
   },
   {
    "duration": 47,
    "start_time": "2023-07-13T13:53:02.824Z"
   },
   {
    "duration": 17,
    "start_time": "2023-07-13T13:53:02.873Z"
   },
   {
    "duration": 46,
    "start_time": "2023-07-13T13:53:02.898Z"
   },
   {
    "duration": 31,
    "start_time": "2023-07-13T13:53:02.946Z"
   },
   {
    "duration": 18,
    "start_time": "2023-07-13T13:53:02.980Z"
   },
   {
    "duration": 33,
    "start_time": "2023-07-13T13:53:03.000Z"
   },
   {
    "duration": 66,
    "start_time": "2023-07-13T13:53:03.037Z"
   },
   {
    "duration": 55,
    "start_time": "2023-07-13T13:53:03.107Z"
   },
   {
    "duration": 81,
    "start_time": "2023-07-13T13:53:03.165Z"
   },
   {
    "duration": 44,
    "start_time": "2023-07-13T13:53:03.248Z"
   },
   {
    "duration": 48,
    "start_time": "2023-07-13T13:53:03.295Z"
   },
   {
    "duration": 30,
    "start_time": "2023-07-13T13:53:03.345Z"
   },
   {
    "duration": 19,
    "start_time": "2023-07-13T13:53:03.379Z"
   },
   {
    "duration": 34,
    "start_time": "2023-07-13T13:53:03.401Z"
   },
   {
    "duration": 18,
    "start_time": "2023-07-13T13:53:03.436Z"
   },
   {
    "duration": 21,
    "start_time": "2023-07-13T13:53:03.456Z"
   },
   {
    "duration": 15,
    "start_time": "2023-07-13T13:53:03.479Z"
   },
   {
    "duration": 8,
    "start_time": "2023-07-13T13:53:03.496Z"
   },
   {
    "duration": 47,
    "start_time": "2023-07-13T13:53:03.508Z"
   },
   {
    "duration": 22,
    "start_time": "2023-07-13T13:53:03.558Z"
   },
   {
    "duration": 88,
    "start_time": "2023-07-13T13:53:03.583Z"
   },
   {
    "duration": 19,
    "start_time": "2023-07-13T13:53:03.674Z"
   },
   {
    "duration": 484,
    "start_time": "2023-07-13T13:53:03.706Z"
   },
   {
    "duration": 406,
    "start_time": "2023-07-13T13:53:04.192Z"
   },
   {
    "duration": 237,
    "start_time": "2023-07-13T13:53:04.609Z"
   },
   {
    "duration": 396,
    "start_time": "2023-07-13T13:53:04.848Z"
   },
   {
    "duration": 351,
    "start_time": "2023-07-13T13:53:05.246Z"
   },
   {
    "duration": 356,
    "start_time": "2023-07-13T13:53:05.602Z"
   },
   {
    "duration": 191,
    "start_time": "2023-07-13T13:53:05.960Z"
   },
   {
    "duration": 5,
    "start_time": "2023-07-13T13:53:06.153Z"
   },
   {
    "duration": 234,
    "start_time": "2023-07-13T13:53:06.159Z"
   },
   {
    "duration": 9,
    "start_time": "2023-07-13T13:53:06.395Z"
   },
   {
    "duration": 383,
    "start_time": "2023-07-13T13:53:06.409Z"
   },
   {
    "duration": 175,
    "start_time": "2023-07-13T13:53:06.794Z"
   },
   {
    "duration": 33,
    "start_time": "2023-07-13T13:53:06.971Z"
   },
   {
    "duration": 14,
    "start_time": "2023-07-13T13:53:07.010Z"
   },
   {
    "duration": 34,
    "start_time": "2023-07-13T13:53:07.026Z"
   },
   {
    "duration": 42,
    "start_time": "2023-07-13T13:53:07.062Z"
   },
   {
    "duration": 83,
    "start_time": "2023-07-13T13:53:07.106Z"
   },
   {
    "duration": 50,
    "start_time": "2023-07-13T13:53:07.192Z"
   },
   {
    "duration": 16,
    "start_time": "2023-07-13T13:53:07.244Z"
   },
   {
    "duration": 26,
    "start_time": "2023-07-13T13:53:07.262Z"
   },
   {
    "duration": 1321,
    "start_time": "2023-07-13T14:04:07.638Z"
   },
   {
    "duration": 48,
    "start_time": "2023-07-13T14:04:08.961Z"
   },
   {
    "duration": 55,
    "start_time": "2023-07-13T14:04:09.011Z"
   },
   {
    "duration": 53,
    "start_time": "2023-07-13T14:04:09.069Z"
   },
   {
    "duration": 16,
    "start_time": "2023-07-13T14:04:09.124Z"
   },
   {
    "duration": 17,
    "start_time": "2023-07-13T14:04:09.143Z"
   },
   {
    "duration": 8,
    "start_time": "2023-07-13T14:04:09.163Z"
   },
   {
    "duration": 12,
    "start_time": "2023-07-13T14:04:09.173Z"
   },
   {
    "duration": 40,
    "start_time": "2023-07-13T14:04:09.187Z"
   },
   {
    "duration": 12,
    "start_time": "2023-07-13T14:04:09.231Z"
   },
   {
    "duration": 17,
    "start_time": "2023-07-13T14:04:09.245Z"
   },
   {
    "duration": 44,
    "start_time": "2023-07-13T14:04:09.264Z"
   },
   {
    "duration": 18,
    "start_time": "2023-07-13T14:04:09.315Z"
   },
   {
    "duration": 31,
    "start_time": "2023-07-13T14:04:09.335Z"
   },
   {
    "duration": 20,
    "start_time": "2023-07-13T14:04:09.368Z"
   },
   {
    "duration": 34,
    "start_time": "2023-07-13T14:04:09.391Z"
   },
   {
    "duration": 21,
    "start_time": "2023-07-13T14:04:09.427Z"
   },
   {
    "duration": 28,
    "start_time": "2023-07-13T14:04:09.450Z"
   },
   {
    "duration": 38,
    "start_time": "2023-07-13T14:04:09.480Z"
   },
   {
    "duration": 14,
    "start_time": "2023-07-13T14:04:09.520Z"
   },
   {
    "duration": 6,
    "start_time": "2023-07-13T14:04:09.536Z"
   },
   {
    "duration": 19,
    "start_time": "2023-07-13T14:04:09.544Z"
   },
   {
    "duration": 12,
    "start_time": "2023-07-13T14:04:09.565Z"
   },
   {
    "duration": 11,
    "start_time": "2023-07-13T14:04:09.579Z"
   },
   {
    "duration": 21,
    "start_time": "2023-07-13T14:04:09.592Z"
   },
   {
    "duration": 19,
    "start_time": "2023-07-13T14:04:09.615Z"
   },
   {
    "duration": 21,
    "start_time": "2023-07-13T14:04:09.636Z"
   },
   {
    "duration": 77,
    "start_time": "2023-07-13T14:04:09.660Z"
   },
   {
    "duration": 16,
    "start_time": "2023-07-13T14:04:09.739Z"
   },
   {
    "duration": 321,
    "start_time": "2023-07-13T14:04:09.757Z"
   },
   {
    "duration": 333,
    "start_time": "2023-07-13T14:04:10.081Z"
   },
   {
    "duration": 292,
    "start_time": "2023-07-13T14:04:10.416Z"
   },
   {
    "duration": 321,
    "start_time": "2023-07-13T14:04:10.715Z"
   },
   {
    "duration": 339,
    "start_time": "2023-07-13T14:04:11.038Z"
   },
   {
    "duration": 377,
    "start_time": "2023-07-13T14:04:11.380Z"
   },
   {
    "duration": 197,
    "start_time": "2023-07-13T14:04:11.759Z"
   },
   {
    "duration": 5,
    "start_time": "2023-07-13T14:04:11.958Z"
   },
   {
    "duration": 195,
    "start_time": "2023-07-13T14:04:11.965Z"
   },
   {
    "duration": 5,
    "start_time": "2023-07-13T14:04:12.162Z"
   },
   {
    "duration": 353,
    "start_time": "2023-07-13T14:04:12.168Z"
   },
   {
    "duration": 210,
    "start_time": "2023-07-13T14:04:12.523Z"
   },
   {
    "duration": 22,
    "start_time": "2023-07-13T14:04:12.735Z"
   },
   {
    "duration": 12,
    "start_time": "2023-07-13T14:04:12.758Z"
   },
   {
    "duration": 15,
    "start_time": "2023-07-13T14:04:12.772Z"
   },
   {
    "duration": 19,
    "start_time": "2023-07-13T14:04:12.801Z"
   },
   {
    "duration": 42,
    "start_time": "2023-07-13T14:04:12.822Z"
   },
   {
    "duration": 23,
    "start_time": "2023-07-13T14:04:12.866Z"
   },
   {
    "duration": 25,
    "start_time": "2023-07-13T14:04:12.892Z"
   },
   {
    "duration": 20,
    "start_time": "2023-07-13T14:04:12.919Z"
   },
   {
    "duration": 6,
    "start_time": "2023-07-13T14:06:06.131Z"
   },
   {
    "duration": 1325,
    "start_time": "2023-07-13T14:06:10.608Z"
   },
   {
    "duration": 48,
    "start_time": "2023-07-13T14:06:11.936Z"
   },
   {
    "duration": 76,
    "start_time": "2023-07-13T14:06:11.986Z"
   },
   {
    "duration": 54,
    "start_time": "2023-07-13T14:06:12.063Z"
   },
   {
    "duration": 12,
    "start_time": "2023-07-13T14:06:12.120Z"
   },
   {
    "duration": 41,
    "start_time": "2023-07-13T14:06:12.133Z"
   },
   {
    "duration": 9,
    "start_time": "2023-07-13T14:06:12.176Z"
   },
   {
    "duration": 17,
    "start_time": "2023-07-13T14:06:12.186Z"
   },
   {
    "duration": 21,
    "start_time": "2023-07-13T14:06:12.204Z"
   },
   {
    "duration": 29,
    "start_time": "2023-07-13T14:06:12.227Z"
   },
   {
    "duration": 17,
    "start_time": "2023-07-13T14:06:12.257Z"
   },
   {
    "duration": 18,
    "start_time": "2023-07-13T14:06:12.275Z"
   },
   {
    "duration": 31,
    "start_time": "2023-07-13T14:06:12.295Z"
   },
   {
    "duration": 23,
    "start_time": "2023-07-13T14:06:12.329Z"
   },
   {
    "duration": 28,
    "start_time": "2023-07-13T14:06:12.354Z"
   },
   {
    "duration": 14,
    "start_time": "2023-07-13T14:06:12.386Z"
   },
   {
    "duration": 40,
    "start_time": "2023-07-13T14:06:12.402Z"
   },
   {
    "duration": 11,
    "start_time": "2023-07-13T14:06:12.445Z"
   },
   {
    "duration": 6,
    "start_time": "2023-07-13T14:06:12.458Z"
   },
   {
    "duration": 20,
    "start_time": "2023-07-13T14:06:12.466Z"
   },
   {
    "duration": 22,
    "start_time": "2023-07-13T14:06:12.488Z"
   },
   {
    "duration": 5,
    "start_time": "2023-07-13T14:06:12.512Z"
   },
   {
    "duration": 13,
    "start_time": "2023-07-13T14:06:12.519Z"
   },
   {
    "duration": 15,
    "start_time": "2023-07-13T14:06:12.534Z"
   },
   {
    "duration": 12,
    "start_time": "2023-07-13T14:06:12.551Z"
   },
   {
    "duration": 27,
    "start_time": "2023-07-13T14:06:12.564Z"
   },
   {
    "duration": 36,
    "start_time": "2023-07-13T14:06:12.593Z"
   },
   {
    "duration": 83,
    "start_time": "2023-07-13T14:06:12.631Z"
   },
   {
    "duration": 13,
    "start_time": "2023-07-13T14:06:12.721Z"
   },
   {
    "duration": 319,
    "start_time": "2023-07-13T14:06:12.736Z"
   },
   {
    "duration": 339,
    "start_time": "2023-07-13T14:06:13.057Z"
   },
   {
    "duration": 243,
    "start_time": "2023-07-13T14:06:13.398Z"
   },
   {
    "duration": 337,
    "start_time": "2023-07-13T14:06:13.643Z"
   },
   {
    "duration": 380,
    "start_time": "2023-07-13T14:06:13.981Z"
   },
   {
    "duration": 416,
    "start_time": "2023-07-13T14:06:14.363Z"
   },
   {
    "duration": 203,
    "start_time": "2023-07-13T14:06:14.781Z"
   },
   {
    "duration": 19,
    "start_time": "2023-07-13T14:06:14.986Z"
   },
   {
    "duration": 285,
    "start_time": "2023-07-13T14:06:15.008Z"
   },
   {
    "duration": 16,
    "start_time": "2023-07-13T14:06:15.294Z"
   },
   {
    "duration": 368,
    "start_time": "2023-07-13T14:06:15.319Z"
   },
   {
    "duration": 170,
    "start_time": "2023-07-13T14:06:15.692Z"
   },
   {
    "duration": 49,
    "start_time": "2023-07-13T14:06:15.864Z"
   },
   {
    "duration": 13,
    "start_time": "2023-07-13T14:06:15.918Z"
   },
   {
    "duration": 15,
    "start_time": "2023-07-13T14:06:15.933Z"
   },
   {
    "duration": 16,
    "start_time": "2023-07-13T14:06:15.950Z"
   },
   {
    "duration": 44,
    "start_time": "2023-07-13T14:06:15.968Z"
   },
   {
    "duration": 25,
    "start_time": "2023-07-13T14:06:16.014Z"
   },
   {
    "duration": 23,
    "start_time": "2023-07-13T14:06:16.042Z"
   },
   {
    "duration": 11,
    "start_time": "2023-07-13T14:06:16.067Z"
   },
   {
    "duration": 1229,
    "start_time": "2023-07-13T14:08:34.402Z"
   },
   {
    "duration": 51,
    "start_time": "2023-07-13T14:08:35.633Z"
   },
   {
    "duration": 62,
    "start_time": "2023-07-13T14:08:35.686Z"
   },
   {
    "duration": 44,
    "start_time": "2023-07-13T14:08:35.751Z"
   },
   {
    "duration": 24,
    "start_time": "2023-07-13T14:08:35.796Z"
   },
   {
    "duration": 45,
    "start_time": "2023-07-13T14:08:35.823Z"
   },
   {
    "duration": 17,
    "start_time": "2023-07-13T14:08:35.870Z"
   },
   {
    "duration": 47,
    "start_time": "2023-07-13T14:08:35.889Z"
   },
   {
    "duration": 29,
    "start_time": "2023-07-13T14:08:35.938Z"
   },
   {
    "duration": 20,
    "start_time": "2023-07-13T14:08:35.971Z"
   },
   {
    "duration": 27,
    "start_time": "2023-07-13T14:08:35.993Z"
   },
   {
    "duration": 15,
    "start_time": "2023-07-13T14:08:36.022Z"
   },
   {
    "duration": 37,
    "start_time": "2023-07-13T14:08:36.041Z"
   },
   {
    "duration": 40,
    "start_time": "2023-07-13T14:08:36.080Z"
   },
   {
    "duration": 34,
    "start_time": "2023-07-13T14:08:36.122Z"
   },
   {
    "duration": 20,
    "start_time": "2023-07-13T14:08:36.158Z"
   },
   {
    "duration": 32,
    "start_time": "2023-07-13T14:08:36.180Z"
   },
   {
    "duration": 13,
    "start_time": "2023-07-13T14:08:36.214Z"
   },
   {
    "duration": 18,
    "start_time": "2023-07-13T14:08:36.233Z"
   },
   {
    "duration": 30,
    "start_time": "2023-07-13T14:08:36.253Z"
   },
   {
    "duration": 24,
    "start_time": "2023-07-13T14:08:36.286Z"
   },
   {
    "duration": 19,
    "start_time": "2023-07-13T14:08:36.314Z"
   },
   {
    "duration": 17,
    "start_time": "2023-07-13T14:08:36.335Z"
   },
   {
    "duration": 22,
    "start_time": "2023-07-13T14:08:36.356Z"
   },
   {
    "duration": 11,
    "start_time": "2023-07-13T14:08:36.381Z"
   },
   {
    "duration": 55,
    "start_time": "2023-07-13T14:08:36.396Z"
   },
   {
    "duration": 46,
    "start_time": "2023-07-13T14:08:36.453Z"
   },
   {
    "duration": 109,
    "start_time": "2023-07-13T14:08:36.504Z"
   },
   {
    "duration": 16,
    "start_time": "2023-07-13T14:08:36.614Z"
   },
   {
    "duration": 305,
    "start_time": "2023-07-13T14:08:36.632Z"
   },
   {
    "duration": 340,
    "start_time": "2023-07-13T14:08:36.939Z"
   },
   {
    "duration": 237,
    "start_time": "2023-07-13T14:08:37.282Z"
   },
   {
    "duration": 326,
    "start_time": "2023-07-13T14:08:37.522Z"
   },
   {
    "duration": 346,
    "start_time": "2023-07-13T14:08:37.850Z"
   },
   {
    "duration": 368,
    "start_time": "2023-07-13T14:08:38.199Z"
   },
   {
    "duration": 191,
    "start_time": "2023-07-13T14:08:38.569Z"
   },
   {
    "duration": 5,
    "start_time": "2023-07-13T14:08:38.762Z"
   },
   {
    "duration": 193,
    "start_time": "2023-07-13T14:08:38.769Z"
   },
   {
    "duration": 4,
    "start_time": "2023-07-13T14:08:38.964Z"
   },
   {
    "duration": 365,
    "start_time": "2023-07-13T14:08:38.970Z"
   },
   {
    "duration": 212,
    "start_time": "2023-07-13T14:08:39.337Z"
   },
   {
    "duration": 27,
    "start_time": "2023-07-13T14:08:39.551Z"
   },
   {
    "duration": 44,
    "start_time": "2023-07-13T14:08:39.580Z"
   },
   {
    "duration": 20,
    "start_time": "2023-07-13T14:08:39.626Z"
   },
   {
    "duration": 18,
    "start_time": "2023-07-13T14:08:39.648Z"
   },
   {
    "duration": 60,
    "start_time": "2023-07-13T14:08:39.667Z"
   },
   {
    "duration": 27,
    "start_time": "2023-07-13T14:08:39.729Z"
   },
   {
    "duration": 15,
    "start_time": "2023-07-13T14:08:39.757Z"
   },
   {
    "duration": 53,
    "start_time": "2023-07-13T14:08:39.774Z"
   },
   {
    "duration": 1214,
    "start_time": "2023-07-13T14:45:21.144Z"
   },
   {
    "duration": 79,
    "start_time": "2023-07-13T14:45:22.360Z"
   },
   {
    "duration": 45,
    "start_time": "2023-07-13T14:45:22.441Z"
   },
   {
    "duration": 84,
    "start_time": "2023-07-13T14:45:22.489Z"
   },
   {
    "duration": 13,
    "start_time": "2023-07-13T14:45:22.575Z"
   },
   {
    "duration": 12,
    "start_time": "2023-07-13T14:45:22.590Z"
   },
   {
    "duration": 6,
    "start_time": "2023-07-13T14:45:22.604Z"
   },
   {
    "duration": 8,
    "start_time": "2023-07-13T14:45:22.611Z"
   },
   {
    "duration": 4,
    "start_time": "2023-07-13T14:45:22.620Z"
   },
   {
    "duration": 16,
    "start_time": "2023-07-13T14:45:22.628Z"
   },
   {
    "duration": 14,
    "start_time": "2023-07-13T14:45:22.654Z"
   },
   {
    "duration": 7,
    "start_time": "2023-07-13T14:45:22.670Z"
   },
   {
    "duration": 7,
    "start_time": "2023-07-13T14:45:22.679Z"
   },
   {
    "duration": 10,
    "start_time": "2023-07-13T14:45:22.688Z"
   },
   {
    "duration": 9,
    "start_time": "2023-07-13T14:45:22.700Z"
   },
   {
    "duration": 16,
    "start_time": "2023-07-13T14:45:22.710Z"
   },
   {
    "duration": 34,
    "start_time": "2023-07-13T14:45:22.728Z"
   },
   {
    "duration": 9,
    "start_time": "2023-07-13T14:45:22.764Z"
   },
   {
    "duration": 4,
    "start_time": "2023-07-13T14:45:22.774Z"
   },
   {
    "duration": 5,
    "start_time": "2023-07-13T14:45:22.779Z"
   },
   {
    "duration": 9,
    "start_time": "2023-07-13T14:45:22.785Z"
   },
   {
    "duration": 5,
    "start_time": "2023-07-13T14:45:22.796Z"
   },
   {
    "duration": 20,
    "start_time": "2023-07-13T14:45:22.802Z"
   },
   {
    "duration": 8,
    "start_time": "2023-07-13T14:45:22.824Z"
   },
   {
    "duration": 15,
    "start_time": "2023-07-13T14:45:22.833Z"
   },
   {
    "duration": 37,
    "start_time": "2023-07-13T14:45:22.849Z"
   },
   {
    "duration": 15,
    "start_time": "2023-07-13T14:45:22.887Z"
   },
   {
    "duration": 58,
    "start_time": "2023-07-13T14:45:22.905Z"
   },
   {
    "duration": 13,
    "start_time": "2023-07-13T14:45:22.965Z"
   },
   {
    "duration": 304,
    "start_time": "2023-07-13T14:45:22.980Z"
   },
   {
    "duration": 306,
    "start_time": "2023-07-13T14:45:23.286Z"
   },
   {
    "duration": 219,
    "start_time": "2023-07-13T14:45:23.594Z"
   },
   {
    "duration": 351,
    "start_time": "2023-07-13T14:45:23.815Z"
   },
   {
    "duration": 348,
    "start_time": "2023-07-13T14:45:24.169Z"
   },
   {
    "duration": 357,
    "start_time": "2023-07-13T14:45:24.519Z"
   },
   {
    "duration": 151,
    "start_time": "2023-07-13T14:45:24.878Z"
   },
   {
    "duration": 4,
    "start_time": "2023-07-13T14:45:25.031Z"
   },
   {
    "duration": 178,
    "start_time": "2023-07-13T14:45:25.037Z"
   },
   {
    "duration": 4,
    "start_time": "2023-07-13T14:45:25.217Z"
   },
   {
    "duration": 309,
    "start_time": "2023-07-13T14:45:25.223Z"
   },
   {
    "duration": 196,
    "start_time": "2023-07-13T14:45:25.534Z"
   },
   {
    "duration": 36,
    "start_time": "2023-07-13T14:45:25.732Z"
   },
   {
    "duration": 11,
    "start_time": "2023-07-13T14:45:25.770Z"
   },
   {
    "duration": 27,
    "start_time": "2023-07-13T14:45:25.783Z"
   },
   {
    "duration": 9,
    "start_time": "2023-07-13T14:45:25.812Z"
   },
   {
    "duration": 46,
    "start_time": "2023-07-13T14:45:25.822Z"
   },
   {
    "duration": 22,
    "start_time": "2023-07-13T14:45:25.870Z"
   },
   {
    "duration": 13,
    "start_time": "2023-07-13T14:45:25.894Z"
   },
   {
    "duration": 24,
    "start_time": "2023-07-13T14:45:25.909Z"
   },
   {
    "duration": 1451,
    "start_time": "2023-10-04T12:46:54.981Z"
   },
   {
    "duration": 98,
    "start_time": "2023-10-04T12:46:56.435Z"
   },
   {
    "duration": 222,
    "start_time": "2023-10-04T12:46:56.535Z"
   },
   {
    "duration": 93,
    "start_time": "2023-10-04T12:46:56.759Z"
   },
   {
    "duration": 12,
    "start_time": "2023-10-04T12:46:56.854Z"
   },
   {
    "duration": 30,
    "start_time": "2023-10-04T12:46:56.867Z"
   },
   {
    "duration": 13,
    "start_time": "2023-10-04T12:46:56.899Z"
   },
   {
    "duration": 68,
    "start_time": "2023-10-04T12:46:56.914Z"
   },
   {
    "duration": 23,
    "start_time": "2023-10-04T12:46:56.984Z"
   },
   {
    "duration": 40,
    "start_time": "2023-10-04T12:46:57.009Z"
   },
   {
    "duration": 53,
    "start_time": "2023-10-04T12:46:57.050Z"
   },
   {
    "duration": 17,
    "start_time": "2023-10-04T12:46:57.104Z"
   },
   {
    "duration": 31,
    "start_time": "2023-10-04T12:46:57.123Z"
   },
   {
    "duration": 19,
    "start_time": "2023-10-04T12:46:57.157Z"
   },
   {
    "duration": 23,
    "start_time": "2023-10-04T12:46:57.177Z"
   },
   {
    "duration": 20,
    "start_time": "2023-10-04T12:46:57.202Z"
   },
   {
    "duration": 24,
    "start_time": "2023-10-04T12:46:57.224Z"
   },
   {
    "duration": 15,
    "start_time": "2023-10-04T12:46:57.250Z"
   },
   {
    "duration": 14,
    "start_time": "2023-10-04T12:46:57.266Z"
   },
   {
    "duration": 9,
    "start_time": "2023-10-04T12:46:57.282Z"
   },
   {
    "duration": 18,
    "start_time": "2023-10-04T12:46:57.292Z"
   },
   {
    "duration": 24,
    "start_time": "2023-10-04T12:46:57.312Z"
   },
   {
    "duration": 21,
    "start_time": "2023-10-04T12:46:57.338Z"
   },
   {
    "duration": 47,
    "start_time": "2023-10-04T12:46:57.361Z"
   },
   {
    "duration": 58,
    "start_time": "2023-10-04T12:46:57.410Z"
   },
   {
    "duration": 31,
    "start_time": "2023-10-04T12:46:57.470Z"
   },
   {
    "duration": 58,
    "start_time": "2023-10-04T12:46:57.502Z"
   },
   {
    "duration": 120,
    "start_time": "2023-10-04T12:46:57.562Z"
   },
   {
    "duration": 14,
    "start_time": "2023-10-04T12:46:57.684Z"
   },
   {
    "duration": 324,
    "start_time": "2023-10-04T12:46:57.700Z"
   },
   {
    "duration": 306,
    "start_time": "2023-10-04T12:46:58.026Z"
   },
   {
    "duration": 220,
    "start_time": "2023-10-04T12:46:58.334Z"
   },
   {
    "duration": 396,
    "start_time": "2023-10-04T12:46:58.556Z"
   },
   {
    "duration": 343,
    "start_time": "2023-10-04T12:46:58.954Z"
   },
   {
    "duration": 359,
    "start_time": "2023-10-04T12:46:59.299Z"
   },
   {
    "duration": 158,
    "start_time": "2023-10-04T12:46:59.659Z"
   },
   {
    "duration": 4,
    "start_time": "2023-10-04T12:46:59.819Z"
   },
   {
    "duration": 186,
    "start_time": "2023-10-04T12:46:59.825Z"
   },
   {
    "duration": 4,
    "start_time": "2023-10-04T12:47:00.013Z"
   },
   {
    "duration": 329,
    "start_time": "2023-10-04T12:47:00.019Z"
   },
   {
    "duration": 781,
    "start_time": "2023-10-04T12:47:00.352Z"
   },
   {
    "duration": 61,
    "start_time": "2023-10-04T12:47:01.136Z"
   },
   {
    "duration": 1934,
    "start_time": "2023-10-04T12:47:01.200Z"
   },
   {
    "duration": 351,
    "start_time": "2023-10-04T12:47:03.136Z"
   },
   {
    "duration": 30,
    "start_time": "2023-10-04T12:47:03.490Z"
   },
   {
    "duration": 78,
    "start_time": "2023-10-04T12:47:03.522Z"
   },
   {
    "duration": 26,
    "start_time": "2023-10-04T12:47:03.603Z"
   },
   {
    "duration": 22,
    "start_time": "2023-10-04T12:47:03.630Z"
   },
   {
    "duration": 32,
    "start_time": "2023-10-04T12:47:03.654Z"
   },
   {
    "duration": 3003,
    "start_time": "2023-10-07T11:48:06.500Z"
   },
   {
    "duration": 73,
    "start_time": "2023-10-07T11:48:09.505Z"
   },
   {
    "duration": 87,
    "start_time": "2023-10-07T11:48:09.579Z"
   },
   {
    "duration": 87,
    "start_time": "2023-10-07T11:48:09.667Z"
   },
   {
    "duration": 17,
    "start_time": "2023-10-07T11:48:09.761Z"
   },
   {
    "duration": 14,
    "start_time": "2023-10-07T11:48:09.781Z"
   },
   {
    "duration": 20,
    "start_time": "2023-10-07T11:48:09.797Z"
   },
   {
    "duration": 33,
    "start_time": "2023-10-07T11:48:09.819Z"
   },
   {
    "duration": 8,
    "start_time": "2023-10-07T11:48:09.854Z"
   },
   {
    "duration": 19,
    "start_time": "2023-10-07T11:48:09.867Z"
   },
   {
    "duration": 15,
    "start_time": "2023-10-07T11:48:09.888Z"
   },
   {
    "duration": 33,
    "start_time": "2023-10-07T11:48:09.905Z"
   },
   {
    "duration": 30,
    "start_time": "2023-10-07T11:48:09.940Z"
   },
   {
    "duration": 23,
    "start_time": "2023-10-07T11:48:09.974Z"
   },
   {
    "duration": 33,
    "start_time": "2023-10-07T11:48:09.999Z"
   },
   {
    "duration": 29,
    "start_time": "2023-10-07T11:48:10.034Z"
   },
   {
    "duration": 33,
    "start_time": "2023-10-07T11:48:10.065Z"
   },
   {
    "duration": 14,
    "start_time": "2023-10-07T11:48:10.100Z"
   },
   {
    "duration": 12,
    "start_time": "2023-10-07T11:48:10.116Z"
   },
   {
    "duration": 25,
    "start_time": "2023-10-07T11:48:10.129Z"
   },
   {
    "duration": 25,
    "start_time": "2023-10-07T11:48:10.162Z"
   },
   {
    "duration": 19,
    "start_time": "2023-10-07T11:48:10.188Z"
   },
   {
    "duration": 31,
    "start_time": "2023-10-07T11:48:10.209Z"
   },
   {
    "duration": 19,
    "start_time": "2023-10-07T11:48:10.242Z"
   },
   {
    "duration": 19,
    "start_time": "2023-10-07T11:48:10.263Z"
   },
   {
    "duration": 25,
    "start_time": "2023-10-07T11:48:10.284Z"
   },
   {
    "duration": 36,
    "start_time": "2023-10-07T11:48:10.311Z"
   },
   {
    "duration": 85,
    "start_time": "2023-10-07T11:48:10.349Z"
   },
   {
    "duration": 26,
    "start_time": "2023-10-07T11:48:10.436Z"
   },
   {
    "duration": 299,
    "start_time": "2023-10-07T11:48:10.464Z"
   },
   {
    "duration": 321,
    "start_time": "2023-10-07T11:48:10.765Z"
   },
   {
    "duration": 256,
    "start_time": "2023-10-07T11:48:11.088Z"
   },
   {
    "duration": 352,
    "start_time": "2023-10-07T11:48:11.345Z"
   },
   {
    "duration": 333,
    "start_time": "2023-10-07T11:48:11.699Z"
   },
   {
    "duration": 448,
    "start_time": "2023-10-07T11:48:12.034Z"
   },
   {
    "duration": 163,
    "start_time": "2023-10-07T11:48:12.483Z"
   },
   {
    "duration": 9,
    "start_time": "2023-10-07T11:48:12.658Z"
   },
   {
    "duration": 201,
    "start_time": "2023-10-07T11:48:12.670Z"
   },
   {
    "duration": 6,
    "start_time": "2023-10-07T11:48:12.874Z"
   },
   {
    "duration": 397,
    "start_time": "2023-10-07T11:48:12.883Z"
   },
   {
    "duration": 231,
    "start_time": "2023-10-07T11:48:13.285Z"
   },
   {
    "duration": 50,
    "start_time": "2023-10-07T11:48:13.517Z"
   },
   {
    "duration": 15,
    "start_time": "2023-10-07T11:48:13.570Z"
   },
   {
    "duration": 12,
    "start_time": "2023-10-07T11:48:13.587Z"
   },
   {
    "duration": 18,
    "start_time": "2023-10-07T11:48:13.601Z"
   },
   {
    "duration": 76,
    "start_time": "2023-10-07T11:48:13.621Z"
   },
   {
    "duration": 33,
    "start_time": "2023-10-07T11:48:13.700Z"
   },
   {
    "duration": 18,
    "start_time": "2023-10-07T11:48:13.748Z"
   },
   {
    "duration": 12,
    "start_time": "2023-10-07T11:48:13.767Z"
   }
  ],
  "kernelspec": {
   "display_name": "Python 3 (ipykernel)",
   "language": "python",
   "name": "python3"
  },
  "language_info": {
   "codemirror_mode": {
    "name": "ipython",
    "version": 3
   },
   "file_extension": ".py",
   "mimetype": "text/x-python",
   "name": "python",
   "nbconvert_exporter": "python",
   "pygments_lexer": "ipython3",
   "version": "3.9.13"
  },
  "toc": {
   "base_numbering": 1,
   "nav_menu": {},
   "number_sections": true,
   "sideBar": true,
   "skip_h1_title": true,
   "title_cell": "Table of Contents",
   "title_sidebar": "Contents",
   "toc_cell": false,
   "toc_position": {},
   "toc_section_display": true,
   "toc_window_display": false
  }
 },
 "nbformat": 4,
 "nbformat_minor": 2
}
