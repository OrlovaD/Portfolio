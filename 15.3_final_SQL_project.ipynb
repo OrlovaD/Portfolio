{
 "cells": [
  {
   "cell_type": "markdown",
   "id": "550d3d9e",
   "metadata": {},
   "source": [
    "# Проект SQL"
   ]
  },
  {
   "cell_type": "markdown",
   "id": "70235f13",
   "metadata": {},
   "source": [
    "# Анализ базы данных книжного магазина"
   ]
  },
  {
   "cell_type": "markdown",
   "id": "c7feb9e7",
   "metadata": {},
   "source": [
    "\n",
    "**Описание:**\n",
    "Компания купила крупный сервис для чтения книг по подписке, которая содержит информацию о книгах, издательствах, авторах, а также пользовательские обзоры книг. \n",
    "\n",
    "____\n",
    "**Цель исследования:**\n",
    "Полученные данные должны помочь сформулировать ценностное предложение для нового продукта.\n",
    " \n",
    "_____\n",
    "**Задачи исследования:**\n",
    "\n",
    "Проанализировать полученную базу данных - рейтинги, издательства и тд."
   ]
  },
  {
   "cell_type": "markdown",
   "id": "eabdf7af",
   "metadata": {},
   "source": [
    "1. [**Знакомство с данными**](#start)\n",
    "\n",
    "\n",
    "2. [**Исследование данных**](#eda)\n",
    "    * [Задача 1](#01) - книги после 1 января 2000 года\n",
    "    * [Задача 2](#02) - количество обзоров и средняя оценка для каждой книги\n",
    "    * [Задача 3](#03) - издательство,выпустившее наибольшее число книг толще 50 страниц\n",
    "    * [Задача 4](#04) - автор с самой высокой средней оценкой книг с 50 и более оценками\n",
    "    * [Задача 5](#05) - среднее количество обзоров от пользователей, которые поставили больше 48 оценок\n",
    "    \n",
    "        \n",
    "5. [**Выводы**](#end)"
   ]
  },
  {
   "cell_type": "markdown",
   "id": "05371ef9",
   "metadata": {},
   "source": [
    "Импортируем нужные библиотеки:"
   ]
  },
  {
   "cell_type": "code",
   "execution_count": 2,
   "id": "b5fb1d89",
   "metadata": {},
   "outputs": [],
   "source": [
    "import pandas as pd\n",
    "import sqlalchemy as sa\n",
    "from IPython.display import Image"
   ]
  },
  {
   "cell_type": "markdown",
   "id": "5d519dc1",
   "metadata": {},
   "source": [
    "Устанавливаем параметры, сохраняем коннектор чтобы выполнить SQL-запрос, пишем функцию с использованием Pandas:"
   ]
  },
  {
   "cell_type": "code",
   "execution_count": 3,
   "id": "1673990f",
   "metadata": {},
   "outputs": [],
   "source": [
    "# устанавливаем параметры\n",
    "db_config = {\n",
    "'user': 'praktikum_student', # имя пользователя\n",
    "'pwd': 'Sdf4$2;d-d30pp', # пароль\n",
    "'host': 'rc1b-wcoijxj3yxfsf3fs.mdb.yandexcloud.net',\n",
    "'port': 6432, # порт подключения\n",
    "'db': 'data-analyst-final-project-db' # название базы данных\n",
    "}\n",
    "connection_string = 'postgresql://{user}:{pwd}@{host}:{port}/{db}'.format(**db_config)\n",
    "# сохраняем коннектор\n",
    "engine = sa.create_engine(connection_string, connect_args={'sslmode':'require'})\n",
    "# чтобы выполнить SQL-запрос, пишем функцию с использованием Pandas\n",
    "def get_sql_data(query:str, engine:sa.engine.base.Engine=engine) -> pd.DataFrame:\n",
    "    '''\n",
    "    Открываем соединение, получаем данные из sql, закрываем соединение\n",
    "    '''\n",
    "    with engine.connect() as con:\n",
    "        return pd.read_sql(sql=sa.text(query), con = con)"
   ]
  },
  {
   "cell_type": "markdown",
   "id": "55b2147c",
   "metadata": {},
   "source": [
    "## Знакомство с данными<a id=\"eda\"></a>"
   ]
  },
  {
   "cell_type": "markdown",
   "id": "8c7f8527",
   "metadata": {},
   "source": [
    "Используем цикл чтобы вывести информацию по всем таблицам, и количество строк в каждой таблице:"
   ]
  },
  {
   "cell_type": "code",
   "execution_count": 4,
   "id": "4f1dcf1f",
   "metadata": {},
   "outputs": [
    {
     "name": "stdout",
     "output_type": "stream",
     "text": [
      "=====books=====\n"
     ]
    },
    {
     "data": {
      "text/html": [
       "<div>\n",
       "<style scoped>\n",
       "    .dataframe tbody tr th:only-of-type {\n",
       "        vertical-align: middle;\n",
       "    }\n",
       "\n",
       "    .dataframe tbody tr th {\n",
       "        vertical-align: top;\n",
       "    }\n",
       "\n",
       "    .dataframe thead th {\n",
       "        text-align: right;\n",
       "    }\n",
       "</style>\n",
       "<table border=\"1\" class=\"dataframe\">\n",
       "  <thead>\n",
       "    <tr style=\"text-align: right;\">\n",
       "      <th></th>\n",
       "      <th>book_id</th>\n",
       "      <th>author_id</th>\n",
       "      <th>title</th>\n",
       "      <th>num_pages</th>\n",
       "      <th>publication_date</th>\n",
       "      <th>publisher_id</th>\n",
       "    </tr>\n",
       "  </thead>\n",
       "  <tbody>\n",
       "    <tr>\n",
       "      <th>0</th>\n",
       "      <td>1</td>\n",
       "      <td>546</td>\n",
       "      <td>'Salem's Lot</td>\n",
       "      <td>594</td>\n",
       "      <td>2005-11-01</td>\n",
       "      <td>93</td>\n",
       "    </tr>\n",
       "    <tr>\n",
       "      <th>1</th>\n",
       "      <td>2</td>\n",
       "      <td>465</td>\n",
       "      <td>1 000 Places to See Before You Die</td>\n",
       "      <td>992</td>\n",
       "      <td>2003-05-22</td>\n",
       "      <td>336</td>\n",
       "    </tr>\n",
       "    <tr>\n",
       "      <th>2</th>\n",
       "      <td>3</td>\n",
       "      <td>407</td>\n",
       "      <td>13 Little Blue Envelopes (Little Blue Envelope...</td>\n",
       "      <td>322</td>\n",
       "      <td>2010-12-21</td>\n",
       "      <td>135</td>\n",
       "    </tr>\n",
       "    <tr>\n",
       "      <th>3</th>\n",
       "      <td>4</td>\n",
       "      <td>82</td>\n",
       "      <td>1491: New Revelations of the Americas Before C...</td>\n",
       "      <td>541</td>\n",
       "      <td>2006-10-10</td>\n",
       "      <td>309</td>\n",
       "    </tr>\n",
       "    <tr>\n",
       "      <th>4</th>\n",
       "      <td>5</td>\n",
       "      <td>125</td>\n",
       "      <td>1776</td>\n",
       "      <td>386</td>\n",
       "      <td>2006-07-04</td>\n",
       "      <td>268</td>\n",
       "    </tr>\n",
       "  </tbody>\n",
       "</table>\n",
       "</div>"
      ],
      "text/plain": [
       "   book_id  author_id                                              title  \\\n",
       "0        1        546                                       'Salem's Lot   \n",
       "1        2        465                 1 000 Places to See Before You Die   \n",
       "2        3        407  13 Little Blue Envelopes (Little Blue Envelope...   \n",
       "3        4         82  1491: New Revelations of the Americas Before C...   \n",
       "4        5        125                                               1776   \n",
       "\n",
       "   num_pages publication_date  publisher_id  \n",
       "0        594       2005-11-01            93  \n",
       "1        992       2003-05-22           336  \n",
       "2        322       2010-12-21           135  \n",
       "3        541       2006-10-10           309  \n",
       "4        386       2006-07-04           268  "
      ]
     },
     "metadata": {},
     "output_type": "display_data"
    },
    {
     "name": "stdout",
     "output_type": "stream",
     "text": [
      "<class 'pandas.core.frame.DataFrame'>\n",
      "RangeIndex: 1000 entries, 0 to 999\n",
      "Data columns (total 6 columns):\n",
      " #   Column            Non-Null Count  Dtype \n",
      "---  ------            --------------  ----- \n",
      " 0   book_id           1000 non-null   int64 \n",
      " 1   author_id         1000 non-null   int64 \n",
      " 2   title             1000 non-null   object\n",
      " 3   num_pages         1000 non-null   int64 \n",
      " 4   publication_date  1000 non-null   object\n",
      " 5   publisher_id      1000 non-null   int64 \n",
      "dtypes: int64(4), object(2)\n",
      "memory usage: 47.0+ KB\n",
      "None\n",
      "Количество строк: 1000\n",
      "\n",
      "=====authors=====\n"
     ]
    },
    {
     "data": {
      "text/html": [
       "<div>\n",
       "<style scoped>\n",
       "    .dataframe tbody tr th:only-of-type {\n",
       "        vertical-align: middle;\n",
       "    }\n",
       "\n",
       "    .dataframe tbody tr th {\n",
       "        vertical-align: top;\n",
       "    }\n",
       "\n",
       "    .dataframe thead th {\n",
       "        text-align: right;\n",
       "    }\n",
       "</style>\n",
       "<table border=\"1\" class=\"dataframe\">\n",
       "  <thead>\n",
       "    <tr style=\"text-align: right;\">\n",
       "      <th></th>\n",
       "      <th>author_id</th>\n",
       "      <th>author</th>\n",
       "    </tr>\n",
       "  </thead>\n",
       "  <tbody>\n",
       "    <tr>\n",
       "      <th>0</th>\n",
       "      <td>1</td>\n",
       "      <td>A.S. Byatt</td>\n",
       "    </tr>\n",
       "    <tr>\n",
       "      <th>1</th>\n",
       "      <td>2</td>\n",
       "      <td>Aesop/Laura Harris/Laura Gibbs</td>\n",
       "    </tr>\n",
       "    <tr>\n",
       "      <th>2</th>\n",
       "      <td>3</td>\n",
       "      <td>Agatha Christie</td>\n",
       "    </tr>\n",
       "    <tr>\n",
       "      <th>3</th>\n",
       "      <td>4</td>\n",
       "      <td>Alan Brennert</td>\n",
       "    </tr>\n",
       "    <tr>\n",
       "      <th>4</th>\n",
       "      <td>5</td>\n",
       "      <td>Alan Moore/David   Lloyd</td>\n",
       "    </tr>\n",
       "  </tbody>\n",
       "</table>\n",
       "</div>"
      ],
      "text/plain": [
       "   author_id                          author\n",
       "0          1                      A.S. Byatt\n",
       "1          2  Aesop/Laura Harris/Laura Gibbs\n",
       "2          3                 Agatha Christie\n",
       "3          4                   Alan Brennert\n",
       "4          5        Alan Moore/David   Lloyd"
      ]
     },
     "metadata": {},
     "output_type": "display_data"
    },
    {
     "name": "stdout",
     "output_type": "stream",
     "text": [
      "<class 'pandas.core.frame.DataFrame'>\n",
      "RangeIndex: 636 entries, 0 to 635\n",
      "Data columns (total 2 columns):\n",
      " #   Column     Non-Null Count  Dtype \n",
      "---  ------     --------------  ----- \n",
      " 0   author_id  636 non-null    int64 \n",
      " 1   author     636 non-null    object\n",
      "dtypes: int64(1), object(1)\n",
      "memory usage: 10.1+ KB\n",
      "None\n",
      "Количество строк: 636\n",
      "\n",
      "=====publishers=====\n"
     ]
    },
    {
     "data": {
      "text/html": [
       "<div>\n",
       "<style scoped>\n",
       "    .dataframe tbody tr th:only-of-type {\n",
       "        vertical-align: middle;\n",
       "    }\n",
       "\n",
       "    .dataframe tbody tr th {\n",
       "        vertical-align: top;\n",
       "    }\n",
       "\n",
       "    .dataframe thead th {\n",
       "        text-align: right;\n",
       "    }\n",
       "</style>\n",
       "<table border=\"1\" class=\"dataframe\">\n",
       "  <thead>\n",
       "    <tr style=\"text-align: right;\">\n",
       "      <th></th>\n",
       "      <th>publisher_id</th>\n",
       "      <th>publisher</th>\n",
       "    </tr>\n",
       "  </thead>\n",
       "  <tbody>\n",
       "    <tr>\n",
       "      <th>0</th>\n",
       "      <td>1</td>\n",
       "      <td>Ace</td>\n",
       "    </tr>\n",
       "    <tr>\n",
       "      <th>1</th>\n",
       "      <td>2</td>\n",
       "      <td>Ace Book</td>\n",
       "    </tr>\n",
       "    <tr>\n",
       "      <th>2</th>\n",
       "      <td>3</td>\n",
       "      <td>Ace Books</td>\n",
       "    </tr>\n",
       "    <tr>\n",
       "      <th>3</th>\n",
       "      <td>4</td>\n",
       "      <td>Ace Hardcover</td>\n",
       "    </tr>\n",
       "    <tr>\n",
       "      <th>4</th>\n",
       "      <td>5</td>\n",
       "      <td>Addison Wesley Publishing Company</td>\n",
       "    </tr>\n",
       "  </tbody>\n",
       "</table>\n",
       "</div>"
      ],
      "text/plain": [
       "   publisher_id                          publisher\n",
       "0             1                                Ace\n",
       "1             2                           Ace Book\n",
       "2             3                          Ace Books\n",
       "3             4                      Ace Hardcover\n",
       "4             5  Addison Wesley Publishing Company"
      ]
     },
     "metadata": {},
     "output_type": "display_data"
    },
    {
     "name": "stdout",
     "output_type": "stream",
     "text": [
      "<class 'pandas.core.frame.DataFrame'>\n",
      "RangeIndex: 340 entries, 0 to 339\n",
      "Data columns (total 2 columns):\n",
      " #   Column        Non-Null Count  Dtype \n",
      "---  ------        --------------  ----- \n",
      " 0   publisher_id  340 non-null    int64 \n",
      " 1   publisher     340 non-null    object\n",
      "dtypes: int64(1), object(1)\n",
      "memory usage: 5.4+ KB\n",
      "None\n",
      "Количество строк: 340\n",
      "\n",
      "=====reviews=====\n"
     ]
    },
    {
     "data": {
      "text/html": [
       "<div>\n",
       "<style scoped>\n",
       "    .dataframe tbody tr th:only-of-type {\n",
       "        vertical-align: middle;\n",
       "    }\n",
       "\n",
       "    .dataframe tbody tr th {\n",
       "        vertical-align: top;\n",
       "    }\n",
       "\n",
       "    .dataframe thead th {\n",
       "        text-align: right;\n",
       "    }\n",
       "</style>\n",
       "<table border=\"1\" class=\"dataframe\">\n",
       "  <thead>\n",
       "    <tr style=\"text-align: right;\">\n",
       "      <th></th>\n",
       "      <th>review_id</th>\n",
       "      <th>book_id</th>\n",
       "      <th>username</th>\n",
       "      <th>text</th>\n",
       "    </tr>\n",
       "  </thead>\n",
       "  <tbody>\n",
       "    <tr>\n",
       "      <th>0</th>\n",
       "      <td>1</td>\n",
       "      <td>1</td>\n",
       "      <td>brandtandrea</td>\n",
       "      <td>Mention society tell send professor analysis. ...</td>\n",
       "    </tr>\n",
       "    <tr>\n",
       "      <th>1</th>\n",
       "      <td>2</td>\n",
       "      <td>1</td>\n",
       "      <td>ryanfranco</td>\n",
       "      <td>Foot glass pretty audience hit themselves. Amo...</td>\n",
       "    </tr>\n",
       "    <tr>\n",
       "      <th>2</th>\n",
       "      <td>3</td>\n",
       "      <td>2</td>\n",
       "      <td>lorichen</td>\n",
       "      <td>Listen treat keep worry. Miss husband tax but ...</td>\n",
       "    </tr>\n",
       "    <tr>\n",
       "      <th>3</th>\n",
       "      <td>4</td>\n",
       "      <td>3</td>\n",
       "      <td>johnsonamanda</td>\n",
       "      <td>Finally month interesting blue could nature cu...</td>\n",
       "    </tr>\n",
       "    <tr>\n",
       "      <th>4</th>\n",
       "      <td>5</td>\n",
       "      <td>3</td>\n",
       "      <td>scotttamara</td>\n",
       "      <td>Nation purpose heavy give wait song will. List...</td>\n",
       "    </tr>\n",
       "  </tbody>\n",
       "</table>\n",
       "</div>"
      ],
      "text/plain": [
       "   review_id  book_id       username  \\\n",
       "0          1        1   brandtandrea   \n",
       "1          2        1     ryanfranco   \n",
       "2          3        2       lorichen   \n",
       "3          4        3  johnsonamanda   \n",
       "4          5        3    scotttamara   \n",
       "\n",
       "                                                text  \n",
       "0  Mention society tell send professor analysis. ...  \n",
       "1  Foot glass pretty audience hit themselves. Amo...  \n",
       "2  Listen treat keep worry. Miss husband tax but ...  \n",
       "3  Finally month interesting blue could nature cu...  \n",
       "4  Nation purpose heavy give wait song will. List...  "
      ]
     },
     "metadata": {},
     "output_type": "display_data"
    },
    {
     "name": "stdout",
     "output_type": "stream",
     "text": [
      "<class 'pandas.core.frame.DataFrame'>\n",
      "RangeIndex: 2793 entries, 0 to 2792\n",
      "Data columns (total 4 columns):\n",
      " #   Column     Non-Null Count  Dtype \n",
      "---  ------     --------------  ----- \n",
      " 0   review_id  2793 non-null   int64 \n",
      " 1   book_id    2793 non-null   int64 \n",
      " 2   username   2793 non-null   object\n",
      " 3   text       2793 non-null   object\n",
      "dtypes: int64(2), object(2)\n",
      "memory usage: 87.4+ KB\n",
      "None\n",
      "Количество строк: 2793\n",
      "\n",
      "=====ratings=====\n"
     ]
    },
    {
     "data": {
      "text/html": [
       "<div>\n",
       "<style scoped>\n",
       "    .dataframe tbody tr th:only-of-type {\n",
       "        vertical-align: middle;\n",
       "    }\n",
       "\n",
       "    .dataframe tbody tr th {\n",
       "        vertical-align: top;\n",
       "    }\n",
       "\n",
       "    .dataframe thead th {\n",
       "        text-align: right;\n",
       "    }\n",
       "</style>\n",
       "<table border=\"1\" class=\"dataframe\">\n",
       "  <thead>\n",
       "    <tr style=\"text-align: right;\">\n",
       "      <th></th>\n",
       "      <th>rating_id</th>\n",
       "      <th>book_id</th>\n",
       "      <th>username</th>\n",
       "      <th>rating</th>\n",
       "    </tr>\n",
       "  </thead>\n",
       "  <tbody>\n",
       "    <tr>\n",
       "      <th>0</th>\n",
       "      <td>1</td>\n",
       "      <td>1</td>\n",
       "      <td>ryanfranco</td>\n",
       "      <td>4</td>\n",
       "    </tr>\n",
       "    <tr>\n",
       "      <th>1</th>\n",
       "      <td>2</td>\n",
       "      <td>1</td>\n",
       "      <td>grantpatricia</td>\n",
       "      <td>2</td>\n",
       "    </tr>\n",
       "    <tr>\n",
       "      <th>2</th>\n",
       "      <td>3</td>\n",
       "      <td>1</td>\n",
       "      <td>brandtandrea</td>\n",
       "      <td>5</td>\n",
       "    </tr>\n",
       "    <tr>\n",
       "      <th>3</th>\n",
       "      <td>4</td>\n",
       "      <td>2</td>\n",
       "      <td>lorichen</td>\n",
       "      <td>3</td>\n",
       "    </tr>\n",
       "    <tr>\n",
       "      <th>4</th>\n",
       "      <td>5</td>\n",
       "      <td>2</td>\n",
       "      <td>mariokeller</td>\n",
       "      <td>2</td>\n",
       "    </tr>\n",
       "  </tbody>\n",
       "</table>\n",
       "</div>"
      ],
      "text/plain": [
       "   rating_id  book_id       username  rating\n",
       "0          1        1     ryanfranco       4\n",
       "1          2        1  grantpatricia       2\n",
       "2          3        1   brandtandrea       5\n",
       "3          4        2       lorichen       3\n",
       "4          5        2    mariokeller       2"
      ]
     },
     "metadata": {},
     "output_type": "display_data"
    },
    {
     "name": "stdout",
     "output_type": "stream",
     "text": [
      "<class 'pandas.core.frame.DataFrame'>\n",
      "RangeIndex: 6456 entries, 0 to 6455\n",
      "Data columns (total 4 columns):\n",
      " #   Column     Non-Null Count  Dtype \n",
      "---  ------     --------------  ----- \n",
      " 0   rating_id  6456 non-null   int64 \n",
      " 1   book_id    6456 non-null   int64 \n",
      " 2   username   6456 non-null   object\n",
      " 3   rating     6456 non-null   int64 \n",
      "dtypes: int64(3), object(1)\n",
      "memory usage: 201.9+ KB\n",
      "None\n",
      "Количество строк: 6456\n",
      "\n"
     ]
    }
   ],
   "source": [
    "for table in ['books', 'authors', 'publishers', 'reviews', 'ratings']:\n",
    "    query = ''' SELECT * FROM {}'''.format(table)\n",
    "    df = get_sql_data(query)\n",
    "    print(f'====={table}=====')\n",
    "    display(df.head())\n",
    "    print(df.info())\n",
    "    print('Количество строк:', len(df))\n",
    "    print()    "
   ]
  },
  {
   "cell_type": "markdown",
   "id": "84c753fc",
   "metadata": {},
   "source": [
    "* **Таблица `books` cодержит данные о книгах:**\n",
    "   - `book_id` — идентификатор книги\n",
    "   - `author_id` — идентификатор автора\n",
    "   - `title` — название книги\n",
    "   - `num_pages` — количество страниц\n",
    "   - `publication_date` — дата публикации книги\n",
    "   - `publisher_id` — идентификатор издателя\n",
    "   \n",
    "\n",
    "* **Таблица `authors` cодержит данные об авторах:**\n",
    "   - `author_id` — идентификатор автора\n",
    "   - `author` — имя автора\n",
    "   \n",
    "   \n",
    "* **Таблица `publishers` cодержит данные об издательствах:**\n",
    "    - `publisher_id` — идентификатор издательства\n",
    "    - `publisher` — название издательства\n",
    "\n",
    "\n",
    "* **Таблица `ratings` cодержит данные о пользовательских оценках книг:**\n",
    "    - `rating_id` — идентификатор оценки\n",
    "    - `book_id` — идентификатор книги\n",
    "    - `username` — имя пользователя, оставившего оценку\n",
    "    - `rating` — оценка книги\n",
    "\n",
    "\n",
    "* **Таблица `reviews` cодержит данные о пользовательских обзорах:**\n",
    "    - `review_id` — идентификатор обзора\n",
    "    - `book_id` — идентификатор книги\n",
    "    - `username` — имя автора обзора\n",
    "    - `text` — текст обзора"
   ]
  },
  {
   "cell_type": "markdown",
   "id": "81de5093",
   "metadata": {},
   "source": [
    "**ER-диаграмма базы данных:**"
   ]
  },
  {
   "cell_type": "code",
   "execution_count": 8,
   "id": "42141750",
   "metadata": {},
   "outputs": [
    {
     "data": {
      "image/png": "[encoded data removed]",
      "text/plain": [
       "<IPython.core.display.Image object>"
      ]
     },
     "execution_count": 8,
     "metadata": {},
     "output_type": "execute_result"
    }
   ],
   "source": [
    "Image(filename=\"C:/Users/admin/Downloads/Practicum/Projects/15.3_final_SQL/screen_er.png\")"
   ]
  },
  {
   "cell_type": "markdown",
   "id": "ba5162c7",
   "metadata": {},
   "source": [
    "## Исследовательский анализ:<a id=\"eda\"></a>"
   ]
  },
  {
   "cell_type": "markdown",
   "id": "dc83177e",
   "metadata": {},
   "source": [
    "**Задача 1**<a id=\"01\"></a>\n",
    "\n",
    "* **Посчитать, сколько книг вышло после 1 января 2000 года**"
   ]
  },
  {
   "cell_type": "code",
   "execution_count": 4,
   "id": "ee0bcaac",
   "metadata": {},
   "outputs": [
    {
     "data": {
      "text/html": [
       "<div>\n",
       "<style scoped>\n",
       "    .dataframe tbody tr th:only-of-type {\n",
       "        vertical-align: middle;\n",
       "    }\n",
       "\n",
       "    .dataframe tbody tr th {\n",
       "        vertical-align: top;\n",
       "    }\n",
       "\n",
       "    .dataframe thead th {\n",
       "        text-align: right;\n",
       "    }\n",
       "</style>\n",
       "<table border=\"1\" class=\"dataframe\">\n",
       "  <thead>\n",
       "    <tr style=\"text-align: right;\">\n",
       "      <th></th>\n",
       "      <th>count</th>\n",
       "    </tr>\n",
       "  </thead>\n",
       "  <tbody>\n",
       "    <tr>\n",
       "      <th>0</th>\n",
       "      <td>819</td>\n",
       "    </tr>\n",
       "  </tbody>\n",
       "</table>\n",
       "</div>"
      ],
      "text/plain": [
       "   count\n",
       "0    819"
      ]
     },
     "execution_count": 4,
     "metadata": {},
     "output_type": "execute_result"
    }
   ],
   "source": [
    "first = '''\n",
    "SELECT COUNT(*)\n",
    "FROM books\n",
    "WHERE publication_date > '2000-01-01'\n",
    "'''\n",
    "get_sql_data(first)"
   ]
  },
  {
   "cell_type": "markdown",
   "id": "3011953c",
   "metadata": {},
   "source": [
    "После 1 января 2000 года вышло 819 книг"
   ]
  },
  {
   "cell_type": "markdown",
   "id": "73a98ef3",
   "metadata": {},
   "source": [
    "**Задача 2**<a id=\"02\"></a>\n",
    "\n",
    "* **Для каждой книги посчитать количество обзоров и среднюю оценку**"
   ]
  },
  {
   "cell_type": "code",
   "execution_count": 5,
   "id": "d5dbaff7",
   "metadata": {},
   "outputs": [
    {
     "data": {
      "text/html": [
       "<div>\n",
       "<style scoped>\n",
       "    .dataframe tbody tr th:only-of-type {\n",
       "        vertical-align: middle;\n",
       "    }\n",
       "\n",
       "    .dataframe tbody tr th {\n",
       "        vertical-align: top;\n",
       "    }\n",
       "\n",
       "    .dataframe thead th {\n",
       "        text-align: right;\n",
       "    }\n",
       "</style>\n",
       "<table border=\"1\" class=\"dataframe\">\n",
       "  <thead>\n",
       "    <tr style=\"text-align: right;\">\n",
       "      <th></th>\n",
       "      <th>book_id</th>\n",
       "      <th>title</th>\n",
       "      <th>cnt_rev</th>\n",
       "      <th>avg_rt</th>\n",
       "    </tr>\n",
       "  </thead>\n",
       "  <tbody>\n",
       "    <tr>\n",
       "      <th>0</th>\n",
       "      <td>948</td>\n",
       "      <td>Twilight (Twilight  #1)</td>\n",
       "      <td>7</td>\n",
       "      <td>3.66</td>\n",
       "    </tr>\n",
       "    <tr>\n",
       "      <th>1</th>\n",
       "      <td>963</td>\n",
       "      <td>Water for Elephants</td>\n",
       "      <td>6</td>\n",
       "      <td>3.98</td>\n",
       "    </tr>\n",
       "    <tr>\n",
       "      <th>2</th>\n",
       "      <td>734</td>\n",
       "      <td>The Glass Castle</td>\n",
       "      <td>6</td>\n",
       "      <td>4.21</td>\n",
       "    </tr>\n",
       "    <tr>\n",
       "      <th>3</th>\n",
       "      <td>302</td>\n",
       "      <td>Harry Potter and the Prisoner of Azkaban (Harr...</td>\n",
       "      <td>6</td>\n",
       "      <td>4.41</td>\n",
       "    </tr>\n",
       "    <tr>\n",
       "      <th>4</th>\n",
       "      <td>695</td>\n",
       "      <td>The Curious Incident of the Dog in the Night-Time</td>\n",
       "      <td>6</td>\n",
       "      <td>4.08</td>\n",
       "    </tr>\n",
       "    <tr>\n",
       "      <th>...</th>\n",
       "      <td>...</td>\n",
       "      <td>...</td>\n",
       "      <td>...</td>\n",
       "      <td>...</td>\n",
       "    </tr>\n",
       "    <tr>\n",
       "      <th>995</th>\n",
       "      <td>83</td>\n",
       "      <td>Anne Rice's The Vampire Lestat: A Graphic Novel</td>\n",
       "      <td>0</td>\n",
       "      <td>NaN</td>\n",
       "    </tr>\n",
       "    <tr>\n",
       "      <th>996</th>\n",
       "      <td>808</td>\n",
       "      <td>The Natural Way to Draw</td>\n",
       "      <td>0</td>\n",
       "      <td>NaN</td>\n",
       "    </tr>\n",
       "    <tr>\n",
       "      <th>997</th>\n",
       "      <td>672</td>\n",
       "      <td>The Cat in the Hat and Other Dr. Seuss Favorites</td>\n",
       "      <td>0</td>\n",
       "      <td>NaN</td>\n",
       "    </tr>\n",
       "    <tr>\n",
       "      <th>998</th>\n",
       "      <td>221</td>\n",
       "      <td>Essential Tales and Poems</td>\n",
       "      <td>0</td>\n",
       "      <td>NaN</td>\n",
       "    </tr>\n",
       "    <tr>\n",
       "      <th>999</th>\n",
       "      <td>191</td>\n",
       "      <td>Disney's Beauty and the Beast (A Little Golden...</td>\n",
       "      <td>0</td>\n",
       "      <td>NaN</td>\n",
       "    </tr>\n",
       "  </tbody>\n",
       "</table>\n",
       "<p>1000 rows × 4 columns</p>\n",
       "</div>"
      ],
      "text/plain": [
       "     book_id                                              title  cnt_rev  \\\n",
       "0        948                            Twilight (Twilight  #1)        7   \n",
       "1        963                                Water for Elephants        6   \n",
       "2        734                                   The Glass Castle        6   \n",
       "3        302  Harry Potter and the Prisoner of Azkaban (Harr...        6   \n",
       "4        695  The Curious Incident of the Dog in the Night-Time        6   \n",
       "..       ...                                                ...      ...   \n",
       "995       83    Anne Rice's The Vampire Lestat: A Graphic Novel        0   \n",
       "996      808                            The Natural Way to Draw        0   \n",
       "997      672   The Cat in the Hat and Other Dr. Seuss Favorites        0   \n",
       "998      221                          Essential Tales and Poems        0   \n",
       "999      191  Disney's Beauty and the Beast (A Little Golden...        0   \n",
       "\n",
       "     avg_rt  \n",
       "0      3.66  \n",
       "1      3.98  \n",
       "2      4.21  \n",
       "3      4.41  \n",
       "4      4.08  \n",
       "..      ...  \n",
       "995     NaN  \n",
       "996     NaN  \n",
       "997     NaN  \n",
       "998     NaN  \n",
       "999     NaN  \n",
       "\n",
       "[1000 rows x 4 columns]"
      ]
     },
     "execution_count": 5,
     "metadata": {},
     "output_type": "execute_result"
    }
   ],
   "source": [
    "second = '''\n",
    "SELECT b.book_id,\n",
    "       b.title,\n",
    "       COUNT(DISTINCT rv.review_id) cnt_rev,\n",
    "       ROUND(AVG(rt.rating),2) avg_rt\n",
    "FROM books b LEFT JOIN reviews rv ON b.book_id = rv.book_id\n",
    "LEFT JOIN ratings rt ON rv.book_id = rt.book_id\n",
    "GROUP BY b.book_id, b.title\n",
    "ORDER BY cnt_rev DESC\n",
    "'''\n",
    "get_sql_data(second)"
   ]
  },
  {
   "cell_type": "markdown",
   "id": "d0907b30",
   "metadata": {},
   "source": [
    "Добавили колонки с количеством ревью и средним рейтингом по пользователям. Наибольшее количество ревью у Сумерек, средняя оценка не самая высокая."
   ]
  },
  {
   "cell_type": "markdown",
   "id": "2160aad0",
   "metadata": {},
   "source": [
    "**Задача 3**<a id=\"03\"></a>\n",
    "\n",
    "* **Определить издательство, которое выпустило наибольшее число книг толще 50 страниц** — так мы исключим из анализа брошюры"
   ]
  },
  {
   "cell_type": "code",
   "execution_count": 6,
   "id": "3b17b697",
   "metadata": {},
   "outputs": [
    {
     "data": {
      "text/html": [
       "<div>\n",
       "<style scoped>\n",
       "    .dataframe tbody tr th:only-of-type {\n",
       "        vertical-align: middle;\n",
       "    }\n",
       "\n",
       "    .dataframe tbody tr th {\n",
       "        vertical-align: top;\n",
       "    }\n",
       "\n",
       "    .dataframe thead th {\n",
       "        text-align: right;\n",
       "    }\n",
       "</style>\n",
       "<table border=\"1\" class=\"dataframe\">\n",
       "  <thead>\n",
       "    <tr style=\"text-align: right;\">\n",
       "      <th></th>\n",
       "      <th>books</th>\n",
       "      <th>publisher</th>\n",
       "    </tr>\n",
       "  </thead>\n",
       "  <tbody>\n",
       "    <tr>\n",
       "      <th>0</th>\n",
       "      <td>42</td>\n",
       "      <td>Penguin Books</td>\n",
       "    </tr>\n",
       "  </tbody>\n",
       "</table>\n",
       "</div>"
      ],
      "text/plain": [
       "   books      publisher\n",
       "0     42  Penguin Books"
      ]
     },
     "execution_count": 6,
     "metadata": {},
     "output_type": "execute_result"
    }
   ],
   "source": [
    "third = '''\n",
    "SELECT COUNT(b.book_id) AS books,\n",
    "       p.publisher    \n",
    "FROM publishers AS p LEFT JOIN books b ON p.publisher_id = b.publisher_id\n",
    "WHERE b.num_pages > 50\n",
    "GROUP BY p.publisher_id\n",
    "ORDER BY 1 DESC\n",
    "LIMIT 1\n",
    "'''\n",
    "get_sql_data(third)"
   ]
  },
  {
   "cell_type": "markdown",
   "id": "a6c04ffe",
   "metadata": {},
   "source": [
    "На первом месте издательство Penguin Books - 42 книги, не считая брошюр."
   ]
  },
  {
   "cell_type": "markdown",
   "id": "9a82f406",
   "metadata": {},
   "source": [
    "**Задача 4**<a id=\"04\"></a>\n",
    "\n",
    "* **Определить автора с самой высокой средней оценкой книг, учитывая только книги с 50 и более оценками**"
   ]
  },
  {
   "cell_type": "code",
   "execution_count": 7,
   "id": "9ad25de5",
   "metadata": {},
   "outputs": [
    {
     "data": {
      "text/html": [
       "<div>\n",
       "<style scoped>\n",
       "    .dataframe tbody tr th:only-of-type {\n",
       "        vertical-align: middle;\n",
       "    }\n",
       "\n",
       "    .dataframe tbody tr th {\n",
       "        vertical-align: top;\n",
       "    }\n",
       "\n",
       "    .dataframe thead th {\n",
       "        text-align: right;\n",
       "    }\n",
       "</style>\n",
       "<table border=\"1\" class=\"dataframe\">\n",
       "  <thead>\n",
       "    <tr style=\"text-align: right;\">\n",
       "      <th></th>\n",
       "      <th>author</th>\n",
       "      <th>round</th>\n",
       "    </tr>\n",
       "  </thead>\n",
       "  <tbody>\n",
       "    <tr>\n",
       "      <th>0</th>\n",
       "      <td>J.K. Rowling/Mary GrandPré</td>\n",
       "      <td>4.3</td>\n",
       "    </tr>\n",
       "  </tbody>\n",
       "</table>\n",
       "</div>"
      ],
      "text/plain": [
       "                       author  round\n",
       "0  J.K. Rowling/Mary GrandPré    4.3"
      ]
     },
     "execution_count": 7,
     "metadata": {},
     "output_type": "execute_result"
    }
   ],
   "source": [
    "forth = '''\n",
    "SELECT a.author,\n",
    "       ROUND(AVG(rt.rating),1)\n",
    "FROM books b LEFT JOIN authors a ON a.author_id = b.author_id\n",
    "LEFT JOIN ratings rt ON b.book_id = rt.book_id\n",
    "WHERE rt.book_id IN (SELECT book_id\n",
    "                      FROM ratings\n",
    "                      GROUP BY book_id\n",
    "                      HAVING COUNT(rating_id) >= 50)\n",
    "GROUP BY a.author_id\n",
    "ORDER BY 2 DESC\n",
    "LIMIT 1\n",
    "'''\n",
    "get_sql_data(forth)"
   ]
  },
  {
   "cell_type": "markdown",
   "id": "09f18b94",
   "metadata": {},
   "source": [
    "Автор с самым высоким рейтингом - Джоан Роулинг."
   ]
  },
  {
   "cell_type": "markdown",
   "id": "ddcc7790",
   "metadata": {},
   "source": [
    "**Задача 5**<a id=\"05\"></a>\n",
    "\n",
    "* **Посчитать среднее количество обзоров от пользователей, которые поставили больше 48 оценок**"
   ]
  },
  {
   "cell_type": "code",
   "execution_count": 8,
   "id": "f5a5c2f7",
   "metadata": {},
   "outputs": [
    {
     "data": {
      "text/html": [
       "<div>\n",
       "<style scoped>\n",
       "    .dataframe tbody tr th:only-of-type {\n",
       "        vertical-align: middle;\n",
       "    }\n",
       "\n",
       "    .dataframe tbody tr th {\n",
       "        vertical-align: top;\n",
       "    }\n",
       "\n",
       "    .dataframe thead th {\n",
       "        text-align: right;\n",
       "    }\n",
       "</style>\n",
       "<table border=\"1\" class=\"dataframe\">\n",
       "  <thead>\n",
       "    <tr style=\"text-align: right;\">\n",
       "      <th></th>\n",
       "      <th>avg</th>\n",
       "    </tr>\n",
       "  </thead>\n",
       "  <tbody>\n",
       "    <tr>\n",
       "      <th>0</th>\n",
       "      <td>24.0</td>\n",
       "    </tr>\n",
       "  </tbody>\n",
       "</table>\n",
       "</div>"
      ],
      "text/plain": [
       "    avg\n",
       "0  24.0"
      ]
     },
     "execution_count": 8,
     "metadata": {},
     "output_type": "execute_result"
    }
   ],
   "source": [
    "fifth = '''\n",
    "SELECT AVG(cnt)\n",
    "FROM (SELECT COUNT(review_id) AS cnt\n",
    "      FROM reviews\n",
    "      WHERE username in (SELECT username\n",
    "                         FROM ratings\n",
    "                         GROUP BY username\n",
    "                         HAVING COUNT(rating) > 48)\n",
    "      GROUP BY username) as avg\n",
    "'''\n",
    "get_sql_data(fifth)"
   ]
  },
  {
   "cell_type": "markdown",
   "id": "b3e76c6c",
   "metadata": {},
   "source": [
    "В среднем, пользователи, которые поставили больше 48 оченок, пишут 24 обзора."
   ]
  },
  {
   "cell_type": "markdown",
   "id": "decef0d6",
   "metadata": {},
   "source": [
    "## Выводы<a id=\"end\"></a>"
   ]
  },
  {
   "cell_type": "markdown",
   "id": "0a3cff4f",
   "metadata": {},
   "source": [
    "* После 1 января 2000 года вышло 819 книг\n",
    "* В среднем, книгам с самым большим количеством ревью ставят не самые высокие оценки. Наибольшее количество ревью у Сумерек - 7, средняя оценка - 3.6\n",
    "* Издательство, которое выпустило наибольшее число книг - Penguin Books - 42 книги, не считая брошюр.\n",
    "* Автор с самым высоким рейтингом - Джоан Роулинг - 4.3\n",
    "* Пользователи, которые поставили больше 48 оченок, пишут в среднем 24 обзора."
   ]
  }
 ],
 "metadata": {
  "ExecuteTimeLog": [
   {
    "duration": 522,
    "start_time": "2023-10-11T14:25:39.836Z"
   },
   {
    "duration": 11628,
    "start_time": "2023-10-11T14:25:40.360Z"
   },
   {
    "duration": 554,
    "start_time": "2023-10-11T14:25:51.990Z"
   },
   {
    "duration": 51,
    "start_time": "2023-10-11T14:25:52.546Z"
   },
   {
    "duration": 76,
    "start_time": "2023-10-11T14:25:52.599Z"
   },
   {
    "duration": 52,
    "start_time": "2023-10-11T14:25:52.677Z"
   },
   {
    "duration": 57,
    "start_time": "2023-10-11T14:25:52.731Z"
   },
   {
    "duration": 55,
    "start_time": "2023-10-11T14:25:52.790Z"
   }
  ],
  "kernelspec": {
   "display_name": "Python 3 (ipykernel)",
   "language": "python",
   "name": "python3"
  },
  "language_info": {
   "codemirror_mode": {
    "name": "ipython",
    "version": 3
   },
   "file_extension": ".py",
   "mimetype": "text/x-python",
   "name": "python",
   "nbconvert_exporter": "python",
   "pygments_lexer": "ipython3",
   "version": "3.9.13"
  },
  "toc": {
   "base_numbering": 1,
   "nav_menu": {},
   "number_sections": true,
   "sideBar": true,
   "skip_h1_title": true,
   "title_cell": "Table of Contents",
   "title_sidebar": "Contents",
   "toc_cell": false,
   "toc_position": {},
   "toc_section_display": true,
   "toc_window_display": false
  }
 },
 "nbformat": 4,
 "nbformat_minor": 5
}
