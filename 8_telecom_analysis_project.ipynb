{
 "cells": [
  {
   "cell_type": "code",
   "execution_count": 9,
   "id": "fc7efa54",
   "metadata": {},
   "outputs": [],
   "source": [
    "import os\n",
    "import pandas as pd\n",
    "import numpy as np\n",
    "\n",
    "from sqlalchemy import create_engine"
   ]
  },
  {
   "cell_type": "code",
   "execution_count": 27,
   "id": "0017f8e7",
   "metadata": {},
   "outputs": [],
   "source": [
    "path_to_db_local = \"C:/Users/admin/Downloads/Practicum/Projects/8_telecom_analysis/telecomm_csi (1).db\"\n",
    "# путь к БД на платформе\n",
    "path_to_db_platform = 'https://code.s3.yandex.net/datasets/telecomm_csi.db'\n",
    "# итоговый путь к БД\n",
    "path_to_db = None\n",
    "\n",
    "\n",
    "if os.path.exists(path_to_db_local):\n",
    "    path_to_db = path_to_db_local\n",
    "elif os.path.exists(path_to_db_platform):\n",
    "    path_to_db = path_to_db_platform\n",
    "else:\n",
    "    raise Exception('Файл с базой данных SQLite не найден!')\n",
    "\n",
    "if path_to_db:\n",
    "    engine = create_engine(f'sqlite:///{path_to_db}', echo=False)"
   ]
  },
  {
   "cell_type": "code",
   "execution_count": 28,
   "id": "9d60ac3e",
   "metadata": {},
   "outputs": [],
   "source": [
    "query = \"\"\"\n",
    "SELECT user_id,\n",
    "       lt_day,\n",
    "       CASE \n",
    "                 WHEN lt_day < 365 THEN 'new'\n",
    "                 WHEN lt_day > 365 THEN 'old'\n",
    "             END AS is_new,\n",
    "       age,\n",
    "       CASE \n",
    "                 WHEN gender_segment = '1.0' THEN 'женщина'\n",
    "                 WHEN gender_segment = '0.0' THEN 'мужчина'\n",
    "             END AS gender,\n",
    "       os_name,\n",
    "       cpe_type_name,\n",
    "       loc.country,\n",
    "       loc.city,\n",
    "       SUBSTRING(a.title, 4) AS age_segment,\n",
    "       SUBSTRING(t.title, 4) AS traffic_segment,\n",
    "       SUBSTRING(l.title, 4) AS lifetime_segment,\n",
    "       nps_score,\n",
    "       CASE \n",
    "                 WHEN nps_score >= 9 THEN 'promoters'\n",
    "                 WHEN nps_score = 7 OR nps_score = 8 THEN 'passives'\n",
    "                 WHEN nps_score <= 6 THEN 'detractors'\n",
    "             END AS nps_group\n",
    "              \n",
    "      FROM user AS u\n",
    "\n",
    "LEFT OUTER JOIN location AS loc ON u.location_id = loc.location_id\n",
    "LEFT OUTER JOIN age_segment AS a ON u.age_gr_id = a.age_gr_id\n",
    "LEFT OUTER JOIN traffic_segment AS t ON u.tr_gr_id = t.tr_gr_id\n",
    "LEFT OUTER JOIN lifetime_segment AS l ON u.lt_gr_id = l.lt_gr_id      \n",
    "\n",
    "\n",
    "\"\"\""
   ]
  },
  {
   "cell_type": "code",
   "execution_count": 29,
   "id": "3965faf2",
   "metadata": {},
   "outputs": [
    {
     "data": {
      "text/html": [
       "<div>\n",
       "<style scoped>\n",
       "    .dataframe tbody tr th:only-of-type {\n",
       "        vertical-align: middle;\n",
       "    }\n",
       "\n",
       "    .dataframe tbody tr th {\n",
       "        vertical-align: top;\n",
       "    }\n",
       "\n",
       "    .dataframe thead th {\n",
       "        text-align: right;\n",
       "    }\n",
       "</style>\n",
       "<table border=\"1\" class=\"dataframe\">\n",
       "  <thead>\n",
       "    <tr style=\"text-align: right;\">\n",
       "      <th></th>\n",
       "      <th>user_id</th>\n",
       "      <th>lt_day</th>\n",
       "      <th>is_new</th>\n",
       "      <th>age</th>\n",
       "      <th>gender</th>\n",
       "      <th>os_name</th>\n",
       "      <th>cpe_type_name</th>\n",
       "      <th>country</th>\n",
       "      <th>city</th>\n",
       "      <th>age_segment</th>\n",
       "      <th>traffic_segment</th>\n",
       "      <th>lifetime_segment</th>\n",
       "      <th>nps_score</th>\n",
       "      <th>nps_group</th>\n",
       "    </tr>\n",
       "  </thead>\n",
       "  <tbody>\n",
       "    <tr>\n",
       "      <th>0</th>\n",
       "      <td>A001A2</td>\n",
       "      <td>2320</td>\n",
       "      <td>old</td>\n",
       "      <td>45.0</td>\n",
       "      <td>женщина</td>\n",
       "      <td>ANDROID</td>\n",
       "      <td>SMARTPHONE</td>\n",
       "      <td>Россия</td>\n",
       "      <td>Уфа</td>\n",
       "      <td>45-54</td>\n",
       "      <td>1-5</td>\n",
       "      <td>36+</td>\n",
       "      <td>10</td>\n",
       "      <td>promoters</td>\n",
       "    </tr>\n",
       "    <tr>\n",
       "      <th>1</th>\n",
       "      <td>A001WF</td>\n",
       "      <td>2344</td>\n",
       "      <td>old</td>\n",
       "      <td>53.0</td>\n",
       "      <td>мужчина</td>\n",
       "      <td>ANDROID</td>\n",
       "      <td>SMARTPHONE</td>\n",
       "      <td>Россия</td>\n",
       "      <td>Киров</td>\n",
       "      <td>45-54</td>\n",
       "      <td>1-5</td>\n",
       "      <td>36+</td>\n",
       "      <td>10</td>\n",
       "      <td>promoters</td>\n",
       "    </tr>\n",
       "    <tr>\n",
       "      <th>2</th>\n",
       "      <td>A003Q7</td>\n",
       "      <td>467</td>\n",
       "      <td>old</td>\n",
       "      <td>57.0</td>\n",
       "      <td>мужчина</td>\n",
       "      <td>ANDROID</td>\n",
       "      <td>SMARTPHONE</td>\n",
       "      <td>Россия</td>\n",
       "      <td>Москва</td>\n",
       "      <td>55-64</td>\n",
       "      <td>20-25</td>\n",
       "      <td>13-24</td>\n",
       "      <td>10</td>\n",
       "      <td>promoters</td>\n",
       "    </tr>\n",
       "  </tbody>\n",
       "</table>\n",
       "</div>"
      ],
      "text/plain": [
       "  user_id  lt_day is_new   age   gender  os_name cpe_type_name country  \\\n",
       "0  A001A2    2320    old  45.0  женщина  ANDROID    SMARTPHONE  Россия   \n",
       "1  A001WF    2344    old  53.0  мужчина  ANDROID    SMARTPHONE  Россия   \n",
       "2  A003Q7     467    old  57.0  мужчина  ANDROID    SMARTPHONE  Россия   \n",
       "\n",
       "     city age_segment traffic_segment lifetime_segment  nps_score  nps_group  \n",
       "0     Уфа       45-54             1-5              36+         10  promoters  \n",
       "1   Киров       45-54             1-5              36+         10  promoters  \n",
       "2  Москва       55-64           20-25            13-24         10  promoters  "
      ]
     },
     "execution_count": 29,
     "metadata": {},
     "output_type": "execute_result"
    }
   ],
   "source": [
    "df = pd.read_sql(query, engine)\n",
    "df.head(3)"
   ]
  },
  {
   "cell_type": "code",
   "execution_count": 30,
   "id": "9db04858",
   "metadata": {},
   "outputs": [],
   "source": [
    "df.to_csv('telecomm_csi_tableau.csv', index=False)"
   ]
  },
  {
   "cell_type": "markdown",
   "id": "0a06ba6a",
   "metadata": {},
   "source": [
    "Tableau: <https://public.tableau.com/views/telecomm3_16790800105680/NPS_3?:language=en-US&publish=yes&:display_count=n&:origin=viz_share_link>"
   ]
  },
  {
   "cell_type": "markdown",
   "id": "de9b287a",
   "metadata": {},
   "source": [
    "Презентация: <https://docs.google.com/presentation/d/11Cx76iwx-tGQcz4I3cQS3Mwveb5_VjC6T2_OudY143s/edit?usp=sharing>"
   ]
  }
 ],
 "metadata": {
  "ExecuteTimeLog": [
   {
    "duration": 535,
    "start_time": "2023-03-06T13:07:51.369Z"
   },
   {
    "duration": 80,
    "start_time": "2023-03-06T13:07:52.674Z"
   },
   {
    "duration": 3,
    "start_time": "2023-03-06T13:07:53.761Z"
   },
   {
    "duration": 507,
    "start_time": "2023-03-06T13:07:55.435Z"
   },
   {
    "duration": 1,
    "start_time": "2023-03-06T13:07:55.944Z"
   },
   {
    "duration": 3,
    "start_time": "2023-03-06T13:08:27.561Z"
   },
   {
    "duration": 396,
    "start_time": "2023-03-06T13:08:28.373Z"
   },
   {
    "duration": 8,
    "start_time": "2023-03-06T13:08:29.597Z"
   },
   {
    "duration": 3,
    "start_time": "2023-03-06T13:08:49.564Z"
   },
   {
    "duration": 396,
    "start_time": "2023-03-06T13:08:51.227Z"
   },
   {
    "duration": 3,
    "start_time": "2023-03-06T13:09:30.960Z"
   },
   {
    "duration": 565,
    "start_time": "2023-03-06T13:09:32.030Z"
   },
   {
    "duration": 2,
    "start_time": "2023-03-06T13:11:11.413Z"
   },
   {
    "duration": 581,
    "start_time": "2023-03-06T13:11:12.444Z"
   },
   {
    "duration": 3,
    "start_time": "2023-03-06T13:11:41.009Z"
   },
   {
    "duration": 418,
    "start_time": "2023-03-06T13:11:41.507Z"
   },
   {
    "duration": 61,
    "start_time": "2023-03-06T13:13:29.951Z"
   },
   {
    "duration": 3,
    "start_time": "2023-03-06T13:13:30.412Z"
   },
   {
    "duration": 549,
    "start_time": "2023-03-06T13:13:31.024Z"
   },
   {
    "duration": 4,
    "start_time": "2023-03-06T13:22:31.191Z"
   },
   {
    "duration": 396,
    "start_time": "2023-03-06T13:22:33.904Z"
   },
   {
    "duration": 3,
    "start_time": "2023-03-06T13:22:50.594Z"
   },
   {
    "duration": 538,
    "start_time": "2023-03-06T13:22:51.078Z"
   },
   {
    "duration": 4,
    "start_time": "2023-03-06T13:30:32.008Z"
   },
   {
    "duration": 9350,
    "start_time": "2023-03-06T13:30:33.253Z"
   },
   {
    "duration": 7237,
    "start_time": "2023-03-06T13:30:42.605Z"
   },
   {
    "duration": 775,
    "start_time": "2023-03-06T13:30:49.844Z"
   },
   {
    "duration": 3,
    "start_time": "2023-03-06T13:31:38.807Z"
   },
   {
    "duration": 8447,
    "start_time": "2023-03-06T13:31:39.215Z"
   },
   {
    "duration": 7061,
    "start_time": "2023-03-06T13:31:47.668Z"
   },
   {
    "duration": 1118,
    "start_time": "2023-03-06T13:31:55.578Z"
   },
   {
    "duration": 3,
    "start_time": "2023-03-06T13:33:08.808Z"
   },
   {
    "duration": 3,
    "start_time": "2023-03-06T13:33:41.798Z"
   },
   {
    "duration": 9652,
    "start_time": "2023-03-06T13:33:41.803Z"
   },
   {
    "duration": 7833,
    "start_time": "2023-03-06T13:33:51.457Z"
   },
   {
    "duration": 859,
    "start_time": "2023-03-06T13:33:59.292Z"
   },
   {
    "duration": 4,
    "start_time": "2023-03-06T13:34:04.375Z"
   },
   {
    "duration": 8276,
    "start_time": "2023-03-06T13:34:04.764Z"
   },
   {
    "duration": 7886,
    "start_time": "2023-03-06T13:34:13.042Z"
   },
   {
    "duration": 3,
    "start_time": "2023-03-06T13:34:27.477Z"
   },
   {
    "duration": 694,
    "start_time": "2023-03-06T13:34:28.129Z"
   },
   {
    "duration": 3,
    "start_time": "2023-03-06T13:34:41.364Z"
   },
   {
    "duration": 8502,
    "start_time": "2023-03-06T13:34:46.071Z"
   },
   {
    "duration": 7427,
    "start_time": "2023-03-06T13:34:54.575Z"
   },
   {
    "duration": 3,
    "start_time": "2023-03-06T13:35:13.576Z"
   },
   {
    "duration": 657,
    "start_time": "2023-03-06T13:35:15.503Z"
   },
   {
    "duration": 3,
    "start_time": "2023-03-06T13:35:29.078Z"
   },
   {
    "duration": 8,
    "start_time": "2023-03-06T13:36:26.276Z"
   },
   {
    "duration": 40,
    "start_time": "2023-03-06T13:36:27.864Z"
   },
   {
    "duration": 7,
    "start_time": "2023-03-06T13:36:28.780Z"
   },
   {
    "duration": 501,
    "start_time": "2023-03-06T13:36:47.927Z"
   },
   {
    "duration": 78,
    "start_time": "2023-03-06T13:36:48.431Z"
   },
   {
    "duration": 4,
    "start_time": "2023-03-06T13:36:48.511Z"
   },
   {
    "duration": 734,
    "start_time": "2023-03-06T13:36:48.517Z"
   },
   {
    "duration": 0,
    "start_time": "2023-03-06T13:36:49.253Z"
   },
   {
    "duration": 1,
    "start_time": "2023-03-06T13:36:49.253Z"
   },
   {
    "duration": 3,
    "start_time": "2023-03-06T13:37:21.704Z"
   },
   {
    "duration": 8668,
    "start_time": "2023-03-06T13:37:22.065Z"
   },
   {
    "duration": 3,
    "start_time": "2023-03-06T13:43:12.268Z"
   },
   {
    "duration": 8274,
    "start_time": "2023-03-06T13:43:12.968Z"
   },
   {
    "duration": 2,
    "start_time": "2023-03-06T13:43:26.936Z"
   },
   {
    "duration": 8695,
    "start_time": "2023-03-06T13:43:28.324Z"
   },
   {
    "duration": 3,
    "start_time": "2023-03-06T13:44:02.112Z"
   },
   {
    "duration": 8099,
    "start_time": "2023-03-06T13:44:04.085Z"
   },
   {
    "duration": 3,
    "start_time": "2023-03-06T13:44:20.764Z"
   },
   {
    "duration": 408,
    "start_time": "2023-03-06T13:50:05.414Z"
   },
   {
    "duration": 3,
    "start_time": "2023-03-06T13:55:52.560Z"
   },
   {
    "duration": 672,
    "start_time": "2023-03-06T13:55:53.961Z"
   },
   {
    "duration": 3,
    "start_time": "2023-03-06T13:59:50.220Z"
   },
   {
    "duration": 8469,
    "start_time": "2023-03-06T13:59:51.498Z"
   },
   {
    "duration": 6723,
    "start_time": "2023-03-06T13:59:59.969Z"
   },
   {
    "duration": 447,
    "start_time": "2023-03-06T14:00:06.695Z"
   },
   {
    "duration": 8,
    "start_time": "2023-03-06T14:00:26.320Z"
   },
   {
    "duration": 3,
    "start_time": "2023-03-06T14:04:34.692Z"
   },
   {
    "duration": 8183,
    "start_time": "2023-03-06T14:04:35.394Z"
   },
   {
    "duration": 6677,
    "start_time": "2023-03-06T14:04:43.579Z"
   },
   {
    "duration": 9,
    "start_time": "2023-03-06T14:04:50.258Z"
   },
   {
    "duration": 3,
    "start_time": "2023-03-06T14:05:25.676Z"
   },
   {
    "duration": 8228,
    "start_time": "2023-03-06T14:05:27.737Z"
   },
   {
    "duration": 7119,
    "start_time": "2023-03-06T14:05:35.968Z"
   },
   {
    "duration": 0,
    "start_time": "2023-03-06T14:05:43.097Z"
   },
   {
    "duration": 7,
    "start_time": "2023-03-06T14:05:49.989Z"
   },
   {
    "duration": 3,
    "start_time": "2023-03-06T14:06:18.014Z"
   },
   {
    "duration": 394,
    "start_time": "2023-03-06T14:06:19.046Z"
   },
   {
    "duration": 3,
    "start_time": "2023-03-06T14:07:56.080Z"
   },
   {
    "duration": 395,
    "start_time": "2023-03-06T14:07:56.488Z"
   },
   {
    "duration": 3,
    "start_time": "2023-03-06T14:08:29.715Z"
   },
   {
    "duration": 2,
    "start_time": "2023-03-06T14:11:07.987Z"
   },
   {
    "duration": 528,
    "start_time": "2023-03-06T14:12:33.729Z"
   },
   {
    "duration": 112,
    "start_time": "2023-03-06T14:12:34.258Z"
   },
   {
    "duration": 2,
    "start_time": "2023-03-06T14:12:34.372Z"
   },
   {
    "duration": 7965,
    "start_time": "2023-03-06T14:12:34.376Z"
   },
   {
    "duration": 6025,
    "start_time": "2023-03-06T14:12:42.342Z"
   },
   {
    "duration": 68,
    "start_time": "2023-03-06T14:12:48.368Z"
   },
   {
    "duration": 3,
    "start_time": "2023-03-06T14:15:57.013Z"
   },
   {
    "duration": 666,
    "start_time": "2023-03-06T14:15:57.811Z"
   },
   {
    "duration": 3,
    "start_time": "2023-03-06T14:16:13.408Z"
   },
   {
    "duration": 673,
    "start_time": "2023-03-06T14:16:13.833Z"
   },
   {
    "duration": 3,
    "start_time": "2023-03-06T14:18:54.916Z"
   },
   {
    "duration": 673,
    "start_time": "2023-03-06T14:18:55.252Z"
   },
   {
    "duration": 3,
    "start_time": "2023-03-06T14:19:08.414Z"
   },
   {
    "duration": 4184,
    "start_time": "2023-03-06T14:19:08.738Z"
   },
   {
    "duration": 2,
    "start_time": "2023-03-06T14:20:00.881Z"
   },
   {
    "duration": 4539,
    "start_time": "2023-03-06T14:20:01.946Z"
   },
   {
    "duration": 4273,
    "start_time": "2023-03-06T14:20:14.917Z"
   },
   {
    "duration": 3833,
    "start_time": "2023-03-06T14:21:00.392Z"
   },
   {
    "duration": 10,
    "start_time": "2023-03-06T14:21:04.228Z"
   },
   {
    "duration": 6,
    "start_time": "2023-03-06T14:21:29.817Z"
   },
   {
    "duration": 3,
    "start_time": "2023-03-06T14:21:43.404Z"
   },
   {
    "duration": 6,
    "start_time": "2023-03-06T14:21:55.432Z"
   },
   {
    "duration": 3,
    "start_time": "2023-03-06T14:23:13.529Z"
   },
   {
    "duration": 4441,
    "start_time": "2023-03-06T14:23:14.115Z"
   },
   {
    "duration": 3,
    "start_time": "2023-03-06T14:24:58.033Z"
   },
   {
    "duration": 4389,
    "start_time": "2023-03-06T14:24:59.800Z"
   },
   {
    "duration": 3,
    "start_time": "2023-03-06T14:25:54.688Z"
   },
   {
    "duration": 4373,
    "start_time": "2023-03-06T14:25:55.179Z"
   },
   {
    "duration": 4,
    "start_time": "2023-03-06T14:28:09.008Z"
   },
   {
    "duration": 667,
    "start_time": "2023-03-06T14:28:09.311Z"
   },
   {
    "duration": 3,
    "start_time": "2023-03-06T14:28:25.475Z"
   },
   {
    "duration": 4244,
    "start_time": "2023-03-06T14:28:25.721Z"
   },
   {
    "duration": 3,
    "start_time": "2023-03-06T14:28:45.401Z"
   },
   {
    "duration": 4290,
    "start_time": "2023-03-06T14:28:45.588Z"
   },
   {
    "duration": 4,
    "start_time": "2023-03-06T14:35:05.117Z"
   },
   {
    "duration": 4595,
    "start_time": "2023-03-06T14:35:07.321Z"
   },
   {
    "duration": 3,
    "start_time": "2023-03-06T14:38:40.849Z"
   },
   {
    "duration": 659,
    "start_time": "2023-03-06T14:38:41.373Z"
   },
   {
    "duration": 2,
    "start_time": "2023-03-06T14:39:49.545Z"
   },
   {
    "duration": 661,
    "start_time": "2023-03-06T14:39:49.891Z"
   },
   {
    "duration": 3,
    "start_time": "2023-03-06T14:40:18.442Z"
   },
   {
    "duration": 513,
    "start_time": "2023-03-06T14:40:35.796Z"
   },
   {
    "duration": 76,
    "start_time": "2023-03-06T14:40:36.311Z"
   },
   {
    "duration": 3,
    "start_time": "2023-03-06T14:40:36.389Z"
   },
   {
    "duration": 4738,
    "start_time": "2023-03-06T14:40:36.393Z"
   },
   {
    "duration": 3508,
    "start_time": "2023-03-06T14:40:41.133Z"
   },
   {
    "duration": 6,
    "start_time": "2023-03-06T14:40:44.643Z"
   },
   {
    "duration": 2,
    "start_time": "2023-03-06T14:41:19.483Z"
   },
   {
    "duration": 4642,
    "start_time": "2023-03-06T14:41:20.949Z"
   },
   {
    "duration": 392,
    "start_time": "2023-03-06T14:44:17.087Z"
   },
   {
    "duration": 3,
    "start_time": "2023-03-06T15:20:23.185Z"
   },
   {
    "duration": 4736,
    "start_time": "2023-03-06T15:20:25.450Z"
   },
   {
    "duration": 556,
    "start_time": "2023-03-08T11:55:15.496Z"
   },
   {
    "duration": 138,
    "start_time": "2023-03-08T11:55:16.054Z"
   },
   {
    "duration": 3,
    "start_time": "2023-03-08T11:55:16.194Z"
   },
   {
    "duration": 5675,
    "start_time": "2023-03-08T11:55:16.199Z"
   },
   {
    "duration": 5349,
    "start_time": "2023-03-08T11:55:21.876Z"
   },
   {
    "duration": 401,
    "start_time": "2023-03-08T11:55:27.227Z"
   },
   {
    "duration": 2,
    "start_time": "2023-03-08T11:58:11.152Z"
   },
   {
    "duration": 7547,
    "start_time": "2023-03-08T11:58:12.461Z"
   },
   {
    "duration": 3,
    "start_time": "2023-03-08T12:08:52.420Z"
   },
   {
    "duration": 382,
    "start_time": "2023-03-08T12:08:53.793Z"
   },
   {
    "duration": 3,
    "start_time": "2023-03-08T12:09:38.654Z"
   },
   {
    "duration": 566,
    "start_time": "2023-03-08T12:09:39.107Z"
   },
   {
    "duration": 3,
    "start_time": "2023-03-08T12:10:29.300Z"
   },
   {
    "duration": 8095,
    "start_time": "2023-03-08T12:10:29.708Z"
   },
   {
    "duration": 3,
    "start_time": "2023-03-08T12:11:29.170Z"
   },
   {
    "duration": 352,
    "start_time": "2023-03-08T12:11:29.406Z"
   },
   {
    "duration": 3,
    "start_time": "2023-03-08T12:11:42.052Z"
   },
   {
    "duration": 8033,
    "start_time": "2023-03-08T12:11:42.257Z"
   },
   {
    "duration": 3,
    "start_time": "2023-03-08T12:25:58.856Z"
   },
   {
    "duration": 9570,
    "start_time": "2023-03-08T12:25:59.099Z"
   },
   {
    "duration": 3,
    "start_time": "2023-03-08T12:26:33.191Z"
   },
   {
    "duration": 9448,
    "start_time": "2023-03-08T12:26:33.500Z"
   },
   {
    "duration": 4,
    "start_time": "2023-03-08T12:33:41.113Z"
   },
   {
    "duration": 567,
    "start_time": "2023-03-08T12:33:41.405Z"
   },
   {
    "duration": 3,
    "start_time": "2023-03-08T12:33:58.378Z"
   },
   {
    "duration": 566,
    "start_time": "2023-03-08T12:33:58.641Z"
   },
   {
    "duration": 3,
    "start_time": "2023-03-08T12:34:18.152Z"
   },
   {
    "duration": 5058,
    "start_time": "2023-03-08T12:34:18.397Z"
   },
   {
    "duration": 4,
    "start_time": "2023-03-08T12:38:37.804Z"
   },
   {
    "duration": 338,
    "start_time": "2023-03-08T12:38:39.609Z"
   },
   {
    "duration": 4,
    "start_time": "2023-03-08T12:39:16.323Z"
   },
   {
    "duration": 577,
    "start_time": "2023-03-08T12:39:16.566Z"
   },
   {
    "duration": 4,
    "start_time": "2023-03-08T12:41:48.236Z"
   },
   {
    "duration": 5779,
    "start_time": "2023-03-08T12:41:48.915Z"
   },
   {
    "duration": 4,
    "start_time": "2023-03-08T12:48:01.512Z"
   },
   {
    "duration": 457,
    "start_time": "2023-03-08T12:48:01.909Z"
   },
   {
    "duration": 2,
    "start_time": "2023-03-08T12:49:21.598Z"
   },
   {
    "duration": 451,
    "start_time": "2023-03-08T12:49:21.880Z"
   },
   {
    "duration": 4,
    "start_time": "2023-03-08T12:49:58.109Z"
   },
   {
    "duration": 456,
    "start_time": "2023-03-08T12:49:58.361Z"
   },
   {
    "duration": 3,
    "start_time": "2023-03-08T12:54:13.348Z"
   },
   {
    "duration": 548,
    "start_time": "2023-03-08T12:54:13.640Z"
   },
   {
    "duration": 3,
    "start_time": "2023-03-08T12:54:39.129Z"
   },
   {
    "duration": 554,
    "start_time": "2023-03-08T12:54:39.310Z"
   },
   {
    "duration": 3,
    "start_time": "2023-03-08T13:00:03.858Z"
   },
   {
    "duration": 8,
    "start_time": "2023-03-08T13:00:19.420Z"
   },
   {
    "duration": 44,
    "start_time": "2023-03-08T13:00:19.691Z"
   },
   {
    "duration": 540,
    "start_time": "2023-03-08T13:00:25.332Z"
   },
   {
    "duration": 70,
    "start_time": "2023-03-08T13:00:25.875Z"
   },
   {
    "duration": 3,
    "start_time": "2023-03-08T13:00:25.949Z"
   },
   {
    "duration": 6288,
    "start_time": "2023-03-08T13:00:25.954Z"
   },
   {
    "duration": 4501,
    "start_time": "2023-03-08T13:00:32.244Z"
   },
   {
    "duration": 615,
    "start_time": "2023-03-08T13:00:36.747Z"
   },
   {
    "duration": 3,
    "start_time": "2023-03-08T13:03:21.675Z"
   },
   {
    "duration": 5836,
    "start_time": "2023-03-08T13:03:22.013Z"
   },
   {
    "duration": 3,
    "start_time": "2023-03-08T13:12:28.922Z"
   },
   {
    "duration": 5697,
    "start_time": "2023-03-08T13:12:29.156Z"
   },
   {
    "duration": 3,
    "start_time": "2023-03-08T13:12:56.981Z"
   },
   {
    "duration": 5660,
    "start_time": "2023-03-08T13:12:57.320Z"
   },
   {
    "duration": 4,
    "start_time": "2023-03-08T13:13:22.068Z"
   },
   {
    "duration": 5298,
    "start_time": "2023-03-08T13:13:23.329Z"
   },
   {
    "duration": 3,
    "start_time": "2023-03-08T13:14:21.572Z"
   },
   {
    "duration": 5318,
    "start_time": "2023-03-08T13:14:22.260Z"
   },
   {
    "duration": 3,
    "start_time": "2023-03-08T13:17:28.146Z"
   },
   {
    "duration": 5313,
    "start_time": "2023-03-08T13:17:28.464Z"
   },
   {
    "duration": 4208,
    "start_time": "2023-03-08T13:17:55.771Z"
   },
   {
    "duration": 837,
    "start_time": "2023-03-08T13:18:00.557Z"
   },
   {
    "duration": 3,
    "start_time": "2023-03-08T13:18:21.879Z"
   },
   {
    "duration": 499,
    "start_time": "2023-03-08T13:18:49.029Z"
   },
   {
    "duration": 77,
    "start_time": "2023-03-08T13:18:49.530Z"
   },
   {
    "duration": 3,
    "start_time": "2023-03-08T13:18:49.609Z"
   },
   {
    "duration": 6153,
    "start_time": "2023-03-08T13:18:49.613Z"
   },
   {
    "duration": 4006,
    "start_time": "2023-03-08T13:18:55.768Z"
   },
   {
    "duration": 630,
    "start_time": "2023-03-08T13:18:59.776Z"
   },
   {
    "duration": 4,
    "start_time": "2023-03-08T13:19:47.272Z"
   },
   {
    "duration": 5644,
    "start_time": "2023-03-08T13:19:47.525Z"
   },
   {
    "duration": 3,
    "start_time": "2023-03-08T13:24:21.317Z"
   },
   {
    "duration": 5687,
    "start_time": "2023-03-08T13:24:21.571Z"
   },
   {
    "duration": 4,
    "start_time": "2023-03-08T13:24:39.503Z"
   },
   {
    "duration": 5496,
    "start_time": "2023-03-08T13:24:39.688Z"
   },
   {
    "duration": 5282,
    "start_time": "2023-03-08T13:28:23.142Z"
   },
   {
    "duration": 4,
    "start_time": "2023-03-08T13:30:36.788Z"
   },
   {
    "duration": 5269,
    "start_time": "2023-03-08T13:30:37.026Z"
   },
   {
    "duration": 3,
    "start_time": "2023-03-08T13:33:07.937Z"
   },
   {
    "duration": 5896,
    "start_time": "2023-03-08T13:33:08.149Z"
   },
   {
    "duration": 3,
    "start_time": "2023-03-08T13:33:55.677Z"
   },
   {
    "duration": 507,
    "start_time": "2023-03-08T13:34:17.239Z"
   },
   {
    "duration": 76,
    "start_time": "2023-03-08T13:34:17.748Z"
   },
   {
    "duration": 3,
    "start_time": "2023-03-08T13:34:17.825Z"
   },
   {
    "duration": 6231,
    "start_time": "2023-03-08T13:34:17.830Z"
   },
   {
    "duration": 4416,
    "start_time": "2023-03-08T13:34:24.064Z"
   },
   {
    "duration": 662,
    "start_time": "2023-03-08T13:34:28.482Z"
   },
   {
    "duration": 3,
    "start_time": "2023-03-08T13:34:41.525Z"
   },
   {
    "duration": 501,
    "start_time": "2023-03-08T13:34:41.776Z"
   },
   {
    "duration": 4,
    "start_time": "2023-03-08T13:34:55.032Z"
   },
   {
    "duration": 5873,
    "start_time": "2023-03-08T13:34:55.794Z"
   },
   {
    "duration": 554,
    "start_time": "2023-03-08T13:35:10.178Z"
   },
   {
    "duration": 61,
    "start_time": "2023-03-08T13:35:10.734Z"
   },
   {
    "duration": 5,
    "start_time": "2023-03-08T13:35:10.797Z"
   },
   {
    "duration": 6032,
    "start_time": "2023-03-08T13:35:10.804Z"
   },
   {
    "duration": 3931,
    "start_time": "2023-03-08T13:35:16.838Z"
   },
   {
    "duration": 545,
    "start_time": "2023-03-15T13:35:01.956Z"
   },
   {
    "duration": 90,
    "start_time": "2023-03-15T13:35:02.502Z"
   },
   {
    "duration": 3,
    "start_time": "2023-03-15T13:35:02.594Z"
   },
   {
    "duration": 5560,
    "start_time": "2023-03-15T13:35:02.599Z"
   },
   {
    "duration": 4890,
    "start_time": "2023-03-15T13:35:08.162Z"
   },
   {
    "duration": 603,
    "start_time": "2023-03-16T03:29:46.316Z"
   },
   {
    "duration": 105,
    "start_time": "2023-03-16T03:29:46.921Z"
   },
   {
    "duration": 4,
    "start_time": "2023-03-16T03:29:47.027Z"
   },
   {
    "duration": 7203,
    "start_time": "2023-03-16T03:29:47.033Z"
   },
   {
    "duration": 5474,
    "start_time": "2023-03-16T03:29:54.238Z"
   },
   {
    "duration": 579,
    "start_time": "2023-03-16T14:09:09.191Z"
   },
   {
    "duration": 93,
    "start_time": "2023-03-16T14:09:09.772Z"
   },
   {
    "duration": 4,
    "start_time": "2023-03-16T14:09:09.866Z"
   },
   {
    "duration": 6194,
    "start_time": "2023-03-16T14:09:09.872Z"
   },
   {
    "duration": 4821,
    "start_time": "2023-03-16T14:09:16.068Z"
   },
   {
    "duration": 560,
    "start_time": "2023-03-16T14:15:46.323Z"
   },
   {
    "duration": 51,
    "start_time": "2023-03-16T14:15:46.885Z"
   },
   {
    "duration": 3,
    "start_time": "2023-03-16T14:15:46.938Z"
   },
   {
    "duration": 5478,
    "start_time": "2023-03-16T14:15:46.943Z"
   },
   {
    "duration": 4552,
    "start_time": "2023-03-16T14:15:52.424Z"
   },
   {
    "duration": 542,
    "start_time": "2023-03-16T14:17:54.861Z"
   },
   {
    "duration": 55,
    "start_time": "2023-03-16T14:17:55.405Z"
   },
   {
    "duration": 4,
    "start_time": "2023-03-16T14:17:55.461Z"
   },
   {
    "duration": 5531,
    "start_time": "2023-03-16T14:17:55.466Z"
   },
   {
    "duration": 4577,
    "start_time": "2023-03-16T14:18:00.999Z"
   },
   {
    "duration": 530,
    "start_time": "2023-03-17T04:21:04.155Z"
   },
   {
    "duration": 75,
    "start_time": "2023-03-17T04:21:04.687Z"
   },
   {
    "duration": 3,
    "start_time": "2023-03-17T04:21:04.763Z"
   },
   {
    "duration": 4553,
    "start_time": "2023-03-17T04:21:04.768Z"
   },
   {
    "duration": 3594,
    "start_time": "2023-03-17T04:21:09.322Z"
   },
   {
    "duration": 549,
    "start_time": "2023-03-17T08:17:43.003Z"
   },
   {
    "duration": 88,
    "start_time": "2023-03-17T08:17:43.561Z"
   },
   {
    "duration": 4,
    "start_time": "2023-03-17T08:17:43.651Z"
   },
   {
    "duration": 5695,
    "start_time": "2023-03-17T08:17:43.657Z"
   },
   {
    "duration": 4796,
    "start_time": "2023-03-17T08:17:49.354Z"
   },
   {
    "duration": 503,
    "start_time": "2023-03-17T08:19:21.321Z"
   },
   {
    "duration": 70,
    "start_time": "2023-03-17T08:19:21.826Z"
   },
   {
    "duration": 10,
    "start_time": "2023-03-17T08:19:21.898Z"
   },
   {
    "duration": 5561,
    "start_time": "2023-03-17T08:19:21.911Z"
   },
   {
    "duration": 4635,
    "start_time": "2023-03-17T08:19:27.474Z"
   },
   {
    "duration": 548,
    "start_time": "2023-03-17T19:26:24.631Z"
   },
   {
    "duration": 85,
    "start_time": "2023-03-17T19:26:25.181Z"
   },
   {
    "duration": 5,
    "start_time": "2023-03-17T19:26:25.268Z"
   },
   {
    "duration": 6001,
    "start_time": "2023-03-17T19:26:25.275Z"
   },
   {
    "duration": 4632,
    "start_time": "2023-03-17T19:26:31.278Z"
   },
   {
    "duration": 519,
    "start_time": "2023-03-17T19:28:09.946Z"
   },
   {
    "duration": 103,
    "start_time": "2023-03-17T19:28:10.467Z"
   },
   {
    "duration": 4,
    "start_time": "2023-03-17T19:28:10.572Z"
   },
   {
    "duration": 711,
    "start_time": "2023-03-18T09:35:15.773Z"
   },
   {
    "duration": 87,
    "start_time": "2023-03-18T09:35:16.492Z"
   },
   {
    "duration": 7,
    "start_time": "2023-03-18T09:35:16.586Z"
   },
   {
    "duration": 7558,
    "start_time": "2023-03-18T09:35:16.599Z"
   },
   {
    "duration": 5609,
    "start_time": "2023-03-18T09:35:24.159Z"
   },
   {
    "duration": 599,
    "start_time": "2023-03-18T09:37:13.211Z"
   },
   {
    "duration": 60,
    "start_time": "2023-03-18T09:37:13.812Z"
   },
   {
    "duration": 3,
    "start_time": "2023-03-18T09:37:13.874Z"
   },
   {
    "duration": 6906,
    "start_time": "2023-03-18T09:37:13.879Z"
   },
   {
    "duration": 5316,
    "start_time": "2023-03-18T09:37:20.799Z"
   }
  ],
  "kernelspec": {
   "display_name": "Python 3 (ipykernel)",
   "language": "python",
   "name": "python3"
  },
  "language_info": {
   "codemirror_mode": {
    "name": "ipython",
    "version": 3
   },
   "file_extension": ".py",
   "mimetype": "text/x-python",
   "name": "python",
   "nbconvert_exporter": "python",
   "pygments_lexer": "ipython3",
   "version": "3.9.13"
  },
  "toc": {
   "base_numbering": 1,
   "nav_menu": {},
   "number_sections": true,
   "sideBar": true,
   "skip_h1_title": true,
   "title_cell": "Table of Contents",
   "title_sidebar": "Contents",
   "toc_cell": false,
   "toc_position": {},
   "toc_section_display": true,
   "toc_window_display": false
  }
 },
 "nbformat": 4,
 "nbformat_minor": 5
}
