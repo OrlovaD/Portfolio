{
 "cells": [
  {
   "cell_type": "markdown",
   "id": "1fe26ba9",
   "metadata": {
    "deletable": false,
    "editable": false,
    "id": "c81daeeb"
   },
   "source": [
    "# Исследование надежности заемщиков\n"
   ]
  },
  {
   "cell_type": "markdown",
   "id": "73b5e996",
   "metadata": {
    "deletable": false,
    "editable": false,
    "id": "827c20bf"
   },
   "source": [
    "Во второй части проекта вы выполните шаги 3 и 4. Их вручную проверит ревьюер.\n",
    "Чтобы вам не пришлось писать код заново для шагов 1 и 2, мы добавили авторские решения в ячейки с кодом. \n",
    "\n"
   ]
  },
  {
   "cell_type": "markdown",
   "id": "de042da8",
   "metadata": {
    "deletable": false,
    "editable": false,
    "id": "744d7639"
   },
   "source": [
    "## Откройте таблицу и изучите общую информацию о данных"
   ]
  },
  {
   "cell_type": "markdown",
   "id": "2ede9879",
   "metadata": {
    "deletable": false,
    "editable": false,
    "id": "e7a14c31"
   },
   "source": [
    "**Задание 1. Импортируйте библиотеку pandas. Считайте данные из csv-файла в датафрейм и сохраните в переменную `data`. Путь к файлу:**\n",
    "\n",
    "`/datasets/data.csv`"
   ]
  },
  {
   "cell_type": "code",
   "execution_count": 1,
   "id": "4e38de97",
   "metadata": {
    "deletable": false,
    "id": "7bcf75c9"
   },
   "outputs": [],
   "source": [
    "import pandas as pd\n",
    "\n",
    "try:\n",
    "    data = pd.read_csv('/datasets/data.csv')\n",
    "except:\n",
    "    data = pd.read_csv('data.csv')"
   ]
  },
  {
   "cell_type": "markdown",
   "id": "c98277fb",
   "metadata": {
    "deletable": false,
    "editable": false,
    "id": "b8038fe3"
   },
   "source": [
    "**Задание 2. Выведите первые 20 строчек датафрейма `data` на экран.**"
   ]
  },
  {
   "cell_type": "code",
   "execution_count": 2,
   "id": "e5b1a8bf",
   "metadata": {
    "deletable": false,
    "id": "2a7cab99",
    "outputId": "1a8f3ef2-d323-4ec2-ddf7-89670b5944c4"
   },
   "outputs": [
    {
     "data": {
      "text/html": [
       "<div>\n",
       "<style scoped>\n",
       "    .dataframe tbody tr th:only-of-type {\n",
       "        vertical-align: middle;\n",
       "    }\n",
       "\n",
       "    .dataframe tbody tr th {\n",
       "        vertical-align: top;\n",
       "    }\n",
       "\n",
       "    .dataframe thead th {\n",
       "        text-align: right;\n",
       "    }\n",
       "</style>\n",
       "<table border=\"1\" class=\"dataframe\">\n",
       "  <thead>\n",
       "    <tr style=\"text-align: right;\">\n",
       "      <th></th>\n",
       "      <th>children</th>\n",
       "      <th>days_employed</th>\n",
       "      <th>dob_years</th>\n",
       "      <th>education</th>\n",
       "      <th>education_id</th>\n",
       "      <th>family_status</th>\n",
       "      <th>family_status_id</th>\n",
       "      <th>gender</th>\n",
       "      <th>income_type</th>\n",
       "      <th>debt</th>\n",
       "      <th>total_income</th>\n",
       "      <th>purpose</th>\n",
       "    </tr>\n",
       "  </thead>\n",
       "  <tbody>\n",
       "    <tr>\n",
       "      <th>0</th>\n",
       "      <td>1</td>\n",
       "      <td>-8437.673028</td>\n",
       "      <td>42</td>\n",
       "      <td>высшее</td>\n",
       "      <td>0</td>\n",
       "      <td>женат / замужем</td>\n",
       "      <td>0</td>\n",
       "      <td>F</td>\n",
       "      <td>сотрудник</td>\n",
       "      <td>0</td>\n",
       "      <td>253875.639453</td>\n",
       "      <td>покупка жилья</td>\n",
       "    </tr>\n",
       "    <tr>\n",
       "      <th>1</th>\n",
       "      <td>1</td>\n",
       "      <td>-4024.803754</td>\n",
       "      <td>36</td>\n",
       "      <td>среднее</td>\n",
       "      <td>1</td>\n",
       "      <td>женат / замужем</td>\n",
       "      <td>0</td>\n",
       "      <td>F</td>\n",
       "      <td>сотрудник</td>\n",
       "      <td>0</td>\n",
       "      <td>112080.014102</td>\n",
       "      <td>приобретение автомобиля</td>\n",
       "    </tr>\n",
       "    <tr>\n",
       "      <th>2</th>\n",
       "      <td>0</td>\n",
       "      <td>-5623.422610</td>\n",
       "      <td>33</td>\n",
       "      <td>Среднее</td>\n",
       "      <td>1</td>\n",
       "      <td>женат / замужем</td>\n",
       "      <td>0</td>\n",
       "      <td>M</td>\n",
       "      <td>сотрудник</td>\n",
       "      <td>0</td>\n",
       "      <td>145885.952297</td>\n",
       "      <td>покупка жилья</td>\n",
       "    </tr>\n",
       "    <tr>\n",
       "      <th>3</th>\n",
       "      <td>3</td>\n",
       "      <td>-4124.747207</td>\n",
       "      <td>32</td>\n",
       "      <td>среднее</td>\n",
       "      <td>1</td>\n",
       "      <td>женат / замужем</td>\n",
       "      <td>0</td>\n",
       "      <td>M</td>\n",
       "      <td>сотрудник</td>\n",
       "      <td>0</td>\n",
       "      <td>267628.550329</td>\n",
       "      <td>дополнительное образование</td>\n",
       "    </tr>\n",
       "    <tr>\n",
       "      <th>4</th>\n",
       "      <td>0</td>\n",
       "      <td>340266.072047</td>\n",
       "      <td>53</td>\n",
       "      <td>среднее</td>\n",
       "      <td>1</td>\n",
       "      <td>гражданский брак</td>\n",
       "      <td>1</td>\n",
       "      <td>F</td>\n",
       "      <td>пенсионер</td>\n",
       "      <td>0</td>\n",
       "      <td>158616.077870</td>\n",
       "      <td>сыграть свадьбу</td>\n",
       "    </tr>\n",
       "    <tr>\n",
       "      <th>5</th>\n",
       "      <td>0</td>\n",
       "      <td>-926.185831</td>\n",
       "      <td>27</td>\n",
       "      <td>высшее</td>\n",
       "      <td>0</td>\n",
       "      <td>гражданский брак</td>\n",
       "      <td>1</td>\n",
       "      <td>M</td>\n",
       "      <td>компаньон</td>\n",
       "      <td>0</td>\n",
       "      <td>255763.565419</td>\n",
       "      <td>покупка жилья</td>\n",
       "    </tr>\n",
       "    <tr>\n",
       "      <th>6</th>\n",
       "      <td>0</td>\n",
       "      <td>-2879.202052</td>\n",
       "      <td>43</td>\n",
       "      <td>высшее</td>\n",
       "      <td>0</td>\n",
       "      <td>женат / замужем</td>\n",
       "      <td>0</td>\n",
       "      <td>F</td>\n",
       "      <td>компаньон</td>\n",
       "      <td>0</td>\n",
       "      <td>240525.971920</td>\n",
       "      <td>операции с жильем</td>\n",
       "    </tr>\n",
       "    <tr>\n",
       "      <th>7</th>\n",
       "      <td>0</td>\n",
       "      <td>-152.779569</td>\n",
       "      <td>50</td>\n",
       "      <td>СРЕДНЕЕ</td>\n",
       "      <td>1</td>\n",
       "      <td>женат / замужем</td>\n",
       "      <td>0</td>\n",
       "      <td>M</td>\n",
       "      <td>сотрудник</td>\n",
       "      <td>0</td>\n",
       "      <td>135823.934197</td>\n",
       "      <td>образование</td>\n",
       "    </tr>\n",
       "    <tr>\n",
       "      <th>8</th>\n",
       "      <td>2</td>\n",
       "      <td>-6929.865299</td>\n",
       "      <td>35</td>\n",
       "      <td>ВЫСШЕЕ</td>\n",
       "      <td>0</td>\n",
       "      <td>гражданский брак</td>\n",
       "      <td>1</td>\n",
       "      <td>F</td>\n",
       "      <td>сотрудник</td>\n",
       "      <td>0</td>\n",
       "      <td>95856.832424</td>\n",
       "      <td>на проведение свадьбы</td>\n",
       "    </tr>\n",
       "    <tr>\n",
       "      <th>9</th>\n",
       "      <td>0</td>\n",
       "      <td>-2188.756445</td>\n",
       "      <td>41</td>\n",
       "      <td>среднее</td>\n",
       "      <td>1</td>\n",
       "      <td>женат / замужем</td>\n",
       "      <td>0</td>\n",
       "      <td>M</td>\n",
       "      <td>сотрудник</td>\n",
       "      <td>0</td>\n",
       "      <td>144425.938277</td>\n",
       "      <td>покупка жилья для семьи</td>\n",
       "    </tr>\n",
       "    <tr>\n",
       "      <th>10</th>\n",
       "      <td>2</td>\n",
       "      <td>-4171.483647</td>\n",
       "      <td>36</td>\n",
       "      <td>высшее</td>\n",
       "      <td>0</td>\n",
       "      <td>женат / замужем</td>\n",
       "      <td>0</td>\n",
       "      <td>M</td>\n",
       "      <td>компаньон</td>\n",
       "      <td>0</td>\n",
       "      <td>113943.491460</td>\n",
       "      <td>покупка недвижимости</td>\n",
       "    </tr>\n",
       "    <tr>\n",
       "      <th>11</th>\n",
       "      <td>0</td>\n",
       "      <td>-792.701887</td>\n",
       "      <td>40</td>\n",
       "      <td>среднее</td>\n",
       "      <td>1</td>\n",
       "      <td>женат / замужем</td>\n",
       "      <td>0</td>\n",
       "      <td>F</td>\n",
       "      <td>сотрудник</td>\n",
       "      <td>0</td>\n",
       "      <td>77069.234271</td>\n",
       "      <td>покупка коммерческой недвижимости</td>\n",
       "    </tr>\n",
       "    <tr>\n",
       "      <th>12</th>\n",
       "      <td>0</td>\n",
       "      <td>NaN</td>\n",
       "      <td>65</td>\n",
       "      <td>среднее</td>\n",
       "      <td>1</td>\n",
       "      <td>гражданский брак</td>\n",
       "      <td>1</td>\n",
       "      <td>M</td>\n",
       "      <td>пенсионер</td>\n",
       "      <td>0</td>\n",
       "      <td>NaN</td>\n",
       "      <td>сыграть свадьбу</td>\n",
       "    </tr>\n",
       "    <tr>\n",
       "      <th>13</th>\n",
       "      <td>0</td>\n",
       "      <td>-1846.641941</td>\n",
       "      <td>54</td>\n",
       "      <td>неоконченное высшее</td>\n",
       "      <td>2</td>\n",
       "      <td>женат / замужем</td>\n",
       "      <td>0</td>\n",
       "      <td>F</td>\n",
       "      <td>сотрудник</td>\n",
       "      <td>0</td>\n",
       "      <td>130458.228857</td>\n",
       "      <td>приобретение автомобиля</td>\n",
       "    </tr>\n",
       "    <tr>\n",
       "      <th>14</th>\n",
       "      <td>0</td>\n",
       "      <td>-1844.956182</td>\n",
       "      <td>56</td>\n",
       "      <td>высшее</td>\n",
       "      <td>0</td>\n",
       "      <td>гражданский брак</td>\n",
       "      <td>1</td>\n",
       "      <td>F</td>\n",
       "      <td>компаньон</td>\n",
       "      <td>1</td>\n",
       "      <td>165127.911772</td>\n",
       "      <td>покупка жилой недвижимости</td>\n",
       "    </tr>\n",
       "    <tr>\n",
       "      <th>15</th>\n",
       "      <td>1</td>\n",
       "      <td>-972.364419</td>\n",
       "      <td>26</td>\n",
       "      <td>среднее</td>\n",
       "      <td>1</td>\n",
       "      <td>женат / замужем</td>\n",
       "      <td>0</td>\n",
       "      <td>F</td>\n",
       "      <td>сотрудник</td>\n",
       "      <td>0</td>\n",
       "      <td>116820.904450</td>\n",
       "      <td>строительство собственной недвижимости</td>\n",
       "    </tr>\n",
       "    <tr>\n",
       "      <th>16</th>\n",
       "      <td>0</td>\n",
       "      <td>-1719.934226</td>\n",
       "      <td>35</td>\n",
       "      <td>среднее</td>\n",
       "      <td>1</td>\n",
       "      <td>женат / замужем</td>\n",
       "      <td>0</td>\n",
       "      <td>F</td>\n",
       "      <td>сотрудник</td>\n",
       "      <td>0</td>\n",
       "      <td>289202.704229</td>\n",
       "      <td>недвижимость</td>\n",
       "    </tr>\n",
       "    <tr>\n",
       "      <th>17</th>\n",
       "      <td>0</td>\n",
       "      <td>-2369.999720</td>\n",
       "      <td>33</td>\n",
       "      <td>высшее</td>\n",
       "      <td>0</td>\n",
       "      <td>гражданский брак</td>\n",
       "      <td>1</td>\n",
       "      <td>M</td>\n",
       "      <td>сотрудник</td>\n",
       "      <td>0</td>\n",
       "      <td>90410.586745</td>\n",
       "      <td>строительство недвижимости</td>\n",
       "    </tr>\n",
       "    <tr>\n",
       "      <th>18</th>\n",
       "      <td>0</td>\n",
       "      <td>400281.136913</td>\n",
       "      <td>53</td>\n",
       "      <td>среднее</td>\n",
       "      <td>1</td>\n",
       "      <td>вдовец / вдова</td>\n",
       "      <td>2</td>\n",
       "      <td>F</td>\n",
       "      <td>пенсионер</td>\n",
       "      <td>0</td>\n",
       "      <td>56823.777243</td>\n",
       "      <td>на покупку подержанного автомобиля</td>\n",
       "    </tr>\n",
       "    <tr>\n",
       "      <th>19</th>\n",
       "      <td>0</td>\n",
       "      <td>-10038.818549</td>\n",
       "      <td>48</td>\n",
       "      <td>СРЕДНЕЕ</td>\n",
       "      <td>1</td>\n",
       "      <td>в разводе</td>\n",
       "      <td>3</td>\n",
       "      <td>F</td>\n",
       "      <td>сотрудник</td>\n",
       "      <td>0</td>\n",
       "      <td>242831.107982</td>\n",
       "      <td>на покупку своего автомобиля</td>\n",
       "    </tr>\n",
       "  </tbody>\n",
       "</table>\n",
       "</div>"
      ],
      "text/plain": [
       "    children  days_employed  dob_years            education  education_id  \\\n",
       "0          1   -8437.673028         42               высшее             0   \n",
       "1          1   -4024.803754         36              среднее             1   \n",
       "2          0   -5623.422610         33              Среднее             1   \n",
       "3          3   -4124.747207         32              среднее             1   \n",
       "4          0  340266.072047         53              среднее             1   \n",
       "5          0    -926.185831         27               высшее             0   \n",
       "6          0   -2879.202052         43               высшее             0   \n",
       "7          0    -152.779569         50              СРЕДНЕЕ             1   \n",
       "8          2   -6929.865299         35               ВЫСШЕЕ             0   \n",
       "9          0   -2188.756445         41              среднее             1   \n",
       "10         2   -4171.483647         36               высшее             0   \n",
       "11         0    -792.701887         40              среднее             1   \n",
       "12         0            NaN         65              среднее             1   \n",
       "13         0   -1846.641941         54  неоконченное высшее             2   \n",
       "14         0   -1844.956182         56               высшее             0   \n",
       "15         1    -972.364419         26              среднее             1   \n",
       "16         0   -1719.934226         35              среднее             1   \n",
       "17         0   -2369.999720         33               высшее             0   \n",
       "18         0  400281.136913         53              среднее             1   \n",
       "19         0  -10038.818549         48              СРЕДНЕЕ             1   \n",
       "\n",
       "       family_status  family_status_id gender income_type  debt  \\\n",
       "0    женат / замужем                 0      F   сотрудник     0   \n",
       "1    женат / замужем                 0      F   сотрудник     0   \n",
       "2    женат / замужем                 0      M   сотрудник     0   \n",
       "3    женат / замужем                 0      M   сотрудник     0   \n",
       "4   гражданский брак                 1      F   пенсионер     0   \n",
       "5   гражданский брак                 1      M   компаньон     0   \n",
       "6    женат / замужем                 0      F   компаньон     0   \n",
       "7    женат / замужем                 0      M   сотрудник     0   \n",
       "8   гражданский брак                 1      F   сотрудник     0   \n",
       "9    женат / замужем                 0      M   сотрудник     0   \n",
       "10   женат / замужем                 0      M   компаньон     0   \n",
       "11   женат / замужем                 0      F   сотрудник     0   \n",
       "12  гражданский брак                 1      M   пенсионер     0   \n",
       "13   женат / замужем                 0      F   сотрудник     0   \n",
       "14  гражданский брак                 1      F   компаньон     1   \n",
       "15   женат / замужем                 0      F   сотрудник     0   \n",
       "16   женат / замужем                 0      F   сотрудник     0   \n",
       "17  гражданский брак                 1      M   сотрудник     0   \n",
       "18    вдовец / вдова                 2      F   пенсионер     0   \n",
       "19         в разводе                 3      F   сотрудник     0   \n",
       "\n",
       "     total_income                                 purpose  \n",
       "0   253875.639453                           покупка жилья  \n",
       "1   112080.014102                 приобретение автомобиля  \n",
       "2   145885.952297                           покупка жилья  \n",
       "3   267628.550329              дополнительное образование  \n",
       "4   158616.077870                         сыграть свадьбу  \n",
       "5   255763.565419                           покупка жилья  \n",
       "6   240525.971920                       операции с жильем  \n",
       "7   135823.934197                             образование  \n",
       "8    95856.832424                   на проведение свадьбы  \n",
       "9   144425.938277                 покупка жилья для семьи  \n",
       "10  113943.491460                    покупка недвижимости  \n",
       "11   77069.234271       покупка коммерческой недвижимости  \n",
       "12            NaN                         сыграть свадьбу  \n",
       "13  130458.228857                 приобретение автомобиля  \n",
       "14  165127.911772              покупка жилой недвижимости  \n",
       "15  116820.904450  строительство собственной недвижимости  \n",
       "16  289202.704229                            недвижимость  \n",
       "17   90410.586745              строительство недвижимости  \n",
       "18   56823.777243      на покупку подержанного автомобиля  \n",
       "19  242831.107982            на покупку своего автомобиля  "
      ]
     },
     "execution_count": 2,
     "metadata": {},
     "output_type": "execute_result"
    }
   ],
   "source": [
    "data.head(20)"
   ]
  },
  {
   "cell_type": "markdown",
   "id": "4a612f43",
   "metadata": {
    "deletable": false,
    "editable": false,
    "id": "1c12e233"
   },
   "source": [
    "**Задание 3. Выведите основную информацию о датафрейме с помощью метода `info()`.**"
   ]
  },
  {
   "cell_type": "code",
   "execution_count": 3,
   "id": "d1af0d81",
   "metadata": {
    "deletable": false,
    "id": "2b757bca",
    "outputId": "15376089-8dad-46c9-b520-c05248d43158"
   },
   "outputs": [
    {
     "name": "stdout",
     "output_type": "stream",
     "text": [
      "<class 'pandas.core.frame.DataFrame'>\n",
      "RangeIndex: 21525 entries, 0 to 21524\n",
      "Data columns (total 12 columns):\n",
      " #   Column            Non-Null Count  Dtype  \n",
      "---  ------            --------------  -----  \n",
      " 0   children          21525 non-null  int64  \n",
      " 1   days_employed     19351 non-null  float64\n",
      " 2   dob_years         21525 non-null  int64  \n",
      " 3   education         21525 non-null  object \n",
      " 4   education_id      21525 non-null  int64  \n",
      " 5   family_status     21525 non-null  object \n",
      " 6   family_status_id  21525 non-null  int64  \n",
      " 7   gender            21525 non-null  object \n",
      " 8   income_type       21525 non-null  object \n",
      " 9   debt              21525 non-null  int64  \n",
      " 10  total_income      19351 non-null  float64\n",
      " 11  purpose           21525 non-null  object \n",
      "dtypes: float64(2), int64(5), object(5)\n",
      "memory usage: 2.0+ MB\n"
     ]
    }
   ],
   "source": [
    "data.info()"
   ]
  },
  {
   "cell_type": "markdown",
   "id": "d183892c",
   "metadata": {
    "deletable": false,
    "editable": false,
    "id": "333ec665"
   },
   "source": [
    "## Предобработка данных"
   ]
  },
  {
   "cell_type": "markdown",
   "id": "819e9bfe",
   "metadata": {
    "deletable": false,
    "editable": false,
    "id": "02d92d53"
   },
   "source": [
    "### Удаление пропусков"
   ]
  },
  {
   "cell_type": "markdown",
   "id": "23e8f64d",
   "metadata": {
    "deletable": false,
    "editable": false,
    "id": "cd84967c"
   },
   "source": [
    "**Задание 4. Выведите количество пропущенных значений для каждого столбца. Используйте комбинацию двух методов.**"
   ]
  },
  {
   "cell_type": "code",
   "execution_count": 4,
   "id": "96f72206",
   "metadata": {
    "deletable": false,
    "id": "7f9b2309",
    "outputId": "81f4d817-781c-465c-ed15-91ce4446810d"
   },
   "outputs": [
    {
     "data": {
      "text/plain": [
       "children               0\n",
       "days_employed       2174\n",
       "dob_years              0\n",
       "education              0\n",
       "education_id           0\n",
       "family_status          0\n",
       "family_status_id       0\n",
       "gender                 0\n",
       "income_type            0\n",
       "debt                   0\n",
       "total_income        2174\n",
       "purpose                0\n",
       "dtype: int64"
      ]
     },
     "execution_count": 4,
     "metadata": {},
     "output_type": "execute_result"
    }
   ],
   "source": [
    "data.isna().sum()"
   ]
  },
  {
   "cell_type": "markdown",
   "id": "14ad0bc4",
   "metadata": {
    "deletable": false,
    "editable": false,
    "id": "db86e27b"
   },
   "source": [
    "**Задание 5. В двух столбцах есть пропущенные значения. Один из них — `days_employed`. Пропуски в этом столбце вы обработаете на следующем этапе. Другой столбец с пропущенными значениями — `total_income` — хранит данные о доходах. На сумму дохода сильнее всего влияет тип занятости, поэтому заполнить пропуски в этом столбце нужно медианным значением по каждому типу из столбца `income_type`. Например, у человека с типом занятости `сотрудник` пропуск в столбце `total_income` должен быть заполнен медианным доходом среди всех записей с тем же типом.**"
   ]
  },
  {
   "cell_type": "code",
   "execution_count": 5,
   "id": "b8f70350",
   "metadata": {
    "deletable": false,
    "id": "42006a93"
   },
   "outputs": [],
   "source": [
    "for t in data['income_type'].unique():\n",
    "    data.loc[(data['income_type'] == t) & (data['total_income'].isna()), 'total_income'] = \\\n",
    "    data.loc[(data['income_type'] == t), 'total_income'].median()"
   ]
  },
  {
   "cell_type": "markdown",
   "id": "1926f839",
   "metadata": {
    "deletable": false,
    "editable": false,
    "id": "89da5ece"
   },
   "source": [
    "### Обработка аномальных значений"
   ]
  },
  {
   "cell_type": "markdown",
   "id": "0aa43f24",
   "metadata": {
    "deletable": false,
    "editable": false,
    "id": "57964554"
   },
   "source": [
    "**Задание 6. В данных могут встречаться артефакты (аномалии) — значения, которые не отражают действительность и появились по какой-то ошибке. таким артефактом будет отрицательное количество дней трудового стажа в столбце `days_employed`. Для реальных данных это нормально. Обработайте значения в этом столбце: замените все отрицательные значения положительными с помощью метода `abs()`.**"
   ]
  },
  {
   "cell_type": "code",
   "execution_count": 6,
   "id": "0833eddf",
   "metadata": {
    "deletable": false,
    "id": "f6f055bf"
   },
   "outputs": [],
   "source": [
    "data['days_employed'] = data['days_employed'].abs()"
   ]
  },
  {
   "cell_type": "markdown",
   "id": "027f868b",
   "metadata": {
    "deletable": false,
    "editable": false,
    "id": "6107dd2f"
   },
   "source": [
    "**Задание 7. Для каждого типа занятости выведите медианное значение трудового стажа `days_employed` в днях.**"
   ]
  },
  {
   "cell_type": "code",
   "execution_count": 7,
   "id": "9eeb2ad1",
   "metadata": {
    "deletable": false,
    "id": "85a5faf6",
    "outputId": "801ef80e-522b-4668-f34e-565af7432bcf"
   },
   "outputs": [
    {
     "data": {
      "text/plain": [
       "income_type\n",
       "безработный        366413.652744\n",
       "в декрете            3296.759962\n",
       "госслужащий          2689.368353\n",
       "компаньон            1547.382223\n",
       "пенсионер          365213.306266\n",
       "предприниматель       520.848083\n",
       "сотрудник            1574.202821\n",
       "студент               578.751554\n",
       "Name: days_employed, dtype: float64"
      ]
     },
     "execution_count": 7,
     "metadata": {},
     "output_type": "execute_result"
    }
   ],
   "source": [
    "data.groupby('income_type')['days_employed'].agg('median')"
   ]
  },
  {
   "cell_type": "markdown",
   "id": "b70a2151",
   "metadata": {
    "deletable": false,
    "editable": false,
    "id": "38d1a030"
   },
   "source": [
    "У двух типов (безработные и пенсионеры) получатся аномально большие значения. Исправить такие значения сложно, поэтому оставьте их как есть. Тем более этот столбец не понадобится вам для исследования."
   ]
  },
  {
   "cell_type": "markdown",
   "id": "002de433",
   "metadata": {
    "deletable": false,
    "editable": false,
    "id": "d8a9f147"
   },
   "source": [
    "**Задание 8. Выведите перечень уникальных значений столбца `children`.**"
   ]
  },
  {
   "cell_type": "code",
   "execution_count": 8,
   "id": "8e2cdc7f",
   "metadata": {
    "deletable": false,
    "id": "ef5056eb",
    "outputId": "6975b15c-7f95-4697-d16d-a0c79b657b03"
   },
   "outputs": [
    {
     "data": {
      "text/plain": [
       "array([ 1,  0,  3,  2, -1,  4, 20,  5], dtype=int64)"
      ]
     },
     "execution_count": 8,
     "metadata": {},
     "output_type": "execute_result"
    }
   ],
   "source": [
    "data['children'].unique()"
   ]
  },
  {
   "cell_type": "markdown",
   "id": "486f1976",
   "metadata": {
    "deletable": false,
    "editable": false,
    "id": "40b9ebf2"
   },
   "source": [
    "**Задание 9. В столбце `children` есть два аномальных значения. Удалите строки, в которых встречаются такие аномальные значения из датафрейма `data`.**"
   ]
  },
  {
   "cell_type": "code",
   "execution_count": 9,
   "id": "9e129a42",
   "metadata": {
    "deletable": false,
    "id": "3ff9801d"
   },
   "outputs": [],
   "source": [
    "data = data[(data['children'] != -1) & (data['children'] != 20)]"
   ]
  },
  {
   "cell_type": "markdown",
   "id": "643d0045",
   "metadata": {
    "deletable": false,
    "editable": false,
    "id": "bbc4d0ce"
   },
   "source": [
    "**Задание 10. Ещё раз выведите перечень уникальных значений столбца `children`, чтобы убедиться, что артефакты удалены.**"
   ]
  },
  {
   "cell_type": "code",
   "execution_count": 10,
   "id": "c47631d7",
   "metadata": {
    "deletable": false,
    "id": "ad4fa8b7",
    "outputId": "b2097101-d49d-44d9-901b-32a65c9463d1"
   },
   "outputs": [
    {
     "data": {
      "text/plain": [
       "array([1, 0, 3, 2, 4, 5], dtype=int64)"
      ]
     },
     "execution_count": 10,
     "metadata": {},
     "output_type": "execute_result"
    }
   ],
   "source": [
    "data['children'].unique()"
   ]
  },
  {
   "cell_type": "markdown",
   "id": "275a554b",
   "metadata": {
    "deletable": false,
    "editable": false,
    "id": "75440b63"
   },
   "source": [
    "### Удаление пропусков (продолжение)"
   ]
  },
  {
   "cell_type": "markdown",
   "id": "01c75e15",
   "metadata": {
    "deletable": false,
    "editable": false,
    "id": "f4ea573f"
   },
   "source": [
    "**Задание 11. Заполните пропуски в столбце `days_employed` медианными значениями по каждого типа занятости `income_type`.**"
   ]
  },
  {
   "cell_type": "code",
   "execution_count": 11,
   "id": "358db4bf",
   "metadata": {
    "deletable": false,
    "id": "af6b1a7e"
   },
   "outputs": [],
   "source": [
    "for t in data['income_type'].unique():\n",
    "    data.loc[(data['income_type'] == t) & (data['days_employed'].isna()), 'days_employed'] = \\\n",
    "    data.loc[(data['income_type'] == t), 'days_employed'].median()"
   ]
  },
  {
   "cell_type": "markdown",
   "id": "a8e53707",
   "metadata": {
    "deletable": false,
    "editable": false,
    "id": "2753f40d"
   },
   "source": [
    "**Задание 12. Убедитесь, что все пропуски заполнены. Проверьте себя и ещё раз выведите количество пропущенных значений для каждого столбца с помощью двух методов.**"
   ]
  },
  {
   "cell_type": "code",
   "execution_count": 12,
   "id": "556cbbd4",
   "metadata": {
    "deletable": false,
    "id": "55f78bc2",
    "outputId": "8da1e4e1-358e-4e87-98c9-f261bce0a7b2"
   },
   "outputs": [
    {
     "data": {
      "text/plain": [
       "children            0\n",
       "days_employed       0\n",
       "dob_years           0\n",
       "education           0\n",
       "education_id        0\n",
       "family_status       0\n",
       "family_status_id    0\n",
       "gender              0\n",
       "income_type         0\n",
       "debt                0\n",
       "total_income        0\n",
       "purpose             0\n",
       "dtype: int64"
      ]
     },
     "execution_count": 12,
     "metadata": {},
     "output_type": "execute_result"
    }
   ],
   "source": [
    "data.isna().sum()"
   ]
  },
  {
   "cell_type": "markdown",
   "id": "981d1b97",
   "metadata": {
    "deletable": false,
    "editable": false,
    "id": "ddc81e43"
   },
   "source": [
    "### Изменение типов данных"
   ]
  },
  {
   "cell_type": "markdown",
   "id": "54d27ba1",
   "metadata": {
    "deletable": false,
    "editable": false,
    "id": "42d19d24"
   },
   "source": [
    "**Задание 13. Замените вещественный тип данных в столбце `total_income` на целочисленный с помощью метода `astype()`.**"
   ]
  },
  {
   "cell_type": "code",
   "execution_count": 13,
   "id": "42e7b574",
   "metadata": {
    "deletable": false,
    "id": "920b65ad"
   },
   "outputs": [],
   "source": [
    "data['total_income'] = data['total_income'].astype(int)"
   ]
  },
  {
   "cell_type": "markdown",
   "id": "cec4e2c5",
   "metadata": {
    "deletable": false,
    "editable": false,
    "id": "80c420ba"
   },
   "source": [
    "### Обработка дубликатов"
   ]
  },
  {
   "cell_type": "markdown",
   "id": "e518756d",
   "metadata": {
    "deletable": false,
    "editable": false
   },
   "source": [
    "**Задание 14. Обработайте неявные дубликаты в столбце `education`. В этом столбце есть одни и те же значения, но записанные по-разному: с использованием заглавных и строчных букв. Приведите их к нижнему регистру. Проверьте остальные столбцы.**"
   ]
  },
  {
   "cell_type": "code",
   "execution_count": 14,
   "id": "a7826f6d",
   "metadata": {
    "deletable": false
   },
   "outputs": [],
   "source": [
    "data['education'] = data['education'].str.lower()"
   ]
  },
  {
   "cell_type": "markdown",
   "id": "fb0c6f6c",
   "metadata": {
    "deletable": false,
    "editable": false,
    "id": "dc587695"
   },
   "source": [
    "**Задание 15. Выведите на экран количество строк-дубликатов в данных. Если такие строки присутствуют, удалите их.**"
   ]
  },
  {
   "cell_type": "code",
   "execution_count": 15,
   "id": "7217d22c",
   "metadata": {
    "deletable": false,
    "id": "3ee445e4",
    "outputId": "9684deba-1934-42d1-99e1-cda61740f822"
   },
   "outputs": [
    {
     "data": {
      "text/plain": [
       "71"
      ]
     },
     "execution_count": 15,
     "metadata": {},
     "output_type": "execute_result"
    }
   ],
   "source": [
    "data.duplicated().sum()"
   ]
  },
  {
   "cell_type": "code",
   "execution_count": 16,
   "id": "04889289",
   "metadata": {
    "deletable": false,
    "id": "8575fe05"
   },
   "outputs": [],
   "source": [
    "data = data.drop_duplicates()"
   ]
  },
  {
   "cell_type": "markdown",
   "id": "5f04cc1f",
   "metadata": {
    "deletable": false,
    "editable": false,
    "id": "9904cf55"
   },
   "source": [
    "### Категоризация данных"
   ]
  },
  {
   "cell_type": "markdown",
   "id": "c1bad545",
   "metadata": {
    "deletable": false,
    "editable": false,
    "id": "72fcc8a2"
   },
   "source": [
    "**Задание 16. На основании диапазонов, указанных ниже, создайте в датафрейме `data` столбец `total_income_category` с категориями:**\n",
    "\n",
    "- 0–30000 — `'E'`;\n",
    "- 30001–50000 — `'D'`;\n",
    "- 50001–200000 — `'C'`;\n",
    "- 200001–1000000 — `'B'`;\n",
    "- 1000001 и выше — `'A'`.\n",
    "\n",
    "\n",
    "**Например, кредитополучателю с доходом 25000 нужно назначить категорию `'E'`, а клиенту, получающему 235000, — `'B'`. Используйте собственную функцию с именем `categorize_income()` и метод `apply()`.**"
   ]
  },
  {
   "cell_type": "code",
   "execution_count": 17,
   "id": "d26d16c2",
   "metadata": {
    "deletable": false,
    "id": "e1771346"
   },
   "outputs": [],
   "source": [
    "def categorize_income(income):\n",
    "    try:\n",
    "        if 0 <= income <= 30000:\n",
    "            return 'E'\n",
    "        elif 30001 <= income <= 50000:\n",
    "            return 'D'\n",
    "        elif 50001 <= income <= 200000:\n",
    "            return 'C'\n",
    "        elif 200001 <= income <= 1000000:\n",
    "            return 'B'\n",
    "        elif income >= 1000001:\n",
    "            return 'A'\n",
    "    except:\n",
    "        pass"
   ]
  },
  {
   "cell_type": "code",
   "execution_count": 18,
   "id": "c64eba47",
   "metadata": {
    "deletable": false,
    "id": "d5f3586d"
   },
   "outputs": [],
   "source": [
    "data['total_income_category'] = data['total_income'].apply(categorize_income)"
   ]
  },
  {
   "cell_type": "markdown",
   "id": "b9f263d2",
   "metadata": {
    "deletable": false,
    "editable": false,
    "id": "dde49b5c"
   },
   "source": [
    "**Задание 17. Выведите на экран перечень уникальных целей взятия кредита из столбца `purpose`.**"
   ]
  },
  {
   "cell_type": "code",
   "execution_count": 19,
   "id": "ced8aaac",
   "metadata": {
    "deletable": false,
    "id": "f67ce9b3",
    "outputId": "673c12d9-7d7e-4ae0-9812-c622c89dd244"
   },
   "outputs": [
    {
     "data": {
      "text/plain": [
       "array(['покупка жилья', 'приобретение автомобиля',\n",
       "       'дополнительное образование', 'сыграть свадьбу',\n",
       "       'операции с жильем', 'образование', 'на проведение свадьбы',\n",
       "       'покупка жилья для семьи', 'покупка недвижимости',\n",
       "       'покупка коммерческой недвижимости', 'покупка жилой недвижимости',\n",
       "       'строительство собственной недвижимости', 'недвижимость',\n",
       "       'строительство недвижимости', 'на покупку подержанного автомобиля',\n",
       "       'на покупку своего автомобиля',\n",
       "       'операции с коммерческой недвижимостью',\n",
       "       'строительство жилой недвижимости', 'жилье',\n",
       "       'операции со своей недвижимостью', 'автомобили',\n",
       "       'заняться образованием', 'сделка с подержанным автомобилем',\n",
       "       'получение образования', 'автомобиль', 'свадьба',\n",
       "       'получение дополнительного образования', 'покупка своего жилья',\n",
       "       'операции с недвижимостью', 'получение высшего образования',\n",
       "       'свой автомобиль', 'сделка с автомобилем',\n",
       "       'профильное образование', 'высшее образование',\n",
       "       'покупка жилья для сдачи', 'на покупку автомобиля', 'ремонт жилью',\n",
       "       'заняться высшим образованием'], dtype=object)"
      ]
     },
     "execution_count": 19,
     "metadata": {},
     "output_type": "execute_result"
    }
   ],
   "source": [
    "data['purpose'].unique()"
   ]
  },
  {
   "cell_type": "markdown",
   "id": "9480881a",
   "metadata": {
    "deletable": false,
    "editable": false,
    "id": "85d0aef0"
   },
   "source": [
    "**Задание 18. Создайте функцию, которая на основании данных из столбца `purpose` сформирует новый столбец `purpose_category`, в который войдут следующие категории:**\n",
    "\n",
    "- `'операции с автомобилем'`,\n",
    "- `'операции с недвижимостью'`,\n",
    "- `'проведение свадьбы'`,\n",
    "- `'получение образования'`.\n",
    "\n",
    "**Например, если в столбце `purpose` находится подстрока `'на покупку автомобиля'`, то в столбце `purpose_category` должна появиться строка `'операции с автомобилем'`.**\n",
    "\n",
    "**Используйте собственную функцию с именем `categorize_purpose()` и метод `apply()`. Изучите данные в столбце `purpose` и определите, какие подстроки помогут вам правильно определить категорию.**"
   ]
  },
  {
   "cell_type": "code",
   "execution_count": 20,
   "id": "dbbf5ff6",
   "metadata": {
    "deletable": false,
    "id": "e149fab4"
   },
   "outputs": [],
   "source": [
    "def categorize_purpose(row):\n",
    "    try:\n",
    "        if 'автом' in row:\n",
    "            return 'операции с автомобилем'\n",
    "        elif 'жил' in row or 'недвиж' in row:\n",
    "            return 'операции с недвижимостью'\n",
    "        elif 'свад' in row:\n",
    "            return 'проведение свадьбы'\n",
    "        elif 'образов' in row:\n",
    "            return 'получение образования'\n",
    "    except:\n",
    "        return 'нет категории'"
   ]
  },
  {
   "cell_type": "code",
   "execution_count": 21,
   "id": "25c1fca8",
   "metadata": {
    "deletable": false,
    "id": "bf36e69b"
   },
   "outputs": [],
   "source": [
    "data['purpose_category'] = data['purpose'].apply(categorize_purpose)"
   ]
  },
  {
   "cell_type": "markdown",
   "id": "e75eebea",
   "metadata": {
    "deletable": false,
    "editable": false,
    "id": "09b242bf"
   },
   "source": [
    "### Шаг 3. Исследуйте данные и ответьте на вопросы"
   ]
  },
  {
   "cell_type": "markdown",
   "id": "0e120db9",
   "metadata": {
    "deletable": false,
    "editable": false,
    "id": "c5d66278"
   },
   "source": [
    "#### 3.1 Есть ли зависимость между количеством детей и возвратом кредита в срок?"
   ]
  },
  {
   "cell_type": "code",
   "execution_count": 22,
   "id": "6b1350c3",
   "metadata": {
    "deletable": false,
    "id": "2cacfc4a",
    "scrolled": true
   },
   "outputs": [
    {
     "name": "stdout",
     "output_type": "stream",
     "text": [
      "debt            0       1    total     ratio\n",
      "children                                    \n",
      "4            37.0     4.0     41.0  0.097561\n",
      "2          1858.0   194.0   2052.0  0.094542\n",
      "1          4364.0   444.0   4808.0  0.092346\n",
      "3           303.0    27.0    330.0  0.081818\n",
      "0         13028.0  1063.0  14091.0  0.075438\n",
      "5             9.0     NaN      NaN       NaN\n"
     ]
    }
   ],
   "source": [
    "# Построим сводную таблицу с помощью метода pivot_table\n",
    "# сгруппируем данные по столбцу 'children' и по значениям данных колонки 'debt'\n",
    "# в качестве примера по которому будем смотреть информацию, возьмем колонку 'family_status_id'\n",
    "data_pivot = data.pivot_table(index=['children'], columns='debt', values='family_status_id', aggfunc='count')\n",
    "\n",
    "#создадим столбец 'total', где будет указана сумма всех клиентов\n",
    "data_pivot['total'] = data_pivot[1] + data_pivot[0]\n",
    "# создадим столбец 'ratio',  куда поместим отношение клиентов с долгами к клиентам без\n",
    "data_pivot['ratio'] = data_pivot[1] / data_pivot['total']\n",
    "\n",
    "# отсортируем данные по этому столбцу в порядке убывания\n",
    "print(data_pivot.sort_values('ratio', ascending=False))\n"
   ]
  },
  {
   "cell_type": "markdown",
   "id": "657563b4",
   "metadata": {
    "deletable": false,
    "id": "3a6b99ec"
   },
   "source": [
    "**Вывод:**\n",
    "***По столбцу ratio видно, что коэффициент должников с 4, 2, и 1 ребенком по отношению ко всем клиентам больше всего. Но общее количество клиентов, как и должников с 1, 2 или 0 детьми - больше по отношению к многодетным.***"
   ]
  },
  {
   "cell_type": "markdown",
   "id": "87f5a683",
   "metadata": {
    "deletable": false,
    "editable": false,
    "id": "97be82ca"
   },
   "source": [
    "#### 3.2 Есть ли зависимость между семейным положением и возвратом кредита в срок?"
   ]
  },
  {
   "cell_type": "code",
   "execution_count": 23,
   "id": "b1eed4cf",
   "metadata": {
    "deletable": false,
    "id": "dc3f7ee8"
   },
   "outputs": [
    {
     "name": "stdout",
     "output_type": "stream",
     "text": [
      "debt                       0    1  total     ratio\n",
      "family_status                                     \n",
      "Не женат / не замужем   2523  273   2796  0.108205\n",
      "гражданский брак        3749  385   4134  0.102694\n",
      "женат / замужем        11334  927  12261  0.081789\n",
      "в разводе               1105   84   1189  0.076018\n",
      "вдовец / вдова           888   63    951  0.070946\n"
     ]
    }
   ],
   "source": [
    "# Построим сводную таблицу с помощью метода pivot_table\n",
    "# сгруппируем данные по столбцу 'family_status' и по значениям данных колонки 'debt'\n",
    "# в качестве примера по которому будем смотреть информацию, возьмем колонку 'family_status_id'\n",
    "data_pivot = data.pivot_table(index=['family_status'], columns='debt', values='family_status_id', aggfunc='count')\n",
    "\n",
    "#создадим столбец 'total', где будет указана сумма всех клиентов\n",
    "data_pivot['total'] = data_pivot[1] + data_pivot[0]\n",
    "# создадим столбец 'ratio',  куда поместим отношение клиентов с долгами к клиентам без\n",
    "data_pivot['ratio'] = data_pivot[1] / data_pivot[0]\n",
    "\n",
    "# отсортируем данные по этому столбцу в порядке убывания\n",
    "print(data_pivot.sort_values('ratio', ascending=False))"
   ]
  },
  {
   "cell_type": "markdown",
   "id": "cac89f4c",
   "metadata": {
    "deletable": false,
    "id": "1cef7837"
   },
   "source": [
    "**Вывод:** \n",
    "***Должников среди не женатых и тех, кто в гражданском браке, почти равное количество. Примерно равны коэффициенты по вдовцам и разведенным, хотя в общем группа тех кто в разводе, больше. А вот женатых/замужних клиентов и должников больше всего, но у них средний коэффициент по задолженностям среди всех групп.***"
   ]
  },
  {
   "cell_type": "markdown",
   "id": "02bb7d8d",
   "metadata": {
    "deletable": false,
    "editable": false,
    "id": "1e8b2fca"
   },
   "source": [
    "#### 3.3 Есть ли зависимость между уровнем дохода и возвратом кредита в срок?"
   ]
  },
  {
   "cell_type": "code",
   "execution_count": 24,
   "id": "afdb5e17",
   "metadata": {
    "deletable": false,
    "id": "cd7e3720"
   },
   "outputs": [
    {
     "name": "stdout",
     "output_type": "stream",
     "text": [
      "debt                       0     1  total     ratio\n",
      "total_income_category                              \n",
      "E                         20     2     22  0.100000\n",
      "C                      14568  1353  15921  0.092875\n",
      "A                         23     2     25  0.086957\n",
      "B                       4660   354   5014  0.075966\n",
      "D                        328    21    349  0.064024\n"
     ]
    }
   ],
   "source": [
    "# Построим сводную таблицу с помощью метода pivot_table\n",
    "# сгруппируем данные по столбцу 'total_income_category' и по значениям данных колонки 'debt'\n",
    "# в качестве примера по которому будем смотреть информацию, возьмем колонку 'family_status_id'\n",
    "data_pivot = data.pivot_table(index=['total_income_category'], columns='debt', values='family_status_id', aggfunc='count')\n",
    "\n",
    "#создадим столбец 'total', где будет указана сумма всех клиентов\n",
    "data_pivot['total'] = data_pivot[1] + data_pivot[0]\n",
    "# создадим столбец 'ratio', куда поместим отношение клиентов с долгами к клиентам без\n",
    "data_pivot['ratio'] = data_pivot[1] / data_pivot[0] \n",
    "\n",
    "# отсортируем данные по этому столбцу в порядке убывания\n",
    "print(data_pivot.sort_values('ratio', ascending=False))\n"
   ]
  },
  {
   "cell_type": "markdown",
   "id": "9367e8cc",
   "metadata": {
    "deletable": false,
    "id": "e8593def"
   },
   "source": [
    "**Вывод:** \n",
    "***Наибольший коэффициент должников у группы Е, учитывать нужно только информацию о группах С и В. Самая большая группа - С - в ней примерно в 3 раза больше клиентов и в 4 раза больше должников чем в группе В. И коэффициент должников в ней тоже больше.***"
   ]
  },
  {
   "cell_type": "markdown",
   "id": "b8bbb30a",
   "metadata": {
    "deletable": false,
    "editable": false,
    "id": "99ecbd1f"
   },
   "source": [
    "#### 3.4 Как разные цели кредита влияют на его возврат в срок?"
   ]
  },
  {
   "cell_type": "code",
   "execution_count": 25,
   "id": "4ecaf03e",
   "metadata": {
    "deletable": false,
    "id": "2b687290"
   },
   "outputs": [
    {
     "name": "stdout",
     "output_type": "stream",
     "text": [
      "debt                         0    1  total     ratio\n",
      "purpose_category                                    \n",
      "операции с автомобилем    3879  400   4279  0.103119\n",
      "получение образования     3619  369   3988  0.101962\n",
      "проведение свадьбы        2130  183   2313  0.085915\n",
      "операции с недвижимостью  9971  780  10751  0.078227\n"
     ]
    }
   ],
   "source": [
    "# Построим сводную таблицу с помощью метода pivot_table\n",
    "# сгруппируем данные по столбцу 'purpose_category' и по значениям данных колонки 'debt'\n",
    "# в качестве примера по которому будем смотреть информацию, возьмем колонку 'family_status_id'\n",
    "data_pivot = data.pivot_table(index=['purpose_category'], columns='debt', values='family_status_id', aggfunc='count')\n",
    "\n",
    "#создадим столбец 'total', где будет указана сумма всех клиентов\n",
    "data_pivot['total'] = data_pivot[1] + data_pivot[0]\n",
    "# создадим столбец 'ratio', куда поместим отношение клиентов с долгами к клиентам без\n",
    "data_pivot['ratio'] = data_pivot[1] / data_pivot[0]\n",
    "\n",
    "# отсортируем данные по этому столбцу в порядке убывания\n",
    "print(data_pivot.sort_values('ratio', ascending=False))"
   ]
  },
  {
   "cell_type": "markdown",
   "id": "15dfeb14",
   "metadata": {
    "deletable": false,
    "id": "b4bb2ce6"
   },
   "source": [
    "**Вывод:** \n",
    "***Здесь видно, что коэффициент должников по операциям с автомобилем чуть больше, чем группы получения образования, но в целом они примерно равны и по количеству клиентов, и по коэффициенту. Самая большая группа - операции с недвижимостью - всего клиентов в ней больше, чем во всех трех верхних группах вместе взятых, а коэффициент должников в ней меньше всех.***"
   ]
  },
  {
   "cell_type": "markdown",
   "id": "6bebcf53",
   "metadata": {
    "deletable": false,
    "editable": false,
    "id": "09c3ac4c"
   },
   "source": [
    "#### 3.5 Приведите возможные причины появления пропусков в исходных данных."
   ]
  },
  {
   "cell_type": "markdown",
   "id": "0a59f6bc",
   "metadata": {
    "deletable": false,
    "id": "9da2ceda"
   },
   "source": [
    "*В информации о пропусках видно, что пропуски есть только в двух категориях - ежемесячный доход и трудовой стаж.*\n",
    "\n",
    "*В первом и во втором случае, наиболее вероятной причиной пропусков может быть то, что человек безработный.*\n",
    "*В остальном роль может играть человеческий фактор - не все хотят указывать доход по личным причинам, кто-то мог всю жизнь работать неофициально, или трудовая может быть утеряна.*"
   ]
  },
  {
   "cell_type": "markdown",
   "id": "4a72c7a1",
   "metadata": {
    "deletable": false,
    "editable": false,
    "id": "7b0487d6"
   },
   "source": [
    "#### 3.6 Объясните, почему заполнить пропуски медианным значением — лучшее решение для количественных переменных."
   ]
  },
  {
   "cell_type": "markdown",
   "id": "62281bff",
   "metadata": {
    "deletable": false,
    "id": "7ecf2b8e"
   },
   "source": [
    "*В нашем случае среднее арифметическое бы подошло, если бы стаж всех клиентов был примерно равным. Но это не так, данные сильно разнятся, соответственно, чтобы избежать искажения получаемой информации, лучше использовать медиану.*"
   ]
  },
  {
   "cell_type": "markdown",
   "id": "096979f2",
   "metadata": {
    "deletable": false,
    "editable": false,
    "id": "6db5255a"
   },
   "source": [
    "### Шаг 4: общий вывод."
   ]
  },
  {
   "cell_type": "markdown",
   "id": "e58cb03e",
   "metadata": {
    "deletable": false,
    "id": "bad65432"
   },
   "source": [
    "Мы получили датафрейм с информацией о потенциальных заемщиков для банка, нашли и заполнили пропуски в столбцах, откорректировали встречающиеся дубликаты, классифицировали информацио о доходах заемщиков по категориям, откорректировали и рассортировали информацию о заемщиках по цели обращения за кредитом, в каждом пункте посчитали общее количество клиентов и должников, и рассчитали коэффициент должников для каждой группы. \n",
    "\n",
    "* 2.7.1  3.1\n",
    "*В первом случае просматривается связь между количеством детей и коэффициентом должников - чем больше детей, тем больше коэффициент. Но, опираться только на столбец с коэффициентом нельзя - бездетных среди клиентов больше всего, и по долгам это самая большая группа среди всех.\n",
    "* 2.7.2  3.2\n",
    "*Заметна связь между общим количеством клиентов и семейным положением - люди, состоящие в официальных отношениях чаще других обращаются в банк за кредитом. Но наименее надежные заемщики - люди, находящиеся в неофициальных отношениях, состоящие в гражданском браке. Стоит учесть, что возможно, людей из этих двух групп нужно объединить в одну - гражданский брак не является официальным, и указать такой статус может кто угодно. Разведенные и вдовцы реже других обращаются в банк, и практически не имеют долгов.\n",
    "* 2.7.2  3.3\n",
    "*В случае с категориями дохода видно, что наибольшее количество обратившихся за кредитом - люди с категориями дохода С и В. Самая многочисленная группа по всем категориям - С. В ней больше всего и клиентов в общем, и должников, и коэффициент по долгам выше. Клиентов из других категорий в общем крайне мало.\n",
    "* 2.7.2  3.4\n",
    "Самый меньший коэффициент по просрочкам в группе операций по недвижимости, но это самая большая группа из всех - кредиты на покупку квартиры берут чаще, но реже допускают просрочку по такой долгосрочной крупной операции. Высокий коэффициент просрочек по кредитам на получение образования объясняется тем, что возможно такие клиенты - студенты без постоянного или достаточно высокого заработка."
   ]
  },
  {
   "cell_type": "code",
   "execution_count": null,
   "id": "b1629e5c",
   "metadata": {},
   "outputs": [],
   "source": []
  }
 ],
 "metadata": {
  "ExecuteTimeLog": [
   {
    "duration": 573,
    "start_time": "2022-11-10T13:00:50.156Z"
   },
   {
    "duration": 25,
    "start_time": "2022-11-10T13:00:50.732Z"
   },
   {
    "duration": 17,
    "start_time": "2022-11-10T13:00:50.758Z"
   },
   {
    "duration": 13,
    "start_time": "2022-11-10T13:00:50.776Z"
   },
   {
    "duration": 69,
    "start_time": "2022-11-10T13:00:50.791Z"
   },
   {
    "duration": 3,
    "start_time": "2022-11-10T13:00:50.863Z"
   },
   {
    "duration": 23,
    "start_time": "2022-11-10T13:00:50.868Z"
   },
   {
    "duration": 5,
    "start_time": "2022-11-10T13:00:50.893Z"
   },
   {
    "duration": 16,
    "start_time": "2022-11-10T13:00:50.900Z"
   },
   {
    "duration": 19,
    "start_time": "2022-11-10T13:00:50.918Z"
   },
   {
    "duration": 40,
    "start_time": "2022-11-10T13:00:50.939Z"
   },
   {
    "duration": 12,
    "start_time": "2022-11-10T13:00:50.981Z"
   },
   {
    "duration": 9,
    "start_time": "2022-11-10T13:00:50.995Z"
   },
   {
    "duration": 33,
    "start_time": "2022-11-10T13:00:51.007Z"
   },
   {
    "duration": 27,
    "start_time": "2022-11-10T13:00:51.042Z"
   },
   {
    "duration": 28,
    "start_time": "2022-11-10T13:00:51.071Z"
   },
   {
    "duration": 4,
    "start_time": "2022-11-10T13:00:51.102Z"
   },
   {
    "duration": 35,
    "start_time": "2022-11-10T13:00:51.107Z"
   },
   {
    "duration": 12,
    "start_time": "2022-11-10T13:00:51.143Z"
   },
   {
    "duration": 4,
    "start_time": "2022-11-10T13:00:51.157Z"
   },
   {
    "duration": 18,
    "start_time": "2022-11-10T13:00:51.163Z"
   },
   {
    "duration": 14,
    "start_time": "2022-11-10T13:00:51.182Z"
   },
   {
    "duration": 16,
    "start_time": "2022-11-10T13:00:51.198Z"
   },
   {
    "duration": 8,
    "start_time": "2022-11-10T13:00:51.216Z"
   },
   {
    "duration": 9,
    "start_time": "2022-11-10T13:00:51.226Z"
   },
   {
    "duration": 1257,
    "start_time": "2022-11-10T13:07:09.302Z"
   },
   {
    "duration": 1094,
    "start_time": "2022-11-10T13:07:50.753Z"
   },
   {
    "duration": 10,
    "start_time": "2022-11-10T13:09:27.514Z"
   },
   {
    "duration": 11,
    "start_time": "2022-11-10T13:44:42.811Z"
   },
   {
    "duration": 68,
    "start_time": "2022-11-10T14:09:56.319Z"
   },
   {
    "duration": 18,
    "start_time": "2022-11-10T14:11:44.324Z"
   },
   {
    "duration": 7,
    "start_time": "2022-11-10T14:19:03.105Z"
   },
   {
    "duration": 8,
    "start_time": "2022-11-10T14:19:30.861Z"
   },
   {
    "duration": 5,
    "start_time": "2022-11-10T14:19:48.097Z"
   },
   {
    "duration": 7,
    "start_time": "2022-11-10T14:21:26.990Z"
   },
   {
    "duration": 16,
    "start_time": "2022-11-10T14:22:41.346Z"
   },
   {
    "duration": 6,
    "start_time": "2022-11-10T14:22:51.853Z"
   },
   {
    "duration": 14,
    "start_time": "2022-11-10T14:30:37.762Z"
   },
   {
    "duration": 16,
    "start_time": "2022-11-10T14:30:49.339Z"
   },
   {
    "duration": 13,
    "start_time": "2022-11-10T14:31:19.575Z"
   },
   {
    "duration": 5,
    "start_time": "2022-11-10T14:35:25.091Z"
   },
   {
    "duration": 7,
    "start_time": "2022-11-10T14:43:16.366Z"
   },
   {
    "duration": 6,
    "start_time": "2022-11-10T14:44:20.693Z"
   },
   {
    "duration": 6,
    "start_time": "2022-11-10T14:44:41.809Z"
   },
   {
    "duration": 4,
    "start_time": "2022-11-10T14:53:28.844Z"
   },
   {
    "duration": 4,
    "start_time": "2022-11-10T14:53:52.261Z"
   },
   {
    "duration": 6,
    "start_time": "2022-11-10T14:54:20.211Z"
   },
   {
    "duration": 22,
    "start_time": "2022-11-10T14:55:12.085Z"
   },
   {
    "duration": 15,
    "start_time": "2022-11-10T14:55:26.741Z"
   },
   {
    "duration": 22,
    "start_time": "2022-11-10T14:56:52.981Z"
   },
   {
    "duration": 16,
    "start_time": "2022-11-10T14:57:01.558Z"
   },
   {
    "duration": 72,
    "start_time": "2022-11-10T14:57:24.690Z"
   },
   {
    "duration": 18,
    "start_time": "2022-11-10T14:57:43.085Z"
   },
   {
    "duration": 14,
    "start_time": "2022-11-10T14:58:12.144Z"
   },
   {
    "duration": 10,
    "start_time": "2022-11-10T14:58:21.596Z"
   },
   {
    "duration": 5,
    "start_time": "2022-11-10T15:14:16.571Z"
   },
   {
    "duration": 7,
    "start_time": "2022-11-10T15:14:24.167Z"
   },
   {
    "duration": 7,
    "start_time": "2022-11-10T15:14:52.862Z"
   },
   {
    "duration": 6,
    "start_time": "2022-11-10T15:16:00.545Z"
   },
   {
    "duration": 10,
    "start_time": "2022-11-10T15:17:07.762Z"
   },
   {
    "duration": 6,
    "start_time": "2022-11-10T15:17:43.080Z"
   },
   {
    "duration": 6,
    "start_time": "2022-11-10T15:17:58.391Z"
   },
   {
    "duration": 4,
    "start_time": "2022-11-10T15:23:19.362Z"
   },
   {
    "duration": 7,
    "start_time": "2022-11-10T15:23:25.230Z"
   },
   {
    "duration": 11,
    "start_time": "2022-11-10T15:25:06.997Z"
   },
   {
    "duration": 11,
    "start_time": "2022-11-10T15:25:26.408Z"
   },
   {
    "duration": 6,
    "start_time": "2022-11-10T15:25:59.637Z"
   },
   {
    "duration": 8,
    "start_time": "2022-11-10T15:26:33.339Z"
   },
   {
    "duration": 10,
    "start_time": "2022-11-10T15:44:17.394Z"
   },
   {
    "duration": 5,
    "start_time": "2022-11-10T15:44:30.636Z"
   },
   {
    "duration": 7,
    "start_time": "2022-11-10T15:45:10.305Z"
   },
   {
    "duration": 11,
    "start_time": "2022-11-11T15:45:35.760Z"
   },
   {
    "duration": 42,
    "start_time": "2022-11-11T15:45:44.770Z"
   },
   {
    "duration": 8,
    "start_time": "2022-11-11T15:46:16.584Z"
   },
   {
    "duration": 7,
    "start_time": "2022-11-11T15:47:15.793Z"
   },
   {
    "duration": 6,
    "start_time": "2022-11-11T15:47:25.201Z"
   },
   {
    "duration": 8,
    "start_time": "2022-11-11T15:48:03.711Z"
   },
   {
    "duration": 9,
    "start_time": "2022-11-11T15:48:21.708Z"
   },
   {
    "duration": 6,
    "start_time": "2022-11-11T15:48:51.143Z"
   },
   {
    "duration": 6,
    "start_time": "2022-11-11T15:49:09.600Z"
   },
   {
    "duration": 727,
    "start_time": "2022-11-11T15:49:19.622Z"
   },
   {
    "duration": 21,
    "start_time": "2022-11-11T15:49:20.351Z"
   },
   {
    "duration": 14,
    "start_time": "2022-11-11T15:49:20.373Z"
   },
   {
    "duration": 9,
    "start_time": "2022-11-11T15:49:20.388Z"
   },
   {
    "duration": 50,
    "start_time": "2022-11-11T15:49:20.400Z"
   },
   {
    "duration": 3,
    "start_time": "2022-11-11T15:49:20.452Z"
   },
   {
    "duration": 9,
    "start_time": "2022-11-11T15:49:20.457Z"
   },
   {
    "duration": 4,
    "start_time": "2022-11-11T15:49:20.468Z"
   },
   {
    "duration": 14,
    "start_time": "2022-11-11T15:49:20.473Z"
   },
   {
    "duration": 6,
    "start_time": "2022-11-11T15:49:20.489Z"
   },
   {
    "duration": 53,
    "start_time": "2022-11-11T15:49:20.496Z"
   },
   {
    "duration": 9,
    "start_time": "2022-11-11T15:49:20.550Z"
   },
   {
    "duration": 4,
    "start_time": "2022-11-11T15:49:20.560Z"
   },
   {
    "duration": 11,
    "start_time": "2022-11-11T15:49:20.566Z"
   },
   {
    "duration": 19,
    "start_time": "2022-11-11T15:49:20.578Z"
   },
   {
    "duration": 15,
    "start_time": "2022-11-11T15:49:20.598Z"
   },
   {
    "duration": 3,
    "start_time": "2022-11-11T15:49:20.614Z"
   },
   {
    "duration": 9,
    "start_time": "2022-11-11T15:49:20.645Z"
   },
   {
    "duration": 5,
    "start_time": "2022-11-11T15:49:20.656Z"
   },
   {
    "duration": 3,
    "start_time": "2022-11-11T15:49:20.663Z"
   },
   {
    "duration": 10,
    "start_time": "2022-11-11T15:49:20.667Z"
   },
   {
    "duration": 4,
    "start_time": "2022-11-11T15:49:20.679Z"
   },
   {
    "duration": 9,
    "start_time": "2022-11-11T15:49:20.684Z"
   },
   {
    "duration": 14,
    "start_time": "2022-11-11T15:49:20.694Z"
   },
   {
    "duration": 8,
    "start_time": "2022-11-11T15:49:20.710Z"
   },
   {
    "duration": 4,
    "start_time": "2022-11-11T15:50:33.896Z"
   },
   {
    "duration": 4,
    "start_time": "2022-11-11T15:50:44.930Z"
   },
   {
    "duration": 32,
    "start_time": "2022-11-11T15:50:50.215Z"
   },
   {
    "duration": 11,
    "start_time": "2022-11-11T15:51:04.167Z"
   },
   {
    "duration": 10,
    "start_time": "2022-11-11T15:51:17.361Z"
   },
   {
    "duration": 8,
    "start_time": "2022-11-11T15:51:27.277Z"
   },
   {
    "duration": 6,
    "start_time": "2022-11-11T15:51:36.150Z"
   },
   {
    "duration": 8,
    "start_time": "2022-11-11T15:51:49.585Z"
   },
   {
    "duration": 5,
    "start_time": "2022-11-11T15:51:56.299Z"
   },
   {
    "duration": 10,
    "start_time": "2022-11-11T15:52:45.006Z"
   },
   {
    "duration": 5,
    "start_time": "2022-11-11T15:52:51.459Z"
   },
   {
    "duration": 7,
    "start_time": "2022-11-11T15:54:18.980Z"
   },
   {
    "duration": 7,
    "start_time": "2022-11-11T15:56:10.323Z"
   },
   {
    "duration": 6,
    "start_time": "2022-11-11T15:57:34.204Z"
   },
   {
    "duration": 512,
    "start_time": "2022-11-11T16:55:29.023Z"
   },
   {
    "duration": 21,
    "start_time": "2022-11-11T16:55:29.537Z"
   },
   {
    "duration": 14,
    "start_time": "2022-11-11T16:55:29.559Z"
   },
   {
    "duration": 21,
    "start_time": "2022-11-11T16:55:29.575Z"
   },
   {
    "duration": 32,
    "start_time": "2022-11-11T16:55:29.599Z"
   },
   {
    "duration": 13,
    "start_time": "2022-11-11T16:55:29.633Z"
   },
   {
    "duration": 29,
    "start_time": "2022-11-11T16:55:29.648Z"
   },
   {
    "duration": 10,
    "start_time": "2022-11-11T16:55:29.679Z"
   },
   {
    "duration": 18,
    "start_time": "2022-11-11T16:55:29.691Z"
   },
   {
    "duration": 15,
    "start_time": "2022-11-11T16:55:29.711Z"
   },
   {
    "duration": 75,
    "start_time": "2022-11-11T16:55:29.728Z"
   },
   {
    "duration": 15,
    "start_time": "2022-11-11T16:55:29.805Z"
   },
   {
    "duration": 19,
    "start_time": "2022-11-11T16:55:29.823Z"
   },
   {
    "duration": 39,
    "start_time": "2022-11-11T16:55:29.845Z"
   },
   {
    "duration": 33,
    "start_time": "2022-11-11T16:55:29.886Z"
   },
   {
    "duration": 18,
    "start_time": "2022-11-11T16:55:29.921Z"
   },
   {
    "duration": 9,
    "start_time": "2022-11-11T16:55:29.941Z"
   },
   {
    "duration": 30,
    "start_time": "2022-11-11T16:55:29.951Z"
   },
   {
    "duration": 23,
    "start_time": "2022-11-11T16:55:29.982Z"
   },
   {
    "duration": 25,
    "start_time": "2022-11-11T16:55:30.007Z"
   },
   {
    "duration": 41,
    "start_time": "2022-11-11T16:55:30.033Z"
   },
   {
    "duration": 33,
    "start_time": "2022-11-11T16:55:30.076Z"
   },
   {
    "duration": 40,
    "start_time": "2022-11-11T16:55:30.110Z"
   },
   {
    "duration": 24,
    "start_time": "2022-11-11T16:55:30.151Z"
   },
   {
    "duration": 49,
    "start_time": "2022-11-11T16:55:30.177Z"
   },
   {
    "duration": 7,
    "start_time": "2022-11-11T16:57:52.567Z"
   },
   {
    "duration": 75,
    "start_time": "2022-11-12T07:57:13.787Z"
   },
   {
    "duration": 46,
    "start_time": "2022-11-12T07:57:47.440Z"
   },
   {
    "duration": 50,
    "start_time": "2022-11-13T12:59:04.098Z"
   },
   {
    "duration": 8,
    "start_time": "2022-11-13T12:59:19.639Z"
   },
   {
    "duration": 701,
    "start_time": "2022-11-13T12:59:37.018Z"
   },
   {
    "duration": 22,
    "start_time": "2022-11-13T12:59:37.722Z"
   },
   {
    "duration": 16,
    "start_time": "2022-11-13T12:59:37.746Z"
   },
   {
    "duration": 17,
    "start_time": "2022-11-13T12:59:37.763Z"
   },
   {
    "duration": 55,
    "start_time": "2022-11-13T12:59:37.785Z"
   },
   {
    "duration": 3,
    "start_time": "2022-11-13T12:59:37.842Z"
   },
   {
    "duration": 20,
    "start_time": "2022-11-13T12:59:37.847Z"
   },
   {
    "duration": 5,
    "start_time": "2022-11-13T12:59:37.869Z"
   },
   {
    "duration": 26,
    "start_time": "2022-11-13T12:59:37.876Z"
   },
   {
    "duration": 23,
    "start_time": "2022-11-13T12:59:37.905Z"
   },
   {
    "duration": 69,
    "start_time": "2022-11-13T12:59:37.930Z"
   },
   {
    "duration": 16,
    "start_time": "2022-11-13T12:59:38.001Z"
   },
   {
    "duration": 4,
    "start_time": "2022-11-13T12:59:38.019Z"
   },
   {
    "duration": 29,
    "start_time": "2022-11-13T12:59:38.026Z"
   },
   {
    "duration": 40,
    "start_time": "2022-11-13T12:59:38.057Z"
   },
   {
    "duration": 17,
    "start_time": "2022-11-13T12:59:38.099Z"
   },
   {
    "duration": 4,
    "start_time": "2022-11-13T12:59:38.118Z"
   },
   {
    "duration": 16,
    "start_time": "2022-11-13T12:59:38.124Z"
   },
   {
    "duration": 30,
    "start_time": "2022-11-13T12:59:38.141Z"
   },
   {
    "duration": 23,
    "start_time": "2022-11-13T12:59:38.173Z"
   },
   {
    "duration": 29,
    "start_time": "2022-11-13T12:59:38.198Z"
   },
   {
    "duration": 27,
    "start_time": "2022-11-13T12:59:38.228Z"
   },
   {
    "duration": 13,
    "start_time": "2022-11-13T12:59:40.786Z"
   },
   {
    "duration": 10,
    "start_time": "2022-11-13T12:59:55.199Z"
   },
   {
    "duration": 11,
    "start_time": "2022-11-13T13:04:07.205Z"
   },
   {
    "duration": 14,
    "start_time": "2022-11-13T13:04:31.777Z"
   },
   {
    "duration": 49,
    "start_time": "2022-11-13T13:15:50.609Z"
   },
   {
    "duration": 50,
    "start_time": "2022-11-13T13:16:00.565Z"
   },
   {
    "duration": 19,
    "start_time": "2022-11-13T13:17:07.679Z"
   },
   {
    "duration": 13,
    "start_time": "2022-11-13T13:20:23.002Z"
   },
   {
    "duration": 45,
    "start_time": "2022-11-13T13:24:35.340Z"
   },
   {
    "duration": 28,
    "start_time": "2022-11-13T13:24:41.067Z"
   },
   {
    "duration": 17,
    "start_time": "2022-11-13T13:25:15.945Z"
   },
   {
    "duration": 37,
    "start_time": "2022-11-13T13:25:33.956Z"
   },
   {
    "duration": 23,
    "start_time": "2022-11-13T13:26:51.353Z"
   },
   {
    "duration": 33,
    "start_time": "2022-11-13T13:27:19.198Z"
   },
   {
    "duration": 29,
    "start_time": "2022-11-13T13:27:46.309Z"
   },
   {
    "duration": 15,
    "start_time": "2022-11-13T13:28:25.748Z"
   },
   {
    "duration": 11,
    "start_time": "2022-11-13T13:28:35.687Z"
   },
   {
    "duration": 10,
    "start_time": "2022-11-13T13:30:50.717Z"
   },
   {
    "duration": 11,
    "start_time": "2022-11-13T13:31:23.652Z"
   },
   {
    "duration": 13,
    "start_time": "2022-11-13T13:36:33.635Z"
   },
   {
    "duration": 15,
    "start_time": "2022-11-13T13:37:18.511Z"
   },
   {
    "duration": 26,
    "start_time": "2022-11-13T13:37:33.916Z"
   },
   {
    "duration": 18,
    "start_time": "2022-11-13T13:38:20.953Z"
   },
   {
    "duration": 11,
    "start_time": "2022-11-13T13:40:29.410Z"
   },
   {
    "duration": 10,
    "start_time": "2022-11-13T13:40:59.554Z"
   },
   {
    "duration": 54,
    "start_time": "2022-11-13T13:43:33.794Z"
   },
   {
    "duration": 694,
    "start_time": "2022-11-13T13:43:41.602Z"
   },
   {
    "duration": 52,
    "start_time": "2022-11-13T13:43:57.051Z"
   },
   {
    "duration": 10,
    "start_time": "2022-11-13T13:44:10.830Z"
   },
   {
    "duration": 11,
    "start_time": "2022-11-13T13:45:52.683Z"
   },
   {
    "duration": 8,
    "start_time": "2022-11-13T13:46:04.925Z"
   },
   {
    "duration": 11,
    "start_time": "2022-11-13T13:46:24.630Z"
   },
   {
    "duration": 9,
    "start_time": "2022-11-13T13:46:52.225Z"
   },
   {
    "duration": 20,
    "start_time": "2022-11-13T13:47:13.921Z"
   },
   {
    "duration": 17,
    "start_time": "2022-11-13T13:47:22.225Z"
   },
   {
    "duration": 21,
    "start_time": "2022-11-13T13:52:22.680Z"
   },
   {
    "duration": 14,
    "start_time": "2022-11-13T13:52:45.535Z"
   },
   {
    "duration": 747,
    "start_time": "2022-11-13T13:53:36.060Z"
   },
   {
    "duration": 980,
    "start_time": "2022-11-13T13:54:08.374Z"
   },
   {
    "duration": 768,
    "start_time": "2022-11-13T13:54:40.522Z"
   },
   {
    "duration": 22,
    "start_time": "2022-11-13T13:55:02.005Z"
   },
   {
    "duration": 19,
    "start_time": "2022-11-13T14:10:19.158Z"
   },
   {
    "duration": 18,
    "start_time": "2022-11-13T14:10:55.728Z"
   },
   {
    "duration": 17,
    "start_time": "2022-11-13T14:11:11.100Z"
   },
   {
    "duration": 12,
    "start_time": "2022-11-13T14:11:46.299Z"
   },
   {
    "duration": 45,
    "start_time": "2022-11-13T14:13:14.433Z"
   },
   {
    "duration": 19,
    "start_time": "2022-11-13T14:13:39.794Z"
   },
   {
    "duration": 804,
    "start_time": "2022-11-13T14:21:25.238Z"
   },
   {
    "duration": 41,
    "start_time": "2022-11-13T14:22:55.396Z"
   },
   {
    "duration": 18,
    "start_time": "2022-11-13T14:23:00.248Z"
   },
   {
    "duration": 14,
    "start_time": "2022-11-13T14:28:12.659Z"
   },
   {
    "duration": 16,
    "start_time": "2022-11-13T14:28:36.627Z"
   },
   {
    "duration": 11,
    "start_time": "2022-11-13T14:32:15.519Z"
   },
   {
    "duration": 11,
    "start_time": "2022-11-13T14:34:43.965Z"
   },
   {
    "duration": 11,
    "start_time": "2022-11-13T14:34:53.674Z"
   },
   {
    "duration": 18,
    "start_time": "2022-11-13T14:59:01.920Z"
   },
   {
    "duration": 11,
    "start_time": "2022-11-13T15:04:18.909Z"
   },
   {
    "duration": 12,
    "start_time": "2022-11-13T15:07:31.560Z"
   },
   {
    "duration": 16,
    "start_time": "2022-11-13T15:09:17.655Z"
   },
   {
    "duration": 19,
    "start_time": "2022-11-13T15:09:24.065Z"
   },
   {
    "duration": 47,
    "start_time": "2022-11-13T15:18:36.907Z"
   },
   {
    "duration": 21,
    "start_time": "2022-11-13T15:18:45.892Z"
   },
   {
    "duration": 11,
    "start_time": "2022-11-13T15:21:10.104Z"
   },
   {
    "duration": 10,
    "start_time": "2022-11-13T15:21:45.941Z"
   },
   {
    "duration": 15,
    "start_time": "2022-11-13T15:21:51.263Z"
   },
   {
    "duration": 60,
    "start_time": "2022-11-13T15:22:12.967Z"
   },
   {
    "duration": 7,
    "start_time": "2022-11-13T15:22:18.934Z"
   },
   {
    "duration": 27,
    "start_time": "2022-11-13T15:22:31.270Z"
   },
   {
    "duration": 669,
    "start_time": "2022-11-13T15:23:07.800Z"
   },
   {
    "duration": 16,
    "start_time": "2022-11-13T15:23:33.398Z"
   },
   {
    "duration": 13,
    "start_time": "2022-11-13T15:25:07.817Z"
   },
   {
    "duration": 18,
    "start_time": "2022-11-13T15:26:48.076Z"
   },
   {
    "duration": 16,
    "start_time": "2022-11-13T15:27:21.914Z"
   },
   {
    "duration": 15,
    "start_time": "2022-11-13T15:29:17.994Z"
   },
   {
    "duration": 558,
    "start_time": "2022-11-13T15:29:48.278Z"
   },
   {
    "duration": 19,
    "start_time": "2022-11-13T15:30:19.478Z"
   },
   {
    "duration": 26,
    "start_time": "2022-11-13T15:30:40.264Z"
   },
   {
    "duration": 19,
    "start_time": "2022-11-13T15:32:03.590Z"
   },
   {
    "duration": 17,
    "start_time": "2022-11-13T15:33:31.037Z"
   },
   {
    "duration": 16,
    "start_time": "2022-11-13T15:35:10.001Z"
   },
   {
    "duration": 17,
    "start_time": "2022-11-13T15:35:26.494Z"
   },
   {
    "duration": 21,
    "start_time": "2022-11-13T15:37:49.846Z"
   },
   {
    "duration": 25,
    "start_time": "2022-11-13T15:38:33.346Z"
   },
   {
    "duration": 17,
    "start_time": "2022-11-13T15:39:22.923Z"
   },
   {
    "duration": 25,
    "start_time": "2022-11-13T15:39:52.066Z"
   },
   {
    "duration": 14,
    "start_time": "2022-11-13T15:40:56.822Z"
   },
   {
    "duration": 27,
    "start_time": "2022-11-13T15:41:48.064Z"
   },
   {
    "duration": 17,
    "start_time": "2022-11-13T15:49:53.624Z"
   },
   {
    "duration": 18,
    "start_time": "2022-11-13T15:50:13.496Z"
   },
   {
    "duration": 18,
    "start_time": "2022-11-13T15:51:47.838Z"
   },
   {
    "duration": 34,
    "start_time": "2022-11-13T15:53:02.374Z"
   },
   {
    "duration": 31,
    "start_time": "2022-11-13T15:53:21.205Z"
   },
   {
    "duration": 915,
    "start_time": "2022-11-13T15:54:19.337Z"
   },
   {
    "duration": 25,
    "start_time": "2022-11-13T15:55:15.865Z"
   },
   {
    "duration": 18,
    "start_time": "2022-11-13T15:55:31.098Z"
   },
   {
    "duration": 19,
    "start_time": "2022-11-13T15:55:56.290Z"
   },
   {
    "duration": 21,
    "start_time": "2022-11-13T15:56:38.724Z"
   },
   {
    "duration": 22,
    "start_time": "2022-11-13T15:59:15.072Z"
   },
   {
    "duration": 26,
    "start_time": "2022-11-13T15:59:53.723Z"
   },
   {
    "duration": 17,
    "start_time": "2022-11-13T16:00:11.138Z"
   },
   {
    "duration": 19,
    "start_time": "2022-11-13T16:00:22.130Z"
   },
   {
    "duration": 1566,
    "start_time": "2022-11-13T16:07:47.210Z"
   },
   {
    "duration": 162,
    "start_time": "2022-11-13T16:08:14.795Z"
   },
   {
    "duration": 200,
    "start_time": "2022-11-13T16:08:45.930Z"
   },
   {
    "duration": 797,
    "start_time": "2022-11-13T16:09:11.913Z"
   },
   {
    "duration": 20,
    "start_time": "2022-11-13T16:09:41.172Z"
   },
   {
    "duration": 77,
    "start_time": "2022-11-13T16:10:31.234Z"
   },
   {
    "duration": 15,
    "start_time": "2022-11-13T16:10:31.313Z"
   },
   {
    "duration": 19,
    "start_time": "2022-11-13T16:10:31.330Z"
   },
   {
    "duration": 14,
    "start_time": "2022-11-13T16:10:31.351Z"
   },
   {
    "duration": 35,
    "start_time": "2022-11-13T16:10:31.380Z"
   },
   {
    "duration": 3,
    "start_time": "2022-11-13T16:10:31.417Z"
   },
   {
    "duration": 20,
    "start_time": "2022-11-13T16:10:31.422Z"
   },
   {
    "duration": 9,
    "start_time": "2022-11-13T16:10:31.444Z"
   },
   {
    "duration": 11,
    "start_time": "2022-11-13T16:10:31.455Z"
   },
   {
    "duration": 13,
    "start_time": "2022-11-13T16:10:31.470Z"
   },
   {
    "duration": 55,
    "start_time": "2022-11-13T16:10:31.485Z"
   },
   {
    "duration": 13,
    "start_time": "2022-11-13T16:10:31.542Z"
   },
   {
    "duration": 19,
    "start_time": "2022-11-13T16:10:31.557Z"
   },
   {
    "duration": 19,
    "start_time": "2022-11-13T16:10:31.578Z"
   },
   {
    "duration": 22,
    "start_time": "2022-11-13T16:10:31.599Z"
   },
   {
    "duration": 18,
    "start_time": "2022-11-13T16:10:31.623Z"
   },
   {
    "duration": 4,
    "start_time": "2022-11-13T16:10:31.643Z"
   },
   {
    "duration": 20,
    "start_time": "2022-11-13T16:10:31.648Z"
   },
   {
    "duration": 16,
    "start_time": "2022-11-13T16:10:31.669Z"
   },
   {
    "duration": 19,
    "start_time": "2022-11-13T16:10:31.687Z"
   },
   {
    "duration": 18,
    "start_time": "2022-11-13T16:10:31.708Z"
   },
   {
    "duration": 23,
    "start_time": "2022-11-13T16:10:31.728Z"
   },
   {
    "duration": 17,
    "start_time": "2022-11-13T16:10:31.752Z"
   },
   {
    "duration": 21,
    "start_time": "2022-11-13T16:10:31.771Z"
   },
   {
    "duration": 19,
    "start_time": "2022-11-13T16:10:31.793Z"
   },
   {
    "duration": 51,
    "start_time": "2022-11-14T12:06:59.508Z"
   },
   {
    "duration": 8,
    "start_time": "2022-11-14T12:07:13.883Z"
   },
   {
    "duration": 706,
    "start_time": "2022-11-14T12:07:17.105Z"
   },
   {
    "duration": 26,
    "start_time": "2022-11-14T12:07:17.813Z"
   },
   {
    "duration": 25,
    "start_time": "2022-11-14T12:07:17.840Z"
   },
   {
    "duration": 31,
    "start_time": "2022-11-14T12:07:17.866Z"
   },
   {
    "duration": 48,
    "start_time": "2022-11-14T12:07:17.900Z"
   },
   {
    "duration": 4,
    "start_time": "2022-11-14T12:07:17.950Z"
   },
   {
    "duration": 21,
    "start_time": "2022-11-14T12:07:17.955Z"
   },
   {
    "duration": 7,
    "start_time": "2022-11-14T12:07:17.978Z"
   },
   {
    "duration": 10,
    "start_time": "2022-11-14T12:07:17.987Z"
   },
   {
    "duration": 28,
    "start_time": "2022-11-14T12:07:17.999Z"
   },
   {
    "duration": 77,
    "start_time": "2022-11-14T12:07:18.029Z"
   },
   {
    "duration": 11,
    "start_time": "2022-11-14T12:07:18.108Z"
   },
   {
    "duration": 20,
    "start_time": "2022-11-14T12:07:18.121Z"
   },
   {
    "duration": 27,
    "start_time": "2022-11-14T12:07:18.144Z"
   },
   {
    "duration": 44,
    "start_time": "2022-11-14T12:07:18.173Z"
   },
   {
    "duration": 18,
    "start_time": "2022-11-14T12:07:18.219Z"
   },
   {
    "duration": 14,
    "start_time": "2022-11-14T12:07:18.238Z"
   },
   {
    "duration": 20,
    "start_time": "2022-11-14T12:07:18.254Z"
   },
   {
    "duration": 19,
    "start_time": "2022-11-14T12:07:18.276Z"
   },
   {
    "duration": 11,
    "start_time": "2022-11-14T12:07:18.297Z"
   },
   {
    "duration": 18,
    "start_time": "2022-11-14T12:07:18.310Z"
   },
   {
    "duration": 47,
    "start_time": "2022-11-14T12:07:18.330Z"
   },
   {
    "duration": 16,
    "start_time": "2022-11-14T12:07:18.379Z"
   },
   {
    "duration": 28,
    "start_time": "2022-11-14T12:07:18.397Z"
   },
   {
    "duration": 40,
    "start_time": "2022-11-14T12:07:18.427Z"
   },
   {
    "duration": 17,
    "start_time": "2022-11-14T12:07:30.006Z"
   },
   {
    "duration": 18,
    "start_time": "2022-11-14T12:07:49.915Z"
   },
   {
    "duration": 17,
    "start_time": "2022-11-14T12:08:52.939Z"
   },
   {
    "duration": 18,
    "start_time": "2022-11-14T12:13:43.764Z"
   },
   {
    "duration": 18,
    "start_time": "2022-11-14T12:13:52.487Z"
   },
   {
    "duration": 20,
    "start_time": "2022-11-14T12:14:22.201Z"
   },
   {
    "duration": 18,
    "start_time": "2022-11-14T12:14:52.377Z"
   },
   {
    "duration": 18,
    "start_time": "2022-11-14T12:15:12.127Z"
   },
   {
    "duration": 17,
    "start_time": "2022-11-14T12:16:09.174Z"
   },
   {
    "duration": 17,
    "start_time": "2022-11-14T12:16:29.265Z"
   },
   {
    "duration": 17,
    "start_time": "2022-11-14T12:16:38.166Z"
   },
   {
    "duration": 18,
    "start_time": "2022-11-14T12:16:45.227Z"
   },
   {
    "duration": 17,
    "start_time": "2022-11-14T12:18:59.081Z"
   },
   {
    "duration": 19,
    "start_time": "2022-11-14T12:19:18.906Z"
   },
   {
    "duration": 18,
    "start_time": "2022-11-14T12:19:25.428Z"
   },
   {
    "duration": 19,
    "start_time": "2022-11-14T12:19:41.265Z"
   },
   {
    "duration": 18,
    "start_time": "2022-11-14T12:26:13.929Z"
   },
   {
    "duration": 20,
    "start_time": "2022-11-14T12:26:36.028Z"
   },
   {
    "duration": 18,
    "start_time": "2022-11-14T12:26:43.309Z"
   },
   {
    "duration": 19,
    "start_time": "2022-11-14T12:26:49.295Z"
   },
   {
    "duration": 19,
    "start_time": "2022-11-14T12:26:55.316Z"
   },
   {
    "duration": 18,
    "start_time": "2022-11-14T12:43:42.738Z"
   },
   {
    "duration": 16,
    "start_time": "2022-11-14T12:46:55.870Z"
   },
   {
    "duration": 21,
    "start_time": "2022-11-14T12:47:06.636Z"
   },
   {
    "duration": 18,
    "start_time": "2022-11-14T12:47:19.292Z"
   },
   {
    "duration": 51,
    "start_time": "2022-11-14T12:47:45.538Z"
   },
   {
    "duration": 48,
    "start_time": "2022-11-14T12:48:08.091Z"
   },
   {
    "duration": 49,
    "start_time": "2022-11-14T12:48:30.831Z"
   },
   {
    "duration": 17,
    "start_time": "2022-11-14T12:49:19.265Z"
   },
   {
    "duration": 17,
    "start_time": "2022-11-14T12:49:57.671Z"
   },
   {
    "duration": 18,
    "start_time": "2022-11-14T12:50:01.835Z"
   },
   {
    "duration": 48,
    "start_time": "2022-11-14T12:52:26.795Z"
   },
   {
    "duration": 19,
    "start_time": "2022-11-14T12:52:30.449Z"
   },
   {
    "duration": 19,
    "start_time": "2022-11-14T12:57:25.685Z"
   },
   {
    "duration": 957,
    "start_time": "2022-11-14T13:04:03.818Z"
   },
   {
    "duration": 20,
    "start_time": "2022-11-14T13:04:25.820Z"
   },
   {
    "duration": 17,
    "start_time": "2022-11-14T13:07:00.485Z"
   },
   {
    "duration": 29,
    "start_time": "2022-11-14T13:07:00.503Z"
   },
   {
    "duration": 14,
    "start_time": "2022-11-14T13:07:00.534Z"
   },
   {
    "duration": 70,
    "start_time": "2022-11-14T13:07:00.550Z"
   },
   {
    "duration": 4,
    "start_time": "2022-11-14T13:07:00.622Z"
   },
   {
    "duration": 42,
    "start_time": "2022-11-14T13:07:00.627Z"
   },
   {
    "duration": 23,
    "start_time": "2022-11-14T13:07:00.671Z"
   },
   {
    "duration": 21,
    "start_time": "2022-11-14T13:07:00.697Z"
   },
   {
    "duration": 68,
    "start_time": "2022-11-14T13:07:00.719Z"
   },
   {
    "duration": 48,
    "start_time": "2022-11-14T13:07:00.788Z"
   },
   {
    "duration": 10,
    "start_time": "2022-11-14T13:07:00.838Z"
   },
   {
    "duration": 14,
    "start_time": "2022-11-14T13:07:00.849Z"
   },
   {
    "duration": 29,
    "start_time": "2022-11-14T13:07:00.865Z"
   },
   {
    "duration": 45,
    "start_time": "2022-11-14T13:07:00.895Z"
   },
   {
    "duration": 19,
    "start_time": "2022-11-14T13:07:00.941Z"
   },
   {
    "duration": 13,
    "start_time": "2022-11-14T13:07:00.962Z"
   },
   {
    "duration": 43,
    "start_time": "2022-11-14T13:07:00.977Z"
   },
   {
    "duration": 30,
    "start_time": "2022-11-14T13:07:01.022Z"
   },
   {
    "duration": 73,
    "start_time": "2022-11-14T13:07:01.053Z"
   },
   {
    "duration": 32,
    "start_time": "2022-11-14T13:07:01.128Z"
   },
   {
    "duration": 95,
    "start_time": "2022-11-14T13:07:01.161Z"
   },
   {
    "duration": 38,
    "start_time": "2022-11-14T13:07:01.258Z"
   },
   {
    "duration": 88,
    "start_time": "2022-11-14T13:07:01.298Z"
   },
   {
    "duration": 25,
    "start_time": "2022-11-14T13:07:01.387Z"
   },
   {
    "duration": 98,
    "start_time": "2022-11-14T13:07:01.413Z"
   },
   {
    "duration": 515,
    "start_time": "2022-11-14T13:09:10.189Z"
   },
   {
    "duration": 24,
    "start_time": "2022-11-14T13:09:10.706Z"
   },
   {
    "duration": 18,
    "start_time": "2022-11-14T13:09:10.732Z"
   },
   {
    "duration": 9,
    "start_time": "2022-11-14T13:09:10.752Z"
   },
   {
    "duration": 63,
    "start_time": "2022-11-14T13:09:10.763Z"
   },
   {
    "duration": 4,
    "start_time": "2022-11-14T13:09:10.828Z"
   },
   {
    "duration": 13,
    "start_time": "2022-11-14T13:09:10.834Z"
   },
   {
    "duration": 4,
    "start_time": "2022-11-14T13:09:10.849Z"
   },
   {
    "duration": 25,
    "start_time": "2022-11-14T13:09:10.855Z"
   },
   {
    "duration": 5,
    "start_time": "2022-11-14T13:09:10.882Z"
   },
   {
    "duration": 52,
    "start_time": "2022-11-14T13:09:10.889Z"
   },
   {
    "duration": 10,
    "start_time": "2022-11-14T13:09:10.942Z"
   },
   {
    "duration": 13,
    "start_time": "2022-11-14T13:09:10.954Z"
   },
   {
    "duration": 19,
    "start_time": "2022-11-14T13:09:10.968Z"
   },
   {
    "duration": 31,
    "start_time": "2022-11-14T13:09:10.989Z"
   },
   {
    "duration": 21,
    "start_time": "2022-11-14T13:09:11.021Z"
   },
   {
    "duration": 3,
    "start_time": "2022-11-14T13:09:11.044Z"
   },
   {
    "duration": 23,
    "start_time": "2022-11-14T13:09:11.049Z"
   },
   {
    "duration": 6,
    "start_time": "2022-11-14T13:09:11.074Z"
   },
   {
    "duration": 20,
    "start_time": "2022-11-14T13:09:11.082Z"
   },
   {
    "duration": 19,
    "start_time": "2022-11-14T13:09:11.104Z"
   },
   {
    "duration": 23,
    "start_time": "2022-11-14T13:09:11.124Z"
   },
   {
    "duration": 19,
    "start_time": "2022-11-14T13:09:11.148Z"
   },
   {
    "duration": 18,
    "start_time": "2022-11-14T13:09:11.169Z"
   },
   {
    "duration": 45,
    "start_time": "2022-11-14T13:09:11.189Z"
   },
   {
    "duration": 20,
    "start_time": "2022-11-14T13:11:37.128Z"
   },
   {
    "duration": 19,
    "start_time": "2022-11-14T13:28:34.538Z"
   },
   {
    "duration": 21,
    "start_time": "2022-11-14T13:28:38.312Z"
   },
   {
    "duration": 18,
    "start_time": "2022-11-14T13:28:53.312Z"
   },
   {
    "duration": 20,
    "start_time": "2022-11-14T13:34:17.771Z"
   },
   {
    "duration": 19,
    "start_time": "2022-11-14T13:35:17.214Z"
   },
   {
    "duration": 22,
    "start_time": "2022-11-14T14:22:28.128Z"
   },
   {
    "duration": 19,
    "start_time": "2022-11-14T14:22:31.742Z"
   },
   {
    "duration": 19,
    "start_time": "2022-11-14T14:22:33.957Z"
   },
   {
    "duration": 69,
    "start_time": "2022-11-14T14:42:42.486Z"
   },
   {
    "duration": 16,
    "start_time": "2022-11-14T14:42:42.557Z"
   },
   {
    "duration": 18,
    "start_time": "2022-11-14T14:42:42.575Z"
   },
   {
    "duration": 25,
    "start_time": "2022-11-14T14:42:42.595Z"
   },
   {
    "duration": 33,
    "start_time": "2022-11-14T14:42:42.623Z"
   },
   {
    "duration": 3,
    "start_time": "2022-11-14T14:42:42.658Z"
   },
   {
    "duration": 12,
    "start_time": "2022-11-14T14:42:42.663Z"
   },
   {
    "duration": 7,
    "start_time": "2022-11-14T14:42:42.677Z"
   },
   {
    "duration": 33,
    "start_time": "2022-11-14T14:42:42.686Z"
   },
   {
    "duration": 5,
    "start_time": "2022-11-14T14:42:42.721Z"
   },
   {
    "duration": 38,
    "start_time": "2022-11-14T14:42:42.727Z"
   },
   {
    "duration": 10,
    "start_time": "2022-11-14T14:42:42.766Z"
   },
   {
    "duration": 6,
    "start_time": "2022-11-14T14:42:42.778Z"
   },
   {
    "duration": 35,
    "start_time": "2022-11-14T14:42:42.787Z"
   },
   {
    "duration": 20,
    "start_time": "2022-11-14T14:42:42.823Z"
   },
   {
    "duration": 19,
    "start_time": "2022-11-14T14:42:42.845Z"
   },
   {
    "duration": 4,
    "start_time": "2022-11-14T14:42:42.865Z"
   },
   {
    "duration": 16,
    "start_time": "2022-11-14T14:42:42.871Z"
   },
   {
    "duration": 9,
    "start_time": "2022-11-14T14:42:42.889Z"
   },
   {
    "duration": 21,
    "start_time": "2022-11-14T14:42:42.900Z"
   },
   {
    "duration": 12,
    "start_time": "2022-11-14T14:42:42.922Z"
   },
   {
    "duration": 21,
    "start_time": "2022-11-14T14:42:42.935Z"
   },
   {
    "duration": 16,
    "start_time": "2022-11-14T14:42:42.958Z"
   },
   {
    "duration": 43,
    "start_time": "2022-11-14T14:42:42.976Z"
   },
   {
    "duration": 19,
    "start_time": "2022-11-14T14:42:43.021Z"
   },
   {
    "duration": 71,
    "start_time": "2022-11-14T14:44:20.595Z"
   },
   {
    "duration": 17,
    "start_time": "2022-11-14T14:44:20.668Z"
   },
   {
    "duration": 46,
    "start_time": "2022-11-14T14:44:20.687Z"
   },
   {
    "duration": 14,
    "start_time": "2022-11-14T14:44:20.735Z"
   },
   {
    "duration": 38,
    "start_time": "2022-11-14T14:44:20.751Z"
   },
   {
    "duration": 8,
    "start_time": "2022-11-14T14:44:20.792Z"
   },
   {
    "duration": 26,
    "start_time": "2022-11-14T14:44:20.802Z"
   },
   {
    "duration": 11,
    "start_time": "2022-11-14T14:44:20.829Z"
   },
   {
    "duration": 13,
    "start_time": "2022-11-14T14:44:20.842Z"
   },
   {
    "duration": 27,
    "start_time": "2022-11-14T14:44:20.856Z"
   },
   {
    "duration": 45,
    "start_time": "2022-11-14T14:44:20.884Z"
   },
   {
    "duration": 9,
    "start_time": "2022-11-14T14:44:20.931Z"
   },
   {
    "duration": 4,
    "start_time": "2022-11-14T14:44:20.942Z"
   },
   {
    "duration": 27,
    "start_time": "2022-11-14T14:44:20.948Z"
   },
   {
    "duration": 25,
    "start_time": "2022-11-14T14:44:20.977Z"
   },
   {
    "duration": 30,
    "start_time": "2022-11-14T14:44:21.003Z"
   },
   {
    "duration": 5,
    "start_time": "2022-11-14T14:44:21.035Z"
   },
   {
    "duration": 21,
    "start_time": "2022-11-14T14:44:21.041Z"
   },
   {
    "duration": 13,
    "start_time": "2022-11-14T14:44:21.064Z"
   },
   {
    "duration": 7,
    "start_time": "2022-11-14T14:44:21.079Z"
   },
   {
    "duration": 23,
    "start_time": "2022-11-14T14:44:21.087Z"
   },
   {
    "duration": 27,
    "start_time": "2022-11-14T14:44:21.112Z"
   },
   {
    "duration": 18,
    "start_time": "2022-11-14T14:44:21.140Z"
   },
   {
    "duration": 25,
    "start_time": "2022-11-14T14:44:21.160Z"
   },
   {
    "duration": 38,
    "start_time": "2022-11-14T14:44:21.187Z"
   },
   {
    "duration": 551,
    "start_time": "2022-11-20T14:55:16.990Z"
   },
   {
    "duration": 24,
    "start_time": "2022-11-20T14:55:17.544Z"
   },
   {
    "duration": 19,
    "start_time": "2022-11-20T14:55:17.570Z"
   },
   {
    "duration": 11,
    "start_time": "2022-11-20T14:55:17.592Z"
   },
   {
    "duration": 36,
    "start_time": "2022-11-20T14:55:17.605Z"
   },
   {
    "duration": 5,
    "start_time": "2022-11-20T14:55:17.643Z"
   },
   {
    "duration": 29,
    "start_time": "2022-11-20T14:55:17.650Z"
   },
   {
    "duration": 5,
    "start_time": "2022-11-20T14:55:17.681Z"
   },
   {
    "duration": 11,
    "start_time": "2022-11-20T14:55:17.688Z"
   },
   {
    "duration": 5,
    "start_time": "2022-11-20T14:55:17.702Z"
   },
   {
    "duration": 39,
    "start_time": "2022-11-20T14:55:17.709Z"
   },
   {
    "duration": 36,
    "start_time": "2022-11-20T14:55:17.750Z"
   },
   {
    "duration": 6,
    "start_time": "2022-11-20T14:55:17.788Z"
   },
   {
    "duration": 13,
    "start_time": "2022-11-20T14:55:17.796Z"
   },
   {
    "duration": 23,
    "start_time": "2022-11-20T14:55:17.811Z"
   },
   {
    "duration": 19,
    "start_time": "2022-11-20T14:55:17.835Z"
   },
   {
    "duration": 4,
    "start_time": "2022-11-20T14:55:17.878Z"
   },
   {
    "duration": 13,
    "start_time": "2022-11-20T14:55:17.884Z"
   },
   {
    "duration": 8,
    "start_time": "2022-11-20T14:55:17.899Z"
   },
   {
    "duration": 5,
    "start_time": "2022-11-20T14:55:17.909Z"
   },
   {
    "duration": 23,
    "start_time": "2022-11-20T14:55:17.916Z"
   },
   {
    "duration": 37,
    "start_time": "2022-11-20T14:55:17.941Z"
   },
   {
    "duration": 19,
    "start_time": "2022-11-20T14:55:17.980Z"
   },
   {
    "duration": 20,
    "start_time": "2022-11-20T14:55:18.001Z"
   },
   {
    "duration": 38,
    "start_time": "2022-11-20T14:55:18.023Z"
   },
   {
    "duration": 82,
    "start_time": "2022-11-20T14:56:21.077Z"
   },
   {
    "duration": 15,
    "start_time": "2022-11-20T14:56:21.161Z"
   },
   {
    "duration": 27,
    "start_time": "2022-11-20T14:56:21.178Z"
   },
   {
    "duration": 11,
    "start_time": "2022-11-20T14:56:21.208Z"
   },
   {
    "duration": 39,
    "start_time": "2022-11-20T14:56:21.220Z"
   },
   {
    "duration": 3,
    "start_time": "2022-11-20T14:56:21.261Z"
   },
   {
    "duration": 9,
    "start_time": "2022-11-20T14:56:21.278Z"
   },
   {
    "duration": 6,
    "start_time": "2022-11-20T14:56:21.289Z"
   },
   {
    "duration": 7,
    "start_time": "2022-11-20T14:56:21.297Z"
   },
   {
    "duration": 5,
    "start_time": "2022-11-20T14:56:21.307Z"
   },
   {
    "duration": 84,
    "start_time": "2022-11-20T14:56:21.313Z"
   },
   {
    "duration": 10,
    "start_time": "2022-11-20T14:56:21.399Z"
   },
   {
    "duration": 3,
    "start_time": "2022-11-20T14:56:21.411Z"
   },
   {
    "duration": 12,
    "start_time": "2022-11-20T14:56:21.415Z"
   },
   {
    "duration": 18,
    "start_time": "2022-11-20T14:56:21.429Z"
   },
   {
    "duration": 39,
    "start_time": "2022-11-20T14:56:21.449Z"
   },
   {
    "duration": 4,
    "start_time": "2022-11-20T14:56:21.490Z"
   },
   {
    "duration": 14,
    "start_time": "2022-11-20T14:56:21.495Z"
   },
   {
    "duration": 7,
    "start_time": "2022-11-20T14:56:21.511Z"
   },
   {
    "duration": 6,
    "start_time": "2022-11-20T14:56:21.519Z"
   },
   {
    "duration": 13,
    "start_time": "2022-11-20T14:56:21.527Z"
   },
   {
    "duration": 59,
    "start_time": "2022-11-20T14:56:21.542Z"
   },
   {
    "duration": 22,
    "start_time": "2022-11-20T14:56:21.602Z"
   },
   {
    "duration": 21,
    "start_time": "2022-11-20T14:56:21.626Z"
   },
   {
    "duration": 45,
    "start_time": "2022-11-20T14:56:21.650Z"
   },
   {
    "duration": 138,
    "start_time": "2022-11-20T16:35:10.101Z"
   }
  ],
  "colab": {
   "name": "dpp_template_part2.ipynb",
   "provenance": []
  },
  "kernelspec": {
   "display_name": "Python 3 (ipykernel)",
   "language": "python",
   "name": "python3"
  },
  "language_info": {
   "codemirror_mode": {
    "name": "ipython",
    "version": 3
   },
   "file_extension": ".py",
   "mimetype": "text/x-python",
   "name": "python",
   "nbconvert_exporter": "python",
   "pygments_lexer": "ipython3",
   "version": "3.9.13"
  },
  "toc": {
   "base_numbering": 1,
   "nav_menu": {},
   "number_sections": true,
   "sideBar": true,
   "skip_h1_title": true,
   "title_cell": "Table of Contents",
   "title_sidebar": "Contents",
   "toc_cell": false,
   "toc_position": {},
   "toc_section_display": true,
   "toc_window_display": false
  }
 },
 "nbformat": 4,
 "nbformat_minor": 5
}
